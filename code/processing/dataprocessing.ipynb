{
 "cells": [
  {
   "cell_type": "code",
   "execution_count": 22,
   "metadata": {},
   "outputs": [],
   "source": [
    "import pandas as pd\n",
    "import re\n",
    "from tqdm import tqdm"
   ]
  },
  {
   "cell_type": "code",
   "execution_count": 23,
   "metadata": {},
   "outputs": [],
   "source": [
    "df = pd.read_csv('/Users/datnguyen/Documents/hoc_truong/project/NLP/backup/data.csv')\n",
    "df_teen_code = pd.read_csv('/Users/datnguyen/Documents/hoc_truong/project/NLP/data/main_data/teencode_raw.bak', sep='\\t', header=None)\n",
    "df_stop_words = pd.read_csv('/Users/datnguyen/Documents/hoc_truong/project/NLP/data/main_data/vietnamese-stopwords.txt',header=None)"
   ]
  },
  {
   "cell_type": "code",
   "execution_count": 24,
   "metadata": {},
   "outputs": [],
   "source": [
    "def processing(comment):\n",
    "    words = ['Chất liệu','Màu sắc','Đúng với mô tả','Bao bì','Mẫu mã','Độ tuổi sử dụng','Chất lượng sản phẩm']\n",
    "    for word in words:\n",
    "        if word in comment:\n",
    "            comment = comment.replace(word, word+' ')\n",
    "        else:\n",
    "            continue\n",
    "\n",
    "    comment = re.sub('[^\\w\\s]','',comment)\n",
    "    comment = ' '.join(comment.strip().lower().split())\n",
    "\n",
    "\n",
    "    new_comment = []\n",
    "    for word in comment.split():\n",
    "        if word in df_teen_code[0].values:\n",
    "            new_comment.append(df_teen_code[df_teen_code[0]==word][1].values[0])\n",
    "        else:\n",
    "            new_comment.append(word)\n",
    "    comment = ' '.join(new_comment)\n",
    "\n",
    "    new_comment = []\n",
    "    for word in comment.split():\n",
    "        if word not in df_stop_words[0].values:\n",
    "            new_comment.append(word)\n",
    "    comment = ' '.join(new_comment)\n",
    "\n",
    "    if len(comment) < 4 or len(comment) > 200:\n",
    "        return None\n",
    "\n",
    "    return comment"
   ]
  },
  {
   "cell_type": "code",
   "execution_count": 25,
   "metadata": {},
   "outputs": [],
   "source": [
    "tqdm.pandas()"
   ]
  },
  {
   "cell_type": "code",
   "execution_count": 26,
   "metadata": {},
   "outputs": [
    {
     "name": "stderr",
     "output_type": "stream",
     "text": [
      "100%|██████████| 13555/13555 [00:08<00:00, 1611.75it/s]\n"
     ]
    }
   ],
   "source": [
    "df['comment'] = df['comment'].astype(str).progress_apply(processing)"
   ]
  },
  {
   "cell_type": "code",
   "execution_count": 27,
   "metadata": {},
   "outputs": [],
   "source": [
    "df.to_csv('/Users/datnguyen/Documents/hoc_truong/project/NLP/data/main_data/sentiments_v1.csv', index=False)"
   ]
  },
  {
   "cell_type": "code",
   "execution_count": 28,
   "metadata": {},
   "outputs": [],
   "source": [
    "df_v1 = pd.read_csv('/Users/datnguyen/Documents/hoc_truong/project/NLP/data/main_data/sentiments_v1.csv')"
   ]
  },
  {
   "cell_type": "code",
   "execution_count": 29,
   "metadata": {},
   "outputs": [],
   "source": [
    "df_v1 = df_v1.dropna()"
   ]
  },
  {
   "cell_type": "code",
   "execution_count": 30,
   "metadata": {},
   "outputs": [
    {
     "data": {
      "text/plain": [
       "218"
      ]
     },
     "execution_count": 30,
     "metadata": {},
     "output_type": "execute_result"
    }
   ],
   "source": [
    "df_v1.duplicated().sum()"
   ]
  },
  {
   "cell_type": "code",
   "execution_count": 31,
   "metadata": {},
   "outputs": [],
   "source": [
    "df_v1 = df_v1.drop_duplicates()"
   ]
  },
  {
   "cell_type": "code",
   "execution_count": 32,
   "metadata": {},
   "outputs": [],
   "source": [
    "df_v1.to_csv('/Users/datnguyen/Documents/hoc_truong/project/NLP/data/main_data/sentiments_v2.csv', index=False)"
   ]
  }
 ],
 "metadata": {
  "kernelspec": {
   "display_name": "Python 3",
   "language": "python",
   "name": "python3"
  },
  "language_info": {
   "codemirror_mode": {
    "name": "ipython",
    "version": 3
   },
   "file_extension": ".py",
   "mimetype": "text/x-python",
   "name": "python",
   "nbconvert_exporter": "python",
   "pygments_lexer": "ipython3",
   "version": "3.11.2"
  }
 },
 "nbformat": 4,
 "nbformat_minor": 2
}
