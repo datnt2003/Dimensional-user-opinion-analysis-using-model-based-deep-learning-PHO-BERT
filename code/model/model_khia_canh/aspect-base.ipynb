{
 "cells": [
  {
   "cell_type": "code",
   "execution_count": 1,
   "id": "2895a516",
   "metadata": {
    "_cell_guid": "b1076dfc-b9ad-4769-8c92-a6c4dae69d19",
    "_uuid": "8f2839f25d086af736a60e9eeb907d3b93b6e0e5",
    "execution": {
     "iopub.execute_input": "2023-11-24T23:55:31.768186Z",
     "iopub.status.busy": "2023-11-24T23:55:31.767887Z",
     "iopub.status.idle": "2023-11-24T23:55:55.885871Z",
     "shell.execute_reply": "2023-11-24T23:55:55.884948Z"
    },
    "papermill": {
     "duration": 24.127957,
     "end_time": "2023-11-24T23:55:55.888269",
     "exception": false,
     "start_time": "2023-11-24T23:55:31.760312",
     "status": "completed"
    },
    "tags": []
   },
   "outputs": [
    {
     "name": "stdout",
     "output_type": "stream",
     "text": [
      "Requirement already satisfied: pip in /usr/local/lib/python3.10/site-packages (23.0.1)\r\n",
      "Collecting pip\r\n",
      "  Downloading pip-23.3.1-py3-none-any.whl (2.1 MB)\r\n",
      "\u001b[2K     \u001b[90m━━━━━━━━━━━━━━━━━━━━━━━━━━━━━━━━━━━━━━━━\u001b[0m \u001b[32m2.1/2.1 MB\u001b[0m \u001b[31m8.7 MB/s\u001b[0m eta \u001b[36m0:00:00\u001b[0m\r\n",
      "\u001b[?25hInstalling collected packages: pip\r\n",
      "  Attempting uninstall: pip\r\n",
      "    Found existing installation: pip 23.0.1\r\n",
      "    Uninstalling pip-23.0.1:\r\n",
      "      Successfully uninstalled pip-23.0.1\r\n",
      "Successfully installed pip-23.3.1\r\n",
      "\u001b[33mWARNING: Running pip as the 'root' user can result in broken permissions and conflicting behaviour with the system package manager. It is recommended to use a virtual environment instead: https://pip.pypa.io/warnings/venv\u001b[0m\u001b[33m\r\n",
      "\u001b[0mRequirement already satisfied: tensorflow_addons in /usr/local/lib/python3.10/site-packages (0.22.0)\r\n",
      "Requirement already satisfied: packaging in /usr/local/lib/python3.10/site-packages (from tensorflow_addons) (23.2)\r\n",
      "Requirement already satisfied: typeguard<3.0.0,>=2.7 in /usr/local/lib/python3.10/site-packages (from tensorflow_addons) (2.13.3)\r\n",
      "\u001b[33mWARNING: Running pip as the 'root' user can result in broken permissions and conflicting behaviour with the system package manager. It is recommended to use a virtual environment instead: https://pip.pypa.io/warnings/venv\u001b[0m\u001b[33m\r\n",
      "\u001b[0mCollecting seaborn\r\n",
      "  Downloading seaborn-0.13.0-py3-none-any.whl.metadata (5.3 kB)\r\n",
      "Requirement already satisfied: numpy!=1.24.0,>=1.20 in /usr/local/lib/python3.10/site-packages (from seaborn) (1.26.1)\r\n",
      "Requirement already satisfied: pandas>=1.2 in /usr/local/lib/python3.10/site-packages (from seaborn) (2.1.3)\r\n",
      "Requirement already satisfied: matplotlib!=3.6.1,>=3.3 in /usr/local/lib/python3.10/site-packages (from seaborn) (3.8.1)\r\n",
      "Requirement already satisfied: contourpy>=1.0.1 in /usr/local/lib/python3.10/site-packages (from matplotlib!=3.6.1,>=3.3->seaborn) (1.2.0)\r\n",
      "Requirement already satisfied: cycler>=0.10 in /usr/local/lib/python3.10/site-packages (from matplotlib!=3.6.1,>=3.3->seaborn) (0.12.1)\r\n",
      "Requirement already satisfied: fonttools>=4.22.0 in /usr/local/lib/python3.10/site-packages (from matplotlib!=3.6.1,>=3.3->seaborn) (4.44.0)\r\n",
      "Requirement already satisfied: kiwisolver>=1.3.1 in /usr/local/lib/python3.10/site-packages (from matplotlib!=3.6.1,>=3.3->seaborn) (1.4.5)\r\n",
      "Requirement already satisfied: packaging>=20.0 in /usr/local/lib/python3.10/site-packages (from matplotlib!=3.6.1,>=3.3->seaborn) (23.2)\r\n",
      "Requirement already satisfied: pillow>=8 in /usr/local/lib/python3.10/site-packages (from matplotlib!=3.6.1,>=3.3->seaborn) (10.1.0)\r\n",
      "Requirement already satisfied: pyparsing>=2.3.1 in /usr/local/lib/python3.10/site-packages (from matplotlib!=3.6.1,>=3.3->seaborn) (3.1.1)\r\n",
      "Requirement already satisfied: python-dateutil>=2.7 in /usr/local/lib/python3.10/site-packages (from matplotlib!=3.6.1,>=3.3->seaborn) (2.8.2)\r\n",
      "Requirement already satisfied: pytz>=2020.1 in /usr/local/lib/python3.10/site-packages (from pandas>=1.2->seaborn) (2023.3.post1)\r\n",
      "Requirement already satisfied: tzdata>=2022.1 in /usr/local/lib/python3.10/site-packages (from pandas>=1.2->seaborn) (2023.3)\r\n",
      "Requirement already satisfied: six>=1.5 in /usr/local/lib/python3.10/site-packages (from python-dateutil>=2.7->matplotlib!=3.6.1,>=3.3->seaborn) (1.16.0)\r\n",
      "Downloading seaborn-0.13.0-py3-none-any.whl (294 kB)\r\n",
      "\u001b[2K   \u001b[90m━━━━━━━━━━━━━━━━━━━━━━━━━━━━━━━━━━━━━━━━\u001b[0m \u001b[32m294.6/294.6 kB\u001b[0m \u001b[31m4.6 MB/s\u001b[0m eta \u001b[36m0:00:00\u001b[0m\r\n",
      "\u001b[?25hInstalling collected packages: seaborn\r\n",
      "Successfully installed seaborn-0.13.0\r\n",
      "\u001b[33mWARNING: Running pip as the 'root' user can result in broken permissions and conflicting behaviour with the system package manager. It is recommended to use a virtual environment instead: https://pip.pypa.io/warnings/venv\u001b[0m\u001b[33m\r\n",
      "\u001b[0mRequirement already satisfied: transformers in /usr/local/lib/python3.10/site-packages (4.35.0)\r\n",
      "Requirement already satisfied: filelock in /usr/local/lib/python3.10/site-packages (from transformers) (3.13.1)\r\n",
      "Requirement already satisfied: huggingface-hub<1.0,>=0.16.4 in /usr/local/lib/python3.10/site-packages (from transformers) (0.17.3)\r\n",
      "Requirement already satisfied: numpy>=1.17 in /usr/local/lib/python3.10/site-packages (from transformers) (1.26.1)\r\n",
      "Requirement already satisfied: packaging>=20.0 in /usr/local/lib/python3.10/site-packages (from transformers) (23.2)\r\n",
      "Requirement already satisfied: pyyaml>=5.1 in /usr/local/lib/python3.10/site-packages (from transformers) (6.0.1)\r\n",
      "Requirement already satisfied: regex!=2019.12.17 in /usr/local/lib/python3.10/site-packages (from transformers) (2023.10.3)\r\n",
      "Requirement already satisfied: requests in /usr/local/lib/python3.10/site-packages (from transformers) (2.31.0)\r\n",
      "Requirement already satisfied: tokenizers<0.15,>=0.14 in /usr/local/lib/python3.10/site-packages (from transformers) (0.14.1)\r\n",
      "Requirement already satisfied: safetensors>=0.3.1 in /usr/local/lib/python3.10/site-packages (from transformers) (0.4.0)\r\n",
      "Requirement already satisfied: tqdm>=4.27 in /usr/local/lib/python3.10/site-packages (from transformers) (4.66.1)\r\n",
      "Requirement already satisfied: fsspec in /usr/local/lib/python3.10/site-packages (from huggingface-hub<1.0,>=0.16.4->transformers) (2023.10.0)\r\n",
      "Requirement already satisfied: typing-extensions>=3.7.4.3 in /usr/local/lib/python3.10/site-packages (from huggingface-hub<1.0,>=0.16.4->transformers) (4.8.0)\r\n",
      "Requirement already satisfied: charset-normalizer<4,>=2 in /usr/local/lib/python3.10/site-packages (from requests->transformers) (3.3.2)\r\n",
      "Requirement already satisfied: idna<4,>=2.5 in /usr/local/lib/python3.10/site-packages (from requests->transformers) (3.4)\r\n",
      "Requirement already satisfied: urllib3<3,>=1.21.1 in /usr/local/lib/python3.10/site-packages (from requests->transformers) (2.0.7)\r\n",
      "Requirement already satisfied: certifi>=2017.4.17 in /usr/local/lib/python3.10/site-packages (from requests->transformers) (2023.7.22)\r\n",
      "\u001b[33mWARNING: Running pip as the 'root' user can result in broken permissions and conflicting behaviour with the system package manager. It is recommended to use a virtual environment instead: https://pip.pypa.io/warnings/venv\u001b[0m\u001b[33m\r\n",
      "\u001b[0mRequirement already satisfied: scikit-learn in /usr/local/lib/python3.10/site-packages (1.3.2)\r\n",
      "Requirement already satisfied: numpy<2.0,>=1.17.3 in /usr/local/lib/python3.10/site-packages (from scikit-learn) (1.26.1)\r\n",
      "Requirement already satisfied: scipy>=1.5.0 in /usr/local/lib/python3.10/site-packages (from scikit-learn) (1.11.3)\r\n",
      "Requirement already satisfied: joblib>=1.1.1 in /usr/local/lib/python3.10/site-packages (from scikit-learn) (1.3.2)\r\n",
      "Requirement already satisfied: threadpoolctl>=2.0.0 in /usr/local/lib/python3.10/site-packages (from scikit-learn) (3.2.0)\r\n",
      "\u001b[33mWARNING: Running pip as the 'root' user can result in broken permissions and conflicting behaviour with the system package manager. It is recommended to use a virtual environment instead: https://pip.pypa.io/warnings/venv\u001b[0m\u001b[33m\r\n",
      "\u001b[0mCollecting imbalanced-learn\r\n",
      "  Downloading imbalanced_learn-0.11.0-py3-none-any.whl.metadata (8.3 kB)\r\n",
      "Requirement already satisfied: numpy>=1.17.3 in /usr/local/lib/python3.10/site-packages (from imbalanced-learn) (1.26.1)\r\n",
      "Requirement already satisfied: scipy>=1.5.0 in /usr/local/lib/python3.10/site-packages (from imbalanced-learn) (1.11.3)\r\n",
      "Requirement already satisfied: scikit-learn>=1.0.2 in /usr/local/lib/python3.10/site-packages (from imbalanced-learn) (1.3.2)\r\n",
      "Requirement already satisfied: joblib>=1.1.1 in /usr/local/lib/python3.10/site-packages (from imbalanced-learn) (1.3.2)\r\n",
      "Requirement already satisfied: threadpoolctl>=2.0.0 in /usr/local/lib/python3.10/site-packages (from imbalanced-learn) (3.2.0)\r\n",
      "Downloading imbalanced_learn-0.11.0-py3-none-any.whl (235 kB)\r\n",
      "\u001b[2K   \u001b[90m━━━━━━━━━━━━━━━━━━━━━━━━━━━━━━━━━━━━━━━━\u001b[0m \u001b[32m235.6/235.6 kB\u001b[0m \u001b[31m4.7 MB/s\u001b[0m eta \u001b[36m0:00:00\u001b[0m\r\n",
      "\u001b[?25hInstalling collected packages: imbalanced-learn\r\n",
      "Successfully installed imbalanced-learn-0.11.0\r\n",
      "\u001b[33mWARNING: Running pip as the 'root' user can result in broken permissions and conflicting behaviour with the system package manager. It is recommended to use a virtual environment instead: https://pip.pypa.io/warnings/venv\u001b[0m\u001b[33m\r\n",
      "\u001b[0m"
     ]
    }
   ],
   "source": [
    "!pip install --upgrade pip\n",
    "!pip install tensorflow_addons\n",
    "!pip install seaborn\n",
    "!pip install transformers\n",
    "!pip install scikit-learn\n",
    "!pip install imbalanced-learn"
   ]
  },
  {
   "cell_type": "code",
   "execution_count": 1,
   "id": "5ba230c0",
   "metadata": {
    "execution": {
     "iopub.execute_input": "2023-11-24T23:55:55.906311Z",
     "iopub.status.busy": "2023-11-24T23:55:55.906006Z",
     "iopub.status.idle": "2023-11-24T23:56:35.889691Z",
     "shell.execute_reply": "2023-11-24T23:56:35.888672Z"
    },
    "papermill": {
     "duration": 39.994593,
     "end_time": "2023-11-24T23:56:35.891953",
     "exception": false,
     "start_time": "2023-11-24T23:55:55.897360",
     "status": "completed"
    },
    "tags": []
   },
   "outputs": [
    {
     "name": "stderr",
     "output_type": "stream",
     "text": [
      "/Library/Frameworks/Python.framework/Versions/3.11/lib/python3.11/site-packages/tensorflow_addons/utils/tfa_eol_msg.py:23: UserWarning: \n",
      "\n",
      "TensorFlow Addons (TFA) has ended development and introduction of new features.\n",
      "TFA has entered a minimal maintenance and release mode until a planned end of life in May 2024.\n",
      "Please modify downstream libraries to take dependencies from other repositories in our TensorFlow community (e.g. Keras, Keras-CV, and Keras-NLP). \n",
      "\n",
      "For more information see: https://github.com/tensorflow/addons/issues/2807 \n",
      "\n",
      "  warnings.warn(\n",
      "/Library/Frameworks/Python.framework/Versions/3.11/lib/python3.11/site-packages/tensorflow_addons/utils/ensure_tf_install.py:53: UserWarning: Tensorflow Addons supports using Python ops for all Tensorflow versions above or equal to 2.12.0 and strictly below 2.15.0 (nightly versions are not supported). \n",
      " The versions of TensorFlow you are currently using is 2.15.0 and is not supported. \n",
      "Some things might work, some things might not.\n",
      "If you were to encounter a bug, do not file an issue.\n",
      "If you want to make sure you're using a tested and supported configuration, either change the TensorFlow version or the TensorFlow Addons's version. \n",
      "You can find the compatibility matrix in TensorFlow Addon's readme:\n",
      "https://github.com/tensorflow/addons\n",
      "  warnings.warn(\n"
     ]
    }
   ],
   "source": [
    "import numpy as np\n",
    "import pandas as pd\n",
    "import matplotlib.pyplot as plt\n",
    "import seaborn as sns\n",
    "from sklearn.preprocessing import LabelEncoder\n",
    "from sklearn.model_selection import train_test_split\n",
    "\n",
    "\n",
    "import tensorflow as tf\n",
    "import tensorflow_addons as tfa\n",
    "\n",
    "from transformers import TFAutoModel, AutoTokenizer\n",
    "from imblearn.over_sampling import SMOTE\n",
    "\n",
    "\n",
    "from tensorflow.keras import Input, Model\n",
    "from tensorflow.keras import layers\n",
    "from tensorflow.keras.layers import Dense, Dropout, Conv1D, MaxPooling1D, Bidirectional, LSTM, Flatten,GlobalMaxPooling1D\n",
    "from tensorflow.keras.optimizers import Adam\n",
    "from tensorflow.keras import regularizers\n",
    "\n",
    "from tensorflow.keras.callbacks import ModelCheckpoint, EarlyStopping\n",
    "\n",
    "from transformers import TFRobertaModel\n",
    "from keras.models import load_model\n",
    "from keras.utils import CustomObjectScope\n",
    "\n",
    "import warnings\n",
    "warnings.filterwarnings(\"ignore\")"
   ]
  },
  {
   "cell_type": "markdown",
   "id": "77b2f63f",
   "metadata": {
    "papermill": {
     "duration": 0.007081,
     "end_time": "2023-11-24T23:56:35.906497",
     "exception": false,
     "start_time": "2023-11-24T23:56:35.899416",
     "status": "completed"
    },
    "tags": []
   },
   "source": [
    "* Đọc dữ liệu"
   ]
  },
  {
   "cell_type": "code",
   "execution_count": 3,
   "id": "e8fcbada",
   "metadata": {
    "execution": {
     "iopub.execute_input": "2023-11-24T23:56:35.922799Z",
     "iopub.status.busy": "2023-11-24T23:56:35.922218Z",
     "iopub.status.idle": "2023-11-24T23:56:38.173600Z",
     "shell.execute_reply": "2023-11-24T23:56:38.172600Z"
    },
    "papermill": {
     "duration": 2.261583,
     "end_time": "2023-11-24T23:56:38.175310",
     "exception": false,
     "start_time": "2023-11-24T23:56:35.913727",
     "status": "completed"
    },
    "tags": []
   },
   "outputs": [
    {
     "data": {
      "text/html": [
       "<div>\n",
       "<style scoped>\n",
       "    .dataframe tbody tr th:only-of-type {\n",
       "        vertical-align: middle;\n",
       "    }\n",
       "\n",
       "    .dataframe tbody tr th {\n",
       "        vertical-align: top;\n",
       "    }\n",
       "\n",
       "    .dataframe thead th {\n",
       "        text-align: right;\n",
       "    }\n",
       "</style>\n",
       "<table border=\"1\" class=\"dataframe\">\n",
       "  <thead>\n",
       "    <tr style=\"text-align: right;\">\n",
       "      <th></th>\n",
       "      <th>comment</th>\n",
       "      <th>rating_star</th>\n",
       "      <th>khia_canh</th>\n",
       "    </tr>\n",
       "  </thead>\n",
       "  <tbody>\n",
       "    <tr>\n",
       "      <th>0</th>\n",
       "      <td>mô tả sai 60 cửa hàng giao bao nhiêu bẻ 50 nhắ...</td>\n",
       "      <td>negative</td>\n",
       "      <td>Chất lượng sản phẩm, Dịch vụ khách hàng, Giao ...</td>\n",
       "    </tr>\n",
       "    <tr>\n",
       "      <th>1</th>\n",
       "      <td>sản phẩm cửa hàng hài sản phẩm hàng hơi lâu4 ủ...</td>\n",
       "      <td>negative</td>\n",
       "      <td>Dịch vụ khách hàng</td>\n",
       "    </tr>\n",
       "    <tr>\n",
       "      <th>2</th>\n",
       "      <td>giao hàng cửa hàng thèm phục vụ kém nhắn đợi t...</td>\n",
       "      <td>negative</td>\n",
       "      <td>Chất lượng sản phẩm, Dịch vụ khách hàng, Giao ...</td>\n",
       "    </tr>\n",
       "    <tr>\n",
       "      <th>3</th>\n",
       "      <td>chất sản phẩm tệ hại y cửa hàng hàng khuyên cử...</td>\n",
       "      <td>negative</td>\n",
       "      <td>Chất lượng sản phẩm, Dịch vụ khách hàng, Giao ...</td>\n",
       "    </tr>\n",
       "    <tr>\n",
       "      <th>4</th>\n",
       "      <td>sản phẩm giao cửa hàng phục vụ nhiệt tình 2 sả...</td>\n",
       "      <td>negative</td>\n",
       "      <td>Dịch vụ khách hàng, Giao hàng</td>\n",
       "    </tr>\n",
       "  </tbody>\n",
       "</table>\n",
       "</div>"
      ],
      "text/plain": [
       "                                             comment rating_star  \\\n",
       "0  mô tả sai 60 cửa hàng giao bao nhiêu bẻ 50 nhắ...    negative   \n",
       "1  sản phẩm cửa hàng hài sản phẩm hàng hơi lâu4 ủ...    negative   \n",
       "2  giao hàng cửa hàng thèm phục vụ kém nhắn đợi t...    negative   \n",
       "3  chất sản phẩm tệ hại y cửa hàng hàng khuyên cử...    negative   \n",
       "4  sản phẩm giao cửa hàng phục vụ nhiệt tình 2 sả...    negative   \n",
       "\n",
       "                                           khia_canh  \n",
       "0  Chất lượng sản phẩm, Dịch vụ khách hàng, Giao ...  \n",
       "1                                 Dịch vụ khách hàng  \n",
       "2  Chất lượng sản phẩm, Dịch vụ khách hàng, Giao ...  \n",
       "3  Chất lượng sản phẩm, Dịch vụ khách hàng, Giao ...  \n",
       "4                      Dịch vụ khách hàng, Giao hàng  "
      ]
     },
     "execution_count": 3,
     "metadata": {},
     "output_type": "execute_result"
    }
   ],
   "source": [
    "df = pd.read_csv('/Users/datnguyen/Documents/hoc_truong/project/NLP/Nhom_10/data/data.tsv',sep='\\t')\n",
    "df.head()"
   ]
  },
  {
   "cell_type": "markdown",
   "id": "77f6d8e2",
   "metadata": {
    "papermill": {
     "duration": 0.007879,
     "end_time": "2023-11-24T23:56:39.476035",
     "exception": false,
     "start_time": "2023-11-24T23:56:39.468156",
     "status": "completed"
    },
    "tags": []
   },
   "source": [
    "* Chọn dữ liệu"
   ]
  },
  {
   "cell_type": "code",
   "execution_count": 4,
   "id": "72113ade",
   "metadata": {
    "execution": {
     "iopub.execute_input": "2023-11-24T23:56:39.518833Z",
     "iopub.status.busy": "2023-11-24T23:56:39.518484Z",
     "iopub.status.idle": "2023-11-24T23:56:39.522836Z",
     "shell.execute_reply": "2023-11-24T23:56:39.522124Z"
    },
    "papermill": {
     "duration": 0.015054,
     "end_time": "2023-11-24T23:56:39.524426",
     "exception": false,
     "start_time": "2023-11-24T23:56:39.509372",
     "status": "completed"
    },
    "tags": []
   },
   "outputs": [],
   "source": [
    "X = df.comment\n",
    "y = df.khia_canh"
   ]
  },
  {
   "cell_type": "markdown",
   "id": "00bec72c",
   "metadata": {
    "papermill": {
     "duration": 0.007612,
     "end_time": "2023-11-24T23:56:39.539805",
     "exception": false,
     "start_time": "2023-11-24T23:56:39.532193",
     "status": "completed"
    },
    "tags": []
   },
   "source": [
    "* LabelEncoder"
   ]
  },
  {
   "cell_type": "code",
   "execution_count": 10,
   "id": "a46898bc",
   "metadata": {
    "execution": {
     "iopub.execute_input": "2023-11-24T23:56:39.556592Z",
     "iopub.status.busy": "2023-11-24T23:56:39.556317Z",
     "iopub.status.idle": "2023-11-24T23:56:39.560037Z",
     "shell.execute_reply": "2023-11-24T23:56:39.559251Z"
    },
    "papermill": {
     "duration": 0.014174,
     "end_time": "2023-11-24T23:56:39.561598",
     "exception": false,
     "start_time": "2023-11-24T23:56:39.547424",
     "status": "completed"
    },
    "tags": []
   },
   "outputs": [],
   "source": [
    "le_rating = LabelEncoder()"
   ]
  },
  {
   "cell_type": "code",
   "execution_count": 5,
   "id": "53a654be",
   "metadata": {
    "execution": {
     "iopub.execute_input": "2023-11-24T23:56:39.578411Z",
     "iopub.status.busy": "2023-11-24T23:56:39.577945Z",
     "iopub.status.idle": "2023-11-24T23:57:56.549777Z",
     "shell.execute_reply": "2023-11-24T23:57:56.548864Z"
    },
    "papermill": {
     "duration": 76.982729,
     "end_time": "2023-11-24T23:57:56.552092",
     "exception": false,
     "start_time": "2023-11-24T23:56:39.569363",
     "status": "completed"
    },
    "tags": []
   },
   "outputs": [],
   "source": [
    "MAX_LEN = 200\n",
    "model_name = 'vinai/phobert-base'\n",
    "\n",
    "# Tokenizing\n",
    "tokenizer = AutoTokenizer.from_pretrained(model_name)\n",
    "encoded_inputs = tokenizer.batch_encode_plus(\n",
    "    df.comment.tolist(), \n",
    "    max_length=MAX_LEN, \n",
    "    padding='max_length', \n",
    "    truncation=True,\n",
    "    return_tensors='np'\n",
    ")"
   ]
  },
  {
   "cell_type": "code",
   "execution_count": 11,
   "id": "f331ad05",
   "metadata": {
    "execution": {
     "iopub.execute_input": "2023-11-24T23:57:56.571249Z",
     "iopub.status.busy": "2023-11-24T23:57:56.570991Z",
     "iopub.status.idle": "2023-11-24T23:57:56.663622Z",
     "shell.execute_reply": "2023-11-24T23:57:56.662891Z"
    },
    "papermill": {
     "duration": 0.104424,
     "end_time": "2023-11-24T23:57:56.665507",
     "exception": false,
     "start_time": "2023-11-24T23:57:56.561083",
     "status": "completed"
    },
    "tags": []
   },
   "outputs": [],
   "source": [
    "X = encoded_inputs['input_ids']\n",
    "y = le_rating.fit_transform(y)"
   ]
  },
  {
   "cell_type": "code",
   "execution_count": 12,
   "id": "b27b1733",
   "metadata": {
    "execution": {
     "iopub.execute_input": "2023-11-24T23:57:56.683745Z",
     "iopub.status.busy": "2023-11-24T23:57:56.683500Z",
     "iopub.status.idle": "2023-11-24T23:57:56.997250Z",
     "shell.execute_reply": "2023-11-24T23:57:56.996107Z"
    },
    "papermill": {
     "duration": 0.325383,
     "end_time": "2023-11-24T23:57:56.999353",
     "exception": false,
     "start_time": "2023-11-24T23:57:56.673970",
     "status": "completed"
    },
    "tags": []
   },
   "outputs": [],
   "source": [
    "from sklearn.model_selection import train_test_split\n",
    "\n",
    "X_train, X_test, y_train, y_test = train_test_split(X, y, test_size=0.2, random_state=42)"
   ]
  },
  {
   "cell_type": "markdown",
   "id": "499661ea",
   "metadata": {
    "papermill": {
     "duration": 0.008424,
     "end_time": "2023-11-24T23:57:57.016536",
     "exception": false,
     "start_time": "2023-11-24T23:57:57.008112",
     "status": "completed"
    },
    "tags": []
   },
   "source": [
    "* TPU setup"
   ]
  },
  {
   "cell_type": "code",
   "execution_count": 6,
   "id": "d01863fb",
   "metadata": {
    "execution": {
     "iopub.execute_input": "2023-11-24T23:57:57.034424Z",
     "iopub.status.busy": "2023-11-24T23:57:57.034145Z",
     "iopub.status.idle": "2023-11-24T23:58:05.601440Z",
     "shell.execute_reply": "2023-11-24T23:58:05.600401Z"
    },
    "papermill": {
     "duration": 8.578878,
     "end_time": "2023-11-24T23:58:05.603541",
     "exception": false,
     "start_time": "2023-11-24T23:57:57.024663",
     "status": "completed"
    },
    "tags": []
   },
   "outputs": [
    {
     "name": "stdout",
     "output_type": "stream",
     "text": [
      "Number of replicas: 1\n"
     ]
    }
   ],
   "source": [
    "try:\n",
    "    tpu = tf.distribute.cluster_resolver.TPUClusterResolver() \n",
    "    tf.config.experimental_connect_to_cluster(tpu)\n",
    "    tf.tpu.experimental.initialize_tpu_system(tpu)\n",
    "    \n",
    "    strategy = tf.distribute.experimental.TPUStrategy\n",
    "except ValueError:\n",
    "    strategy = tf.distribute.get_strategy() \n",
    "    print('Number of replicas:', strategy.num_replicas_in_sync) "
   ]
  },
  {
   "cell_type": "code",
   "execution_count": 7,
   "id": "c4a5628d",
   "metadata": {
    "execution": {
     "iopub.execute_input": "2023-11-24T23:58:05.623450Z",
     "iopub.status.busy": "2023-11-24T23:58:05.622632Z",
     "iopub.status.idle": "2023-11-24T23:58:10.398276Z",
     "shell.execute_reply": "2023-11-24T23:58:10.397260Z"
    },
    "papermill": {
     "duration": 4.790897,
     "end_time": "2023-11-24T23:58:10.403489",
     "exception": false,
     "start_time": "2023-11-24T23:58:05.612592",
     "status": "completed"
    },
    "tags": []
   },
   "outputs": [
    {
     "name": "stdout",
     "output_type": "stream",
     "text": [
      "Running on single GPU  /device:GPU:0\n",
      "Number of accelerators:  1\n"
     ]
    },
    {
     "name": "stderr",
     "output_type": "stream",
     "text": [
      "2023-12-05 08:45:16.755663: I metal_plugin/src/device/metal_device.cc:1154] Metal device set to: Apple M2\n",
      "2023-12-05 08:45:16.755687: I metal_plugin/src/device/metal_device.cc:296] systemMemory: 16.00 GB\n",
      "2023-12-05 08:45:16.755693: I metal_plugin/src/device/metal_device.cc:313] maxCacheSize: 5.33 GB\n",
      "2023-12-05 08:45:16.755731: I tensorflow/core/common_runtime/pluggable_device/pluggable_device_factory.cc:306] Could not identify NUMA node of platform GPU ID 0, defaulting to 0. Your kernel may not have been built with NUMA support.\n",
      "2023-12-05 08:45:16.755751: I tensorflow/core/common_runtime/pluggable_device/pluggable_device_factory.cc:272] Created TensorFlow device (/job:localhost/replica:0/task:0/device:GPU:0 with 0 MB memory) -> physical PluggableDevice (device: 0, name: METAL, pci bus id: <undefined>)\n"
     ]
    }
   ],
   "source": [
    "try:\n",
    "    tpu = tf.distribute.cluster_resolver.TPUClusterResolver() # TPU detection\n",
    "except ValueError:\n",
    "    tpu = None\n",
    "    gpus = tf.config.experimental.list_logical_devices(\"GPU\")\n",
    "    \n",
    "if tpu:\n",
    "    tf.tpu.experimental.initialize_tpu_system(tpu)\n",
    "    strategy = tf.distribute.experimental.TPUStrategy(tpu,) \n",
    "    print('Running on TPU ', tpu.cluster_spec().as_dict())\n",
    "elif len(gpus) > 1:\n",
    "    strategy = tf.distribute.MirroredStrategy([gpu.name for gpu in gpus])\n",
    "    print('Running on multiple GPUs ', [gpu.name for gpu in gpus])\n",
    "elif len(gpus) == 1:\n",
    "    strategy = tf.distribute.get_strategy() \n",
    "    print('Running on single GPU ', gpus[0].name)\n",
    "else:\n",
    "    strategy = tf.distribute.get_strategy() \n",
    "    print('Running on CPU')\n",
    "print(\"Number of accelerators: \", strategy.num_replicas_in_sync)"
   ]
  },
  {
   "cell_type": "markdown",
   "id": "87202a27",
   "metadata": {
    "papermill": {
     "duration": 0.010486,
     "end_time": "2023-11-24T23:58:10.424656",
     "exception": false,
     "start_time": "2023-11-24T23:58:10.414170",
     "status": "completed"
    },
    "tags": []
   },
   "source": [
    "* OnehotEncoder"
   ]
  },
  {
   "cell_type": "code",
   "execution_count": 13,
   "id": "790e0235",
   "metadata": {
    "execution": {
     "iopub.execute_input": "2023-11-24T23:58:10.447077Z",
     "iopub.status.busy": "2023-11-24T23:58:10.446262Z",
     "iopub.status.idle": "2023-11-24T23:58:10.456420Z",
     "shell.execute_reply": "2023-11-24T23:58:10.455624Z"
    },
    "papermill": {
     "duration": 0.023285,
     "end_time": "2023-11-24T23:58:10.458105",
     "exception": false,
     "start_time": "2023-11-24T23:58:10.434820",
     "status": "completed"
    },
    "tags": []
   },
   "outputs": [],
   "source": [
    "y_train = tf.keras.utils.to_categorical(y_train)"
   ]
  },
  {
   "cell_type": "markdown",
   "id": "ee6b20ef",
   "metadata": {
    "papermill": {
     "duration": 0.010146,
     "end_time": "2023-11-24T23:58:10.478763",
     "exception": false,
     "start_time": "2023-11-24T23:58:10.468617",
     "status": "completed"
    },
    "tags": []
   },
   "source": [
    "* Build Model"
   ]
  },
  {
   "cell_type": "code",
   "execution_count": 14,
   "id": "ae51435d",
   "metadata": {
    "execution": {
     "iopub.execute_input": "2023-11-24T23:58:10.500664Z",
     "iopub.status.busy": "2023-11-24T23:58:10.500373Z",
     "iopub.status.idle": "2023-11-24T23:58:33.848375Z",
     "shell.execute_reply": "2023-11-24T23:58:33.847156Z"
    },
    "papermill": {
     "duration": 23.362683,
     "end_time": "2023-11-24T23:58:33.851838",
     "exception": false,
     "start_time": "2023-11-24T23:58:10.489155",
     "status": "completed"
    },
    "tags": []
   },
   "outputs": [
    {
     "data": {
      "application/vnd.jupyter.widget-view+json": {
       "model_id": "32d2dbb427d14cd0836345c6c790c90a",
       "version_major": 2,
       "version_minor": 0
      },
      "text/plain": [
       "Downloading tf_model.h5:   0%|          | 0.00/740M [00:00<?, ?B/s]"
      ]
     },
     "metadata": {},
     "output_type": "display_data"
    },
    {
     "name": "stderr",
     "output_type": "stream",
     "text": [
      "Some layers from the model checkpoint at vinai/phobert-base were not used when initializing TFRobertaModel: ['lm_head']\n",
      "- This IS expected if you are initializing TFRobertaModel from the checkpoint of a model trained on another task or with another architecture (e.g. initializing a BertForSequenceClassification model from a BertForPreTraining model).\n",
      "- This IS NOT expected if you are initializing TFRobertaModel from the checkpoint of a model that you expect to be exactly identical (initializing a BertForSequenceClassification model from a BertForSequenceClassification model).\n",
      "All the layers of TFRobertaModel were initialized from the model checkpoint at vinai/phobert-base.\n",
      "If your task is similar to the task the model of the checkpoint was trained on, you can already use TFRobertaModel for predictions without further training.\n"
     ]
    }
   ],
   "source": [
    "with strategy.scope():\n",
    "    encoder = TFAutoModel.from_pretrained(model_name)\n",
    "\n",
    "    input_ids = Input(shape=(MAX_LEN,), dtype=tf.int32)\n",
    "\n",
    "    # Trích xuất đặc trưng phoBert\n",
    "    embedding = encoder(input_ids)[0]\n",
    "\n",
    "    # Chọn lớp đặc trưng cuối cùng\n",
    "    embedding = embedding[:, 0, :]\n",
    "    \n",
    "    # Lớp đầu ra\n",
    "    output = Dense(y_train.shape[1], activation='softmax', name='output')(embedding)\n",
    "\n",
    "    # Tạo mô hình\n",
    "    model_rating = Model(inputs=input_ids, outputs=output)\n"
   ]
  },
  {
   "cell_type": "code",
   "execution_count": 15,
   "id": "b77371cd",
   "metadata": {
    "execution": {
     "iopub.execute_input": "2023-11-24T23:58:33.883271Z",
     "iopub.status.busy": "2023-11-24T23:58:33.882937Z",
     "iopub.status.idle": "2023-11-24T23:58:33.920147Z",
     "shell.execute_reply": "2023-11-24T23:58:33.919173Z"
    },
    "papermill": {
     "duration": 0.055273,
     "end_time": "2023-11-24T23:58:33.921995",
     "exception": false,
     "start_time": "2023-11-24T23:58:33.866722",
     "status": "completed"
    },
    "tags": []
   },
   "outputs": [
    {
     "name": "stdout",
     "output_type": "stream",
     "text": [
      "Model: \"model\"\n",
      "_________________________________________________________________\n",
      " Layer (type)                Output Shape              Param #   \n",
      "=================================================================\n",
      " input_1 (InputLayer)        [(None, 200)]             0         \n",
      "                                                                 \n",
      " tf_roberta_model (TFRobert  TFBaseModelOutputWithPo   134998272 \n",
      " aModel)                     olingAndCrossAttentions             \n",
      "                             (last_hidden_state=(Non             \n",
      "                             e, 200, 768),                       \n",
      "                              pooler_output=(None, 7             \n",
      "                             68),                                \n",
      "                              past_key_values=None,              \n",
      "                             hidden_states=None, att             \n",
      "                             entions=None, cross_att             \n",
      "                             entions=None)                       \n",
      "                                                                 \n",
      " tf.__operators__.getitem (  (None, 768)               0         \n",
      " SlicingOpLambda)                                                \n",
      "                                                                 \n",
      " output (Dense)              (None, 31)                23839     \n",
      "                                                                 \n",
      "=================================================================\n",
      "Total params: 135022111 (515.07 MB)\n",
      "Trainable params: 135022111 (515.07 MB)\n",
      "Non-trainable params: 0 (0.00 Byte)\n",
      "_________________________________________________________________\n"
     ]
    }
   ],
   "source": [
    "model_rating.summary()"
   ]
  },
  {
   "cell_type": "code",
   "execution_count": 16,
   "metadata": {},
   "outputs": [
    {
     "data": {
      "image/png": "[encoded data removed]",
      "text/plain": [
       "<IPython.core.display.Image object>"
      ]
     },
     "execution_count": 16,
     "metadata": {},
     "output_type": "execute_result"
    }
   ],
   "source": [
    "from tensorflow.keras.utils import plot_model\n",
    "plot_model(model_rating, to_file='model_rating.png', show_shapes=True, show_layer_names=True)"
   ]
  },
  {
   "cell_type": "markdown",
   "id": "8ef07e35",
   "metadata": {
    "papermill": {
     "duration": 0.013247,
     "end_time": "2023-11-24T23:58:33.948830",
     "exception": false,
     "start_time": "2023-11-24T23:58:33.935583",
     "status": "completed"
    },
    "tags": []
   },
   "source": [
    "* Optimize"
   ]
  },
  {
   "cell_type": "code",
   "execution_count": 17,
   "id": "bdf1e797",
   "metadata": {
    "execution": {
     "iopub.execute_input": "2023-11-24T23:58:33.977987Z",
     "iopub.status.busy": "2023-11-24T23:58:33.977719Z",
     "iopub.status.idle": "2023-11-24T23:58:33.993610Z",
     "shell.execute_reply": "2023-11-24T23:58:33.992575Z"
    },
    "papermill": {
     "duration": 0.032944,
     "end_time": "2023-11-24T23:58:33.995246",
     "exception": false,
     "start_time": "2023-11-24T23:58:33.962302",
     "status": "completed"
    },
    "tags": []
   },
   "outputs": [],
   "source": [
    "class MyExponentialDecay(tf.keras.optimizers.schedules.ExponentialDecay):\n",
    "  def __call__(self, step):\n",
    "    return 1e-2 * super().__call__(step)\n",
    "\n",
    "step = tf.Variable(0, trainable=False)\n",
    "schedule = tf.optimizers.schedules.PiecewiseConstantDecay(\n",
    "    [10000, 15000], [1e-3, 1e-4, 1e-5])\n",
    "\n",
    "initial_learning_rate=0.01\n",
    "\n",
    "wd = MyExponentialDecay(\n",
    "    initial_learning_rate,\n",
    "    decay_steps=14,\n",
    "    decay_rate=0.8,\n",
    "    staircase=True)\n",
    "lr = 1e2 * schedule(step)"
   ]
  },
  {
   "cell_type": "code",
   "execution_count": 18,
   "id": "b744f5f6",
   "metadata": {
    "execution": {
     "iopub.execute_input": "2023-11-24T23:58:34.025077Z",
     "iopub.status.busy": "2023-11-24T23:58:34.024818Z",
     "iopub.status.idle": "2023-11-24T23:58:34.120604Z",
     "shell.execute_reply": "2023-11-24T23:58:34.119567Z"
    },
    "papermill": {
     "duration": 0.113079,
     "end_time": "2023-11-24T23:58:34.122913",
     "exception": false,
     "start_time": "2023-11-24T23:58:34.009834",
     "status": "completed"
    },
    "tags": []
   },
   "outputs": [],
   "source": [
    "model_rating.compile(\n",
    "    optimizer=tfa.optimizers.AdamW(weight_decay=wd,\n",
    "                                  learning_rate=lr),\n",
    "    loss=tf.keras.losses.CategoricalCrossentropy(),\n",
    "    metrics=['accuracy'])\n"
   ]
  },
  {
   "cell_type": "code",
   "execution_count": 19,
   "id": "1d58ee0f",
   "metadata": {
    "execution": {
     "iopub.execute_input": "2023-11-24T23:58:34.153705Z",
     "iopub.status.busy": "2023-11-24T23:58:34.153392Z",
     "iopub.status.idle": "2023-11-24T23:58:34.158146Z",
     "shell.execute_reply": "2023-11-24T23:58:34.157225Z"
    },
    "papermill": {
     "duration": 0.02225,
     "end_time": "2023-11-24T23:58:34.159966",
     "exception": false,
     "start_time": "2023-11-24T23:58:34.137716",
     "status": "completed"
    },
    "tags": []
   },
   "outputs": [],
   "source": [
    "# Lưu mô hình tốt nhất\n",
    "cp_callback = ModelCheckpoint(filepath='pho_rating.h5',\n",
    "                              save_best_only=True,\n",
    "                              monitor='accuracy',\n",
    "                              mode='max',\n",
    "                              verbose=1)\n",
    "\n",
    "# Dừng sớm khi không có quá nhiều thay đổi\n",
    "es_callback = EarlyStopping(\n",
    "    monitor='accuracy', \n",
    "    patience=20,\n",
    "    mode='max')"
   ]
  },
  {
   "cell_type": "code",
   "execution_count": 20,
   "id": "c0a660a8",
   "metadata": {
    "execution": {
     "iopub.execute_input": "2023-11-24T23:58:34.190313Z",
     "iopub.status.busy": "2023-11-24T23:58:34.190036Z",
     "iopub.status.idle": "2023-11-24T23:58:34.194035Z",
     "shell.execute_reply": "2023-11-24T23:58:34.193225Z"
    },
    "papermill": {
     "duration": 0.021122,
     "end_time": "2023-11-24T23:58:34.195758",
     "exception": false,
     "start_time": "2023-11-24T23:58:34.174636",
     "status": "completed"
    },
    "tags": []
   },
   "outputs": [],
   "source": [
    "# Setup tham số\n",
    "epochs = 30\n",
    "batch_size = 512\n",
    "validation_split = 0.2"
   ]
  },
  {
   "cell_type": "markdown",
   "id": "b755de7e",
   "metadata": {
    "papermill": {
     "duration": 0.014828,
     "end_time": "2023-11-24T23:58:34.225119",
     "exception": false,
     "start_time": "2023-11-24T23:58:34.210291",
     "status": "completed"
    },
    "tags": []
   },
   "source": [
    "* Training"
   ]
  },
  {
   "cell_type": "code",
   "execution_count": 21,
   "id": "1fb56bca",
   "metadata": {
    "execution": {
     "iopub.execute_input": "2023-11-24T23:58:34.255960Z",
     "iopub.status.busy": "2023-11-24T23:58:34.255021Z",
     "iopub.status.idle": "2023-11-25T01:40:21.624980Z",
     "shell.execute_reply": "2023-11-25T01:40:21.623768Z"
    },
    "papermill": {
     "duration": 6107.387449,
     "end_time": "2023-11-25T01:40:21.626949",
     "exception": false,
     "start_time": "2023-11-24T23:58:34.239500",
     "status": "completed"
    },
    "tags": []
   },
   "outputs": [
    {
     "name": "stdout",
     "output_type": "stream",
     "text": [
      "Epoch 1/30\n"
     ]
    },
    {
     "name": "stderr",
     "output_type": "stream",
     "text": [
      "2023-11-24 23:58:35.866569: E ./tensorflow/compiler/xla/stream_executor/stream_executor_internal.h:124] SetPriority unimplemented for this stream.\n",
      "2023-11-24 23:58:35.884448: E ./tensorflow/compiler/xla/stream_executor/stream_executor_internal.h:124] SetPriority unimplemented for this stream.\n",
      "2023-11-24 23:58:35.902303: E ./tensorflow/compiler/xla/stream_executor/stream_executor_internal.h:124] SetPriority unimplemented for this stream.\n",
      "2023-11-24 23:58:35.919721: E ./tensorflow/compiler/xla/stream_executor/stream_executor_internal.h:124] SetPriority unimplemented for this stream.\n",
      "2023-11-24 23:58:35.936737: E ./tensorflow/compiler/xla/stream_executor/stream_executor_internal.h:124] SetPriority unimplemented for this stream.\n",
      "2023-11-24 23:58:35.954449: E ./tensorflow/compiler/xla/stream_executor/stream_executor_internal.h:124] SetPriority unimplemented for this stream.\n",
      "2023-11-24 23:58:35.971987: E ./tensorflow/compiler/xla/stream_executor/stream_executor_internal.h:124] SetPriority unimplemented for this stream.\n"
     ]
    },
    {
     "name": "stdout",
     "output_type": "stream",
     "text": [
      "WARNING:tensorflow:Gradients do not exist for variables ['tf_roberta_model/roberta/pooler/dense/kernel:0', 'tf_roberta_model/roberta/pooler/dense/bias:0'] when minimizing the loss. If you're using `model.compile()`, did you forget to provide a `loss` argument?\n"
     ]
    },
    {
     "name": "stderr",
     "output_type": "stream",
     "text": [
      "WARNING:tensorflow:Gradients do not exist for variables ['tf_roberta_model/roberta/pooler/dense/kernel:0', 'tf_roberta_model/roberta/pooler/dense/bias:0'] when minimizing the loss. If you're using `model.compile()`, did you forget to provide a `loss` argument?\n"
     ]
    },
    {
     "name": "stdout",
     "output_type": "stream",
     "text": [
      "WARNING:tensorflow:Gradients do not exist for variables ['tf_roberta_model/roberta/pooler/dense/kernel:0', 'tf_roberta_model/roberta/pooler/dense/bias:0'] when minimizing the loss. If you're using `model.compile()`, did you forget to provide a `loss` argument?\n"
     ]
    },
    {
     "name": "stderr",
     "output_type": "stream",
     "text": [
      "WARNING:tensorflow:Gradients do not exist for variables ['tf_roberta_model/roberta/pooler/dense/kernel:0', 'tf_roberta_model/roberta/pooler/dense/bias:0'] when minimizing the loss. If you're using `model.compile()`, did you forget to provide a `loss` argument?\n",
      "2023-11-24 23:59:23.068320: E tensorflow/core/grappler/optimizers/meta_optimizer.cc:961] model_pruner failed: INVALID_ARGUMENT: Graph does not contain terminal node AdamW/AdamW/AssignAddVariableOp.\n",
      "2023-11-24 23:59:27.416184: E ./tensorflow/compiler/xla/stream_executor/stream_executor_internal.h:124] SetPriority unimplemented for this stream.\n",
      "2023-11-24 23:59:27.419439: E ./tensorflow/compiler/xla/stream_executor/stream_executor_internal.h:124] SetPriority unimplemented for this stream.\n",
      "2023-11-24 23:59:27.419687: E ./tensorflow/compiler/xla/stream_executor/stream_executor_internal.h:124] SetPriority unimplemented for this stream.\n",
      "2023-11-24 23:59:27.419802: E ./tensorflow/compiler/xla/stream_executor/stream_executor_internal.h:124] SetPriority unimplemented for this stream.\n",
      "2023-11-24 23:59:27.419967: E ./tensorflow/compiler/xla/stream_executor/stream_executor_internal.h:124] SetPriority unimplemented for this stream.\n",
      "2023-11-24 23:59:27.420103: E ./tensorflow/compiler/xla/stream_executor/stream_executor_internal.h:124] SetPriority unimplemented for this stream.\n",
      "2023-11-24 23:59:27.420226: E ./tensorflow/compiler/xla/stream_executor/stream_executor_internal.h:124] SetPriority unimplemented for this stream.\n",
      "2023-11-25 00:00:24.892347: E ./tensorflow/compiler/xla/stream_executor/stream_executor_internal.h:124] SetPriority unimplemented for this stream.\n",
      "2023-11-25 00:00:24.892513: E ./tensorflow/compiler/xla/stream_executor/stream_executor_internal.h:124] SetPriority unimplemented for this stream.\n",
      "2023-11-25 00:00:24.892942: E ./tensorflow/compiler/xla/stream_executor/stream_executor_internal.h:124] SetPriority unimplemented for this stream.\n",
      "2023-11-25 00:00:24.893040: E ./tensorflow/compiler/xla/stream_executor/stream_executor_internal.h:124] SetPriority unimplemented for this stream.\n",
      "2023-11-25 00:00:24.893923: E ./tensorflow/compiler/xla/stream_executor/stream_executor_internal.h:124] SetPriority unimplemented for this stream.\n",
      "2023-11-25 00:00:24.896531: E ./tensorflow/compiler/xla/stream_executor/stream_executor_internal.h:124] SetPriority unimplemented for this stream.\n",
      "2023-11-25 00:00:24.896634: E ./tensorflow/compiler/xla/stream_executor/stream_executor_internal.h:124] SetPriority unimplemented for this stream.\n",
      "2023-11-25 00:00:24.898777: E ./tensorflow/compiler/xla/stream_executor/stream_executor_internal.h:124] SetPriority unimplemented for this stream.\n"
     ]
    },
    {
     "name": "stdout",
     "output_type": "stream",
     "text": [
      "  1/702 [..............................] - ETA: 21:17:30 - loss: 1.1861 - accuracy: 0.7832"
     ]
    },
    {
     "name": "stderr",
     "output_type": "stream",
     "text": [
      "2023-11-25 00:00:25.353486: E ./tensorflow/compiler/xla/stream_executor/stream_executor_internal.h:124] SetPriority unimplemented for this stream.\n"
     ]
    },
    {
     "name": "stdout",
     "output_type": "stream",
     "text": [
      "  3/702 [..............................] - ETA: 4:11 - loss: 8.2218 - accuracy: 0.5462"
     ]
    },
    {
     "name": "stderr",
     "output_type": "stream",
     "text": [
      "2023-11-25 00:00:26.067521: E ./tensorflow/compiler/xla/stream_executor/stream_executor_internal.h:124] SetPriority unimplemented for this stream.\n"
     ]
    },
    {
     "name": "stdout",
     "output_type": "stream",
     "text": [
      " 14/702 [..............................] - ETA: 4:05 - loss: 8.0300 - accuracy: 0.6179"
     ]
    },
    {
     "name": "stderr",
     "output_type": "stream",
     "text": [
      "2023-11-25 00:00:29.996923: E ./tensorflow/compiler/xla/stream_executor/stream_executor_internal.h:124] SetPriority unimplemented for this stream.\n"
     ]
    },
    {
     "name": "stdout",
     "output_type": "stream",
     "text": [
      " 43/702 [>.............................] - ETA: 3:54 - loss: 8.9013 - accuracy: 0.6889"
     ]
    },
    {
     "name": "stderr",
     "output_type": "stream",
     "text": [
      "2023-11-25 00:00:40.323805: E ./tensorflow/compiler/xla/stream_executor/stream_executor_internal.h:124] SetPriority unimplemented for this stream.\n"
     ]
    },
    {
     "name": "stdout",
     "output_type": "stream",
     "text": [
      " 98/702 [===>..........................] - ETA: 3:35 - loss: 4.8839 - accuracy: 0.7612"
     ]
    },
    {
     "name": "stderr",
     "output_type": "stream",
     "text": [
      "2023-11-25 00:01:00.025416: E ./tensorflow/compiler/xla/stream_executor/stream_executor_internal.h:124] SetPriority unimplemented for this stream.\n"
     ]
    },
    {
     "name": "stdout",
     "output_type": "stream",
     "text": [
      "126/702 [====>.........................] - ETA: 3:25 - loss: 3.9352 - accuracy: 0.7810"
     ]
    },
    {
     "name": "stderr",
     "output_type": "stream",
     "text": [
      "2023-11-25 00:01:10.047970: E ./tensorflow/compiler/xla/stream_executor/stream_executor_internal.h:124] SetPriority unimplemented for this stream.\n",
      "2023-11-25 00:01:10.048377: E ./tensorflow/compiler/xla/stream_executor/stream_executor_internal.h:124] SetPriority unimplemented for this stream.\n",
      "2023-11-25 00:01:10.059291: E ./tensorflow/compiler/xla/stream_executor/stream_executor_internal.h:124] SetPriority unimplemented for this stream.\n"
     ]
    },
    {
     "name": "stdout",
     "output_type": "stream",
     "text": [
      "702/702 [==============================] - ETA: 0s - loss: 1.1944 - accuracy: 0.8396"
     ]
    },
    {
     "name": "stderr",
     "output_type": "stream",
     "text": [
      "2023-11-25 00:05:31.794180: E tensorflow/core/grappler/optimizers/meta_optimizer.cc:961] model_pruner failed: INVALID_ARGUMENT: Graph does not contain terminal node AssignAddVariableOp.\n"
     ]
    },
    {
     "name": "stdout",
     "output_type": "stream",
     "text": [
      "\n",
      "Epoch 1: accuracy improved from -inf to 0.83959, saving model to pho_rating.h5\n",
      "702/702 [==============================] - 450s 486ms/step - loss: 1.1944 - accuracy: 0.8396 - val_loss: 0.5893 - val_accuracy: 0.8516\n",
      "Epoch 2/30\n",
      "702/702 [==============================] - ETA: 0s - loss: 0.5883 - accuracy: 0.8525\n",
      "Epoch 2: accuracy improved from 0.83959 to 0.85253, saving model to pho_rating.h5\n",
      "702/702 [==============================] - 287s 409ms/step - loss: 0.5883 - accuracy: 0.8525 - val_loss: 0.5891 - val_accuracy: 0.8516\n",
      "Epoch 3/30\n",
      "702/702 [==============================] - ETA: 0s - loss: 0.5864 - accuracy: 0.8525\n",
      "Epoch 3: accuracy did not improve from 0.85253\n",
      "702/702 [==============================] - 269s 383ms/step - loss: 0.5864 - accuracy: 0.8525 - val_loss: 0.5845 - val_accuracy: 0.8516\n",
      "Epoch 4/30\n",
      "702/702 [==============================] - ETA: 0s - loss: 0.5854 - accuracy: 0.8525\n",
      "Epoch 4: accuracy did not improve from 0.85253\n",
      "702/702 [==============================] - 269s 383ms/step - loss: 0.5854 - accuracy: 0.8525 - val_loss: 0.5893 - val_accuracy: 0.8516\n",
      "Epoch 5/30\n",
      "702/702 [==============================] - ETA: 0s - loss: 0.5849 - accuracy: 0.8525\n",
      "Epoch 5: accuracy did not improve from 0.85253\n",
      "702/702 [==============================] - 269s 384ms/step - loss: 0.5849 - accuracy: 0.8525 - val_loss: 0.5865 - val_accuracy: 0.8516\n",
      "Epoch 6/30\n",
      "702/702 [==============================] - ETA: 0s - loss: 0.5853 - accuracy: 0.8525\n",
      "Epoch 6: accuracy did not improve from 0.85253\n",
      "702/702 [==============================] - 269s 383ms/step - loss: 0.5853 - accuracy: 0.8525 - val_loss: 0.5868 - val_accuracy: 0.8516\n",
      "Epoch 7/30\n",
      "702/702 [==============================] - ETA: 0s - loss: 0.5864 - accuracy: 0.8525\n",
      "Epoch 7: accuracy did not improve from 0.85253\n",
      "702/702 [==============================] - 268s 382ms/step - loss: 0.5864 - accuracy: 0.8525 - val_loss: 0.5839 - val_accuracy: 0.8516\n",
      "Epoch 8/30\n",
      "702/702 [==============================] - ETA: 0s - loss: 22.5410 - accuracy: 0.7846\n",
      "Epoch 8: accuracy did not improve from 0.85253\n",
      "702/702 [==============================] - 269s 383ms/step - loss: 22.5410 - accuracy: 0.7846 - val_loss: 0.7341 - val_accuracy: 0.8516\n",
      "Epoch 9/30\n",
      "702/702 [==============================] - ETA: 0s - loss: 1.0446 - accuracy: 0.8283\n",
      "Epoch 9: accuracy did not improve from 0.85253\n",
      "702/702 [==============================] - 268s 382ms/step - loss: 1.0446 - accuracy: 0.8283 - val_loss: 0.6736 - val_accuracy: 0.8516\n",
      "Epoch 10/30\n",
      "702/702 [==============================] - ETA: 0s - loss: 2.5214 - accuracy: 0.8324\n",
      "Epoch 10: accuracy did not improve from 0.85253\n",
      "702/702 [==============================] - 269s 383ms/step - loss: 2.5214 - accuracy: 0.8324 - val_loss: 78.3912 - val_accuracy: 0.0653\n",
      "Epoch 11/30\n",
      "702/702 [==============================] - ETA: 0s - loss: 3.1663 - accuracy: 0.8192\n",
      "Epoch 11: accuracy did not improve from 0.85253\n",
      "702/702 [==============================] - 268s 382ms/step - loss: 3.1663 - accuracy: 0.8192 - val_loss: 0.5937 - val_accuracy: 0.8516\n",
      "Epoch 12/30\n",
      "702/702 [==============================] - ETA: 0s - loss: 0.6016 - accuracy: 0.8525\n",
      "Epoch 12: accuracy did not improve from 0.85253\n",
      "702/702 [==============================] - 269s 383ms/step - loss: 0.6016 - accuracy: 0.8525 - val_loss: 0.5881 - val_accuracy: 0.8516\n",
      "Epoch 13/30\n",
      "702/702 [==============================] - ETA: 0s - loss: 0.6036 - accuracy: 0.8525\n",
      "Epoch 13: accuracy did not improve from 0.85253\n",
      "702/702 [==============================] - 269s 383ms/step - loss: 0.6036 - accuracy: 0.8525 - val_loss: 0.5902 - val_accuracy: 0.8516\n",
      "Epoch 14/30\n",
      "702/702 [==============================] - ETA: 0s - loss: 0.6066 - accuracy: 0.8525\n",
      "Epoch 14: accuracy did not improve from 0.85253\n",
      "702/702 [==============================] - 268s 382ms/step - loss: 0.6066 - accuracy: 0.8525 - val_loss: 0.6011 - val_accuracy: 0.8516\n",
      "Epoch 15/30\n",
      "702/702 [==============================] - ETA: 0s - loss: 0.6044 - accuracy: 0.8525\n",
      "Epoch 15: accuracy did not improve from 0.85253\n",
      "702/702 [==============================] - 268s 382ms/step - loss: 0.6044 - accuracy: 0.8525 - val_loss: 0.5866 - val_accuracy: 0.8516\n",
      "Epoch 16/30\n",
      "702/702 [==============================] - ETA: 0s - loss: 0.6027 - accuracy: 0.8525\n",
      "Epoch 16: accuracy did not improve from 0.85253\n",
      "702/702 [==============================] - 268s 381ms/step - loss: 0.6027 - accuracy: 0.8525 - val_loss: 0.5878 - val_accuracy: 0.8516\n",
      "Epoch 17/30\n",
      "702/702 [==============================] - ETA: 0s - loss: 0.5944 - accuracy: 0.8525\n",
      "Epoch 17: accuracy did not improve from 0.85253\n",
      "702/702 [==============================] - 268s 382ms/step - loss: 0.5944 - accuracy: 0.8525 - val_loss: 0.5938 - val_accuracy: 0.8516\n",
      "Epoch 18/30\n",
      "702/702 [==============================] - ETA: 0s - loss: 0.5913 - accuracy: 0.8525\n",
      "Epoch 18: accuracy did not improve from 0.85253\n",
      "702/702 [==============================] - 268s 381ms/step - loss: 0.5913 - accuracy: 0.8525 - val_loss: 0.5882 - val_accuracy: 0.8516\n",
      "Epoch 19/30\n",
      "702/702 [==============================] - ETA: 0s - loss: 0.5902 - accuracy: 0.8525\n",
      "Epoch 19: accuracy did not improve from 0.85253\n",
      "702/702 [==============================] - 268s 382ms/step - loss: 0.5902 - accuracy: 0.8525 - val_loss: 0.5983 - val_accuracy: 0.8516\n",
      "Epoch 20/30\n",
      "702/702 [==============================] - ETA: 0s - loss: 25.2637 - accuracy: 0.7820\n",
      "Epoch 20: accuracy did not improve from 0.85253\n",
      "702/702 [==============================] - 268s 382ms/step - loss: 25.2637 - accuracy: 0.7820 - val_loss: 1.6011 - val_accuracy: 0.8516\n",
      "Epoch 21/30\n",
      "702/702 [==============================] - ETA: 0s - loss: 1.4942 - accuracy: 0.8299\n",
      "Epoch 21: accuracy did not improve from 0.85253\n",
      "702/702 [==============================] - 268s 382ms/step - loss: 1.4942 - accuracy: 0.8299 - val_loss: 1.5285 - val_accuracy: 0.8516\n",
      "Epoch 22/30\n",
      "702/702 [==============================] - ETA: 0s - loss: 0.8185 - accuracy: 0.8471\n",
      "Epoch 22: accuracy did not improve from 0.85253\n",
      "702/702 [==============================] - 268s 382ms/step - loss: 0.8185 - accuracy: 0.8471 - val_loss: 0.6871 - val_accuracy: 0.8516\n"
     ]
    }
   ],
   "source": [
    "# Sử dụng dữ liệu đã resample để train mô hình\n",
    "history = model_rating.fit(\n",
    "    X_train,\n",
    "    y_train,\n",
    "    epochs=epochs,\n",
    "    validation_split=validation_split,\n",
    "    batch_size=batch_size,\n",
    "    callbacks=[cp_callback, es_callback],\n",
    "    verbose=1)\n"
   ]
  },
  {
   "cell_type": "markdown",
   "id": "d4e3de5f",
   "metadata": {
    "papermill": {
     "duration": 0.874534,
     "end_time": "2023-11-25T01:40:23.378575",
     "exception": false,
     "start_time": "2023-11-25T01:40:22.504041",
     "status": "completed"
    },
    "tags": []
   },
   "source": [
    "* Vẽ biểu đồ"
   ]
  },
  {
   "cell_type": "code",
   "execution_count": 22,
   "id": "bad943e1",
   "metadata": {
    "execution": {
     "iopub.execute_input": "2023-11-25T01:40:25.077041Z",
     "iopub.status.busy": "2023-11-25T01:40:25.076209Z",
     "iopub.status.idle": "2023-11-25T01:40:25.421284Z",
     "shell.execute_reply": "2023-11-25T01:40:25.420333Z"
    },
    "papermill": {
     "duration": 1.167847,
     "end_time": "2023-11-25T01:40:25.422965",
     "exception": false,
     "start_time": "2023-11-25T01:40:24.255118",
     "status": "completed"
    },
    "tags": []
   },
   "outputs": [
    {
     "data": {
      "image/png": "[encoded data removed]",
      "text/plain": [
       "<Figure size 1600x500 with 2 Axes>"
      ]
     },
     "metadata": {},
     "output_type": "display_data"
    }
   ],
   "source": [
    "loss = history.history['loss']\n",
    "acc = history.history['accuracy']\n",
    "val_loss = history.history['val_loss']\n",
    "val_acc = history.history['val_accuracy']\n",
    "\n",
    "epochs = range(1, len(loss) + 1)\n",
    "\n",
    "plt.figure(figsize=(16, 5))\n",
    "# Accuracy\n",
    "plt.subplot(1,2,1)\n",
    "plt.plot(epochs, acc, 'b', label = 'Training accuracy')\n",
    "plt.plot(epochs, val_acc, 'r', label = 'Validation accuracy')\n",
    "plt.legend()\n",
    "\n",
    "# Loss\n",
    "plt.subplot(1,2,2)\n",
    "plt.plot(epochs, loss, 'b', label = 'Trainig loss')\n",
    "plt.plot(epochs, val_loss, 'r', label = 'Validation loss')\n",
    "plt.legend()\n",
    "\n",
    "plt.show()"
   ]
  },
  {
   "cell_type": "code",
   "execution_count": 23,
   "id": "2eb5bf12",
   "metadata": {
    "execution": {
     "iopub.execute_input": "2023-11-25T01:40:27.247825Z",
     "iopub.status.busy": "2023-11-25T01:40:27.247376Z",
     "iopub.status.idle": "2023-11-25T01:40:56.505532Z",
     "shell.execute_reply": "2023-11-25T01:40:56.504457Z"
    },
    "papermill": {
     "duration": 30.119319,
     "end_time": "2023-11-25T01:40:56.507595",
     "exception": false,
     "start_time": "2023-11-25T01:40:26.388276",
     "status": "completed"
    },
    "tags": []
   },
   "outputs": [
    {
     "name": "stdout",
     "output_type": "stream",
     "text": [
      "Evaluate on test data\n",
      "220/220 [==============================] - 29s 129ms/step - loss: 0.6792 - accuracy: 0.8532\n",
      "test loss, test acc: [0.6791989803314209, 0.8532432913780212]\n"
     ]
    }
   ],
   "source": [
    "y_test = tf.keras.utils.to_categorical(y_test)\n",
    "print(\"Evaluate on test data\")\n",
    "results = model_rating.evaluate(X_test, y_test, batch_size=512)\n",
    "print(\"test loss, test acc:\", results)"
   ]
  },
  {
   "cell_type": "code",
   "execution_count": null,
   "id": "ea7aa3f9",
   "metadata": {
    "papermill": {
     "duration": 0.899906,
     "end_time": "2023-11-25T01:40:58.328859",
     "exception": false,
     "start_time": "2023-11-25T01:40:57.428953",
     "status": "completed"
    },
    "tags": []
   },
   "outputs": [],
   "source": []
  }
 ],
 "metadata": {
  "kaggle": {
   "accelerator": "tpu1vmV38",
   "dataSources": [
    {
     "datasetId": 4044390,
     "sourceId": 7031375,
     "sourceType": "datasetVersion"
    },
    {
     "datasetId": 4049864,
     "sourceId": 7039221,
     "sourceType": "datasetVersion"
    },
    {
     "datasetId": 4054931,
     "sourceId": 7046673,
     "sourceType": "datasetVersion"
    }
   ],
   "dockerImageVersionId": 30589,
   "isGpuEnabled": false,
   "isInternetEnabled": true,
   "language": "python",
   "sourceType": "notebook"
  },
  "kernelspec": {
   "display_name": "Python 3",
   "language": "python",
   "name": "python3"
  },
  "language_info": {
   "codemirror_mode": {
    "name": "ipython",
    "version": 3
   },
   "file_extension": ".py",
   "mimetype": "text/x-python",
   "name": "python",
   "nbconvert_exporter": "python",
   "pygments_lexer": "ipython3",
   "version": "3.11.2"
  },
  "papermill": {
   "default_parameters": {},
   "duration": 6338.000433,
   "end_time": "2023-11-25T01:41:07.846306",
   "environment_variables": {},
   "exception": null,
   "input_path": "__notebook__.ipynb",
   "output_path": "__notebook__.ipynb",
   "parameters": {},
   "start_time": "2023-11-24T23:55:29.845873",
   "version": "2.5.0"
  }
 },
 "nbformat": 4,
 "nbformat_minor": 5
}
