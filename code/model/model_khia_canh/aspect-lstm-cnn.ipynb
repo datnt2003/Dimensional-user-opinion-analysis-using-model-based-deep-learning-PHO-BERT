{
 "cells": [
  {
   "cell_type": "code",
   "execution_count": 1,
   "id": "040b4e94",
   "metadata": {
    "_cell_guid": "b1076dfc-b9ad-4769-8c92-a6c4dae69d19",
    "_uuid": "8f2839f25d086af736a60e9eeb907d3b93b6e0e5",
    "execution": {
     "iopub.execute_input": "2023-11-25T02:16:43.386006Z",
     "iopub.status.busy": "2023-11-25T02:16:43.385740Z",
     "iopub.status.idle": "2023-11-25T02:17:07.476999Z",
     "shell.execute_reply": "2023-11-25T02:17:07.476212Z"
    },
    "papermill": {
     "duration": 24.100641,
     "end_time": "2023-11-25T02:17:07.479013",
     "exception": false,
     "start_time": "2023-11-25T02:16:43.378372",
     "status": "completed"
    },
    "tags": []
   },
   "outputs": [
    {
     "name": "stdout",
     "output_type": "stream",
     "text": [
      "Requirement already satisfied: pip in /usr/local/lib/python3.10/site-packages (23.0.1)\r\n",
      "Collecting pip\r\n",
      "  Downloading pip-23.3.1-py3-none-any.whl (2.1 MB)\r\n",
      "\u001b[2K     \u001b[90m━━━━━━━━━━━━━━━━━━━━━━━━━━━━━━━━━━━━━━━━\u001b[0m \u001b[32m2.1/2.1 MB\u001b[0m \u001b[31m8.4 MB/s\u001b[0m eta \u001b[36m0:00:00\u001b[0m\r\n",
      "\u001b[?25hInstalling collected packages: pip\r\n",
      "  Attempting uninstall: pip\r\n",
      "    Found existing installation: pip 23.0.1\r\n",
      "    Uninstalling pip-23.0.1:\r\n",
      "      Successfully uninstalled pip-23.0.1\r\n",
      "Successfully installed pip-23.3.1\r\n",
      "\u001b[33mWARNING: Running pip as the 'root' user can result in broken permissions and conflicting behaviour with the system package manager. It is recommended to use a virtual environment instead: https://pip.pypa.io/warnings/venv\u001b[0m\u001b[33m\r\n",
      "\u001b[0mRequirement already satisfied: tensorflow_addons in /usr/local/lib/python3.10/site-packages (0.22.0)\r\n",
      "Requirement already satisfied: packaging in /usr/local/lib/python3.10/site-packages (from tensorflow_addons) (23.2)\r\n",
      "Requirement already satisfied: typeguard<3.0.0,>=2.7 in /usr/local/lib/python3.10/site-packages (from tensorflow_addons) (2.13.3)\r\n",
      "\u001b[33mWARNING: Running pip as the 'root' user can result in broken permissions and conflicting behaviour with the system package manager. It is recommended to use a virtual environment instead: https://pip.pypa.io/warnings/venv\u001b[0m\u001b[33m\r\n",
      "\u001b[0mCollecting seaborn\r\n",
      "  Downloading seaborn-0.13.0-py3-none-any.whl.metadata (5.3 kB)\r\n",
      "Requirement already satisfied: numpy!=1.24.0,>=1.20 in /usr/local/lib/python3.10/site-packages (from seaborn) (1.26.1)\r\n",
      "Requirement already satisfied: pandas>=1.2 in /usr/local/lib/python3.10/site-packages (from seaborn) (2.1.3)\r\n",
      "Requirement already satisfied: matplotlib!=3.6.1,>=3.3 in /usr/local/lib/python3.10/site-packages (from seaborn) (3.8.1)\r\n",
      "Requirement already satisfied: contourpy>=1.0.1 in /usr/local/lib/python3.10/site-packages (from matplotlib!=3.6.1,>=3.3->seaborn) (1.2.0)\r\n",
      "Requirement already satisfied: cycler>=0.10 in /usr/local/lib/python3.10/site-packages (from matplotlib!=3.6.1,>=3.3->seaborn) (0.12.1)\r\n",
      "Requirement already satisfied: fonttools>=4.22.0 in /usr/local/lib/python3.10/site-packages (from matplotlib!=3.6.1,>=3.3->seaborn) (4.44.0)\r\n",
      "Requirement already satisfied: kiwisolver>=1.3.1 in /usr/local/lib/python3.10/site-packages (from matplotlib!=3.6.1,>=3.3->seaborn) (1.4.5)\r\n",
      "Requirement already satisfied: packaging>=20.0 in /usr/local/lib/python3.10/site-packages (from matplotlib!=3.6.1,>=3.3->seaborn) (23.2)\r\n",
      "Requirement already satisfied: pillow>=8 in /usr/local/lib/python3.10/site-packages (from matplotlib!=3.6.1,>=3.3->seaborn) (10.1.0)\r\n",
      "Requirement already satisfied: pyparsing>=2.3.1 in /usr/local/lib/python3.10/site-packages (from matplotlib!=3.6.1,>=3.3->seaborn) (3.1.1)\r\n",
      "Requirement already satisfied: python-dateutil>=2.7 in /usr/local/lib/python3.10/site-packages (from matplotlib!=3.6.1,>=3.3->seaborn) (2.8.2)\r\n",
      "Requirement already satisfied: pytz>=2020.1 in /usr/local/lib/python3.10/site-packages (from pandas>=1.2->seaborn) (2023.3.post1)\r\n",
      "Requirement already satisfied: tzdata>=2022.1 in /usr/local/lib/python3.10/site-packages (from pandas>=1.2->seaborn) (2023.3)\r\n",
      "Requirement already satisfied: six>=1.5 in /usr/local/lib/python3.10/site-packages (from python-dateutil>=2.7->matplotlib!=3.6.1,>=3.3->seaborn) (1.16.0)\r\n",
      "Downloading seaborn-0.13.0-py3-none-any.whl (294 kB)\r\n",
      "\u001b[2K   \u001b[90m━━━━━━━━━━━━━━━━━━━━━━━━━━━━━━━━━━━━━━━━\u001b[0m \u001b[32m294.6/294.6 kB\u001b[0m \u001b[31m4.4 MB/s\u001b[0m eta \u001b[36m0:00:00\u001b[0m\r\n",
      "\u001b[?25hInstalling collected packages: seaborn\r\n",
      "Successfully installed seaborn-0.13.0\r\n",
      "\u001b[33mWARNING: Running pip as the 'root' user can result in broken permissions and conflicting behaviour with the system package manager. It is recommended to use a virtual environment instead: https://pip.pypa.io/warnings/venv\u001b[0m\u001b[33m\r\n",
      "\u001b[0mRequirement already satisfied: transformers in /usr/local/lib/python3.10/site-packages (4.35.0)\r\n",
      "Requirement already satisfied: filelock in /usr/local/lib/python3.10/site-packages (from transformers) (3.13.1)\r\n",
      "Requirement already satisfied: huggingface-hub<1.0,>=0.16.4 in /usr/local/lib/python3.10/site-packages (from transformers) (0.17.3)\r\n",
      "Requirement already satisfied: numpy>=1.17 in /usr/local/lib/python3.10/site-packages (from transformers) (1.26.1)\r\n",
      "Requirement already satisfied: packaging>=20.0 in /usr/local/lib/python3.10/site-packages (from transformers) (23.2)\r\n",
      "Requirement already satisfied: pyyaml>=5.1 in /usr/local/lib/python3.10/site-packages (from transformers) (6.0.1)\r\n",
      "Requirement already satisfied: regex!=2019.12.17 in /usr/local/lib/python3.10/site-packages (from transformers) (2023.10.3)\r\n",
      "Requirement already satisfied: requests in /usr/local/lib/python3.10/site-packages (from transformers) (2.31.0)\r\n",
      "Requirement already satisfied: tokenizers<0.15,>=0.14 in /usr/local/lib/python3.10/site-packages (from transformers) (0.14.1)\r\n",
      "Requirement already satisfied: safetensors>=0.3.1 in /usr/local/lib/python3.10/site-packages (from transformers) (0.4.0)\r\n",
      "Requirement already satisfied: tqdm>=4.27 in /usr/local/lib/python3.10/site-packages (from transformers) (4.66.1)\r\n",
      "Requirement already satisfied: fsspec in /usr/local/lib/python3.10/site-packages (from huggingface-hub<1.0,>=0.16.4->transformers) (2023.10.0)\r\n",
      "Requirement already satisfied: typing-extensions>=3.7.4.3 in /usr/local/lib/python3.10/site-packages (from huggingface-hub<1.0,>=0.16.4->transformers) (4.8.0)\r\n",
      "Requirement already satisfied: charset-normalizer<4,>=2 in /usr/local/lib/python3.10/site-packages (from requests->transformers) (3.3.2)\r\n",
      "Requirement already satisfied: idna<4,>=2.5 in /usr/local/lib/python3.10/site-packages (from requests->transformers) (3.4)\r\n",
      "Requirement already satisfied: urllib3<3,>=1.21.1 in /usr/local/lib/python3.10/site-packages (from requests->transformers) (2.0.7)\r\n",
      "Requirement already satisfied: certifi>=2017.4.17 in /usr/local/lib/python3.10/site-packages (from requests->transformers) (2023.7.22)\r\n",
      "\u001b[33mWARNING: Running pip as the 'root' user can result in broken permissions and conflicting behaviour with the system package manager. It is recommended to use a virtual environment instead: https://pip.pypa.io/warnings/venv\u001b[0m\u001b[33m\r\n",
      "\u001b[0mRequirement already satisfied: scikit-learn in /usr/local/lib/python3.10/site-packages (1.3.2)\r\n",
      "Requirement already satisfied: numpy<2.0,>=1.17.3 in /usr/local/lib/python3.10/site-packages (from scikit-learn) (1.26.1)\r\n",
      "Requirement already satisfied: scipy>=1.5.0 in /usr/local/lib/python3.10/site-packages (from scikit-learn) (1.11.3)\r\n",
      "Requirement already satisfied: joblib>=1.1.1 in /usr/local/lib/python3.10/site-packages (from scikit-learn) (1.3.2)\r\n",
      "Requirement already satisfied: threadpoolctl>=2.0.0 in /usr/local/lib/python3.10/site-packages (from scikit-learn) (3.2.0)\r\n",
      "\u001b[33mWARNING: Running pip as the 'root' user can result in broken permissions and conflicting behaviour with the system package manager. It is recommended to use a virtual environment instead: https://pip.pypa.io/warnings/venv\u001b[0m\u001b[33m\r\n",
      "\u001b[0mCollecting imbalanced-learn\r\n",
      "  Downloading imbalanced_learn-0.11.0-py3-none-any.whl.metadata (8.3 kB)\r\n",
      "Requirement already satisfied: numpy>=1.17.3 in /usr/local/lib/python3.10/site-packages (from imbalanced-learn) (1.26.1)\r\n",
      "Requirement already satisfied: scipy>=1.5.0 in /usr/local/lib/python3.10/site-packages (from imbalanced-learn) (1.11.3)\r\n",
      "Requirement already satisfied: scikit-learn>=1.0.2 in /usr/local/lib/python3.10/site-packages (from imbalanced-learn) (1.3.2)\r\n",
      "Requirement already satisfied: joblib>=1.1.1 in /usr/local/lib/python3.10/site-packages (from imbalanced-learn) (1.3.2)\r\n",
      "Requirement already satisfied: threadpoolctl>=2.0.0 in /usr/local/lib/python3.10/site-packages (from imbalanced-learn) (3.2.0)\r\n",
      "Downloading imbalanced_learn-0.11.0-py3-none-any.whl (235 kB)\r\n",
      "\u001b[2K   \u001b[90m━━━━━━━━━━━━━━━━━━━━━━━━━━━━━━━━━━━━━━━━\u001b[0m \u001b[32m235.6/235.6 kB\u001b[0m \u001b[31m3.6 MB/s\u001b[0m eta \u001b[36m0:00:00\u001b[0m\r\n",
      "\u001b[?25hInstalling collected packages: imbalanced-learn\r\n",
      "Successfully installed imbalanced-learn-0.11.0\r\n",
      "\u001b[33mWARNING: Running pip as the 'root' user can result in broken permissions and conflicting behaviour with the system package manager. It is recommended to use a virtual environment instead: https://pip.pypa.io/warnings/venv\u001b[0m\u001b[33m\r\n",
      "\u001b[0m"
     ]
    }
   ],
   "source": [
    "!pip install --upgrade pip\n",
    "!pip install tensorflow_addons\n",
    "!pip install seaborn\n",
    "!pip install transformers\n",
    "!pip install scikit-learn\n",
    "!pip install imbalanced-learn\n"
   ]
  },
  {
   "cell_type": "code",
   "execution_count": 1,
   "id": "58ea96b4",
   "metadata": {
    "execution": {
     "iopub.execute_input": "2023-11-25T02:17:07.496765Z",
     "iopub.status.busy": "2023-11-25T02:17:07.496509Z",
     "iopub.status.idle": "2023-11-25T02:17:47.130890Z",
     "shell.execute_reply": "2023-11-25T02:17:47.129920Z"
    },
    "papermill": {
     "duration": 39.645507,
     "end_time": "2023-11-25T02:17:47.133355",
     "exception": false,
     "start_time": "2023-11-25T02:17:07.487848",
     "status": "completed"
    },
    "tags": []
   },
   "outputs": [
    {
     "name": "stderr",
     "output_type": "stream",
     "text": [
      "/Library/Frameworks/Python.framework/Versions/3.11/lib/python3.11/site-packages/tensorflow_addons/utils/tfa_eol_msg.py:23: UserWarning: \n",
      "\n",
      "TensorFlow Addons (TFA) has ended development and introduction of new features.\n",
      "TFA has entered a minimal maintenance and release mode until a planned end of life in May 2024.\n",
      "Please modify downstream libraries to take dependencies from other repositories in our TensorFlow community (e.g. Keras, Keras-CV, and Keras-NLP). \n",
      "\n",
      "For more information see: https://github.com/tensorflow/addons/issues/2807 \n",
      "\n",
      "  warnings.warn(\n",
      "/Library/Frameworks/Python.framework/Versions/3.11/lib/python3.11/site-packages/tensorflow_addons/utils/ensure_tf_install.py:53: UserWarning: Tensorflow Addons supports using Python ops for all Tensorflow versions above or equal to 2.12.0 and strictly below 2.15.0 (nightly versions are not supported). \n",
      " The versions of TensorFlow you are currently using is 2.15.0 and is not supported. \n",
      "Some things might work, some things might not.\n",
      "If you were to encounter a bug, do not file an issue.\n",
      "If you want to make sure you're using a tested and supported configuration, either change the TensorFlow version or the TensorFlow Addons's version. \n",
      "You can find the compatibility matrix in TensorFlow Addon's readme:\n",
      "https://github.com/tensorflow/addons\n",
      "  warnings.warn(\n"
     ]
    }
   ],
   "source": [
    "import numpy as np\n",
    "import pandas as pd\n",
    "import matplotlib.pyplot as plt\n",
    "import seaborn as sns\n",
    "from sklearn.preprocessing import LabelEncoder\n",
    "from sklearn.model_selection import train_test_split\n",
    "\n",
    "\n",
    "import tensorflow as tf\n",
    "import tensorflow_addons as tfa\n",
    "\n",
    "from transformers import TFAutoModel, AutoTokenizer\n",
    "\n",
    "\n",
    "from tensorflow.keras import Input, Model\n",
    "from tensorflow.keras import layers\n",
    "from tensorflow.keras.layers import Dense, Dropout, Conv1D, MaxPooling1D, Bidirectional, LSTM, Flatten,GlobalMaxPooling1D,BatchNormalization\n",
    "from tensorflow.keras.optimizers import Adam\n",
    "from tensorflow.keras import regularizers\n",
    "\n",
    "from tensorflow.keras.callbacks import ModelCheckpoint, EarlyStopping\n",
    "\n",
    "from transformers import TFRobertaModel\n",
    "from keras.models import load_model\n",
    "from keras.utils import CustomObjectScope\n",
    "\n",
    "import warnings\n",
    "warnings.filterwarnings(\"ignore\")"
   ]
  },
  {
   "cell_type": "markdown",
   "id": "daf8938d",
   "metadata": {
    "papermill": {
     "duration": 0.007977,
     "end_time": "2023-11-25T02:17:47.149419",
     "exception": false,
     "start_time": "2023-11-25T02:17:47.141442",
     "status": "completed"
    },
    "tags": []
   },
   "source": [
    "* Đọc dữ liệu"
   ]
  },
  {
   "cell_type": "code",
   "execution_count": 2,
   "id": "5d2e354c",
   "metadata": {
    "execution": {
     "iopub.execute_input": "2023-11-25T02:17:47.167417Z",
     "iopub.status.busy": "2023-11-25T02:17:47.166818Z",
     "iopub.status.idle": "2023-11-25T02:17:49.465277Z",
     "shell.execute_reply": "2023-11-25T02:17:49.464418Z"
    },
    "papermill": {
     "duration": 2.309184,
     "end_time": "2023-11-25T02:17:49.466897",
     "exception": false,
     "start_time": "2023-11-25T02:17:47.157713",
     "status": "completed"
    },
    "tags": []
   },
   "outputs": [
    {
     "data": {
      "text/html": [
       "<div>\n",
       "<style scoped>\n",
       "    .dataframe tbody tr th:only-of-type {\n",
       "        vertical-align: middle;\n",
       "    }\n",
       "\n",
       "    .dataframe tbody tr th {\n",
       "        vertical-align: top;\n",
       "    }\n",
       "\n",
       "    .dataframe thead th {\n",
       "        text-align: right;\n",
       "    }\n",
       "</style>\n",
       "<table border=\"1\" class=\"dataframe\">\n",
       "  <thead>\n",
       "    <tr style=\"text-align: right;\">\n",
       "      <th></th>\n",
       "      <th>comment</th>\n",
       "      <th>rating_star</th>\n",
       "      <th>khia_canh</th>\n",
       "    </tr>\n",
       "  </thead>\n",
       "  <tbody>\n",
       "    <tr>\n",
       "      <th>0</th>\n",
       "      <td>mô tả sai 60 cửa hàng giao bao nhiêu bẻ 50 nhắ...</td>\n",
       "      <td>negative</td>\n",
       "      <td>Chất lượng sản phẩm, Dịch vụ khách hàng, Giao ...</td>\n",
       "    </tr>\n",
       "    <tr>\n",
       "      <th>1</th>\n",
       "      <td>sản phẩm cửa hàng hài sản phẩm hàng hơi lâu4 ủ...</td>\n",
       "      <td>negative</td>\n",
       "      <td>Dịch vụ khách hàng</td>\n",
       "    </tr>\n",
       "    <tr>\n",
       "      <th>2</th>\n",
       "      <td>giao hàng cửa hàng thèm phục vụ kém nhắn đợi t...</td>\n",
       "      <td>negative</td>\n",
       "      <td>Chất lượng sản phẩm, Dịch vụ khách hàng, Giao ...</td>\n",
       "    </tr>\n",
       "    <tr>\n",
       "      <th>3</th>\n",
       "      <td>chất sản phẩm tệ hại y cửa hàng hàng khuyên cử...</td>\n",
       "      <td>negative</td>\n",
       "      <td>Chất lượng sản phẩm, Dịch vụ khách hàng, Giao ...</td>\n",
       "    </tr>\n",
       "    <tr>\n",
       "      <th>4</th>\n",
       "      <td>sản phẩm giao cửa hàng phục vụ nhiệt tình 2 sả...</td>\n",
       "      <td>negative</td>\n",
       "      <td>Dịch vụ khách hàng, Giao hàng</td>\n",
       "    </tr>\n",
       "  </tbody>\n",
       "</table>\n",
       "</div>"
      ],
      "text/plain": [
       "                                             comment rating_star  \\\n",
       "0  mô tả sai 60 cửa hàng giao bao nhiêu bẻ 50 nhắ...    negative   \n",
       "1  sản phẩm cửa hàng hài sản phẩm hàng hơi lâu4 ủ...    negative   \n",
       "2  giao hàng cửa hàng thèm phục vụ kém nhắn đợi t...    negative   \n",
       "3  chất sản phẩm tệ hại y cửa hàng hàng khuyên cử...    negative   \n",
       "4  sản phẩm giao cửa hàng phục vụ nhiệt tình 2 sả...    negative   \n",
       "\n",
       "                                           khia_canh  \n",
       "0  Chất lượng sản phẩm, Dịch vụ khách hàng, Giao ...  \n",
       "1                                 Dịch vụ khách hàng  \n",
       "2  Chất lượng sản phẩm, Dịch vụ khách hàng, Giao ...  \n",
       "3  Chất lượng sản phẩm, Dịch vụ khách hàng, Giao ...  \n",
       "4                      Dịch vụ khách hàng, Giao hàng  "
      ]
     },
     "execution_count": 2,
     "metadata": {},
     "output_type": "execute_result"
    }
   ],
   "source": [
    "df = pd.read_csv('/Users/datnguyen/Documents/hoc_truong/project/NLP/Nhom_10/data/data.tsv',sep='\\t')\n",
    "df.head()"
   ]
  },
  {
   "cell_type": "markdown",
   "id": "db5e164c",
   "metadata": {
    "papermill": {
     "duration": 0.008321,
     "end_time": "2023-11-25T02:17:50.652210",
     "exception": false,
     "start_time": "2023-11-25T02:17:50.643889",
     "status": "completed"
    },
    "tags": []
   },
   "source": [
    "* Chọn dữ liệu"
   ]
  },
  {
   "cell_type": "code",
   "execution_count": 3,
   "id": "b30598a1",
   "metadata": {
    "execution": {
     "iopub.execute_input": "2023-11-25T02:17:50.695254Z",
     "iopub.status.busy": "2023-11-25T02:17:50.694957Z",
     "iopub.status.idle": "2023-11-25T02:17:50.698767Z",
     "shell.execute_reply": "2023-11-25T02:17:50.698074Z"
    },
    "papermill": {
     "duration": 0.014248,
     "end_time": "2023-11-25T02:17:50.700260",
     "exception": false,
     "start_time": "2023-11-25T02:17:50.686012",
     "status": "completed"
    },
    "tags": []
   },
   "outputs": [],
   "source": [
    "X = df.comment\n",
    "y = df.khia_canh"
   ]
  },
  {
   "cell_type": "markdown",
   "id": "39deee5d",
   "metadata": {
    "papermill": {
     "duration": 0.008243,
     "end_time": "2023-11-25T02:17:50.716725",
     "exception": false,
     "start_time": "2023-11-25T02:17:50.708482",
     "status": "completed"
    },
    "tags": []
   },
   "source": [
    "* LabelEncoder"
   ]
  },
  {
   "cell_type": "code",
   "execution_count": 4,
   "id": "da51ff0f",
   "metadata": {
    "execution": {
     "iopub.execute_input": "2023-11-25T02:17:50.734529Z",
     "iopub.status.busy": "2023-11-25T02:17:50.734214Z",
     "iopub.status.idle": "2023-11-25T02:17:50.737911Z",
     "shell.execute_reply": "2023-11-25T02:17:50.737213Z"
    },
    "papermill": {
     "duration": 0.014164,
     "end_time": "2023-11-25T02:17:50.739360",
     "exception": false,
     "start_time": "2023-11-25T02:17:50.725196",
     "status": "completed"
    },
    "tags": []
   },
   "outputs": [],
   "source": [
    "le_rating = LabelEncoder()"
   ]
  },
  {
   "cell_type": "code",
   "execution_count": 5,
   "id": "c68ecd4c",
   "metadata": {
    "execution": {
     "iopub.execute_input": "2023-11-25T02:17:50.757387Z",
     "iopub.status.busy": "2023-11-25T02:17:50.756721Z",
     "iopub.status.idle": "2023-11-25T02:19:07.657120Z",
     "shell.execute_reply": "2023-11-25T02:19:07.656161Z"
    },
    "papermill": {
     "duration": 76.911786,
     "end_time": "2023-11-25T02:19:07.659470",
     "exception": false,
     "start_time": "2023-11-25T02:17:50.747684",
     "status": "completed"
    },
    "tags": []
   },
   "outputs": [],
   "source": [
    "MAX_LEN = 200\n",
    "model_name = 'vinai/phobert-base'\n",
    "\n",
    "# Tokenizing\n",
    "tokenizer = AutoTokenizer.from_pretrained(model_name)\n",
    "encoded_inputs = tokenizer.batch_encode_plus(\n",
    "    df.comment.tolist(), \n",
    "    max_length=MAX_LEN, \n",
    "    padding='max_length', \n",
    "    truncation=True,\n",
    "    return_tensors='np'\n",
    ")"
   ]
  },
  {
   "cell_type": "code",
   "execution_count": 6,
   "id": "70ff93ee",
   "metadata": {
    "execution": {
     "iopub.execute_input": "2023-11-25T02:19:07.679050Z",
     "iopub.status.busy": "2023-11-25T02:19:07.678751Z",
     "iopub.status.idle": "2023-11-25T02:19:07.771518Z",
     "shell.execute_reply": "2023-11-25T02:19:07.770570Z"
    },
    "papermill": {
     "duration": 0.10444,
     "end_time": "2023-11-25T02:19:07.773167",
     "exception": false,
     "start_time": "2023-11-25T02:19:07.668727",
     "status": "completed"
    },
    "tags": []
   },
   "outputs": [],
   "source": [
    "X = encoded_inputs['input_ids']\n",
    "y = le_rating.fit_transform(y)"
   ]
  },
  {
   "cell_type": "code",
   "execution_count": 7,
   "id": "be9103a7",
   "metadata": {
    "execution": {
     "iopub.execute_input": "2023-11-25T02:19:07.791324Z",
     "iopub.status.busy": "2023-11-25T02:19:07.790994Z",
     "iopub.status.idle": "2023-11-25T02:19:08.128594Z",
     "shell.execute_reply": "2023-11-25T02:19:08.127639Z"
    },
    "papermill": {
     "duration": 0.348829,
     "end_time": "2023-11-25T02:19:08.130482",
     "exception": false,
     "start_time": "2023-11-25T02:19:07.781653",
     "status": "completed"
    },
    "tags": []
   },
   "outputs": [],
   "source": [
    "from sklearn.model_selection import train_test_split\n",
    "\n",
    "X_train, X_test, y_train, y_test = train_test_split(X, y, test_size=0.2, random_state=2006)"
   ]
  },
  {
   "cell_type": "markdown",
   "id": "0104d750",
   "metadata": {
    "papermill": {
     "duration": 0.00848,
     "end_time": "2023-11-25T02:19:08.147180",
     "exception": false,
     "start_time": "2023-11-25T02:19:08.138700",
     "status": "completed"
    },
    "tags": []
   },
   "source": [
    "* TPU setup"
   ]
  },
  {
   "cell_type": "code",
   "execution_count": 8,
   "id": "b09ef7b9",
   "metadata": {
    "execution": {
     "iopub.execute_input": "2023-11-25T02:19:08.165350Z",
     "iopub.status.busy": "2023-11-25T02:19:08.165017Z",
     "iopub.status.idle": "2023-11-25T02:19:17.723075Z",
     "shell.execute_reply": "2023-11-25T02:19:17.721973Z"
    },
    "papermill": {
     "duration": 9.569545,
     "end_time": "2023-11-25T02:19:17.725065",
     "exception": false,
     "start_time": "2023-11-25T02:19:08.155520",
     "status": "completed"
    },
    "tags": []
   },
   "outputs": [
    {
     "name": "stdout",
     "output_type": "stream",
     "text": [
      "Number of replicas: 1\n"
     ]
    }
   ],
   "source": [
    "try:\n",
    "    tpu = tf.distribute.cluster_resolver.TPUClusterResolver() \n",
    "    tf.config.experimental_connect_to_cluster(tpu)\n",
    "    tf.tpu.experimental.initialize_tpu_system(tpu)\n",
    "    \n",
    "    strategy = tf.distribute.experimental.TPUStrategy\n",
    "except ValueError:\n",
    "    strategy = tf.distribute.get_strategy() \n",
    "    print('Number of replicas:', strategy.num_replicas_in_sync) "
   ]
  },
  {
   "cell_type": "code",
   "execution_count": 9,
   "id": "200fd92a",
   "metadata": {
    "execution": {
     "iopub.execute_input": "2023-11-25T02:19:17.745666Z",
     "iopub.status.busy": "2023-11-25T02:19:17.745354Z",
     "iopub.status.idle": "2023-11-25T02:19:23.089649Z",
     "shell.execute_reply": "2023-11-25T02:19:23.088688Z"
    },
    "papermill": {
     "duration": 5.358571,
     "end_time": "2023-11-25T02:19:23.093673",
     "exception": false,
     "start_time": "2023-11-25T02:19:17.735102",
     "status": "completed"
    },
    "tags": []
   },
   "outputs": [
    {
     "name": "stdout",
     "output_type": "stream",
     "text": [
      "Running on single GPU  /device:GPU:0\n",
      "Number of accelerators:  1\n"
     ]
    },
    {
     "name": "stderr",
     "output_type": "stream",
     "text": [
      "2023-12-05 08:51:45.914304: I metal_plugin/src/device/metal_device.cc:1154] Metal device set to: Apple M2\n",
      "2023-12-05 08:51:45.914362: I metal_plugin/src/device/metal_device.cc:296] systemMemory: 16.00 GB\n",
      "2023-12-05 08:51:45.914377: I metal_plugin/src/device/metal_device.cc:313] maxCacheSize: 5.33 GB\n",
      "2023-12-05 08:51:45.914435: I tensorflow/core/common_runtime/pluggable_device/pluggable_device_factory.cc:306] Could not identify NUMA node of platform GPU ID 0, defaulting to 0. Your kernel may not have been built with NUMA support.\n",
      "2023-12-05 08:51:45.914468: I tensorflow/core/common_runtime/pluggable_device/pluggable_device_factory.cc:272] Created TensorFlow device (/job:localhost/replica:0/task:0/device:GPU:0 with 0 MB memory) -> physical PluggableDevice (device: 0, name: METAL, pci bus id: <undefined>)\n"
     ]
    }
   ],
   "source": [
    "try:\n",
    "    tpu = tf.distribute.cluster_resolver.TPUClusterResolver() # TPU detection\n",
    "except ValueError:\n",
    "    tpu = None\n",
    "    gpus = tf.config.experimental.list_logical_devices(\"GPU\")\n",
    "    \n",
    "if tpu:\n",
    "    tf.tpu.experimental.initialize_tpu_system(tpu)\n",
    "    strategy = tf.distribute.experimental.TPUStrategy(tpu,) \n",
    "    print('Running on TPU ', tpu.cluster_spec().as_dict())\n",
    "elif len(gpus) > 1:\n",
    "    strategy = tf.distribute.MirroredStrategy([gpu.name for gpu in gpus])\n",
    "    print('Running on multiple GPUs ', [gpu.name for gpu in gpus])\n",
    "elif len(gpus) == 1:\n",
    "    strategy = tf.distribute.get_strategy() \n",
    "    print('Running on single GPU ', gpus[0].name)\n",
    "else:\n",
    "    strategy = tf.distribute.get_strategy() \n",
    "    print('Running on CPU')\n",
    "print(\"Number of accelerators: \", strategy.num_replicas_in_sync)"
   ]
  },
  {
   "cell_type": "markdown",
   "id": "1b63d366",
   "metadata": {
    "papermill": {
     "duration": 0.011053,
     "end_time": "2023-11-25T02:19:23.115672",
     "exception": false,
     "start_time": "2023-11-25T02:19:23.104619",
     "status": "completed"
    },
    "tags": []
   },
   "source": [
    "* OnehotEncoder"
   ]
  },
  {
   "cell_type": "code",
   "execution_count": 10,
   "id": "fb4df417",
   "metadata": {
    "execution": {
     "iopub.execute_input": "2023-11-25T02:19:23.139757Z",
     "iopub.status.busy": "2023-11-25T02:19:23.139480Z",
     "iopub.status.idle": "2023-11-25T02:19:23.148561Z",
     "shell.execute_reply": "2023-11-25T02:19:23.147739Z"
    },
    "papermill": {
     "duration": 0.023727,
     "end_time": "2023-11-25T02:19:23.150114",
     "exception": false,
     "start_time": "2023-11-25T02:19:23.126387",
     "status": "completed"
    },
    "tags": []
   },
   "outputs": [],
   "source": [
    "y_train = tf.keras.utils.to_categorical(y_train)"
   ]
  },
  {
   "cell_type": "markdown",
   "id": "707fb535",
   "metadata": {
    "papermill": {
     "duration": 0.010478,
     "end_time": "2023-11-25T02:19:23.171181",
     "exception": false,
     "start_time": "2023-11-25T02:19:23.160703",
     "status": "completed"
    },
    "tags": []
   },
   "source": [
    "* Build Model"
   ]
  },
  {
   "cell_type": "code",
   "execution_count": 11,
   "id": "34322dbc",
   "metadata": {
    "execution": {
     "iopub.execute_input": "2023-11-25T02:19:23.193693Z",
     "iopub.status.busy": "2023-11-25T02:19:23.193430Z",
     "iopub.status.idle": "2023-11-25T02:19:49.174662Z",
     "shell.execute_reply": "2023-11-25T02:19:49.173720Z"
    },
    "papermill": {
     "duration": 25.995324,
     "end_time": "2023-11-25T02:19:49.176803",
     "exception": false,
     "start_time": "2023-11-25T02:19:23.181479",
     "status": "completed"
    },
    "tags": []
   },
   "outputs": [
    {
     "name": "stderr",
     "output_type": "stream",
     "text": [
      "Some layers from the model checkpoint at vinai/phobert-base were not used when initializing TFRobertaModel: ['lm_head']\n",
      "- This IS expected if you are initializing TFRobertaModel from the checkpoint of a model trained on another task or with another architecture (e.g. initializing a BertForSequenceClassification model from a BertForPreTraining model).\n",
      "- This IS NOT expected if you are initializing TFRobertaModel from the checkpoint of a model that you expect to be exactly identical (initializing a BertForSequenceClassification model from a BertForSequenceClassification model).\n",
      "All the layers of TFRobertaModel were initialized from the model checkpoint at vinai/phobert-base.\n",
      "If your task is similar to the task the model of the checkpoint was trained on, you can already use TFRobertaModel for predictions without further training.\n"
     ]
    }
   ],
   "source": [
    "with strategy.scope():\n",
    "    encoder = TFAutoModel.from_pretrained(model_name)\n",
    "\n",
    "    input_ids = Input(shape=(MAX_LEN,), dtype=tf.int32)\n",
    "\n",
    "    # Extract features with phoBert\n",
    "    embedding = encoder(input_ids)[0]\n",
    "\n",
    "    # Add LSTM layer\n",
    "    lstm_layer = LSTM(units=64, return_sequences=True)(embedding)\n",
    "\n",
    "    # Add CNN layers after LSTM\n",
    "    cnn_layer = Conv1D(filters=64, kernel_size=3, activation='relu')(lstm_layer)\n",
    "    cnn_layer = Conv1D(filters=32, kernel_size=3, activation='relu')(cnn_layer)\n",
    "    cnn_layer = BatchNormalization()(cnn_layer)\n",
    "\n",
    "    # Flatten or pool the output of the CNN if necessary\n",
    "    # Depending on your data, you might need a GlobalMaxPooling1D or Flatten layer here\n",
    "    cnn_output = GlobalMaxPooling1D()(cnn_layer)\n",
    "\n",
    "    x = Dense(256, activation='relu', kernel_regularizer=regularizers.L2(0.1))(cnn_output)\n",
    "    x = Dropout(0.2)(x)\n",
    "\n",
    "    # Output layer\n",
    "    output = Dense(y_train.shape[1], activation='softmax', name='output')(x)\n",
    "\n",
    "    # Create model\n",
    "    model_rating = Model(inputs=input_ids, outputs=output)\n"
   ]
  },
  {
   "cell_type": "code",
   "execution_count": 12,
   "id": "0474a96a",
   "metadata": {
    "execution": {
     "iopub.execute_input": "2023-11-25T02:19:49.202007Z",
     "iopub.status.busy": "2023-11-25T02:19:49.201748Z",
     "iopub.status.idle": "2023-11-25T02:19:49.242734Z",
     "shell.execute_reply": "2023-11-25T02:19:49.241937Z"
    },
    "papermill": {
     "duration": 0.055568,
     "end_time": "2023-11-25T02:19:49.244515",
     "exception": false,
     "start_time": "2023-11-25T02:19:49.188947",
     "status": "completed"
    },
    "tags": []
   },
   "outputs": [
    {
     "name": "stdout",
     "output_type": "stream",
     "text": [
      "Model: \"model\"\n",
      "_________________________________________________________________\n",
      " Layer (type)                Output Shape              Param #   \n",
      "=================================================================\n",
      " input_1 (InputLayer)        [(None, 200)]             0         \n",
      "                                                                 \n",
      " tf_roberta_model (TFRobert  TFBaseModelOutputWithPo   134998272 \n",
      " aModel)                     olingAndCrossAttentions             \n",
      "                             (last_hidden_state=(Non             \n",
      "                             e, 200, 768),                       \n",
      "                              pooler_output=(None, 7             \n",
      "                             68),                                \n",
      "                              past_key_values=None,              \n",
      "                             hidden_states=None, att             \n",
      "                             entions=None, cross_att             \n",
      "                             entions=None)                       \n",
      "                                                                 \n",
      " lstm (LSTM)                 (None, 200, 64)           213248    \n",
      "                                                                 \n",
      " conv1d (Conv1D)             (None, 198, 64)           12352     \n",
      "                                                                 \n",
      " conv1d_1 (Conv1D)           (None, 196, 32)           6176      \n",
      "                                                                 \n",
      " batch_normalization (Batch  (None, 196, 32)           128       \n",
      " Normalization)                                                  \n",
      "                                                                 \n",
      " global_max_pooling1d (Glob  (None, 32)                0         \n",
      " alMaxPooling1D)                                                 \n",
      "                                                                 \n",
      " dense (Dense)               (None, 256)               8448      \n",
      "                                                                 \n",
      " dropout_37 (Dropout)        (None, 256)               0         \n",
      "                                                                 \n",
      " output (Dense)              (None, 31)                7967      \n",
      "                                                                 \n",
      "=================================================================\n",
      "Total params: 135246591 (515.92 MB)\n",
      "Trainable params: 135246527 (515.92 MB)\n",
      "Non-trainable params: 64 (256.00 Byte)\n",
      "_________________________________________________________________\n"
     ]
    }
   ],
   "source": [
    "model_rating.summary()"
   ]
  },
  {
   "cell_type": "code",
   "execution_count": 13,
   "metadata": {},
   "outputs": [
    {
     "data": {
      "image/png": "[encoded data removed]",
      "text/plain": [
       "<IPython.core.display.Image object>"
      ]
     },
     "execution_count": 13,
     "metadata": {},
     "output_type": "execute_result"
    }
   ],
   "source": [
    "from tensorflow.keras.utils import plot_model\n",
    "plot_model(model_rating, to_file='model_rating.png', show_shapes=True, show_layer_names=True)"
   ]
  },
  {
   "cell_type": "markdown",
   "id": "7978547d",
   "metadata": {
    "papermill": {
     "duration": 0.013379,
     "end_time": "2023-11-25T02:19:49.271669",
     "exception": false,
     "start_time": "2023-11-25T02:19:49.258290",
     "status": "completed"
    },
    "tags": []
   },
   "source": [
    "* Optimize"
   ]
  },
  {
   "cell_type": "code",
   "execution_count": 17,
   "id": "4db3a451",
   "metadata": {
    "execution": {
     "iopub.execute_input": "2023-11-25T02:19:49.300125Z",
     "iopub.status.busy": "2023-11-25T02:19:49.299882Z",
     "iopub.status.idle": "2023-11-25T02:19:49.313645Z",
     "shell.execute_reply": "2023-11-25T02:19:49.312905Z"
    },
    "papermill": {
     "duration": 0.029941,
     "end_time": "2023-11-25T02:19:49.315349",
     "exception": false,
     "start_time": "2023-11-25T02:19:49.285408",
     "status": "completed"
    },
    "tags": []
   },
   "outputs": [],
   "source": [
    "class MyExponentialDecay(tf.keras.optimizers.schedules.ExponentialDecay):\n",
    "  def __call__(self, step):\n",
    "    return 1e-2 * super().__call__(step)\n",
    "\n",
    "step = tf.Variable(0, trainable=False)\n",
    "schedule = tf.optimizers.schedules.PiecewiseConstantDecay(\n",
    "    [10000, 15000], [1e-3, 1e-4, 1e-5])\n",
    "\n",
    "initial_learning_rate=0.01\n",
    "\n",
    "wd = MyExponentialDecay(\n",
    "    initial_learning_rate,\n",
    "    decay_steps=14,\n",
    "    decay_rate=0.8,\n",
    "    staircase=True)\n",
    "lr = 1e2 * schedule(step)"
   ]
  },
  {
   "cell_type": "code",
   "execution_count": 18,
   "id": "3b8b2ef4",
   "metadata": {
    "execution": {
     "iopub.execute_input": "2023-11-25T02:19:49.343556Z",
     "iopub.status.busy": "2023-11-25T02:19:49.343292Z",
     "iopub.status.idle": "2023-11-25T02:19:49.436372Z",
     "shell.execute_reply": "2023-11-25T02:19:49.435654Z"
    },
    "papermill": {
     "duration": 0.10951,
     "end_time": "2023-11-25T02:19:49.438191",
     "exception": false,
     "start_time": "2023-11-25T02:19:49.328681",
     "status": "completed"
    },
    "tags": []
   },
   "outputs": [],
   "source": [
    "model_rating.compile(\n",
    "    optimizer=tfa.optimizers.AdamW(weight_decay=wd,\n",
    "                                  learning_rate=lr),\n",
    "    loss=tf.keras.losses.CategoricalCrossentropy(),\n",
    "    metrics=['accuracy'])\n"
   ]
  },
  {
   "cell_type": "code",
   "execution_count": 19,
   "id": "506814ed",
   "metadata": {
    "execution": {
     "iopub.execute_input": "2023-11-25T02:19:49.467336Z",
     "iopub.status.busy": "2023-11-25T02:19:49.467037Z",
     "iopub.status.idle": "2023-11-25T02:19:49.471045Z",
     "shell.execute_reply": "2023-11-25T02:19:49.470410Z"
    },
    "papermill": {
     "duration": 0.020457,
     "end_time": "2023-11-25T02:19:49.472530",
     "exception": false,
     "start_time": "2023-11-25T02:19:49.452073",
     "status": "completed"
    },
    "tags": []
   },
   "outputs": [],
   "source": [
    "# Lưu mô hình tốt nhất\n",
    "cp_callback = ModelCheckpoint(filepath='pho_rating.h5',\n",
    "                              save_best_only=True,\n",
    "                              monitor='accuracy',\n",
    "                              mode='max',\n",
    "                              verbose=1)\n",
    "\n",
    "# Dừng sớm khi không có quá nhiều thay đổi\n",
    "es_callback = EarlyStopping(\n",
    "    monitor='accuracy', \n",
    "    patience=15,\n",
    "    mode='max')"
   ]
  },
  {
   "cell_type": "code",
   "execution_count": 20,
   "id": "184a8901",
   "metadata": {
    "execution": {
     "iopub.execute_input": "2023-11-25T02:19:49.500951Z",
     "iopub.status.busy": "2023-11-25T02:19:49.500712Z",
     "iopub.status.idle": "2023-11-25T02:19:49.503896Z",
     "shell.execute_reply": "2023-11-25T02:19:49.503218Z"
    },
    "papermill": {
     "duration": 0.019211,
     "end_time": "2023-11-25T02:19:49.505470",
     "exception": false,
     "start_time": "2023-11-25T02:19:49.486259",
     "status": "completed"
    },
    "tags": []
   },
   "outputs": [],
   "source": [
    "# Setup tham số\n",
    "epochs = 30\n",
    "batch_size = 512\n",
    "validation_split = 0.2"
   ]
  },
  {
   "cell_type": "markdown",
   "id": "aa48fc22",
   "metadata": {
    "papermill": {
     "duration": 0.013275,
     "end_time": "2023-11-25T02:19:49.532173",
     "exception": false,
     "start_time": "2023-11-25T02:19:49.518898",
     "status": "completed"
    },
    "tags": []
   },
   "source": [
    "* Training"
   ]
  },
  {
   "cell_type": "code",
   "execution_count": 21,
   "id": "ca75f059",
   "metadata": {
    "execution": {
     "iopub.execute_input": "2023-11-25T02:19:49.560602Z",
     "iopub.status.busy": "2023-11-25T02:19:49.560374Z",
     "iopub.status.idle": "2023-11-25T04:01:52.405009Z",
     "shell.execute_reply": "2023-11-25T04:01:52.403743Z"
    },
    "papermill": {
     "duration": 6123.502285,
     "end_time": "2023-11-25T04:01:53.048196",
     "exception": false,
     "start_time": "2023-11-25T02:19:49.545911",
     "status": "completed"
    },
    "tags": []
   },
   "outputs": [
    {
     "name": "stdout",
     "output_type": "stream",
     "text": [
      "Epoch 1/30\n"
     ]
    },
    {
     "name": "stderr",
     "output_type": "stream",
     "text": [
      "2023-11-25 02:19:51.158775: E ./tensorflow/compiler/xla/stream_executor/stream_executor_internal.h:124] SetPriority unimplemented for this stream.\n",
      "2023-11-25 02:19:51.177137: E ./tensorflow/compiler/xla/stream_executor/stream_executor_internal.h:124] SetPriority unimplemented for this stream.\n",
      "2023-11-25 02:19:51.194578: E ./tensorflow/compiler/xla/stream_executor/stream_executor_internal.h:124] SetPriority unimplemented for this stream.\n",
      "2023-11-25 02:19:51.211785: E ./tensorflow/compiler/xla/stream_executor/stream_executor_internal.h:124] SetPriority unimplemented for this stream.\n",
      "2023-11-25 02:19:51.229725: E ./tensorflow/compiler/xla/stream_executor/stream_executor_internal.h:124] SetPriority unimplemented for this stream.\n",
      "2023-11-25 02:19:51.247699: E ./tensorflow/compiler/xla/stream_executor/stream_executor_internal.h:124] SetPriority unimplemented for this stream.\n",
      "2023-11-25 02:19:51.266302: E ./tensorflow/compiler/xla/stream_executor/stream_executor_internal.h:124] SetPriority unimplemented for this stream.\n"
     ]
    },
    {
     "name": "stdout",
     "output_type": "stream",
     "text": [
      "WARNING:tensorflow:Gradients do not exist for variables ['tf_roberta_model/roberta/pooler/dense/kernel:0', 'tf_roberta_model/roberta/pooler/dense/bias:0'] when minimizing the loss. If you're using `model.compile()`, did you forget to provide a `loss` argument?\n"
     ]
    },
    {
     "name": "stderr",
     "output_type": "stream",
     "text": [
      "WARNING:tensorflow:Gradients do not exist for variables ['tf_roberta_model/roberta/pooler/dense/kernel:0', 'tf_roberta_model/roberta/pooler/dense/bias:0'] when minimizing the loss. If you're using `model.compile()`, did you forget to provide a `loss` argument?\n"
     ]
    },
    {
     "name": "stdout",
     "output_type": "stream",
     "text": [
      "WARNING:tensorflow:Gradients do not exist for variables ['tf_roberta_model/roberta/pooler/dense/kernel:0', 'tf_roberta_model/roberta/pooler/dense/bias:0'] when minimizing the loss. If you're using `model.compile()`, did you forget to provide a `loss` argument?\n"
     ]
    },
    {
     "name": "stderr",
     "output_type": "stream",
     "text": [
      "WARNING:tensorflow:Gradients do not exist for variables ['tf_roberta_model/roberta/pooler/dense/kernel:0', 'tf_roberta_model/roberta/pooler/dense/bias:0'] when minimizing the loss. If you're using `model.compile()`, did you forget to provide a `loss` argument?\n",
      "2023-11-25 02:20:41.260175: E tensorflow/core/grappler/optimizers/meta_optimizer.cc:961] model_pruner failed: INVALID_ARGUMENT: Graph does not contain terminal node AdamW/AdamW/AssignAddVariableOp.\n",
      "2023-11-25 02:20:45.752774: E ./tensorflow/compiler/xla/stream_executor/stream_executor_internal.h:124] SetPriority unimplemented for this stream.\n",
      "2023-11-25 02:20:45.756280: E ./tensorflow/compiler/xla/stream_executor/stream_executor_internal.h:124] SetPriority unimplemented for this stream.\n",
      "2023-11-25 02:20:45.756773: E ./tensorflow/compiler/xla/stream_executor/stream_executor_internal.h:124] SetPriority unimplemented for this stream.\n",
      "2023-11-25 02:20:45.757570: E ./tensorflow/compiler/xla/stream_executor/stream_executor_internal.h:124] SetPriority unimplemented for this stream.\n",
      "2023-11-25 02:20:45.757756: E ./tensorflow/compiler/xla/stream_executor/stream_executor_internal.h:124] SetPriority unimplemented for this stream.\n",
      "2023-11-25 02:21:44.241535: E ./tensorflow/compiler/xla/stream_executor/stream_executor_internal.h:124] SetPriority unimplemented for this stream.\n",
      "2023-11-25 02:21:44.242068: E ./tensorflow/compiler/xla/stream_executor/stream_executor_internal.h:124] SetPriority unimplemented for this stream.\n",
      "2023-11-25 02:21:44.242670: E ./tensorflow/compiler/xla/stream_executor/stream_executor_internal.h:124] SetPriority unimplemented for this stream.\n",
      "2023-11-25 02:21:44.242793: E ./tensorflow/compiler/xla/stream_executor/stream_executor_internal.h:124] SetPriority unimplemented for this stream.\n",
      "2023-11-25 02:21:44.242873: E ./tensorflow/compiler/xla/stream_executor/stream_executor_internal.h:124] SetPriority unimplemented for this stream.\n",
      "2023-11-25 02:21:44.243129: E ./tensorflow/compiler/xla/stream_executor/stream_executor_internal.h:124] SetPriority unimplemented for this stream.\n",
      "2023-11-25 02:21:44.243311: E ./tensorflow/compiler/xla/stream_executor/stream_executor_internal.h:124] SetPriority unimplemented for this stream.\n",
      "2023-11-25 02:21:44.243415: E ./tensorflow/compiler/xla/stream_executor/stream_executor_internal.h:124] SetPriority unimplemented for this stream.\n"
     ]
    },
    {
     "name": "stdout",
     "output_type": "stream",
     "text": [
      "  1/702 [..............................] - ETA: 22:06:28 - loss: 7.9181 - accuracy: 0.0664"
     ]
    },
    {
     "name": "stderr",
     "output_type": "stream",
     "text": [
      "2023-11-25 02:21:44.835882: E ./tensorflow/compiler/xla/stream_executor/stream_executor_internal.h:124] SetPriority unimplemented for this stream.\n",
      "2023-11-25 02:21:44.836185: E ./tensorflow/compiler/xla/stream_executor/stream_executor_internal.h:124] SetPriority unimplemented for this stream.\n",
      "2023-11-25 02:21:44.837288: E ./tensorflow/compiler/xla/stream_executor/stream_executor_internal.h:124] SetPriority unimplemented for this stream.\n"
     ]
    },
    {
     "name": "stdout",
     "output_type": "stream",
     "text": [
      " 11/702 [..............................] - ETA: 5:24 - loss: 13.6363 - accuracy: 0.5890"
     ]
    },
    {
     "name": "stderr",
     "output_type": "stream",
     "text": [
      "2023-11-25 02:21:49.536938: E ./tensorflow/compiler/xla/stream_executor/stream_executor_internal.h:124] SetPriority unimplemented for this stream.\n"
     ]
    },
    {
     "name": "stdout",
     "output_type": "stream",
     "text": [
      " 44/702 [>.............................] - ETA: 5:06 - loss: 6.9071 - accuracy: 0.7664"
     ]
    },
    {
     "name": "stderr",
     "output_type": "stream",
     "text": [
      "2023-11-25 02:22:04.848430: E ./tensorflow/compiler/xla/stream_executor/stream_executor_internal.h:124] SetPriority unimplemented for this stream.\n"
     ]
    },
    {
     "name": "stdout",
     "output_type": "stream",
     "text": [
      " 50/702 [=>............................] - ETA: 5:03 - loss: 6.1994 - accuracy: 0.7757"
     ]
    },
    {
     "name": "stderr",
     "output_type": "stream",
     "text": [
      "2023-11-25 02:22:07.617619: E ./tensorflow/compiler/xla/stream_executor/stream_executor_internal.h:124] SetPriority unimplemented for this stream.\n"
     ]
    },
    {
     "name": "stdout",
     "output_type": "stream",
     "text": [
      " 55/702 [=>............................] - ETA: 5:00 - loss: 5.7098 - accuracy: 0.7824"
     ]
    },
    {
     "name": "stderr",
     "output_type": "stream",
     "text": [
      "2023-11-25 02:22:09.939202: E ./tensorflow/compiler/xla/stream_executor/stream_executor_internal.h:124] SetPriority unimplemented for this stream.\n"
     ]
    },
    {
     "name": "stdout",
     "output_type": "stream",
     "text": [
      "253/702 [=========>....................] - ETA: 3:28 - loss: 1.7016 - accuracy: 0.8386"
     ]
    },
    {
     "name": "stderr",
     "output_type": "stream",
     "text": [
      "2023-11-25 02:23:41.750009: E ./tensorflow/compiler/xla/stream_executor/stream_executor_internal.h:124] SetPriority unimplemented for this stream.\n"
     ]
    },
    {
     "name": "stdout",
     "output_type": "stream",
     "text": [
      "275/702 [==========>...................] - ETA: 3:18 - loss: 1.6115 - accuracy: 0.8399"
     ]
    },
    {
     "name": "stderr",
     "output_type": "stream",
     "text": [
      "2023-11-25 02:23:52.030415: E ./tensorflow/compiler/xla/stream_executor/stream_executor_internal.h:124] SetPriority unimplemented for this stream.\n",
      "2023-11-25 02:23:52.039468: E ./tensorflow/compiler/xla/stream_executor/stream_executor_internal.h:124] SetPriority unimplemented for this stream.\n"
     ]
    },
    {
     "name": "stdout",
     "output_type": "stream",
     "text": [
      "702/702 [==============================] - ETA: 0s - loss: 0.9852 - accuracy: 0.8476"
     ]
    },
    {
     "name": "stderr",
     "output_type": "stream",
     "text": [
      "2023-11-25 02:28:18.851025: E tensorflow/core/grappler/optimizers/meta_optimizer.cc:961] model_pruner failed: INVALID_ARGUMENT: Graph does not contain terminal node AssignAddVariableOp.\n"
     ]
    },
    {
     "name": "stdout",
     "output_type": "stream",
     "text": [
      "\n",
      "Epoch 1: accuracy improved from -inf to 0.84757, saving model to pho_rating.h5\n",
      "702/702 [==============================] - 580s 666ms/step - loss: 0.9852 - accuracy: 0.8476 - val_loss: 0.5785 - val_accuracy: 0.8533\n",
      "Epoch 2/30\n",
      "702/702 [==============================] - ETA: 0s - loss: 0.5807 - accuracy: 0.8528\n",
      "Epoch 2: accuracy improved from 0.84757 to 0.85280, saving model to pho_rating.h5\n",
      "702/702 [==============================] - 360s 513ms/step - loss: 0.5807 - accuracy: 0.8528 - val_loss: 0.5786 - val_accuracy: 0.8533\n",
      "Epoch 3/30\n",
      "702/702 [==============================] - ETA: 0s - loss: 0.5812 - accuracy: 0.8528\n",
      "Epoch 3: accuracy did not improve from 0.85280\n",
      "702/702 [==============================] - 346s 492ms/step - loss: 0.5812 - accuracy: 0.8528 - val_loss: 0.5790 - val_accuracy: 0.8533\n",
      "Epoch 4/30\n",
      "702/702 [==============================] - ETA: 0s - loss: 0.5815 - accuracy: 0.8528\n",
      "Epoch 4: accuracy did not improve from 0.85280\n",
      "702/702 [==============================] - 346s 493ms/step - loss: 0.5815 - accuracy: 0.8528 - val_loss: 0.5812 - val_accuracy: 0.8533\n",
      "Epoch 5/30\n",
      "702/702 [==============================] - ETA: 0s - loss: 0.5817 - accuracy: 0.8528\n",
      "Epoch 5: accuracy did not improve from 0.85280\n",
      "702/702 [==============================] - 346s 493ms/step - loss: 0.5817 - accuracy: 0.8528 - val_loss: 0.5795 - val_accuracy: 0.8533\n",
      "Epoch 6/30\n",
      "702/702 [==============================] - ETA: 0s - loss: 0.5815 - accuracy: 0.8528\n",
      "Epoch 6: accuracy did not improve from 0.85280\n",
      "702/702 [==============================] - 346s 493ms/step - loss: 0.5815 - accuracy: 0.8528 - val_loss: 0.5791 - val_accuracy: 0.8533\n",
      "Epoch 7/30\n",
      "702/702 [==============================] - ETA: 0s - loss: 0.5818 - accuracy: 0.8528\n",
      "Epoch 7: accuracy did not improve from 0.85280\n",
      "702/702 [==============================] - 345s 492ms/step - loss: 0.5818 - accuracy: 0.8528 - val_loss: 0.5790 - val_accuracy: 0.8533\n",
      "Epoch 8/30\n",
      "702/702 [==============================] - ETA: 0s - loss: 0.5817 - accuracy: 0.8528\n",
      "Epoch 8: accuracy did not improve from 0.85280\n",
      "702/702 [==============================] - 345s 492ms/step - loss: 0.5817 - accuracy: 0.8528 - val_loss: 0.5795 - val_accuracy: 0.8533\n",
      "Epoch 9/30\n",
      "702/702 [==============================] - ETA: 0s - loss: 0.5819 - accuracy: 0.8528\n",
      "Epoch 9: accuracy did not improve from 0.85280\n",
      "702/702 [==============================] - 346s 492ms/step - loss: 0.5819 - accuracy: 0.8528 - val_loss: 0.5843 - val_accuracy: 0.8533\n",
      "Epoch 10/30\n",
      "702/702 [==============================] - ETA: 0s - loss: 0.5817 - accuracy: 0.8528\n",
      "Epoch 10: accuracy did not improve from 0.85280\n",
      "702/702 [==============================] - 345s 492ms/step - loss: 0.5817 - accuracy: 0.8528 - val_loss: 0.5806 - val_accuracy: 0.8533\n",
      "Epoch 11/30\n",
      "702/702 [==============================] - ETA: 0s - loss: 0.5816 - accuracy: 0.8528\n",
      "Epoch 11: accuracy did not improve from 0.85280\n",
      "702/702 [==============================] - 345s 491ms/step - loss: 0.5816 - accuracy: 0.8528 - val_loss: 0.5808 - val_accuracy: 0.8533\n",
      "Epoch 12/30\n",
      "702/702 [==============================] - ETA: 0s - loss: 0.5816 - accuracy: 0.8528\n",
      "Epoch 12: accuracy did not improve from 0.85280\n",
      "702/702 [==============================] - 345s 492ms/step - loss: 0.5816 - accuracy: 0.8528 - val_loss: 0.5808 - val_accuracy: 0.8533\n",
      "Epoch 13/30\n",
      "702/702 [==============================] - ETA: 0s - loss: 0.5817 - accuracy: 0.8528\n",
      "Epoch 13: accuracy did not improve from 0.85280\n",
      "702/702 [==============================] - 345s 492ms/step - loss: 0.5817 - accuracy: 0.8528 - val_loss: 0.5814 - val_accuracy: 0.8533\n",
      "Epoch 14/30\n",
      "702/702 [==============================] - ETA: 0s - loss: 0.5815 - accuracy: 0.8528\n",
      "Epoch 14: accuracy did not improve from 0.85280\n",
      "702/702 [==============================] - 345s 491ms/step - loss: 0.5815 - accuracy: 0.8528 - val_loss: 0.5810 - val_accuracy: 0.8533\n",
      "Epoch 15/30\n",
      "702/702 [==============================] - ETA: 0s - loss: 0.5816 - accuracy: 0.8528\n",
      "Epoch 15: accuracy did not improve from 0.85280\n",
      "702/702 [==============================] - 345s 491ms/step - loss: 0.5816 - accuracy: 0.8528 - val_loss: 0.5809 - val_accuracy: 0.8533\n",
      "Epoch 16/30\n",
      "702/702 [==============================] - ETA: 0s - loss: 0.5817 - accuracy: 0.8528\n",
      "Epoch 16: accuracy did not improve from 0.85280\n",
      "702/702 [==============================] - 345s 491ms/step - loss: 0.5817 - accuracy: 0.8528 - val_loss: 0.5790 - val_accuracy: 0.8533\n",
      "Epoch 17/30\n",
      "702/702 [==============================] - ETA: 0s - loss: 0.5818 - accuracy: 0.8528\n",
      "Epoch 17: accuracy did not improve from 0.85280\n",
      "702/702 [==============================] - 345s 492ms/step - loss: 0.5818 - accuracy: 0.8528 - val_loss: 0.5793 - val_accuracy: 0.8533\n"
     ]
    }
   ],
   "source": [
    "# Sử dụng dữ liệu đã resample để train mô hình\n",
    "history = model_rating.fit(\n",
    "    X_train,\n",
    "    y_train,\n",
    "    epochs=epochs,\n",
    "    validation_split=validation_split,\n",
    "    batch_size=batch_size,\n",
    "    callbacks=[cp_callback, es_callback],\n",
    "    verbose=1)\n"
   ]
  },
  {
   "cell_type": "markdown",
   "id": "3b440e6c",
   "metadata": {
    "papermill": {
     "duration": 0.711999,
     "end_time": "2023-11-25T04:01:54.450199",
     "exception": false,
     "start_time": "2023-11-25T04:01:53.738200",
     "status": "completed"
    },
    "tags": []
   },
   "source": [
    "* Vẽ biểu đồ"
   ]
  },
  {
   "cell_type": "code",
   "execution_count": 22,
   "id": "6c0b658b",
   "metadata": {
    "execution": {
     "iopub.execute_input": "2023-11-25T04:01:55.782731Z",
     "iopub.status.busy": "2023-11-25T04:01:55.781689Z",
     "iopub.status.idle": "2023-11-25T04:01:56.123175Z",
     "shell.execute_reply": "2023-11-25T04:01:56.122220Z"
    },
    "papermill": {
     "duration": 1.027429,
     "end_time": "2023-11-25T04:01:56.124931",
     "exception": false,
     "start_time": "2023-11-25T04:01:55.097502",
     "status": "completed"
    },
    "tags": []
   },
   "outputs": [
    {
     "data": {
      "image/png": "[encoded data removed]",
      "text/plain": [
       "<Figure size 1600x500 with 2 Axes>"
      ]
     },
     "metadata": {},
     "output_type": "display_data"
    }
   ],
   "source": [
    "loss = history.history['loss']\n",
    "acc = history.history['accuracy']\n",
    "val_loss = history.history['val_loss']\n",
    "val_acc = history.history['val_accuracy']\n",
    "\n",
    "epochs = range(1, len(loss) + 1)\n",
    "\n",
    "plt.figure(figsize=(16, 5))\n",
    "# Accuracy\n",
    "plt.subplot(1,2,1)\n",
    "plt.plot(epochs, acc, 'b', label = 'Training accuracy')\n",
    "plt.plot(epochs, val_acc, 'r', label = 'Validation accuracy')\n",
    "plt.legend()\n",
    "\n",
    "# Loss\n",
    "plt.subplot(1,2,2)\n",
    "plt.plot(epochs, loss, 'b', label = 'Trainig loss')\n",
    "plt.plot(epochs, val_loss, 'r', label = 'Validation loss')\n",
    "plt.legend()\n",
    "\n",
    "plt.show()"
   ]
  },
  {
   "cell_type": "code",
   "execution_count": 23,
   "id": "0fd8e6b2",
   "metadata": {
    "execution": {
     "iopub.execute_input": "2023-11-25T04:01:57.482770Z",
     "iopub.status.busy": "2023-11-25T04:01:57.482380Z",
     "iopub.status.idle": "2023-11-25T04:03:07.307976Z",
     "shell.execute_reply": "2023-11-25T04:03:07.306758Z"
    },
    "papermill": {
     "duration": 71.192086,
     "end_time": "2023-11-25T04:03:07.991703",
     "exception": false,
     "start_time": "2023-11-25T04:01:56.799617",
     "status": "completed"
    },
    "tags": []
   },
   "outputs": [
    {
     "name": "stdout",
     "output_type": "stream",
     "text": [
      "Evaluate on test data\n",
      "439/439 [==============================] - 69s 122ms/step - loss: 0.5863 - accuracy: 0.8511\n",
      "test loss, test acc: [0.5863485336303711, 0.8510516881942749]\n"
     ]
    }
   ],
   "source": [
    "y_test = tf.keras.utils.to_categorical(y_test)\n",
    "print(\"Evaluate on test data\")\n",
    "results = model_rating.evaluate(X_test, y_test, batch_size=256)\n",
    "print(\"test loss, test acc:\", results)"
   ]
  },
  {
   "cell_type": "code",
   "execution_count": null,
   "id": "51636264",
   "metadata": {
    "papermill": {
     "duration": 0.704503,
     "end_time": "2023-11-25T04:03:09.360420",
     "exception": false,
     "start_time": "2023-11-25T04:03:08.655917",
     "status": "completed"
    },
    "tags": []
   },
   "outputs": [],
   "source": []
  }
 ],
 "metadata": {
  "kaggle": {
   "accelerator": "tpu1vmV38",
   "dataSources": [
    {
     "datasetId": 4038302,
     "sourceId": 7022603,
     "sourceType": "datasetVersion"
    },
    {
     "datasetId": 4044456,
     "sourceId": 7031465,
     "sourceType": "datasetVersion"
    },
    {
     "datasetId": 4044827,
     "sourceId": 7031990,
     "sourceType": "datasetVersion"
    },
    {
     "datasetId": 4054964,
     "sourceId": 7046726,
     "sourceType": "datasetVersion"
    }
   ],
   "isGpuEnabled": false,
   "isInternetEnabled": true,
   "language": "python",
   "sourceType": "notebook"
  },
  "kernelspec": {
   "display_name": "Python 3",
   "language": "python",
   "name": "python3"
  },
  "language_info": {
   "codemirror_mode": {
    "name": "ipython",
    "version": 3
   },
   "file_extension": ".py",
   "mimetype": "text/x-python",
   "name": "python",
   "nbconvert_exporter": "python",
   "pygments_lexer": "ipython3",
   "version": "3.11.2"
  },
  "papermill": {
   "default_parameters": {},
   "duration": 6396.500478,
   "end_time": "2023-11-25T04:03:17.995852",
   "environment_variables": {},
   "exception": null,
   "input_path": "__notebook__.ipynb",
   "output_path": "__notebook__.ipynb",
   "parameters": {},
   "start_time": "2023-11-25T02:16:41.495374",
   "version": "2.5.0"
  }
 },
 "nbformat": 4,
 "nbformat_minor": 5
}
