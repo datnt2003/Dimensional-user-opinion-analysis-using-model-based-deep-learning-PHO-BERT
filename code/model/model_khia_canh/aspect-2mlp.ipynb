{
 "cells": [
  {
   "cell_type": "code",
   "execution_count": 1,
   "id": "f26b42f7",
   "metadata": {
    "_cell_guid": "b1076dfc-b9ad-4769-8c92-a6c4dae69d19",
    "_uuid": "8f2839f25d086af736a60e9eeb907d3b93b6e0e5",
    "execution": {
     "iopub.execute_input": "2023-11-25T00:11:38.056355Z",
     "iopub.status.busy": "2023-11-25T00:11:38.056006Z",
     "iopub.status.idle": "2023-11-25T00:12:02.154501Z",
     "shell.execute_reply": "2023-11-25T00:12:02.153745Z"
    },
    "papermill": {
     "duration": 24.108235,
     "end_time": "2023-11-25T00:12:02.156845",
     "exception": false,
     "start_time": "2023-11-25T00:11:38.048610",
     "status": "completed"
    },
    "tags": []
   },
   "outputs": [
    {
     "name": "stdout",
     "output_type": "stream",
     "text": [
      "Requirement already satisfied: pip in /usr/local/lib/python3.10/site-packages (23.0.1)\r\n",
      "Collecting pip\r\n",
      "  Downloading pip-23.3.1-py3-none-any.whl (2.1 MB)\r\n",
      "\u001b[2K     \u001b[90m━━━━━━━━━━━━━━━━━━━━━━━━━━━━━━━━━━━━━━━━\u001b[0m \u001b[32m2.1/2.1 MB\u001b[0m \u001b[31m22.5 MB/s\u001b[0m eta \u001b[36m0:00:00\u001b[0m\r\n",
      "\u001b[?25hInstalling collected packages: pip\r\n",
      "  Attempting uninstall: pip\r\n",
      "    Found existing installation: pip 23.0.1\r\n",
      "    Uninstalling pip-23.0.1:\r\n",
      "      Successfully uninstalled pip-23.0.1\r\n",
      "Successfully installed pip-23.3.1\r\n",
      "\u001b[33mWARNING: Running pip as the 'root' user can result in broken permissions and conflicting behaviour with the system package manager. It is recommended to use a virtual environment instead: https://pip.pypa.io/warnings/venv\u001b[0m\u001b[33m\r\n",
      "\u001b[0mRequirement already satisfied: tensorflow_addons in /usr/local/lib/python3.10/site-packages (0.22.0)\r\n",
      "Requirement already satisfied: packaging in /usr/local/lib/python3.10/site-packages (from tensorflow_addons) (23.2)\r\n",
      "Requirement already satisfied: typeguard<3.0.0,>=2.7 in /usr/local/lib/python3.10/site-packages (from tensorflow_addons) (2.13.3)\r\n",
      "\u001b[33mWARNING: Running pip as the 'root' user can result in broken permissions and conflicting behaviour with the system package manager. It is recommended to use a virtual environment instead: https://pip.pypa.io/warnings/venv\u001b[0m\u001b[33m\r\n",
      "\u001b[0mCollecting seaborn\r\n",
      "  Downloading seaborn-0.13.0-py3-none-any.whl.metadata (5.3 kB)\r\n",
      "Requirement already satisfied: numpy!=1.24.0,>=1.20 in /usr/local/lib/python3.10/site-packages (from seaborn) (1.26.1)\r\n",
      "Requirement already satisfied: pandas>=1.2 in /usr/local/lib/python3.10/site-packages (from seaborn) (2.1.3)\r\n",
      "Requirement already satisfied: matplotlib!=3.6.1,>=3.3 in /usr/local/lib/python3.10/site-packages (from seaborn) (3.8.1)\r\n",
      "Requirement already satisfied: contourpy>=1.0.1 in /usr/local/lib/python3.10/site-packages (from matplotlib!=3.6.1,>=3.3->seaborn) (1.2.0)\r\n",
      "Requirement already satisfied: cycler>=0.10 in /usr/local/lib/python3.10/site-packages (from matplotlib!=3.6.1,>=3.3->seaborn) (0.12.1)\r\n",
      "Requirement already satisfied: fonttools>=4.22.0 in /usr/local/lib/python3.10/site-packages (from matplotlib!=3.6.1,>=3.3->seaborn) (4.44.0)\r\n",
      "Requirement already satisfied: kiwisolver>=1.3.1 in /usr/local/lib/python3.10/site-packages (from matplotlib!=3.6.1,>=3.3->seaborn) (1.4.5)\r\n",
      "Requirement already satisfied: packaging>=20.0 in /usr/local/lib/python3.10/site-packages (from matplotlib!=3.6.1,>=3.3->seaborn) (23.2)\r\n",
      "Requirement already satisfied: pillow>=8 in /usr/local/lib/python3.10/site-packages (from matplotlib!=3.6.1,>=3.3->seaborn) (10.1.0)\r\n",
      "Requirement already satisfied: pyparsing>=2.3.1 in /usr/local/lib/python3.10/site-packages (from matplotlib!=3.6.1,>=3.3->seaborn) (3.1.1)\r\n",
      "Requirement already satisfied: python-dateutil>=2.7 in /usr/local/lib/python3.10/site-packages (from matplotlib!=3.6.1,>=3.3->seaborn) (2.8.2)\r\n",
      "Requirement already satisfied: pytz>=2020.1 in /usr/local/lib/python3.10/site-packages (from pandas>=1.2->seaborn) (2023.3.post1)\r\n",
      "Requirement already satisfied: tzdata>=2022.1 in /usr/local/lib/python3.10/site-packages (from pandas>=1.2->seaborn) (2023.3)\r\n",
      "Requirement already satisfied: six>=1.5 in /usr/local/lib/python3.10/site-packages (from python-dateutil>=2.7->matplotlib!=3.6.1,>=3.3->seaborn) (1.16.0)\r\n",
      "Downloading seaborn-0.13.0-py3-none-any.whl (294 kB)\r\n",
      "\u001b[2K   \u001b[90m━━━━━━━━━━━━━━━━━━━━━━━━━━━━━━━━━━━━━━━━\u001b[0m \u001b[32m294.6/294.6 kB\u001b[0m \u001b[31m4.5 MB/s\u001b[0m eta \u001b[36m0:00:00\u001b[0m\r\n",
      "\u001b[?25hInstalling collected packages: seaborn\r\n",
      "Successfully installed seaborn-0.13.0\r\n",
      "\u001b[33mWARNING: Running pip as the 'root' user can result in broken permissions and conflicting behaviour with the system package manager. It is recommended to use a virtual environment instead: https://pip.pypa.io/warnings/venv\u001b[0m\u001b[33m\r\n",
      "\u001b[0mRequirement already satisfied: transformers in /usr/local/lib/python3.10/site-packages (4.35.0)\r\n",
      "Requirement already satisfied: filelock in /usr/local/lib/python3.10/site-packages (from transformers) (3.13.1)\r\n",
      "Requirement already satisfied: huggingface-hub<1.0,>=0.16.4 in /usr/local/lib/python3.10/site-packages (from transformers) (0.17.3)\r\n",
      "Requirement already satisfied: numpy>=1.17 in /usr/local/lib/python3.10/site-packages (from transformers) (1.26.1)\r\n",
      "Requirement already satisfied: packaging>=20.0 in /usr/local/lib/python3.10/site-packages (from transformers) (23.2)\r\n",
      "Requirement already satisfied: pyyaml>=5.1 in /usr/local/lib/python3.10/site-packages (from transformers) (6.0.1)\r\n",
      "Requirement already satisfied: regex!=2019.12.17 in /usr/local/lib/python3.10/site-packages (from transformers) (2023.10.3)\r\n",
      "Requirement already satisfied: requests in /usr/local/lib/python3.10/site-packages (from transformers) (2.31.0)\r\n",
      "Requirement already satisfied: tokenizers<0.15,>=0.14 in /usr/local/lib/python3.10/site-packages (from transformers) (0.14.1)\r\n",
      "Requirement already satisfied: safetensors>=0.3.1 in /usr/local/lib/python3.10/site-packages (from transformers) (0.4.0)\r\n",
      "Requirement already satisfied: tqdm>=4.27 in /usr/local/lib/python3.10/site-packages (from transformers) (4.66.1)\r\n",
      "Requirement already satisfied: fsspec in /usr/local/lib/python3.10/site-packages (from huggingface-hub<1.0,>=0.16.4->transformers) (2023.10.0)\r\n",
      "Requirement already satisfied: typing-extensions>=3.7.4.3 in /usr/local/lib/python3.10/site-packages (from huggingface-hub<1.0,>=0.16.4->transformers) (4.8.0)\r\n",
      "Requirement already satisfied: charset-normalizer<4,>=2 in /usr/local/lib/python3.10/site-packages (from requests->transformers) (3.3.2)\r\n",
      "Requirement already satisfied: idna<4,>=2.5 in /usr/local/lib/python3.10/site-packages (from requests->transformers) (3.4)\r\n",
      "Requirement already satisfied: urllib3<3,>=1.21.1 in /usr/local/lib/python3.10/site-packages (from requests->transformers) (2.0.7)\r\n",
      "Requirement already satisfied: certifi>=2017.4.17 in /usr/local/lib/python3.10/site-packages (from requests->transformers) (2023.7.22)\r\n",
      "\u001b[33mWARNING: Running pip as the 'root' user can result in broken permissions and conflicting behaviour with the system package manager. It is recommended to use a virtual environment instead: https://pip.pypa.io/warnings/venv\u001b[0m\u001b[33m\r\n",
      "\u001b[0mRequirement already satisfied: scikit-learn in /usr/local/lib/python3.10/site-packages (1.3.2)\r\n",
      "Requirement already satisfied: numpy<2.0,>=1.17.3 in /usr/local/lib/python3.10/site-packages (from scikit-learn) (1.26.1)\r\n",
      "Requirement already satisfied: scipy>=1.5.0 in /usr/local/lib/python3.10/site-packages (from scikit-learn) (1.11.3)\r\n",
      "Requirement already satisfied: joblib>=1.1.1 in /usr/local/lib/python3.10/site-packages (from scikit-learn) (1.3.2)\r\n",
      "Requirement already satisfied: threadpoolctl>=2.0.0 in /usr/local/lib/python3.10/site-packages (from scikit-learn) (3.2.0)\r\n",
      "\u001b[33mWARNING: Running pip as the 'root' user can result in broken permissions and conflicting behaviour with the system package manager. It is recommended to use a virtual environment instead: https://pip.pypa.io/warnings/venv\u001b[0m\u001b[33m\r\n",
      "\u001b[0mCollecting imbalanced-learn\r\n",
      "  Downloading imbalanced_learn-0.11.0-py3-none-any.whl.metadata (8.3 kB)\r\n",
      "Requirement already satisfied: numpy>=1.17.3 in /usr/local/lib/python3.10/site-packages (from imbalanced-learn) (1.26.1)\r\n",
      "Requirement already satisfied: scipy>=1.5.0 in /usr/local/lib/python3.10/site-packages (from imbalanced-learn) (1.11.3)\r\n",
      "Requirement already satisfied: scikit-learn>=1.0.2 in /usr/local/lib/python3.10/site-packages (from imbalanced-learn) (1.3.2)\r\n",
      "Requirement already satisfied: joblib>=1.1.1 in /usr/local/lib/python3.10/site-packages (from imbalanced-learn) (1.3.2)\r\n",
      "Requirement already satisfied: threadpoolctl>=2.0.0 in /usr/local/lib/python3.10/site-packages (from imbalanced-learn) (3.2.0)\r\n",
      "Downloading imbalanced_learn-0.11.0-py3-none-any.whl (235 kB)\r\n",
      "\u001b[2K   \u001b[90m━━━━━━━━━━━━━━━━━━━━━━━━━━━━━━━━━━━━━━━━\u001b[0m \u001b[32m235.6/235.6 kB\u001b[0m \u001b[31m4.2 MB/s\u001b[0m eta \u001b[36m0:00:00\u001b[0m\r\n",
      "\u001b[?25hInstalling collected packages: imbalanced-learn\r\n",
      "Successfully installed imbalanced-learn-0.11.0\r\n",
      "\u001b[33mWARNING: Running pip as the 'root' user can result in broken permissions and conflicting behaviour with the system package manager. It is recommended to use a virtual environment instead: https://pip.pypa.io/warnings/venv\u001b[0m\u001b[33m\r\n",
      "\u001b[0m"
     ]
    }
   ],
   "source": [
    "!pip install --upgrade pip\n",
    "!pip install tensorflow_addons\n",
    "!pip install seaborn\n",
    "!pip install transformers\n",
    "!pip install scikit-learn\n",
    "!pip install imbalanced-learn\n"
   ]
  },
  {
   "cell_type": "code",
   "execution_count": 1,
   "id": "069eb32f",
   "metadata": {
    "execution": {
     "iopub.execute_input": "2023-11-25T00:12:02.176242Z",
     "iopub.status.busy": "2023-11-25T00:12:02.175941Z",
     "iopub.status.idle": "2023-11-25T00:12:40.948221Z",
     "shell.execute_reply": "2023-11-25T00:12:40.947319Z"
    },
    "papermill": {
     "duration": 38.783815,
     "end_time": "2023-11-25T00:12:40.950841",
     "exception": false,
     "start_time": "2023-11-25T00:12:02.167026",
     "status": "completed"
    },
    "tags": []
   },
   "outputs": [
    {
     "name": "stderr",
     "output_type": "stream",
     "text": [
      "/Library/Frameworks/Python.framework/Versions/3.11/lib/python3.11/site-packages/tensorflow_addons/utils/tfa_eol_msg.py:23: UserWarning: \n",
      "\n",
      "TensorFlow Addons (TFA) has ended development and introduction of new features.\n",
      "TFA has entered a minimal maintenance and release mode until a planned end of life in May 2024.\n",
      "Please modify downstream libraries to take dependencies from other repositories in our TensorFlow community (e.g. Keras, Keras-CV, and Keras-NLP). \n",
      "\n",
      "For more information see: https://github.com/tensorflow/addons/issues/2807 \n",
      "\n",
      "  warnings.warn(\n",
      "/Library/Frameworks/Python.framework/Versions/3.11/lib/python3.11/site-packages/tensorflow_addons/utils/ensure_tf_install.py:53: UserWarning: Tensorflow Addons supports using Python ops for all Tensorflow versions above or equal to 2.12.0 and strictly below 2.15.0 (nightly versions are not supported). \n",
      " The versions of TensorFlow you are currently using is 2.15.0 and is not supported. \n",
      "Some things might work, some things might not.\n",
      "If you were to encounter a bug, do not file an issue.\n",
      "If you want to make sure you're using a tested and supported configuration, either change the TensorFlow version or the TensorFlow Addons's version. \n",
      "You can find the compatibility matrix in TensorFlow Addon's readme:\n",
      "https://github.com/tensorflow/addons\n",
      "  warnings.warn(\n"
     ]
    }
   ],
   "source": [
    "import numpy as np\n",
    "import pandas as pd\n",
    "import matplotlib.pyplot as plt\n",
    "import seaborn as sns\n",
    "from sklearn.preprocessing import LabelEncoder\n",
    "from sklearn.model_selection import train_test_split\n",
    "\n",
    "\n",
    "import tensorflow as tf\n",
    "import tensorflow_addons as tfa\n",
    "\n",
    "from transformers import TFAutoModel, AutoTokenizer\n",
    "\n",
    "\n",
    "from tensorflow.keras import Input, Model\n",
    "from tensorflow.keras import layers\n",
    "from tensorflow.keras.layers import Dense, Dropout, Conv1D, MaxPooling1D, Bidirectional, LSTM, Flatten,GlobalMaxPooling1D\n",
    "from tensorflow.keras.optimizers import Adam\n",
    "from tensorflow.keras import regularizers\n",
    "\n",
    "from tensorflow.keras.callbacks import ModelCheckpoint, EarlyStopping\n",
    "\n",
    "from transformers import TFRobertaModel\n",
    "from keras.models import load_model\n",
    "from keras.utils import CustomObjectScope\n",
    "\n",
    "import warnings\n",
    "warnings.filterwarnings(\"ignore\")"
   ]
  },
  {
   "cell_type": "markdown",
   "id": "9d86b8a2",
   "metadata": {
    "papermill": {
     "duration": 0.007288,
     "end_time": "2023-11-25T00:12:40.965821",
     "exception": false,
     "start_time": "2023-11-25T00:12:40.958533",
     "status": "completed"
    },
    "tags": []
   },
   "source": [
    "* Đọc dữ liệu"
   ]
  },
  {
   "cell_type": "code",
   "execution_count": 3,
   "id": "ab0786e6",
   "metadata": {
    "execution": {
     "iopub.execute_input": "2023-11-25T00:12:40.982615Z",
     "iopub.status.busy": "2023-11-25T00:12:40.981490Z",
     "iopub.status.idle": "2023-11-25T00:12:43.219732Z",
     "shell.execute_reply": "2023-11-25T00:12:43.218884Z"
    },
    "papermill": {
     "duration": 2.248556,
     "end_time": "2023-11-25T00:12:43.221635",
     "exception": false,
     "start_time": "2023-11-25T00:12:40.973079",
     "status": "completed"
    },
    "tags": []
   },
   "outputs": [
    {
     "data": {
      "text/html": [
       "<div>\n",
       "<style scoped>\n",
       "    .dataframe tbody tr th:only-of-type {\n",
       "        vertical-align: middle;\n",
       "    }\n",
       "\n",
       "    .dataframe tbody tr th {\n",
       "        vertical-align: top;\n",
       "    }\n",
       "\n",
       "    .dataframe thead th {\n",
       "        text-align: right;\n",
       "    }\n",
       "</style>\n",
       "<table border=\"1\" class=\"dataframe\">\n",
       "  <thead>\n",
       "    <tr style=\"text-align: right;\">\n",
       "      <th></th>\n",
       "      <th>comment</th>\n",
       "      <th>rating_star</th>\n",
       "      <th>khia_canh</th>\n",
       "    </tr>\n",
       "  </thead>\n",
       "  <tbody>\n",
       "    <tr>\n",
       "      <th>0</th>\n",
       "      <td>mô tả sai 60 cửa hàng giao bao nhiêu bẻ 50 nhắ...</td>\n",
       "      <td>negative</td>\n",
       "      <td>Chất lượng sản phẩm, Dịch vụ khách hàng, Giao ...</td>\n",
       "    </tr>\n",
       "    <tr>\n",
       "      <th>1</th>\n",
       "      <td>sản phẩm cửa hàng hài sản phẩm hàng hơi lâu4 ủ...</td>\n",
       "      <td>negative</td>\n",
       "      <td>Dịch vụ khách hàng</td>\n",
       "    </tr>\n",
       "    <tr>\n",
       "      <th>2</th>\n",
       "      <td>giao hàng cửa hàng thèm phục vụ kém nhắn đợi t...</td>\n",
       "      <td>negative</td>\n",
       "      <td>Chất lượng sản phẩm, Dịch vụ khách hàng, Giao ...</td>\n",
       "    </tr>\n",
       "    <tr>\n",
       "      <th>3</th>\n",
       "      <td>chất sản phẩm tệ hại y cửa hàng hàng khuyên cử...</td>\n",
       "      <td>negative</td>\n",
       "      <td>Chất lượng sản phẩm, Dịch vụ khách hàng, Giao ...</td>\n",
       "    </tr>\n",
       "    <tr>\n",
       "      <th>4</th>\n",
       "      <td>sản phẩm giao cửa hàng phục vụ nhiệt tình 2 sả...</td>\n",
       "      <td>negative</td>\n",
       "      <td>Dịch vụ khách hàng, Giao hàng</td>\n",
       "    </tr>\n",
       "  </tbody>\n",
       "</table>\n",
       "</div>"
      ],
      "text/plain": [
       "                                             comment rating_star  \\\n",
       "0  mô tả sai 60 cửa hàng giao bao nhiêu bẻ 50 nhắ...    negative   \n",
       "1  sản phẩm cửa hàng hài sản phẩm hàng hơi lâu4 ủ...    negative   \n",
       "2  giao hàng cửa hàng thèm phục vụ kém nhắn đợi t...    negative   \n",
       "3  chất sản phẩm tệ hại y cửa hàng hàng khuyên cử...    negative   \n",
       "4  sản phẩm giao cửa hàng phục vụ nhiệt tình 2 sả...    negative   \n",
       "\n",
       "                                           khia_canh  \n",
       "0  Chất lượng sản phẩm, Dịch vụ khách hàng, Giao ...  \n",
       "1                                 Dịch vụ khách hàng  \n",
       "2  Chất lượng sản phẩm, Dịch vụ khách hàng, Giao ...  \n",
       "3  Chất lượng sản phẩm, Dịch vụ khách hàng, Giao ...  \n",
       "4                      Dịch vụ khách hàng, Giao hàng  "
      ]
     },
     "execution_count": 3,
     "metadata": {},
     "output_type": "execute_result"
    }
   ],
   "source": [
    "df = pd.read_csv('/Users/datnguyen/Documents/hoc_truong/project/NLP/Nhom_10/data/data.tsv',sep='\\t')\n",
    "df.head()"
   ]
  },
  {
   "cell_type": "markdown",
   "id": "1f3d3207",
   "metadata": {
    "papermill": {
     "duration": 0.007643,
     "end_time": "2023-11-25T00:12:44.422140",
     "exception": false,
     "start_time": "2023-11-25T00:12:44.414497",
     "status": "completed"
    },
    "tags": []
   },
   "source": [
    "* Chọn dữ liệu"
   ]
  },
  {
   "cell_type": "code",
   "execution_count": 4,
   "id": "5da5bb20",
   "metadata": {
    "execution": {
     "iopub.execute_input": "2023-11-25T00:12:44.474147Z",
     "iopub.status.busy": "2023-11-25T00:12:44.473769Z",
     "iopub.status.idle": "2023-11-25T00:12:44.477872Z",
     "shell.execute_reply": "2023-11-25T00:12:44.477097Z"
    },
    "papermill": {
     "duration": 0.015047,
     "end_time": "2023-11-25T00:12:44.479534",
     "exception": false,
     "start_time": "2023-11-25T00:12:44.464487",
     "status": "completed"
    },
    "tags": []
   },
   "outputs": [],
   "source": [
    "X = df.comment\n",
    "y = df.khia_canh"
   ]
  },
  {
   "cell_type": "markdown",
   "id": "d84dc0b6",
   "metadata": {
    "papermill": {
     "duration": 0.007803,
     "end_time": "2023-11-25T00:12:44.495208",
     "exception": false,
     "start_time": "2023-11-25T00:12:44.487405",
     "status": "completed"
    },
    "tags": []
   },
   "source": [
    "* LabelEncoder"
   ]
  },
  {
   "cell_type": "code",
   "execution_count": 5,
   "id": "4a129cf6",
   "metadata": {
    "execution": {
     "iopub.execute_input": "2023-11-25T00:12:44.512119Z",
     "iopub.status.busy": "2023-11-25T00:12:44.511807Z",
     "iopub.status.idle": "2023-11-25T00:12:44.515561Z",
     "shell.execute_reply": "2023-11-25T00:12:44.514869Z"
    },
    "papermill": {
     "duration": 0.014275,
     "end_time": "2023-11-25T00:12:44.517179",
     "exception": false,
     "start_time": "2023-11-25T00:12:44.502904",
     "status": "completed"
    },
    "tags": []
   },
   "outputs": [],
   "source": [
    "le_rating = LabelEncoder()"
   ]
  },
  {
   "cell_type": "code",
   "execution_count": 6,
   "id": "f8b29f3a",
   "metadata": {
    "execution": {
     "iopub.execute_input": "2023-11-25T00:12:44.534146Z",
     "iopub.status.busy": "2023-11-25T00:12:44.533888Z",
     "iopub.status.idle": "2023-11-25T00:14:01.116771Z",
     "shell.execute_reply": "2023-11-25T00:14:01.115450Z"
    },
    "papermill": {
     "duration": 76.594493,
     "end_time": "2023-11-25T00:14:01.119556",
     "exception": false,
     "start_time": "2023-11-25T00:12:44.525063",
     "status": "completed"
    },
    "tags": []
   },
   "outputs": [],
   "source": [
    "MAX_LEN = 200\n",
    "model_name = 'vinai/phobert-base'\n",
    "\n",
    "# Tokenizing\n",
    "tokenizer = AutoTokenizer.from_pretrained(model_name)\n",
    "encoded_inputs = tokenizer.batch_encode_plus(\n",
    "    df.comment.tolist(), \n",
    "    max_length=MAX_LEN, \n",
    "    padding='max_length', \n",
    "    truncation=True,\n",
    "    return_tensors='np'\n",
    ")"
   ]
  },
  {
   "cell_type": "code",
   "execution_count": 7,
   "id": "d71c87ab",
   "metadata": {
    "execution": {
     "iopub.execute_input": "2023-11-25T00:14:01.139267Z",
     "iopub.status.busy": "2023-11-25T00:14:01.138886Z",
     "iopub.status.idle": "2023-11-25T00:14:01.230590Z",
     "shell.execute_reply": "2023-11-25T00:14:01.229780Z"
    },
    "papermill": {
     "duration": 0.103614,
     "end_time": "2023-11-25T00:14:01.232611",
     "exception": false,
     "start_time": "2023-11-25T00:14:01.128997",
     "status": "completed"
    },
    "tags": []
   },
   "outputs": [],
   "source": [
    "X = encoded_inputs['input_ids']\n",
    "y = le_rating.fit_transform(y)"
   ]
  },
  {
   "cell_type": "code",
   "execution_count": 8,
   "id": "98f903ec",
   "metadata": {
    "execution": {
     "iopub.execute_input": "2023-11-25T00:14:01.251772Z",
     "iopub.status.busy": "2023-11-25T00:14:01.251464Z",
     "iopub.status.idle": "2023-11-25T00:14:01.560775Z",
     "shell.execute_reply": "2023-11-25T00:14:01.559840Z"
    },
    "papermill": {
     "duration": 0.321801,
     "end_time": "2023-11-25T00:14:01.563157",
     "exception": false,
     "start_time": "2023-11-25T00:14:01.241356",
     "status": "completed"
    },
    "tags": []
   },
   "outputs": [],
   "source": [
    "from sklearn.model_selection import train_test_split\n",
    "\n",
    "X_train, X_test, y_train, y_test = train_test_split(X, y, test_size=0.2, random_state=42)"
   ]
  },
  {
   "cell_type": "markdown",
   "id": "227fefed",
   "metadata": {
    "papermill": {
     "duration": 0.008576,
     "end_time": "2023-11-25T00:14:01.580676",
     "exception": false,
     "start_time": "2023-11-25T00:14:01.572100",
     "status": "completed"
    },
    "tags": []
   },
   "source": [
    "* TPU setup"
   ]
  },
  {
   "cell_type": "code",
   "execution_count": 9,
   "id": "8f39af73",
   "metadata": {
    "execution": {
     "iopub.execute_input": "2023-11-25T00:14:01.598713Z",
     "iopub.status.busy": "2023-11-25T00:14:01.598375Z",
     "iopub.status.idle": "2023-11-25T00:14:10.355615Z",
     "shell.execute_reply": "2023-11-25T00:14:10.354287Z"
    },
    "papermill": {
     "duration": 8.768773,
     "end_time": "2023-11-25T00:14:10.357631",
     "exception": false,
     "start_time": "2023-11-25T00:14:01.588858",
     "status": "completed"
    },
    "tags": []
   },
   "outputs": [
    {
     "name": "stdout",
     "output_type": "stream",
     "text": [
      "Number of replicas: 1\n"
     ]
    }
   ],
   "source": [
    "try:\n",
    "    tpu = tf.distribute.cluster_resolver.TPUClusterResolver() \n",
    "    tf.config.experimental_connect_to_cluster(tpu)\n",
    "    tf.tpu.experimental.initialize_tpu_system(tpu)\n",
    "    \n",
    "    strategy = tf.distribute.experimental.TPUStrategy\n",
    "except ValueError:\n",
    "    strategy = tf.distribute.get_strategy() \n",
    "    print('Number of replicas:', strategy.num_replicas_in_sync) "
   ]
  },
  {
   "cell_type": "code",
   "execution_count": 13,
   "id": "b26a9a27",
   "metadata": {
    "execution": {
     "iopub.execute_input": "2023-11-25T00:14:10.377662Z",
     "iopub.status.busy": "2023-11-25T00:14:10.377383Z",
     "iopub.status.idle": "2023-11-25T00:14:15.172235Z",
     "shell.execute_reply": "2023-11-25T00:14:15.171331Z"
    },
    "papermill": {
     "duration": 4.810973,
     "end_time": "2023-11-25T00:14:15.178234",
     "exception": false,
     "start_time": "2023-11-25T00:14:10.367261",
     "status": "completed"
    },
    "tags": []
   },
   "outputs": [
    {
     "name": "stdout",
     "output_type": "stream",
     "text": [
      "INFO:tensorflow:Deallocate tpu buffers before initializing tpu system.\n",
      "WARNING:tensorflow:TPU system local has already been initialized. Reinitializing the TPU can cause previously created variables on TPU to be lost.\n",
      "INFO:tensorflow:Initializing the TPU system: local\n",
      "INFO:tensorflow:Finished initializing TPU system.\n"
     ]
    },
    {
     "name": "stderr",
     "output_type": "stream",
     "text": [
      "WARNING:absl:`tf.distribute.experimental.TPUStrategy` is deprecated, please use the non-experimental symbol `tf.distribute.TPUStrategy` instead.\n"
     ]
    },
    {
     "name": "stdout",
     "output_type": "stream",
     "text": [
      "INFO:tensorflow:Found TPU system:\n"
     ]
    },
    {
     "name": "stderr",
     "output_type": "stream",
     "text": [
      "INFO:tensorflow:Found TPU system:\n"
     ]
    },
    {
     "name": "stdout",
     "output_type": "stream",
     "text": [
      "INFO:tensorflow:*** Num TPU Cores: 8\n"
     ]
    },
    {
     "name": "stderr",
     "output_type": "stream",
     "text": [
      "INFO:tensorflow:*** Num TPU Cores: 8\n"
     ]
    },
    {
     "name": "stdout",
     "output_type": "stream",
     "text": [
      "INFO:tensorflow:*** Num TPU Workers: 1\n"
     ]
    },
    {
     "name": "stderr",
     "output_type": "stream",
     "text": [
      "INFO:tensorflow:*** Num TPU Workers: 1\n"
     ]
    },
    {
     "name": "stdout",
     "output_type": "stream",
     "text": [
      "INFO:tensorflow:*** Num TPU Cores Per Worker: 8\n"
     ]
    },
    {
     "name": "stderr",
     "output_type": "stream",
     "text": [
      "INFO:tensorflow:*** Num TPU Cores Per Worker: 8\n"
     ]
    },
    {
     "name": "stdout",
     "output_type": "stream",
     "text": [
      "INFO:tensorflow:*** Available Device: _DeviceAttributes(/job:localhost/replica:0/task:0/device:CPU:0, CPU, 0, 0)\n"
     ]
    },
    {
     "name": "stderr",
     "output_type": "stream",
     "text": [
      "INFO:tensorflow:*** Available Device: _DeviceAttributes(/job:localhost/replica:0/task:0/device:CPU:0, CPU, 0, 0)\n"
     ]
    },
    {
     "name": "stdout",
     "output_type": "stream",
     "text": [
      "INFO:tensorflow:*** Available Device: _DeviceAttributes(/job:localhost/replica:0/task:0/device:TPU:0, TPU, 0, 0)\n"
     ]
    },
    {
     "name": "stderr",
     "output_type": "stream",
     "text": [
      "INFO:tensorflow:*** Available Device: _DeviceAttributes(/job:localhost/replica:0/task:0/device:TPU:0, TPU, 0, 0)\n"
     ]
    },
    {
     "name": "stdout",
     "output_type": "stream",
     "text": [
      "INFO:tensorflow:*** Available Device: _DeviceAttributes(/job:localhost/replica:0/task:0/device:TPU:1, TPU, 0, 0)\n"
     ]
    },
    {
     "name": "stderr",
     "output_type": "stream",
     "text": [
      "INFO:tensorflow:*** Available Device: _DeviceAttributes(/job:localhost/replica:0/task:0/device:TPU:1, TPU, 0, 0)\n"
     ]
    },
    {
     "name": "stdout",
     "output_type": "stream",
     "text": [
      "INFO:tensorflow:*** Available Device: _DeviceAttributes(/job:localhost/replica:0/task:0/device:TPU:2, TPU, 0, 0)\n"
     ]
    },
    {
     "name": "stderr",
     "output_type": "stream",
     "text": [
      "INFO:tensorflow:*** Available Device: _DeviceAttributes(/job:localhost/replica:0/task:0/device:TPU:2, TPU, 0, 0)\n"
     ]
    },
    {
     "name": "stdout",
     "output_type": "stream",
     "text": [
      "INFO:tensorflow:*** Available Device: _DeviceAttributes(/job:localhost/replica:0/task:0/device:TPU:3, TPU, 0, 0)\n"
     ]
    },
    {
     "name": "stderr",
     "output_type": "stream",
     "text": [
      "INFO:tensorflow:*** Available Device: _DeviceAttributes(/job:localhost/replica:0/task:0/device:TPU:3, TPU, 0, 0)\n"
     ]
    },
    {
     "name": "stdout",
     "output_type": "stream",
     "text": [
      "INFO:tensorflow:*** Available Device: _DeviceAttributes(/job:localhost/replica:0/task:0/device:TPU:4, TPU, 0, 0)\n"
     ]
    },
    {
     "name": "stderr",
     "output_type": "stream",
     "text": [
      "INFO:tensorflow:*** Available Device: _DeviceAttributes(/job:localhost/replica:0/task:0/device:TPU:4, TPU, 0, 0)\n"
     ]
    },
    {
     "name": "stdout",
     "output_type": "stream",
     "text": [
      "INFO:tensorflow:*** Available Device: _DeviceAttributes(/job:localhost/replica:0/task:0/device:TPU:5, TPU, 0, 0)\n"
     ]
    },
    {
     "name": "stderr",
     "output_type": "stream",
     "text": [
      "INFO:tensorflow:*** Available Device: _DeviceAttributes(/job:localhost/replica:0/task:0/device:TPU:5, TPU, 0, 0)\n"
     ]
    },
    {
     "name": "stdout",
     "output_type": "stream",
     "text": [
      "INFO:tensorflow:*** Available Device: _DeviceAttributes(/job:localhost/replica:0/task:0/device:TPU:6, TPU, 0, 0)\n"
     ]
    },
    {
     "name": "stderr",
     "output_type": "stream",
     "text": [
      "INFO:tensorflow:*** Available Device: _DeviceAttributes(/job:localhost/replica:0/task:0/device:TPU:6, TPU, 0, 0)\n"
     ]
    },
    {
     "name": "stdout",
     "output_type": "stream",
     "text": [
      "INFO:tensorflow:*** Available Device: _DeviceAttributes(/job:localhost/replica:0/task:0/device:TPU:7, TPU, 0, 0)\n"
     ]
    },
    {
     "name": "stderr",
     "output_type": "stream",
     "text": [
      "INFO:tensorflow:*** Available Device: _DeviceAttributes(/job:localhost/replica:0/task:0/device:TPU:7, TPU, 0, 0)\n"
     ]
    },
    {
     "name": "stdout",
     "output_type": "stream",
     "text": [
      "INFO:tensorflow:*** Available Device: _DeviceAttributes(/job:localhost/replica:0/task:0/device:TPU_SYSTEM:0, TPU_SYSTEM, 0, 0)\n"
     ]
    },
    {
     "name": "stderr",
     "output_type": "stream",
     "text": [
      "INFO:tensorflow:*** Available Device: _DeviceAttributes(/job:localhost/replica:0/task:0/device:TPU_SYSTEM:0, TPU_SYSTEM, 0, 0)\n"
     ]
    },
    {
     "name": "stdout",
     "output_type": "stream",
     "text": [
      "Running on TPU  {}\n",
      "Number of accelerators:  8\n"
     ]
    }
   ],
   "source": [
    "try:\n",
    "    tpu = tf.distribute.cluster_resolver.TPUClusterResolver() # TPU detection\n",
    "except ValueError:\n",
    "    tpu = None\n",
    "    gpus = tf.config.experimental.list_logical_devices(\"GPU\")\n",
    "    \n",
    "if tpu:\n",
    "    tf.tpu.experimental.initialize_tpu_system(tpu)\n",
    "    strategy = tf.distribute.experimental.TPUStrategy(tpu,) \n",
    "    print('Running on TPU ', tpu.cluster_spec().as_dict())\n",
    "elif len(gpus) > 1:\n",
    "    strategy = tf.distribute.MirroredStrategy([gpu.name for gpu in gpus])\n",
    "    print('Running on multiple GPUs ', [gpu.name for gpu in gpus])\n",
    "elif len(gpus) == 1:\n",
    "    strategy = tf.distribute.get_strategy() \n",
    "    print('Running on single GPU ', gpus[0].name)\n",
    "else:\n",
    "    strategy = tf.distribute.get_strategy() \n",
    "    print('Running on CPU')\n",
    "print(\"Number of accelerators: \", strategy.num_replicas_in_sync)"
   ]
  },
  {
   "cell_type": "markdown",
   "id": "0503b2f8",
   "metadata": {
    "papermill": {
     "duration": 0.010317,
     "end_time": "2023-11-25T00:14:15.199559",
     "exception": false,
     "start_time": "2023-11-25T00:14:15.189242",
     "status": "completed"
    },
    "tags": []
   },
   "source": [
    "* OnehotEncoder"
   ]
  },
  {
   "cell_type": "code",
   "execution_count": 10,
   "id": "bf9f7070",
   "metadata": {
    "execution": {
     "iopub.execute_input": "2023-11-25T00:14:15.221436Z",
     "iopub.status.busy": "2023-11-25T00:14:15.221172Z",
     "iopub.status.idle": "2023-11-25T00:14:15.229975Z",
     "shell.execute_reply": "2023-11-25T00:14:15.229116Z"
    },
    "papermill": {
     "duration": 0.021883,
     "end_time": "2023-11-25T00:14:15.231708",
     "exception": false,
     "start_time": "2023-11-25T00:14:15.209825",
     "status": "completed"
    },
    "tags": []
   },
   "outputs": [],
   "source": [
    "y_train = tf.keras.utils.to_categorical(y_train)"
   ]
  },
  {
   "cell_type": "markdown",
   "id": "5574f18e",
   "metadata": {
    "papermill": {
     "duration": 0.010281,
     "end_time": "2023-11-25T00:14:15.252263",
     "exception": false,
     "start_time": "2023-11-25T00:14:15.241982",
     "status": "completed"
    },
    "tags": []
   },
   "source": [
    "* Build Model"
   ]
  },
  {
   "cell_type": "code",
   "execution_count": 11,
   "id": "7552d698",
   "metadata": {
    "execution": {
     "iopub.execute_input": "2023-11-25T00:14:15.274456Z",
     "iopub.status.busy": "2023-11-25T00:14:15.273944Z",
     "iopub.status.idle": "2023-11-25T00:14:40.064128Z",
     "shell.execute_reply": "2023-11-25T00:14:40.063245Z"
    },
    "papermill": {
     "duration": 24.804093,
     "end_time": "2023-11-25T00:14:40.066534",
     "exception": false,
     "start_time": "2023-11-25T00:14:15.262441",
     "status": "completed"
    },
    "tags": []
   },
   "outputs": [
    {
     "name": "stderr",
     "output_type": "stream",
     "text": [
      "2023-12-05 08:48:55.723300: I metal_plugin/src/device/metal_device.cc:1154] Metal device set to: Apple M2\n",
      "2023-12-05 08:48:55.723343: I metal_plugin/src/device/metal_device.cc:296] systemMemory: 16.00 GB\n",
      "2023-12-05 08:48:55.723353: I metal_plugin/src/device/metal_device.cc:313] maxCacheSize: 5.33 GB\n",
      "2023-12-05 08:48:55.723385: I tensorflow/core/common_runtime/pluggable_device/pluggable_device_factory.cc:306] Could not identify NUMA node of platform GPU ID 0, defaulting to 0. Your kernel may not have been built with NUMA support.\n",
      "2023-12-05 08:48:55.723403: I tensorflow/core/common_runtime/pluggable_device/pluggable_device_factory.cc:272] Created TensorFlow device (/job:localhost/replica:0/task:0/device:GPU:0 with 0 MB memory) -> physical PluggableDevice (device: 0, name: METAL, pci bus id: <undefined>)\n",
      "Some layers from the model checkpoint at vinai/phobert-base were not used when initializing TFRobertaModel: ['lm_head']\n",
      "- This IS expected if you are initializing TFRobertaModel from the checkpoint of a model trained on another task or with another architecture (e.g. initializing a BertForSequenceClassification model from a BertForPreTraining model).\n",
      "- This IS NOT expected if you are initializing TFRobertaModel from the checkpoint of a model that you expect to be exactly identical (initializing a BertForSequenceClassification model from a BertForSequenceClassification model).\n",
      "All the layers of TFRobertaModel were initialized from the model checkpoint at vinai/phobert-base.\n",
      "If your task is similar to the task the model of the checkpoint was trained on, you can already use TFRobertaModel for predictions without further training.\n"
     ]
    }
   ],
   "source": [
    "with strategy.scope():\n",
    "    encoder = TFAutoModel.from_pretrained(model_name)\n",
    "\n",
    "    input_ids = Input(shape=(MAX_LEN,), dtype=tf.int32)\n",
    "\n",
    "    # Trích xuất đặc trưng phoBert\n",
    "    embedding = encoder(input_ids)[1]\n",
    "    \n",
    "#   New Dense layer with L2 regularization\n",
    "    x = Dense(256, activation='relu', kernel_regularizer=regularizers.l2(0.1))(embedding)\n",
    "    \n",
    "    # New Dropout layer\n",
    "    x = Dropout(0.2)(x)\n",
    "    \n",
    "    # Lớp đầu ra\n",
    "    output = Dense(y_train.shape[1], activation='softmax', name='output')(x)\n",
    "\n",
    "    # Tạo mô hình\n",
    "    model_rating = Model(inputs=input_ids, outputs=output)\n"
   ]
  },
  {
   "cell_type": "code",
   "execution_count": 12,
   "id": "1dbf3022",
   "metadata": {
    "execution": {
     "iopub.execute_input": "2023-11-25T00:14:40.091816Z",
     "iopub.status.busy": "2023-11-25T00:14:40.091511Z",
     "iopub.status.idle": "2023-11-25T00:14:40.125684Z",
     "shell.execute_reply": "2023-11-25T00:14:40.124940Z"
    },
    "papermill": {
     "duration": 0.04857,
     "end_time": "2023-11-25T00:14:40.127158",
     "exception": false,
     "start_time": "2023-11-25T00:14:40.078588",
     "status": "completed"
    },
    "tags": []
   },
   "outputs": [
    {
     "name": "stdout",
     "output_type": "stream",
     "text": [
      "Model: \"model\"\n",
      "_________________________________________________________________\n",
      " Layer (type)                Output Shape              Param #   \n",
      "=================================================================\n",
      " input_1 (InputLayer)        [(None, 200)]             0         \n",
      "                                                                 \n",
      " tf_roberta_model (TFRobert  TFBaseModelOutputWithPo   134998272 \n",
      " aModel)                     olingAndCrossAttentions             \n",
      "                             (last_hidden_state=(Non             \n",
      "                             e, 200, 768),                       \n",
      "                              pooler_output=(None, 7             \n",
      "                             68),                                \n",
      "                              past_key_values=None,              \n",
      "                             hidden_states=None, att             \n",
      "                             entions=None, cross_att             \n",
      "                             entions=None)                       \n",
      "                                                                 \n",
      " dense (Dense)               (None, 256)               196864    \n",
      "                                                                 \n",
      " dropout_37 (Dropout)        (None, 256)               0         \n",
      "                                                                 \n",
      " output (Dense)              (None, 31)                7967      \n",
      "                                                                 \n",
      "=================================================================\n",
      "Total params: 135203103 (515.76 MB)\n",
      "Trainable params: 135203103 (515.76 MB)\n",
      "Non-trainable params: 0 (0.00 Byte)\n",
      "_________________________________________________________________\n"
     ]
    }
   ],
   "source": [
    "model_rating.summary()"
   ]
  },
  {
   "cell_type": "code",
   "execution_count": 13,
   "metadata": {},
   "outputs": [
    {
     "data": {
      "image/png": "[encoded data removed]",
      "text/plain": [
       "<IPython.core.display.Image object>"
      ]
     },
     "execution_count": 13,
     "metadata": {},
     "output_type": "execute_result"
    }
   ],
   "source": [
    "from tensorflow.keras.utils import plot_model\n",
    "plot_model(model_rating, to_file='model_rating.png', show_shapes=True, show_layer_names=True)"
   ]
  },
  {
   "cell_type": "markdown",
   "id": "c53daa52",
   "metadata": {
    "papermill": {
     "duration": 0.013016,
     "end_time": "2023-11-25T00:14:40.152822",
     "exception": false,
     "start_time": "2023-11-25T00:14:40.139806",
     "status": "completed"
    },
    "tags": []
   },
   "source": [
    "* Optimize"
   ]
  },
  {
   "cell_type": "code",
   "execution_count": 17,
   "id": "63fdb517",
   "metadata": {
    "execution": {
     "iopub.execute_input": "2023-11-25T00:14:40.179239Z",
     "iopub.status.busy": "2023-11-25T00:14:40.178992Z",
     "iopub.status.idle": "2023-11-25T00:14:40.192881Z",
     "shell.execute_reply": "2023-11-25T00:14:40.192186Z"
    },
    "papermill": {
     "duration": 0.029245,
     "end_time": "2023-11-25T00:14:40.194620",
     "exception": false,
     "start_time": "2023-11-25T00:14:40.165375",
     "status": "completed"
    },
    "tags": []
   },
   "outputs": [],
   "source": [
    "class MyExponentialDecay(tf.keras.optimizers.schedules.ExponentialDecay):\n",
    "  def __call__(self, step):\n",
    "    return 1e-2 * super().__call__(step)\n",
    "\n",
    "step = tf.Variable(0, trainable=False)\n",
    "schedule = tf.optimizers.schedules.PiecewiseConstantDecay(\n",
    "    [10000, 15000], [1e-3, 1e-4, 1e-5])\n",
    "\n",
    "initial_learning_rate=0.01\n",
    "\n",
    "wd = MyExponentialDecay(\n",
    "    initial_learning_rate,\n",
    "    decay_steps=14,\n",
    "    decay_rate=0.8,\n",
    "    staircase=True)\n",
    "lr = 1e2 * schedule(step)"
   ]
  },
  {
   "cell_type": "code",
   "execution_count": 18,
   "id": "7ba3ecb9",
   "metadata": {
    "execution": {
     "iopub.execute_input": "2023-11-25T00:14:40.221612Z",
     "iopub.status.busy": "2023-11-25T00:14:40.221352Z",
     "iopub.status.idle": "2023-11-25T00:14:40.314799Z",
     "shell.execute_reply": "2023-11-25T00:14:40.314095Z"
    },
    "papermill": {
     "duration": 0.109288,
     "end_time": "2023-11-25T00:14:40.316777",
     "exception": false,
     "start_time": "2023-11-25T00:14:40.207489",
     "status": "completed"
    },
    "tags": []
   },
   "outputs": [],
   "source": [
    "model_rating.compile(\n",
    "    optimizer=tfa.optimizers.AdamW(weight_decay=wd,\n",
    "                                  learning_rate=lr),\n",
    "    loss=tf.keras.losses.CategoricalCrossentropy(),\n",
    "    metrics=['accuracy'])\n"
   ]
  },
  {
   "cell_type": "code",
   "execution_count": 19,
   "id": "b2141f9f",
   "metadata": {
    "execution": {
     "iopub.execute_input": "2023-11-25T00:14:40.345047Z",
     "iopub.status.busy": "2023-11-25T00:14:40.344788Z",
     "iopub.status.idle": "2023-11-25T00:14:40.348918Z",
     "shell.execute_reply": "2023-11-25T00:14:40.348200Z"
    },
    "papermill": {
     "duration": 0.020807,
     "end_time": "2023-11-25T00:14:40.350667",
     "exception": false,
     "start_time": "2023-11-25T00:14:40.329860",
     "status": "completed"
    },
    "tags": []
   },
   "outputs": [],
   "source": [
    "# Lưu mô hình tốt nhất\n",
    "cp_callback = ModelCheckpoint(filepath='pho_rating.h5',\n",
    "                              save_best_only=True,\n",
    "                              monitor='accuracy',\n",
    "                              mode='max',\n",
    "                              verbose=1)\n",
    "\n",
    "# Dừng sớm khi không có quá nhiều thay đổi\n",
    "es_callback = EarlyStopping(\n",
    "    monitor='accuracy', \n",
    "    patience=20,\n",
    "    mode='max')"
   ]
  },
  {
   "cell_type": "code",
   "execution_count": 20,
   "id": "a43c839c",
   "metadata": {
    "execution": {
     "iopub.execute_input": "2023-11-25T00:14:40.378101Z",
     "iopub.status.busy": "2023-11-25T00:14:40.377663Z",
     "iopub.status.idle": "2023-11-25T00:14:40.380840Z",
     "shell.execute_reply": "2023-11-25T00:14:40.380216Z"
    },
    "papermill": {
     "duration": 0.018664,
     "end_time": "2023-11-25T00:14:40.382560",
     "exception": false,
     "start_time": "2023-11-25T00:14:40.363896",
     "status": "completed"
    },
    "tags": []
   },
   "outputs": [],
   "source": [
    "# Setup tham số\n",
    "epochs = 30\n",
    "batch_size = 512\n",
    "validation_split = 0.2"
   ]
  },
  {
   "cell_type": "markdown",
   "id": "50e57e7b",
   "metadata": {
    "papermill": {
     "duration": 0.013103,
     "end_time": "2023-11-25T00:14:40.408514",
     "exception": false,
     "start_time": "2023-11-25T00:14:40.395411",
     "status": "completed"
    },
    "tags": []
   },
   "source": [
    "* Training"
   ]
  },
  {
   "cell_type": "code",
   "execution_count": 21,
   "id": "b7993e1d",
   "metadata": {
    "execution": {
     "iopub.execute_input": "2023-11-25T00:14:40.435389Z",
     "iopub.status.busy": "2023-11-25T00:14:40.435164Z",
     "iopub.status.idle": "2023-11-25T02:01:13.094583Z",
     "shell.execute_reply": "2023-11-25T02:01:13.093443Z"
    },
    "papermill": {
     "duration": 6392.675201,
     "end_time": "2023-11-25T02:01:13.096395",
     "exception": false,
     "start_time": "2023-11-25T00:14:40.421194",
     "status": "completed"
    },
    "tags": []
   },
   "outputs": [
    {
     "name": "stdout",
     "output_type": "stream",
     "text": [
      "Epoch 1/30\n"
     ]
    },
    {
     "name": "stderr",
     "output_type": "stream",
     "text": [
      "2023-11-25 00:14:42.038566: E ./tensorflow/compiler/xla/stream_executor/stream_executor_internal.h:124] SetPriority unimplemented for this stream.\n",
      "2023-11-25 00:14:42.055826: E ./tensorflow/compiler/xla/stream_executor/stream_executor_internal.h:124] SetPriority unimplemented for this stream.\n",
      "2023-11-25 00:14:42.073366: E ./tensorflow/compiler/xla/stream_executor/stream_executor_internal.h:124] SetPriority unimplemented for this stream.\n",
      "2023-11-25 00:14:42.090915: E ./tensorflow/compiler/xla/stream_executor/stream_executor_internal.h:124] SetPriority unimplemented for this stream.\n",
      "2023-11-25 00:14:42.108554: E ./tensorflow/compiler/xla/stream_executor/stream_executor_internal.h:124] SetPriority unimplemented for this stream.\n",
      "2023-11-25 00:14:42.126550: E ./tensorflow/compiler/xla/stream_executor/stream_executor_internal.h:124] SetPriority unimplemented for this stream.\n",
      "2023-11-25 00:14:42.144396: E ./tensorflow/compiler/xla/stream_executor/stream_executor_internal.h:124] SetPriority unimplemented for this stream.\n",
      "2023-11-25 00:15:30.047808: E tensorflow/core/grappler/optimizers/meta_optimizer.cc:961] model_pruner failed: INVALID_ARGUMENT: Graph does not contain terminal node AdamW/AdamW/AssignAddVariableOp.\n",
      "2023-11-25 00:15:34.566111: E ./tensorflow/compiler/xla/stream_executor/stream_executor_internal.h:124] SetPriority unimplemented for this stream.\n",
      "2023-11-25 00:15:34.569410: E ./tensorflow/compiler/xla/stream_executor/stream_executor_internal.h:124] SetPriority unimplemented for this stream.\n",
      "2023-11-25 00:15:34.569629: E ./tensorflow/compiler/xla/stream_executor/stream_executor_internal.h:124] SetPriority unimplemented for this stream.\n",
      "2023-11-25 00:15:34.569912: E ./tensorflow/compiler/xla/stream_executor/stream_executor_internal.h:124] SetPriority unimplemented for this stream.\n",
      "2023-11-25 00:15:34.570144: E ./tensorflow/compiler/xla/stream_executor/stream_executor_internal.h:124] SetPriority unimplemented for this stream.\n",
      "2023-11-25 00:15:34.570251: E ./tensorflow/compiler/xla/stream_executor/stream_executor_internal.h:124] SetPriority unimplemented for this stream.\n",
      "2023-11-25 00:16:31.540739: E ./tensorflow/compiler/xla/stream_executor/stream_executor_internal.h:124] SetPriority unimplemented for this stream.\n",
      "2023-11-25 00:16:31.541496: E ./tensorflow/compiler/xla/stream_executor/stream_executor_internal.h:124] SetPriority unimplemented for this stream.\n",
      "2023-11-25 00:16:31.543627: E ./tensorflow/compiler/xla/stream_executor/stream_executor_internal.h:124] SetPriority unimplemented for this stream.\n",
      "2023-11-25 00:16:31.543752: E ./tensorflow/compiler/xla/stream_executor/stream_executor_internal.h:124] SetPriority unimplemented for this stream.\n",
      "2023-11-25 00:16:31.543857: E ./tensorflow/compiler/xla/stream_executor/stream_executor_internal.h:124] SetPriority unimplemented for this stream.\n",
      "2023-11-25 00:16:31.543972: E ./tensorflow/compiler/xla/stream_executor/stream_executor_internal.h:124] SetPriority unimplemented for this stream.\n",
      "2023-11-25 00:16:31.544588: E ./tensorflow/compiler/xla/stream_executor/stream_executor_internal.h:124] SetPriority unimplemented for this stream.\n",
      "2023-11-25 00:16:31.546415: E ./tensorflow/compiler/xla/stream_executor/stream_executor_internal.h:124] SetPriority unimplemented for this stream.\n"
     ]
    },
    {
     "name": "stdout",
     "output_type": "stream",
     "text": [
      "  1/702 [..............................] - ETA: 21:22:57 - loss: 40.2169 - accuracy: 0.0469"
     ]
    },
    {
     "name": "stderr",
     "output_type": "stream",
     "text": [
      "2023-11-25 00:16:31.990021: E ./tensorflow/compiler/xla/stream_executor/stream_executor_internal.h:124] SetPriority unimplemented for this stream.\n",
      "2023-11-25 00:16:31.990486: E ./tensorflow/compiler/xla/stream_executor/stream_executor_internal.h:124] SetPriority unimplemented for this stream.\n"
     ]
    },
    {
     "name": "stdout",
     "output_type": "stream",
     "text": [
      " 13/702 [..............................] - ETA: 4:06 - loss: 268.4669 - accuracy: 0.5596"
     ]
    },
    {
     "name": "stderr",
     "output_type": "stream",
     "text": [
      "2023-11-25 00:16:36.274050: E ./tensorflow/compiler/xla/stream_executor/stream_executor_internal.h:124] SetPriority unimplemented for this stream.\n"
     ]
    },
    {
     "name": "stdout",
     "output_type": "stream",
     "text": [
      " 14/702 [..............................] - ETA: 4:05 - loss: 293.4902 - accuracy: 0.5286"
     ]
    },
    {
     "name": "stderr",
     "output_type": "stream",
     "text": [
      "2023-11-25 00:16:36.636047: E ./tensorflow/compiler/xla/stream_executor/stream_executor_internal.h:124] SetPriority unimplemented for this stream.\n",
      "2023-11-25 00:16:36.636221: E ./tensorflow/compiler/xla/stream_executor/stream_executor_internal.h:124] SetPriority unimplemented for this stream.\n",
      "2023-11-25 00:16:36.636605: E ./tensorflow/compiler/xla/stream_executor/stream_executor_internal.h:124] SetPriority unimplemented for this stream.\n"
     ]
    },
    {
     "name": "stdout",
     "output_type": "stream",
     "text": [
      " 28/702 [>.............................] - ETA: 4:00 - loss: 327.8851 - accuracy: 0.6301"
     ]
    },
    {
     "name": "stderr",
     "output_type": "stream",
     "text": [
      "2023-11-25 00:16:41.627333: E ./tensorflow/compiler/xla/stream_executor/stream_executor_internal.h:124] SetPriority unimplemented for this stream.\n"
     ]
    },
    {
     "name": "stdout",
     "output_type": "stream",
     "text": [
      " 57/702 [=>............................] - ETA: 3:50 - loss: 374.5287 - accuracy: 0.6500"
     ]
    },
    {
     "name": "stderr",
     "output_type": "stream",
     "text": [
      "2023-11-25 00:16:51.972821: E ./tensorflow/compiler/xla/stream_executor/stream_executor_internal.h:124] SetPriority unimplemented for this stream.\n"
     ]
    },
    {
     "name": "stdout",
     "output_type": "stream",
     "text": [
      "496/702 [====================>.........] - ETA: 1:13 - loss: 228.8071 - accuracy: 0.7113"
     ]
    },
    {
     "name": "stderr",
     "output_type": "stream",
     "text": [
      "2023-11-25 00:19:28.700924: E ./tensorflow/compiler/xla/stream_executor/stream_executor_internal.h:124] SetPriority unimplemented for this stream.\n"
     ]
    },
    {
     "name": "stdout",
     "output_type": "stream",
     "text": [
      "702/702 [==============================] - ETA: 0s - loss: 180.4722 - accuracy: 0.7127"
     ]
    },
    {
     "name": "stderr",
     "output_type": "stream",
     "text": [
      "2023-11-25 00:21:38.111625: E tensorflow/core/grappler/optimizers/meta_optimizer.cc:961] model_pruner failed: INVALID_ARGUMENT: Graph does not contain terminal node AssignAddVariableOp.\n"
     ]
    },
    {
     "name": "stdout",
     "output_type": "stream",
     "text": [
      "\n",
      "Epoch 1: accuracy improved from -inf to 0.71273, saving model to pho_rating.h5\n",
      "702/702 [==============================] - 450s 486ms/step - loss: 180.4722 - accuracy: 0.7127 - val_loss: 51.1516 - val_accuracy: 0.8516\n",
      "Epoch 2/30\n",
      "702/702 [==============================] - ETA: 0s - loss: 25.9029 - accuracy: 0.7770\n",
      "Epoch 2: accuracy improved from 0.71273 to 0.77698, saving model to pho_rating.h5\n",
      "702/702 [==============================] - 285s 406ms/step - loss: 25.9029 - accuracy: 0.7770 - val_loss: 1.2672 - val_accuracy: 0.8516\n",
      "Epoch 3/30\n",
      "702/702 [==============================] - ETA: 0s - loss: 0.8685 - accuracy: 0.8525\n",
      "Epoch 3: accuracy improved from 0.77698 to 0.85253, saving model to pho_rating.h5\n",
      "702/702 [==============================] - 285s 406ms/step - loss: 0.8685 - accuracy: 0.8525 - val_loss: 0.5829 - val_accuracy: 0.8516\n",
      "Epoch 4/30\n",
      "702/702 [==============================] - ETA: 0s - loss: 0.5811 - accuracy: 0.8525\n",
      "Epoch 4: accuracy did not improve from 0.85253\n",
      "702/702 [==============================] - 269s 383ms/step - loss: 0.5811 - accuracy: 0.8525 - val_loss: 0.5829 - val_accuracy: 0.8516\n",
      "Epoch 5/30\n",
      "702/702 [==============================] - ETA: 0s - loss: 0.5811 - accuracy: 0.8525\n",
      "Epoch 5: accuracy did not improve from 0.85253\n",
      "702/702 [==============================] - 269s 383ms/step - loss: 0.5811 - accuracy: 0.8525 - val_loss: 0.5830 - val_accuracy: 0.8516\n",
      "Epoch 6/30\n",
      "702/702 [==============================] - ETA: 0s - loss: 0.5813 - accuracy: 0.8525\n",
      "Epoch 6: accuracy did not improve from 0.85253\n",
      "702/702 [==============================] - 269s 383ms/step - loss: 0.5813 - accuracy: 0.8525 - val_loss: 0.5829 - val_accuracy: 0.8516\n",
      "Epoch 7/30\n",
      "702/702 [==============================] - ETA: 0s - loss: 0.5813 - accuracy: 0.8525\n",
      "Epoch 7: accuracy did not improve from 0.85253\n",
      "702/702 [==============================] - 269s 383ms/step - loss: 0.5813 - accuracy: 0.8525 - val_loss: 0.5837 - val_accuracy: 0.8516\n",
      "Epoch 8/30\n",
      "702/702 [==============================] - ETA: 0s - loss: 0.5814 - accuracy: 0.8525\n",
      "Epoch 8: accuracy did not improve from 0.85253\n",
      "702/702 [==============================] - 269s 383ms/step - loss: 0.5814 - accuracy: 0.8525 - val_loss: 0.5839 - val_accuracy: 0.8516\n",
      "Epoch 9/30\n",
      "702/702 [==============================] - ETA: 0s - loss: 0.5816 - accuracy: 0.8525\n",
      "Epoch 9: accuracy did not improve from 0.85253\n",
      "702/702 [==============================] - 269s 383ms/step - loss: 0.5816 - accuracy: 0.8525 - val_loss: 0.5835 - val_accuracy: 0.8516\n",
      "Epoch 10/30\n",
      "702/702 [==============================] - ETA: 0s - loss: 0.5819 - accuracy: 0.8525\n",
      "Epoch 10: accuracy did not improve from 0.85253\n",
      "702/702 [==============================] - 268s 382ms/step - loss: 0.5819 - accuracy: 0.8525 - val_loss: 0.5834 - val_accuracy: 0.8516\n",
      "Epoch 11/30\n",
      "702/702 [==============================] - ETA: 0s - loss: 0.5818 - accuracy: 0.8525\n",
      "Epoch 11: accuracy did not improve from 0.85253\n",
      "702/702 [==============================] - 269s 383ms/step - loss: 0.5818 - accuracy: 0.8525 - val_loss: 0.5834 - val_accuracy: 0.8516\n",
      "Epoch 12/30\n",
      "702/702 [==============================] - ETA: 0s - loss: 0.5817 - accuracy: 0.8525\n",
      "Epoch 12: accuracy did not improve from 0.85253\n",
      "702/702 [==============================] - 268s 382ms/step - loss: 0.5817 - accuracy: 0.8525 - val_loss: 0.5831 - val_accuracy: 0.8516\n",
      "Epoch 13/30\n",
      "702/702 [==============================] - ETA: 0s - loss: 0.5818 - accuracy: 0.8525\n",
      "Epoch 13: accuracy did not improve from 0.85253\n",
      "702/702 [==============================] - 269s 383ms/step - loss: 0.5818 - accuracy: 0.8525 - val_loss: 0.5845 - val_accuracy: 0.8516\n",
      "Epoch 14/30\n",
      "702/702 [==============================] - ETA: 0s - loss: 0.5819 - accuracy: 0.8525\n",
      "Epoch 14: accuracy did not improve from 0.85253\n",
      "702/702 [==============================] - 268s 382ms/step - loss: 0.5819 - accuracy: 0.8525 - val_loss: 0.5835 - val_accuracy: 0.8516\n",
      "Epoch 15/30\n",
      "702/702 [==============================] - ETA: 0s - loss: 0.5819 - accuracy: 0.8525\n",
      "Epoch 15: accuracy did not improve from 0.85253\n",
      "702/702 [==============================] - 268s 382ms/step - loss: 0.5819 - accuracy: 0.8525 - val_loss: 0.5845 - val_accuracy: 0.8516\n",
      "Epoch 16/30\n",
      "702/702 [==============================] - ETA: 0s - loss: 0.5822 - accuracy: 0.8525\n",
      "Epoch 16: accuracy did not improve from 0.85253\n",
      "702/702 [==============================] - 268s 382ms/step - loss: 0.5822 - accuracy: 0.8525 - val_loss: 0.5837 - val_accuracy: 0.8516\n",
      "Epoch 17/30\n",
      "702/702 [==============================] - ETA: 0s - loss: 0.5820 - accuracy: 0.8525\n",
      "Epoch 17: accuracy did not improve from 0.85253\n",
      "702/702 [==============================] - 269s 383ms/step - loss: 0.5820 - accuracy: 0.8525 - val_loss: 0.5830 - val_accuracy: 0.8516\n",
      "Epoch 18/30\n",
      "702/702 [==============================] - ETA: 0s - loss: 0.5822 - accuracy: 0.8525\n",
      "Epoch 18: accuracy did not improve from 0.85253\n",
      "702/702 [==============================] - 268s 382ms/step - loss: 0.5822 - accuracy: 0.8525 - val_loss: 0.5830 - val_accuracy: 0.8516\n",
      "Epoch 19/30\n",
      "702/702 [==============================] - ETA: 0s - loss: 0.5819 - accuracy: 0.8525\n",
      "Epoch 19: accuracy did not improve from 0.85253\n",
      "702/702 [==============================] - 268s 382ms/step - loss: 0.5819 - accuracy: 0.8525 - val_loss: 0.5844 - val_accuracy: 0.8516\n",
      "Epoch 20/30\n",
      "702/702 [==============================] - ETA: 0s - loss: 0.5819 - accuracy: 0.8525\n",
      "Epoch 20: accuracy did not improve from 0.85253\n",
      "702/702 [==============================] - 268s 382ms/step - loss: 0.5819 - accuracy: 0.8525 - val_loss: 0.5834 - val_accuracy: 0.8516\n",
      "Epoch 21/30\n",
      "702/702 [==============================] - ETA: 0s - loss: 0.5820 - accuracy: 0.8525\n",
      "Epoch 21: accuracy did not improve from 0.85253\n",
      "702/702 [==============================] - 268s 382ms/step - loss: 0.5820 - accuracy: 0.8525 - val_loss: 0.5843 - val_accuracy: 0.8516\n",
      "Epoch 22/30\n",
      "702/702 [==============================] - ETA: 0s - loss: 0.5821 - accuracy: 0.8525\n",
      "Epoch 22: accuracy did not improve from 0.85253\n",
      "702/702 [==============================] - 268s 382ms/step - loss: 0.5821 - accuracy: 0.8525 - val_loss: 0.5830 - val_accuracy: 0.8516\n",
      "Epoch 23/30\n",
      "702/702 [==============================] - ETA: 0s - loss: 0.5820 - accuracy: 0.8525\n",
      "Epoch 23: accuracy did not improve from 0.85253\n",
      "702/702 [==============================] - 268s 382ms/step - loss: 0.5820 - accuracy: 0.8525 - val_loss: 0.5835 - val_accuracy: 0.8516\n"
     ]
    }
   ],
   "source": [
    "# Sử dụng dữ liệu đã resample để train mô hình\n",
    "history = model_rating.fit(\n",
    "    X_train,\n",
    "    y_train,\n",
    "    epochs=epochs,\n",
    "    validation_split=validation_split,\n",
    "    batch_size=batch_size,\n",
    "    callbacks=[cp_callback, es_callback],\n",
    "    verbose=1)\n"
   ]
  },
  {
   "cell_type": "markdown",
   "id": "4aa283c0",
   "metadata": {
    "papermill": {
     "duration": 0.958111,
     "end_time": "2023-11-25T02:01:14.973387",
     "exception": false,
     "start_time": "2023-11-25T02:01:14.015276",
     "status": "completed"
    },
    "tags": []
   },
   "source": [
    "* Vẽ biểu đồ"
   ]
  },
  {
   "cell_type": "code",
   "execution_count": 22,
   "id": "19ff839b",
   "metadata": {
    "execution": {
     "iopub.execute_input": "2023-11-25T02:01:16.744034Z",
     "iopub.status.busy": "2023-11-25T02:01:16.743578Z",
     "iopub.status.idle": "2023-11-25T02:01:17.076569Z",
     "shell.execute_reply": "2023-11-25T02:01:17.075480Z"
    },
    "papermill": {
     "duration": 1.191763,
     "end_time": "2023-11-25T02:01:17.078261",
     "exception": false,
     "start_time": "2023-11-25T02:01:15.886498",
     "status": "completed"
    },
    "tags": []
   },
   "outputs": [
    {
     "data": {
      "image/png": "[encoded data removed]",
      "text/plain": [
       "<Figure size 1600x500 with 2 Axes>"
      ]
     },
     "metadata": {},
     "output_type": "display_data"
    }
   ],
   "source": [
    "loss = history.history['loss']\n",
    "acc = history.history['accuracy']\n",
    "val_loss = history.history['val_loss']\n",
    "val_acc = history.history['val_accuracy']\n",
    "\n",
    "epochs = range(1, len(loss) + 1)\n",
    "\n",
    "plt.figure(figsize=(16, 5))\n",
    "# Accuracy\n",
    "plt.subplot(1,2,1)\n",
    "plt.plot(epochs, acc, 'b', label = 'Training accuracy')\n",
    "plt.plot(epochs, val_acc, 'r', label = 'Validation accuracy')\n",
    "plt.legend()\n",
    "\n",
    "# Loss\n",
    "plt.subplot(1,2,2)\n",
    "plt.plot(epochs, loss, 'b', label = 'Trainig loss')\n",
    "plt.plot(epochs, val_loss, 'r', label = 'Validation loss')\n",
    "plt.legend()\n",
    "\n",
    "plt.show()"
   ]
  },
  {
   "cell_type": "code",
   "execution_count": 23,
   "id": "58c6eaa1",
   "metadata": {
    "execution": {
     "iopub.execute_input": "2023-11-25T02:01:18.875225Z",
     "iopub.status.busy": "2023-11-25T02:01:18.874776Z",
     "iopub.status.idle": "2023-11-25T02:01:48.376451Z",
     "shell.execute_reply": "2023-11-25T02:01:48.375350Z"
    },
    "papermill": {
     "duration": 30.400793,
     "end_time": "2023-11-25T02:01:48.378262",
     "exception": false,
     "start_time": "2023-11-25T02:01:17.977469",
     "status": "completed"
    },
    "tags": []
   },
   "outputs": [
    {
     "name": "stdout",
     "output_type": "stream",
     "text": [
      "Evaluate on test data\n",
      "220/220 [==============================] - 29s 130ms/step - loss: 0.5792 - accuracy: 0.8532\n",
      "test loss, test acc: [0.5791956782341003, 0.8532432913780212]\n"
     ]
    }
   ],
   "source": [
    "y_test = tf.keras.utils.to_categorical(y_test)\n",
    "print(\"Evaluate on test data\")\n",
    "results = model_rating.evaluate(X_test, y_test, batch_size=512)\n",
    "print(\"test loss, test acc:\", results)"
   ]
  },
  {
   "cell_type": "code",
   "execution_count": null,
   "id": "8b085536",
   "metadata": {
    "papermill": {
     "duration": 0.922672,
     "end_time": "2023-11-25T02:01:50.227240",
     "exception": false,
     "start_time": "2023-11-25T02:01:49.304568",
     "status": "completed"
    },
    "tags": []
   },
   "outputs": [],
   "source": []
  }
 ],
 "metadata": {
  "kaggle": {
   "accelerator": "tpu1vmV38",
   "dataSources": [
    {
     "datasetId": 4038302,
     "sourceId": 7022603,
     "sourceType": "datasetVersion"
    },
    {
     "datasetId": 4044456,
     "sourceId": 7031465,
     "sourceType": "datasetVersion"
    },
    {
     "datasetId": 4044827,
     "sourceId": 7031990,
     "sourceType": "datasetVersion"
    },
    {
     "datasetId": 4049876,
     "sourceId": 7039240,
     "sourceType": "datasetVersion"
    },
    {
     "datasetId": 4054964,
     "sourceId": 7046726,
     "sourceType": "datasetVersion"
    }
   ],
   "dockerImageVersionId": 30589,
   "isGpuEnabled": false,
   "isInternetEnabled": true,
   "language": "python",
   "sourceType": "notebook"
  },
  "kernelspec": {
   "display_name": "Python 3",
   "language": "python",
   "name": "python3"
  },
  "language_info": {
   "codemirror_mode": {
    "name": "ipython",
    "version": 3
   },
   "file_extension": ".py",
   "mimetype": "text/x-python",
   "name": "python",
   "nbconvert_exporter": "python",
   "pygments_lexer": "ipython3",
   "version": "3.11.2"
  },
  "papermill": {
   "default_parameters": {},
   "duration": 6622.992463,
   "end_time": "2023-11-25T02:01:59.161828",
   "environment_variables": {},
   "exception": null,
   "input_path": "__notebook__.ipynb",
   "output_path": "__notebook__.ipynb",
   "parameters": {},
   "start_time": "2023-11-25T00:11:36.169365",
   "version": "2.5.0"
  }
 },
 "nbformat": 4,
 "nbformat_minor": 5
}
