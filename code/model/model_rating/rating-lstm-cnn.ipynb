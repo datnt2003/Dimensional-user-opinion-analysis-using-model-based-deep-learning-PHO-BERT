{
 "cells": [
  {
   "cell_type": "code",
   "execution_count": 1,
   "id": "f0bbce2c",
   "metadata": {
    "_cell_guid": "b1076dfc-b9ad-4769-8c92-a6c4dae69d19",
    "_uuid": "8f2839f25d086af736a60e9eeb907d3b93b6e0e5",
    "execution": {
     "iopub.execute_input": "2023-11-25T00:44:55.544194Z",
     "iopub.status.busy": "2023-11-25T00:44:55.543933Z",
     "iopub.status.idle": "2023-11-25T00:45:19.807587Z",
     "shell.execute_reply": "2023-11-25T00:45:19.806812Z"
    },
    "papermill": {
     "duration": 24.273339,
     "end_time": "2023-11-25T00:45:19.810031",
     "exception": false,
     "start_time": "2023-11-25T00:44:55.536692",
     "status": "completed"
    },
    "tags": []
   },
   "outputs": [
    {
     "name": "stdout",
     "output_type": "stream",
     "text": [
      "Requirement already satisfied: pip in /usr/local/lib/python3.10/site-packages (23.0.1)\r\n",
      "Collecting pip\r\n",
      "  Downloading pip-23.3.1-py3-none-any.whl (2.1 MB)\r\n",
      "\u001b[2K     \u001b[90m━━━━━━━━━━━━━━━━━━━━━━━━━━━━━━━━━━━━━━━━\u001b[0m \u001b[32m2.1/2.1 MB\u001b[0m \u001b[31m8.3 MB/s\u001b[0m eta \u001b[36m0:00:00\u001b[0m\r\n",
      "\u001b[?25hInstalling collected packages: pip\r\n",
      "  Attempting uninstall: pip\r\n",
      "    Found existing installation: pip 23.0.1\r\n",
      "    Uninstalling pip-23.0.1:\r\n",
      "      Successfully uninstalled pip-23.0.1\r\n",
      "Successfully installed pip-23.3.1\r\n",
      "\u001b[33mWARNING: Running pip as the 'root' user can result in broken permissions and conflicting behaviour with the system package manager. It is recommended to use a virtual environment instead: https://pip.pypa.io/warnings/venv\u001b[0m\u001b[33m\r\n",
      "\u001b[0mRequirement already satisfied: tensorflow_addons in /usr/local/lib/python3.10/site-packages (0.22.0)\r\n",
      "Requirement already satisfied: packaging in /usr/local/lib/python3.10/site-packages (from tensorflow_addons) (23.2)\r\n",
      "Requirement already satisfied: typeguard<3.0.0,>=2.7 in /usr/local/lib/python3.10/site-packages (from tensorflow_addons) (2.13.3)\r\n",
      "\u001b[33mWARNING: Running pip as the 'root' user can result in broken permissions and conflicting behaviour with the system package manager. It is recommended to use a virtual environment instead: https://pip.pypa.io/warnings/venv\u001b[0m\u001b[33m\r\n",
      "\u001b[0mCollecting seaborn\r\n",
      "  Downloading seaborn-0.13.0-py3-none-any.whl.metadata (5.3 kB)\r\n",
      "Requirement already satisfied: numpy!=1.24.0,>=1.20 in /usr/local/lib/python3.10/site-packages (from seaborn) (1.26.1)\r\n",
      "Requirement already satisfied: pandas>=1.2 in /usr/local/lib/python3.10/site-packages (from seaborn) (2.1.3)\r\n",
      "Requirement already satisfied: matplotlib!=3.6.1,>=3.3 in /usr/local/lib/python3.10/site-packages (from seaborn) (3.8.1)\r\n",
      "Requirement already satisfied: contourpy>=1.0.1 in /usr/local/lib/python3.10/site-packages (from matplotlib!=3.6.1,>=3.3->seaborn) (1.2.0)\r\n",
      "Requirement already satisfied: cycler>=0.10 in /usr/local/lib/python3.10/site-packages (from matplotlib!=3.6.1,>=3.3->seaborn) (0.12.1)\r\n",
      "Requirement already satisfied: fonttools>=4.22.0 in /usr/local/lib/python3.10/site-packages (from matplotlib!=3.6.1,>=3.3->seaborn) (4.44.0)\r\n",
      "Requirement already satisfied: kiwisolver>=1.3.1 in /usr/local/lib/python3.10/site-packages (from matplotlib!=3.6.1,>=3.3->seaborn) (1.4.5)\r\n",
      "Requirement already satisfied: packaging>=20.0 in /usr/local/lib/python3.10/site-packages (from matplotlib!=3.6.1,>=3.3->seaborn) (23.2)\r\n",
      "Requirement already satisfied: pillow>=8 in /usr/local/lib/python3.10/site-packages (from matplotlib!=3.6.1,>=3.3->seaborn) (10.1.0)\r\n",
      "Requirement already satisfied: pyparsing>=2.3.1 in /usr/local/lib/python3.10/site-packages (from matplotlib!=3.6.1,>=3.3->seaborn) (3.1.1)\r\n",
      "Requirement already satisfied: python-dateutil>=2.7 in /usr/local/lib/python3.10/site-packages (from matplotlib!=3.6.1,>=3.3->seaborn) (2.8.2)\r\n",
      "Requirement already satisfied: pytz>=2020.1 in /usr/local/lib/python3.10/site-packages (from pandas>=1.2->seaborn) (2023.3.post1)\r\n",
      "Requirement already satisfied: tzdata>=2022.1 in /usr/local/lib/python3.10/site-packages (from pandas>=1.2->seaborn) (2023.3)\r\n",
      "Requirement already satisfied: six>=1.5 in /usr/local/lib/python3.10/site-packages (from python-dateutil>=2.7->matplotlib!=3.6.1,>=3.3->seaborn) (1.16.0)\r\n",
      "Downloading seaborn-0.13.0-py3-none-any.whl (294 kB)\r\n",
      "\u001b[2K   \u001b[90m━━━━━━━━━━━━━━━━━━━━━━━━━━━━━━━━━━━━━━━━\u001b[0m \u001b[32m294.6/294.6 kB\u001b[0m \u001b[31m4.4 MB/s\u001b[0m eta \u001b[36m0:00:00\u001b[0m\r\n",
      "\u001b[?25hInstalling collected packages: seaborn\r\n",
      "Successfully installed seaborn-0.13.0\r\n",
      "\u001b[33mWARNING: Running pip as the 'root' user can result in broken permissions and conflicting behaviour with the system package manager. It is recommended to use a virtual environment instead: https://pip.pypa.io/warnings/venv\u001b[0m\u001b[33m\r\n",
      "\u001b[0mRequirement already satisfied: transformers in /usr/local/lib/python3.10/site-packages (4.35.0)\r\n",
      "Requirement already satisfied: filelock in /usr/local/lib/python3.10/site-packages (from transformers) (3.13.1)\r\n",
      "Requirement already satisfied: huggingface-hub<1.0,>=0.16.4 in /usr/local/lib/python3.10/site-packages (from transformers) (0.17.3)\r\n",
      "Requirement already satisfied: numpy>=1.17 in /usr/local/lib/python3.10/site-packages (from transformers) (1.26.1)\r\n",
      "Requirement already satisfied: packaging>=20.0 in /usr/local/lib/python3.10/site-packages (from transformers) (23.2)\r\n",
      "Requirement already satisfied: pyyaml>=5.1 in /usr/local/lib/python3.10/site-packages (from transformers) (6.0.1)\r\n",
      "Requirement already satisfied: regex!=2019.12.17 in /usr/local/lib/python3.10/site-packages (from transformers) (2023.10.3)\r\n",
      "Requirement already satisfied: requests in /usr/local/lib/python3.10/site-packages (from transformers) (2.31.0)\r\n",
      "Requirement already satisfied: tokenizers<0.15,>=0.14 in /usr/local/lib/python3.10/site-packages (from transformers) (0.14.1)\r\n",
      "Requirement already satisfied: safetensors>=0.3.1 in /usr/local/lib/python3.10/site-packages (from transformers) (0.4.0)\r\n",
      "Requirement already satisfied: tqdm>=4.27 in /usr/local/lib/python3.10/site-packages (from transformers) (4.66.1)\r\n",
      "Requirement already satisfied: fsspec in /usr/local/lib/python3.10/site-packages (from huggingface-hub<1.0,>=0.16.4->transformers) (2023.10.0)\r\n",
      "Requirement already satisfied: typing-extensions>=3.7.4.3 in /usr/local/lib/python3.10/site-packages (from huggingface-hub<1.0,>=0.16.4->transformers) (4.8.0)\r\n",
      "Requirement already satisfied: charset-normalizer<4,>=2 in /usr/local/lib/python3.10/site-packages (from requests->transformers) (3.3.2)\r\n",
      "Requirement already satisfied: idna<4,>=2.5 in /usr/local/lib/python3.10/site-packages (from requests->transformers) (3.4)\r\n",
      "Requirement already satisfied: urllib3<3,>=1.21.1 in /usr/local/lib/python3.10/site-packages (from requests->transformers) (2.0.7)\r\n",
      "Requirement already satisfied: certifi>=2017.4.17 in /usr/local/lib/python3.10/site-packages (from requests->transformers) (2023.7.22)\r\n",
      "\u001b[33mWARNING: Running pip as the 'root' user can result in broken permissions and conflicting behaviour with the system package manager. It is recommended to use a virtual environment instead: https://pip.pypa.io/warnings/venv\u001b[0m\u001b[33m\r\n",
      "\u001b[0mRequirement already satisfied: scikit-learn in /usr/local/lib/python3.10/site-packages (1.3.2)\r\n",
      "Requirement already satisfied: numpy<2.0,>=1.17.3 in /usr/local/lib/python3.10/site-packages (from scikit-learn) (1.26.1)\r\n",
      "Requirement already satisfied: scipy>=1.5.0 in /usr/local/lib/python3.10/site-packages (from scikit-learn) (1.11.3)\r\n",
      "Requirement already satisfied: joblib>=1.1.1 in /usr/local/lib/python3.10/site-packages (from scikit-learn) (1.3.2)\r\n",
      "Requirement already satisfied: threadpoolctl>=2.0.0 in /usr/local/lib/python3.10/site-packages (from scikit-learn) (3.2.0)\r\n",
      "\u001b[33mWARNING: Running pip as the 'root' user can result in broken permissions and conflicting behaviour with the system package manager. It is recommended to use a virtual environment instead: https://pip.pypa.io/warnings/venv\u001b[0m\u001b[33m\r\n",
      "\u001b[0mCollecting imbalanced-learn\r\n",
      "  Downloading imbalanced_learn-0.11.0-py3-none-any.whl.metadata (8.3 kB)\r\n",
      "Requirement already satisfied: numpy>=1.17.3 in /usr/local/lib/python3.10/site-packages (from imbalanced-learn) (1.26.1)\r\n",
      "Requirement already satisfied: scipy>=1.5.0 in /usr/local/lib/python3.10/site-packages (from imbalanced-learn) (1.11.3)\r\n",
      "Requirement already satisfied: scikit-learn>=1.0.2 in /usr/local/lib/python3.10/site-packages (from imbalanced-learn) (1.3.2)\r\n",
      "Requirement already satisfied: joblib>=1.1.1 in /usr/local/lib/python3.10/site-packages (from imbalanced-learn) (1.3.2)\r\n",
      "Requirement already satisfied: threadpoolctl>=2.0.0 in /usr/local/lib/python3.10/site-packages (from imbalanced-learn) (3.2.0)\r\n",
      "Downloading imbalanced_learn-0.11.0-py3-none-any.whl (235 kB)\r\n",
      "\u001b[2K   \u001b[90m━━━━━━━━━━━━━━━━━━━━━━━━━━━━━━━━━━━━━━━━\u001b[0m \u001b[32m235.6/235.6 kB\u001b[0m \u001b[31m4.8 MB/s\u001b[0m eta \u001b[36m0:00:00\u001b[0m\r\n",
      "\u001b[?25hInstalling collected packages: imbalanced-learn\r\n",
      "Successfully installed imbalanced-learn-0.11.0\r\n",
      "\u001b[33mWARNING: Running pip as the 'root' user can result in broken permissions and conflicting behaviour with the system package manager. It is recommended to use a virtual environment instead: https://pip.pypa.io/warnings/venv\u001b[0m\u001b[33m\r\n",
      "\u001b[0m"
     ]
    }
   ],
   "source": [
    "!pip install --upgrade pip\n",
    "!pip install tensorflow_addons\n",
    "!pip install seaborn\n",
    "!pip install transformers\n",
    "!pip install scikit-learn\n",
    "!pip install imbalanced-learn\n"
   ]
  },
  {
   "cell_type": "code",
   "execution_count": 1,
   "id": "3d2228c3",
   "metadata": {
    "execution": {
     "iopub.execute_input": "2023-11-25T00:45:19.828640Z",
     "iopub.status.busy": "2023-11-25T00:45:19.828122Z",
     "iopub.status.idle": "2023-11-25T00:45:59.270499Z",
     "shell.execute_reply": "2023-11-25T00:45:59.269762Z"
    },
    "papermill": {
     "duration": 39.453711,
     "end_time": "2023-11-25T00:45:59.273103",
     "exception": false,
     "start_time": "2023-11-25T00:45:19.819392",
     "status": "completed"
    },
    "tags": []
   },
   "outputs": [
    {
     "name": "stderr",
     "output_type": "stream",
     "text": [
      "/Library/Frameworks/Python.framework/Versions/3.11/lib/python3.11/site-packages/tensorflow_addons/utils/tfa_eol_msg.py:23: UserWarning: \n",
      "\n",
      "TensorFlow Addons (TFA) has ended development and introduction of new features.\n",
      "TFA has entered a minimal maintenance and release mode until a planned end of life in May 2024.\n",
      "Please modify downstream libraries to take dependencies from other repositories in our TensorFlow community (e.g. Keras, Keras-CV, and Keras-NLP). \n",
      "\n",
      "For more information see: https://github.com/tensorflow/addons/issues/2807 \n",
      "\n",
      "  warnings.warn(\n",
      "/Library/Frameworks/Python.framework/Versions/3.11/lib/python3.11/site-packages/tensorflow_addons/utils/ensure_tf_install.py:53: UserWarning: Tensorflow Addons supports using Python ops for all Tensorflow versions above or equal to 2.12.0 and strictly below 2.15.0 (nightly versions are not supported). \n",
      " The versions of TensorFlow you are currently using is 2.15.0 and is not supported. \n",
      "Some things might work, some things might not.\n",
      "If you were to encounter a bug, do not file an issue.\n",
      "If you want to make sure you're using a tested and supported configuration, either change the TensorFlow version or the TensorFlow Addons's version. \n",
      "You can find the compatibility matrix in TensorFlow Addon's readme:\n",
      "https://github.com/tensorflow/addons\n",
      "  warnings.warn(\n"
     ]
    }
   ],
   "source": [
    "import numpy as np\n",
    "import pandas as pd\n",
    "import matplotlib.pyplot as plt\n",
    "import seaborn as sns\n",
    "from sklearn.preprocessing import LabelEncoder\n",
    "from sklearn.model_selection import train_test_split\n",
    "\n",
    "\n",
    "import tensorflow as tf\n",
    "import tensorflow_addons as tfa\n",
    "\n",
    "from transformers import TFAutoModel, AutoTokenizer\n",
    "\n",
    "\n",
    "from tensorflow.keras import Input, Model\n",
    "from tensorflow.keras import layers\n",
    "from tensorflow.keras.layers import Dense, Dropout, Conv1D, MaxPooling1D, Bidirectional, LSTM, Flatten,GlobalMaxPooling1D,BatchNormalization\n",
    "from tensorflow.keras.optimizers import Adam\n",
    "from tensorflow.keras import regularizers\n",
    "\n",
    "from tensorflow.keras.callbacks import ModelCheckpoint, EarlyStopping\n",
    "\n",
    "from transformers import TFRobertaModel\n",
    "from keras.models import load_model\n",
    "from keras.utils import CustomObjectScope\n",
    "\n",
    "import warnings\n",
    "warnings.filterwarnings(\"ignore\")"
   ]
  },
  {
   "cell_type": "markdown",
   "id": "552e0e0e",
   "metadata": {
    "papermill": {
     "duration": 0.008244,
     "end_time": "2023-11-25T00:45:59.289696",
     "exception": false,
     "start_time": "2023-11-25T00:45:59.281452",
     "status": "completed"
    },
    "tags": []
   },
   "source": [
    "* Đọc dữ liệu"
   ]
  },
  {
   "cell_type": "code",
   "execution_count": 2,
   "id": "51e51115",
   "metadata": {
    "execution": {
     "iopub.execute_input": "2023-11-25T00:45:59.307507Z",
     "iopub.status.busy": "2023-11-25T00:45:59.306930Z",
     "iopub.status.idle": "2023-11-25T00:46:01.586079Z",
     "shell.execute_reply": "2023-11-25T00:46:01.585307Z"
    },
    "papermill": {
     "duration": 2.290301,
     "end_time": "2023-11-25T00:46:01.588002",
     "exception": false,
     "start_time": "2023-11-25T00:45:59.297701",
     "status": "completed"
    },
    "tags": []
   },
   "outputs": [
    {
     "data": {
      "text/html": [
       "<div>\n",
       "<style scoped>\n",
       "    .dataframe tbody tr th:only-of-type {\n",
       "        vertical-align: middle;\n",
       "    }\n",
       "\n",
       "    .dataframe tbody tr th {\n",
       "        vertical-align: top;\n",
       "    }\n",
       "\n",
       "    .dataframe thead th {\n",
       "        text-align: right;\n",
       "    }\n",
       "</style>\n",
       "<table border=\"1\" class=\"dataframe\">\n",
       "  <thead>\n",
       "    <tr style=\"text-align: right;\">\n",
       "      <th></th>\n",
       "      <th>comment</th>\n",
       "      <th>rating_star</th>\n",
       "      <th>khia_canh</th>\n",
       "    </tr>\n",
       "  </thead>\n",
       "  <tbody>\n",
       "    <tr>\n",
       "      <th>0</th>\n",
       "      <td>mô tả sai 60 cửa hàng giao bao nhiêu bẻ 50 nhắ...</td>\n",
       "      <td>negative</td>\n",
       "      <td>Chất lượng sản phẩm, Dịch vụ khách hàng, Giao ...</td>\n",
       "    </tr>\n",
       "    <tr>\n",
       "      <th>1</th>\n",
       "      <td>sản phẩm cửa hàng hài sản phẩm hàng hơi lâu4 ủ...</td>\n",
       "      <td>negative</td>\n",
       "      <td>Dịch vụ khách hàng</td>\n",
       "    </tr>\n",
       "    <tr>\n",
       "      <th>2</th>\n",
       "      <td>giao hàng cửa hàng thèm phục vụ kém nhắn đợi t...</td>\n",
       "      <td>negative</td>\n",
       "      <td>Chất lượng sản phẩm, Dịch vụ khách hàng, Giao ...</td>\n",
       "    </tr>\n",
       "    <tr>\n",
       "      <th>3</th>\n",
       "      <td>chất sản phẩm tệ hại y cửa hàng hàng khuyên cử...</td>\n",
       "      <td>negative</td>\n",
       "      <td>Chất lượng sản phẩm, Dịch vụ khách hàng, Giao ...</td>\n",
       "    </tr>\n",
       "    <tr>\n",
       "      <th>4</th>\n",
       "      <td>sản phẩm giao cửa hàng phục vụ nhiệt tình 2 sả...</td>\n",
       "      <td>negative</td>\n",
       "      <td>Dịch vụ khách hàng, Giao hàng</td>\n",
       "    </tr>\n",
       "  </tbody>\n",
       "</table>\n",
       "</div>"
      ],
      "text/plain": [
       "                                             comment rating_star  \\\n",
       "0  mô tả sai 60 cửa hàng giao bao nhiêu bẻ 50 nhắ...    negative   \n",
       "1  sản phẩm cửa hàng hài sản phẩm hàng hơi lâu4 ủ...    negative   \n",
       "2  giao hàng cửa hàng thèm phục vụ kém nhắn đợi t...    negative   \n",
       "3  chất sản phẩm tệ hại y cửa hàng hàng khuyên cử...    negative   \n",
       "4  sản phẩm giao cửa hàng phục vụ nhiệt tình 2 sả...    negative   \n",
       "\n",
       "                                           khia_canh  \n",
       "0  Chất lượng sản phẩm, Dịch vụ khách hàng, Giao ...  \n",
       "1                                 Dịch vụ khách hàng  \n",
       "2  Chất lượng sản phẩm, Dịch vụ khách hàng, Giao ...  \n",
       "3  Chất lượng sản phẩm, Dịch vụ khách hàng, Giao ...  \n",
       "4                      Dịch vụ khách hàng, Giao hàng  "
      ]
     },
     "execution_count": 2,
     "metadata": {},
     "output_type": "execute_result"
    }
   ],
   "source": [
    "df = pd.read_csv('/Users/datnguyen/Documents/hoc_truong/project/NLP/Nhom_10/data/data.tsv',sep='\\t')\n",
    "df.head()"
   ]
  },
  {
   "cell_type": "markdown",
   "id": "6eabe103",
   "metadata": {
    "papermill": {
     "duration": 0.007618,
     "end_time": "2023-11-25T00:46:02.755702",
     "exception": false,
     "start_time": "2023-11-25T00:46:02.748084",
     "status": "completed"
    },
    "tags": []
   },
   "source": [
    "* Chọn dữ liệu"
   ]
  },
  {
   "cell_type": "code",
   "execution_count": 3,
   "id": "98df7aaa",
   "metadata": {
    "execution": {
     "iopub.execute_input": "2023-11-25T00:46:02.805210Z",
     "iopub.status.busy": "2023-11-25T00:46:02.804911Z",
     "iopub.status.idle": "2023-11-25T00:46:02.808604Z",
     "shell.execute_reply": "2023-11-25T00:46:02.807993Z"
    },
    "papermill": {
     "duration": 0.014222,
     "end_time": "2023-11-25T00:46:02.810142",
     "exception": false,
     "start_time": "2023-11-25T00:46:02.795920",
     "status": "completed"
    },
    "tags": []
   },
   "outputs": [],
   "source": [
    "X = df.comment\n",
    "y = df.rating_star"
   ]
  },
  {
   "cell_type": "markdown",
   "id": "fdf3cafe",
   "metadata": {
    "papermill": {
     "duration": 0.007635,
     "end_time": "2023-11-25T00:46:02.825516",
     "exception": false,
     "start_time": "2023-11-25T00:46:02.817881",
     "status": "completed"
    },
    "tags": []
   },
   "source": [
    "* LabelEncoder"
   ]
  },
  {
   "cell_type": "code",
   "execution_count": 4,
   "id": "3f3f9c50",
   "metadata": {
    "execution": {
     "iopub.execute_input": "2023-11-25T00:46:02.842091Z",
     "iopub.status.busy": "2023-11-25T00:46:02.841857Z",
     "iopub.status.idle": "2023-11-25T00:46:02.845104Z",
     "shell.execute_reply": "2023-11-25T00:46:02.844424Z"
    },
    "papermill": {
     "duration": 0.013673,
     "end_time": "2023-11-25T00:46:02.846718",
     "exception": false,
     "start_time": "2023-11-25T00:46:02.833045",
     "status": "completed"
    },
    "tags": []
   },
   "outputs": [],
   "source": [
    "le_rating = LabelEncoder()"
   ]
  },
  {
   "cell_type": "code",
   "execution_count": 5,
   "id": "4137b174",
   "metadata": {
    "execution": {
     "iopub.execute_input": "2023-11-25T00:46:02.862942Z",
     "iopub.status.busy": "2023-11-25T00:46:02.862721Z",
     "iopub.status.idle": "2023-11-25T00:47:20.066867Z",
     "shell.execute_reply": "2023-11-25T00:47:20.065743Z"
    },
    "papermill": {
     "duration": 77.215481,
     "end_time": "2023-11-25T00:47:20.069575",
     "exception": false,
     "start_time": "2023-11-25T00:46:02.854094",
     "status": "completed"
    },
    "tags": []
   },
   "outputs": [],
   "source": [
    "MAX_LEN = 200\n",
    "model_name = 'vinai/phobert-base'\n",
    "\n",
    "# Tokenizing\n",
    "tokenizer = AutoTokenizer.from_pretrained(model_name)\n",
    "encoded_inputs = tokenizer.batch_encode_plus(\n",
    "    df.comment.tolist(), \n",
    "    max_length=MAX_LEN, \n",
    "    padding='max_length', \n",
    "    truncation=True,\n",
    "    return_tensors='np'\n",
    ")"
   ]
  },
  {
   "cell_type": "code",
   "execution_count": 6,
   "id": "f8876e05",
   "metadata": {
    "execution": {
     "iopub.execute_input": "2023-11-25T00:47:20.091410Z",
     "iopub.status.busy": "2023-11-25T00:47:20.090663Z",
     "iopub.status.idle": "2023-11-25T00:47:20.109353Z",
     "shell.execute_reply": "2023-11-25T00:47:20.108635Z"
    },
    "papermill": {
     "duration": 0.031628,
     "end_time": "2023-11-25T00:47:20.111310",
     "exception": false,
     "start_time": "2023-11-25T00:47:20.079682",
     "status": "completed"
    },
    "tags": []
   },
   "outputs": [],
   "source": [
    "X = encoded_inputs['input_ids']\n",
    "y = le_rating.fit_transform(y)"
   ]
  },
  {
   "cell_type": "code",
   "execution_count": 7,
   "id": "f3b5fc62",
   "metadata": {
    "execution": {
     "iopub.execute_input": "2023-11-25T00:47:20.131535Z",
     "iopub.status.busy": "2023-11-25T00:47:20.131022Z",
     "iopub.status.idle": "2023-11-25T00:47:20.366223Z",
     "shell.execute_reply": "2023-11-25T00:47:20.365445Z"
    },
    "papermill": {
     "duration": 0.248015,
     "end_time": "2023-11-25T00:47:20.368801",
     "exception": false,
     "start_time": "2023-11-25T00:47:20.120786",
     "status": "completed"
    },
    "tags": []
   },
   "outputs": [],
   "source": [
    "from sklearn.model_selection import train_test_split\n",
    "\n",
    "X_train, X_test, y_train, y_test = train_test_split(X, y, test_size=0.2, random_state=2006)"
   ]
  },
  {
   "cell_type": "markdown",
   "id": "2b08433c",
   "metadata": {
    "papermill": {
     "duration": 0.009355,
     "end_time": "2023-11-25T00:47:20.387831",
     "exception": false,
     "start_time": "2023-11-25T00:47:20.378476",
     "status": "completed"
    },
    "tags": []
   },
   "source": [
    "* TPU setup"
   ]
  },
  {
   "cell_type": "code",
   "execution_count": 8,
   "id": "44aa896c",
   "metadata": {
    "execution": {
     "iopub.execute_input": "2023-11-25T00:47:20.407295Z",
     "iopub.status.busy": "2023-11-25T00:47:20.406976Z",
     "iopub.status.idle": "2023-11-25T00:47:28.739078Z",
     "shell.execute_reply": "2023-11-25T00:47:28.738293Z"
    },
    "papermill": {
     "duration": 8.344568,
     "end_time": "2023-11-25T00:47:28.741211",
     "exception": false,
     "start_time": "2023-11-25T00:47:20.396643",
     "status": "completed"
    },
    "tags": []
   },
   "outputs": [
    {
     "name": "stdout",
     "output_type": "stream",
     "text": [
      "Number of replicas: 1\n"
     ]
    }
   ],
   "source": [
    "try:\n",
    "    tpu = tf.distribute.cluster_resolver.TPUClusterResolver() \n",
    "    tf.config.experimental_connect_to_cluster(tpu)\n",
    "    tf.tpu.experimental.initialize_tpu_system(tpu)\n",
    "    \n",
    "    strategy = tf.distribute.experimental.TPUStrategy\n",
    "except ValueError:\n",
    "    strategy = tf.distribute.get_strategy() \n",
    "    print('Number of replicas:', strategy.num_replicas_in_sync) "
   ]
  },
  {
   "cell_type": "code",
   "execution_count": 9,
   "id": "288e314e",
   "metadata": {
    "execution": {
     "iopub.execute_input": "2023-11-25T00:47:28.760787Z",
     "iopub.status.busy": "2023-11-25T00:47:28.760513Z",
     "iopub.status.idle": "2023-11-25T00:47:33.992818Z",
     "shell.execute_reply": "2023-11-25T00:47:33.992074Z"
    },
    "papermill": {
     "duration": 5.249518,
     "end_time": "2023-11-25T00:47:34.000003",
     "exception": false,
     "start_time": "2023-11-25T00:47:28.750485",
     "status": "completed"
    },
    "tags": []
   },
   "outputs": [
    {
     "name": "stdout",
     "output_type": "stream",
     "text": [
      "Running on single GPU  /device:GPU:0\n",
      "Number of accelerators:  1\n"
     ]
    },
    {
     "name": "stderr",
     "output_type": "stream",
     "text": [
      "2023-12-05 08:57:32.857919: I metal_plugin/src/device/metal_device.cc:1154] Metal device set to: Apple M2\n",
      "2023-12-05 08:57:32.857983: I metal_plugin/src/device/metal_device.cc:296] systemMemory: 16.00 GB\n",
      "2023-12-05 08:57:32.857992: I metal_plugin/src/device/metal_device.cc:313] maxCacheSize: 5.33 GB\n",
      "2023-12-05 08:57:32.858021: I tensorflow/core/common_runtime/pluggable_device/pluggable_device_factory.cc:306] Could not identify NUMA node of platform GPU ID 0, defaulting to 0. Your kernel may not have been built with NUMA support.\n",
      "2023-12-05 08:57:32.858035: I tensorflow/core/common_runtime/pluggable_device/pluggable_device_factory.cc:272] Created TensorFlow device (/job:localhost/replica:0/task:0/device:GPU:0 with 0 MB memory) -> physical PluggableDevice (device: 0, name: METAL, pci bus id: <undefined>)\n"
     ]
    }
   ],
   "source": [
    "try:\n",
    "    tpu = tf.distribute.cluster_resolver.TPUClusterResolver() # TPU detection\n",
    "except ValueError:\n",
    "    tpu = None\n",
    "    gpus = tf.config.experimental.list_logical_devices(\"GPU\")\n",
    "    \n",
    "if tpu:\n",
    "    tf.tpu.experimental.initialize_tpu_system(tpu)\n",
    "    strategy = tf.distribute.experimental.TPUStrategy(tpu,) \n",
    "    print('Running on TPU ', tpu.cluster_spec().as_dict())\n",
    "elif len(gpus) > 1:\n",
    "    strategy = tf.distribute.MirroredStrategy([gpu.name for gpu in gpus])\n",
    "    print('Running on multiple GPUs ', [gpu.name for gpu in gpus])\n",
    "elif len(gpus) == 1:\n",
    "    strategy = tf.distribute.get_strategy() \n",
    "    print('Running on single GPU ', gpus[0].name)\n",
    "else:\n",
    "    strategy = tf.distribute.get_strategy() \n",
    "    print('Running on CPU')\n",
    "print(\"Number of accelerators: \", strategy.num_replicas_in_sync)"
   ]
  },
  {
   "cell_type": "markdown",
   "id": "314b3fb5",
   "metadata": {
    "papermill": {
     "duration": 0.010639,
     "end_time": "2023-11-25T00:47:34.021568",
     "exception": false,
     "start_time": "2023-11-25T00:47:34.010929",
     "status": "completed"
    },
    "tags": []
   },
   "source": [
    "* OnehotEncoder"
   ]
  },
  {
   "cell_type": "code",
   "execution_count": 10,
   "id": "489163ee",
   "metadata": {
    "execution": {
     "iopub.execute_input": "2023-11-25T00:47:34.044765Z",
     "iopub.status.busy": "2023-11-25T00:47:34.044457Z",
     "iopub.status.idle": "2023-11-25T00:47:34.053810Z",
     "shell.execute_reply": "2023-11-25T00:47:34.052986Z"
    },
    "papermill": {
     "duration": 0.023349,
     "end_time": "2023-11-25T00:47:34.055572",
     "exception": false,
     "start_time": "2023-11-25T00:47:34.032223",
     "status": "completed"
    },
    "tags": []
   },
   "outputs": [],
   "source": [
    "y_train = tf.keras.utils.to_categorical(y_train)"
   ]
  },
  {
   "cell_type": "markdown",
   "id": "dcb5baee",
   "metadata": {
    "papermill": {
     "duration": 0.010911,
     "end_time": "2023-11-25T00:47:34.076986",
     "exception": false,
     "start_time": "2023-11-25T00:47:34.066075",
     "status": "completed"
    },
    "tags": []
   },
   "source": [
    "* Build Model"
   ]
  },
  {
   "cell_type": "code",
   "execution_count": 11,
   "id": "3cdfa00c",
   "metadata": {
    "execution": {
     "iopub.execute_input": "2023-11-25T00:47:34.102711Z",
     "iopub.status.busy": "2023-11-25T00:47:34.101929Z",
     "iopub.status.idle": "2023-11-25T00:47:58.310778Z",
     "shell.execute_reply": "2023-11-25T00:47:58.309698Z"
    },
    "papermill": {
     "duration": 24.2245,
     "end_time": "2023-11-25T00:47:58.313119",
     "exception": false,
     "start_time": "2023-11-25T00:47:34.088619",
     "status": "completed"
    },
    "tags": []
   },
   "outputs": [
    {
     "name": "stderr",
     "output_type": "stream",
     "text": [
      "Some layers from the model checkpoint at vinai/phobert-base were not used when initializing TFRobertaModel: ['lm_head']\n",
      "- This IS expected if you are initializing TFRobertaModel from the checkpoint of a model trained on another task or with another architecture (e.g. initializing a BertForSequenceClassification model from a BertForPreTraining model).\n",
      "- This IS NOT expected if you are initializing TFRobertaModel from the checkpoint of a model that you expect to be exactly identical (initializing a BertForSequenceClassification model from a BertForSequenceClassification model).\n",
      "All the layers of TFRobertaModel were initialized from the model checkpoint at vinai/phobert-base.\n",
      "If your task is similar to the task the model of the checkpoint was trained on, you can already use TFRobertaModel for predictions without further training.\n"
     ]
    }
   ],
   "source": [
    "with strategy.scope():\n",
    "    encoder = TFAutoModel.from_pretrained(model_name)\n",
    "\n",
    "    input_ids = Input(shape=(MAX_LEN,), dtype=tf.int32)\n",
    "\n",
    "    # Extract features with phoBert\n",
    "    embedding = encoder(input_ids)[0]\n",
    "\n",
    "    # Add LSTM layer\n",
    "    lstm_layer = LSTM(units=64, return_sequences=True)(embedding)\n",
    "\n",
    "    # Add CNN layers after LSTM\n",
    "    cnn_layer = Conv1D(filters=64, kernel_size=3, activation='relu')(lstm_layer)\n",
    "    cnn_layer = Conv1D(filters=32, kernel_size=3, activation='relu')(cnn_layer)\n",
    "    cnn_layer = BatchNormalization()(cnn_layer)\n",
    "\n",
    "    # Flatten or pool the output of the CNN if necessary\n",
    "    # Depending on your data, you might need a GlobalMaxPooling1D or Flatten layer here\n",
    "    cnn_output = GlobalMaxPooling1D()(cnn_layer)\n",
    "\n",
    "    x = Dense(256, activation='relu', kernel_regularizer=regularizers.L2(0.1))(cnn_output)\n",
    "    x = Dropout(0.2)(x)\n",
    "\n",
    "    # Output layer\n",
    "    output = Dense(y_train.shape[1], activation='softmax', name='output')(x)\n",
    "\n",
    "    # Create model\n",
    "    model_rating = Model(inputs=input_ids, outputs=output)\n"
   ]
  },
  {
   "cell_type": "code",
   "execution_count": 12,
   "id": "f50c4fde",
   "metadata": {
    "execution": {
     "iopub.execute_input": "2023-11-25T00:47:58.338883Z",
     "iopub.status.busy": "2023-11-25T00:47:58.338586Z",
     "iopub.status.idle": "2023-11-25T00:47:58.382029Z",
     "shell.execute_reply": "2023-11-25T00:47:58.381147Z"
    },
    "papermill": {
     "duration": 0.058673,
     "end_time": "2023-11-25T00:47:58.383872",
     "exception": false,
     "start_time": "2023-11-25T00:47:58.325199",
     "status": "completed"
    },
    "tags": []
   },
   "outputs": [
    {
     "name": "stdout",
     "output_type": "stream",
     "text": [
      "Model: \"model\"\n",
      "_________________________________________________________________\n",
      " Layer (type)                Output Shape              Param #   \n",
      "=================================================================\n",
      " input_1 (InputLayer)        [(None, 200)]             0         \n",
      "                                                                 \n",
      " tf_roberta_model (TFRobert  TFBaseModelOutputWithPo   134998272 \n",
      " aModel)                     olingAndCrossAttentions             \n",
      "                             (last_hidden_state=(Non             \n",
      "                             e, 200, 768),                       \n",
      "                              pooler_output=(None, 7             \n",
      "                             68),                                \n",
      "                              past_key_values=None,              \n",
      "                             hidden_states=None, att             \n",
      "                             entions=None, cross_att             \n",
      "                             entions=None)                       \n",
      "                                                                 \n",
      " lstm (LSTM)                 (None, 200, 64)           213248    \n",
      "                                                                 \n",
      " conv1d (Conv1D)             (None, 198, 64)           12352     \n",
      "                                                                 \n",
      " conv1d_1 (Conv1D)           (None, 196, 32)           6176      \n",
      "                                                                 \n",
      " batch_normalization (Batch  (None, 196, 32)           128       \n",
      " Normalization)                                                  \n",
      "                                                                 \n",
      " global_max_pooling1d (Glob  (None, 32)                0         \n",
      " alMaxPooling1D)                                                 \n",
      "                                                                 \n",
      " dense (Dense)               (None, 256)               8448      \n",
      "                                                                 \n",
      " dropout_37 (Dropout)        (None, 256)               0         \n",
      "                                                                 \n",
      " output (Dense)              (None, 3)                 771       \n",
      "                                                                 \n",
      "=================================================================\n",
      "Total params: 135239395 (515.90 MB)\n",
      "Trainable params: 135239331 (515.90 MB)\n",
      "Non-trainable params: 64 (256.00 Byte)\n",
      "_________________________________________________________________\n"
     ]
    }
   ],
   "source": [
    "model_rating.summary()"
   ]
  },
  {
   "cell_type": "code",
   "execution_count": 13,
   "metadata": {},
   "outputs": [
    {
     "data": {
      "image/png": "[encoded data removed]",
      "text/plain": [
       "<IPython.core.display.Image object>"
      ]
     },
     "execution_count": 13,
     "metadata": {},
     "output_type": "execute_result"
    }
   ],
   "source": [
    "from tensorflow.keras.utils import plot_model\n",
    "plot_model(model_rating, to_file='model_rating.png', show_shapes=True, show_layer_names=True)"
   ]
  },
  {
   "cell_type": "markdown",
   "id": "ed476f14",
   "metadata": {
    "papermill": {
     "duration": 0.013438,
     "end_time": "2023-11-25T00:47:58.411015",
     "exception": false,
     "start_time": "2023-11-25T00:47:58.397577",
     "status": "completed"
    },
    "tags": []
   },
   "source": [
    "* Optimize"
   ]
  },
  {
   "cell_type": "code",
   "execution_count": 17,
   "id": "cf8b984e",
   "metadata": {
    "execution": {
     "iopub.execute_input": "2023-11-25T00:47:58.439189Z",
     "iopub.status.busy": "2023-11-25T00:47:58.438933Z",
     "iopub.status.idle": "2023-11-25T00:47:58.452800Z",
     "shell.execute_reply": "2023-11-25T00:47:58.452026Z"
    },
    "papermill": {
     "duration": 0.030291,
     "end_time": "2023-11-25T00:47:58.454628",
     "exception": false,
     "start_time": "2023-11-25T00:47:58.424337",
     "status": "completed"
    },
    "tags": []
   },
   "outputs": [],
   "source": [
    "class MyExponentialDecay(tf.keras.optimizers.schedules.ExponentialDecay):\n",
    "  def __call__(self, step):\n",
    "    return 1e-2 * super().__call__(step)\n",
    "\n",
    "step = tf.Variable(0, trainable=False)\n",
    "schedule = tf.optimizers.schedules.PiecewiseConstantDecay(\n",
    "    [10000, 15000], [1e-3, 1e-4, 1e-5])\n",
    "\n",
    "initial_learning_rate=0.01\n",
    "\n",
    "wd = MyExponentialDecay(\n",
    "    initial_learning_rate,\n",
    "    decay_steps=14,\n",
    "    decay_rate=0.8,\n",
    "    staircase=True)\n",
    "lr = 1e2 * schedule(step)"
   ]
  },
  {
   "cell_type": "code",
   "execution_count": 18,
   "id": "3afe3a29",
   "metadata": {
    "execution": {
     "iopub.execute_input": "2023-11-25T00:47:58.482660Z",
     "iopub.status.busy": "2023-11-25T00:47:58.482431Z",
     "iopub.status.idle": "2023-11-25T00:47:58.575065Z",
     "shell.execute_reply": "2023-11-25T00:47:58.574086Z"
    },
    "papermill": {
     "duration": 0.108957,
     "end_time": "2023-11-25T00:47:58.576945",
     "exception": false,
     "start_time": "2023-11-25T00:47:58.467988",
     "status": "completed"
    },
    "tags": []
   },
   "outputs": [],
   "source": [
    "model_rating.compile(\n",
    "    optimizer=tfa.optimizers.AdamW(weight_decay=wd,\n",
    "                                  learning_rate=lr),\n",
    "    loss=tf.keras.losses.CategoricalCrossentropy(),\n",
    "    metrics=['accuracy'])\n"
   ]
  },
  {
   "cell_type": "code",
   "execution_count": 19,
   "id": "f5567bd7",
   "metadata": {
    "execution": {
     "iopub.execute_input": "2023-11-25T00:47:58.606222Z",
     "iopub.status.busy": "2023-11-25T00:47:58.605933Z",
     "iopub.status.idle": "2023-11-25T00:47:58.610501Z",
     "shell.execute_reply": "2023-11-25T00:47:58.609778Z"
    },
    "papermill": {
     "duration": 0.021257,
     "end_time": "2023-11-25T00:47:58.612154",
     "exception": false,
     "start_time": "2023-11-25T00:47:58.590897",
     "status": "completed"
    },
    "tags": []
   },
   "outputs": [],
   "source": [
    "# Lưu mô hình tốt nhất\n",
    "cp_callback = ModelCheckpoint(filepath='pho_rating.h5',\n",
    "                              save_best_only=True,\n",
    "                              monitor='accuracy',\n",
    "                              mode='max',\n",
    "                              verbose=1)\n",
    "\n",
    "# Dừng sớm khi không có quá nhiều thay đổi\n",
    "es_callback = EarlyStopping(\n",
    "    monitor='accuracy', \n",
    "    patience=15,\n",
    "    mode='max')"
   ]
  },
  {
   "cell_type": "code",
   "execution_count": 20,
   "id": "8f79d6ab",
   "metadata": {
    "execution": {
     "iopub.execute_input": "2023-11-25T00:47:58.640498Z",
     "iopub.status.busy": "2023-11-25T00:47:58.640236Z",
     "iopub.status.idle": "2023-11-25T00:47:58.643725Z",
     "shell.execute_reply": "2023-11-25T00:47:58.643024Z"
    },
    "papermill": {
     "duration": 0.019919,
     "end_time": "2023-11-25T00:47:58.645404",
     "exception": false,
     "start_time": "2023-11-25T00:47:58.625485",
     "status": "completed"
    },
    "tags": []
   },
   "outputs": [],
   "source": [
    "# Setup tham số\n",
    "epochs = 30\n",
    "batch_size = 512\n",
    "validation_split = 0.2"
   ]
  },
  {
   "cell_type": "markdown",
   "id": "b4e2c241",
   "metadata": {
    "papermill": {
     "duration": 0.012987,
     "end_time": "2023-11-25T00:47:58.671734",
     "exception": false,
     "start_time": "2023-11-25T00:47:58.658747",
     "status": "completed"
    },
    "tags": []
   },
   "source": [
    "* Training"
   ]
  },
  {
   "cell_type": "code",
   "execution_count": 21,
   "id": "0ae8a333",
   "metadata": {
    "execution": {
     "iopub.execute_input": "2023-11-25T00:47:58.699770Z",
     "iopub.status.busy": "2023-11-25T00:47:58.699203Z",
     "iopub.status.idle": "2023-11-25T02:30:04.017928Z",
     "shell.execute_reply": "2023-11-25T02:30:04.016887Z"
    },
    "papermill": {
     "duration": 6125.979556,
     "end_time": "2023-11-25T02:30:04.664314",
     "exception": false,
     "start_time": "2023-11-25T00:47:58.684758",
     "status": "completed"
    },
    "tags": []
   },
   "outputs": [
    {
     "name": "stdout",
     "output_type": "stream",
     "text": [
      "Epoch 1/30\n"
     ]
    },
    {
     "name": "stderr",
     "output_type": "stream",
     "text": [
      "2023-11-25 00:48:00.316101: E ./tensorflow/compiler/xla/stream_executor/stream_executor_internal.h:124] SetPriority unimplemented for this stream.\n",
      "2023-11-25 00:48:00.333430: E ./tensorflow/compiler/xla/stream_executor/stream_executor_internal.h:124] SetPriority unimplemented for this stream.\n",
      "2023-11-25 00:48:00.350637: E ./tensorflow/compiler/xla/stream_executor/stream_executor_internal.h:124] SetPriority unimplemented for this stream.\n",
      "2023-11-25 00:48:00.368556: E ./tensorflow/compiler/xla/stream_executor/stream_executor_internal.h:124] SetPriority unimplemented for this stream.\n",
      "2023-11-25 00:48:00.385626: E ./tensorflow/compiler/xla/stream_executor/stream_executor_internal.h:124] SetPriority unimplemented for this stream.\n",
      "2023-11-25 00:48:00.403164: E ./tensorflow/compiler/xla/stream_executor/stream_executor_internal.h:124] SetPriority unimplemented for this stream.\n",
      "2023-11-25 00:48:00.420875: E ./tensorflow/compiler/xla/stream_executor/stream_executor_internal.h:124] SetPriority unimplemented for this stream.\n"
     ]
    },
    {
     "name": "stdout",
     "output_type": "stream",
     "text": [
      "WARNING:tensorflow:Gradients do not exist for variables ['tf_roberta_model/roberta/pooler/dense/kernel:0', 'tf_roberta_model/roberta/pooler/dense/bias:0'] when minimizing the loss. If you're using `model.compile()`, did you forget to provide a `loss` argument?\n"
     ]
    },
    {
     "name": "stderr",
     "output_type": "stream",
     "text": [
      "WARNING:tensorflow:Gradients do not exist for variables ['tf_roberta_model/roberta/pooler/dense/kernel:0', 'tf_roberta_model/roberta/pooler/dense/bias:0'] when minimizing the loss. If you're using `model.compile()`, did you forget to provide a `loss` argument?\n"
     ]
    },
    {
     "name": "stdout",
     "output_type": "stream",
     "text": [
      "WARNING:tensorflow:Gradients do not exist for variables ['tf_roberta_model/roberta/pooler/dense/kernel:0', 'tf_roberta_model/roberta/pooler/dense/bias:0'] when minimizing the loss. If you're using `model.compile()`, did you forget to provide a `loss` argument?\n"
     ]
    },
    {
     "name": "stderr",
     "output_type": "stream",
     "text": [
      "WARNING:tensorflow:Gradients do not exist for variables ['tf_roberta_model/roberta/pooler/dense/kernel:0', 'tf_roberta_model/roberta/pooler/dense/bias:0'] when minimizing the loss. If you're using `model.compile()`, did you forget to provide a `loss` argument?\n",
      "2023-11-25 00:48:49.753245: E tensorflow/core/grappler/optimizers/meta_optimizer.cc:961] model_pruner failed: INVALID_ARGUMENT: Graph does not contain terminal node AdamW/AdamW/AssignAddVariableOp.\n",
      "2023-11-25 00:48:54.180183: E ./tensorflow/compiler/xla/stream_executor/stream_executor_internal.h:124] SetPriority unimplemented for this stream.\n",
      "2023-11-25 00:48:54.183536: E ./tensorflow/compiler/xla/stream_executor/stream_executor_internal.h:124] SetPriority unimplemented for this stream.\n",
      "2023-11-25 00:48:54.183745: E ./tensorflow/compiler/xla/stream_executor/stream_executor_internal.h:124] SetPriority unimplemented for this stream.\n",
      "2023-11-25 00:48:54.184035: E ./tensorflow/compiler/xla/stream_executor/stream_executor_internal.h:124] SetPriority unimplemented for this stream.\n",
      "2023-11-25 00:48:54.184166: E ./tensorflow/compiler/xla/stream_executor/stream_executor_internal.h:124] SetPriority unimplemented for this stream.\n",
      "2023-11-25 00:48:54.184443: E ./tensorflow/compiler/xla/stream_executor/stream_executor_internal.h:124] SetPriority unimplemented for this stream.\n",
      "2023-11-25 00:49:52.892407: E ./tensorflow/compiler/xla/stream_executor/stream_executor_internal.h:124] SetPriority unimplemented for this stream.\n",
      "2023-11-25 00:49:52.893150: E ./tensorflow/compiler/xla/stream_executor/stream_executor_internal.h:124] SetPriority unimplemented for this stream.\n",
      "2023-11-25 00:49:52.893983: E ./tensorflow/compiler/xla/stream_executor/stream_executor_internal.h:124] SetPriority unimplemented for this stream.\n",
      "2023-11-25 00:49:52.894206: E ./tensorflow/compiler/xla/stream_executor/stream_executor_internal.h:124] SetPriority unimplemented for this stream.\n",
      "2023-11-25 00:49:52.894284: E ./tensorflow/compiler/xla/stream_executor/stream_executor_internal.h:124] SetPriority unimplemented for this stream.\n",
      "2023-11-25 00:49:52.894379: E ./tensorflow/compiler/xla/stream_executor/stream_executor_internal.h:124] SetPriority unimplemented for this stream.\n",
      "2023-11-25 00:49:52.895522: E ./tensorflow/compiler/xla/stream_executor/stream_executor_internal.h:124] SetPriority unimplemented for this stream.\n",
      "2023-11-25 00:49:52.895640: E ./tensorflow/compiler/xla/stream_executor/stream_executor_internal.h:124] SetPriority unimplemented for this stream.\n"
     ]
    },
    {
     "name": "stdout",
     "output_type": "stream",
     "text": [
      "  1/702 [..............................] - ETA: 22:00:16 - loss: 7.2053 - accuracy: 0.3594"
     ]
    },
    {
     "name": "stderr",
     "output_type": "stream",
     "text": [
      "2023-11-25 00:49:53.458233: E ./tensorflow/compiler/xla/stream_executor/stream_executor_internal.h:124] SetPriority unimplemented for this stream.\n"
     ]
    },
    {
     "name": "stdout",
     "output_type": "stream",
     "text": [
      "  2/702 [..............................] - ETA: 5:26 - loss: 16.2294 - accuracy: 0.5420   "
     ]
    },
    {
     "name": "stderr",
     "output_type": "stream",
     "text": [
      "2023-11-25 00:49:53.924170: E ./tensorflow/compiler/xla/stream_executor/stream_executor_internal.h:124] SetPriority unimplemented for this stream.\n"
     ]
    },
    {
     "name": "stdout",
     "output_type": "stream",
     "text": [
      " 11/702 [..............................] - ETA: 5:23 - loss: 13.4909 - accuracy: 0.4673"
     ]
    },
    {
     "name": "stderr",
     "output_type": "stream",
     "text": [
      "2023-11-25 00:49:58.147201: E ./tensorflow/compiler/xla/stream_executor/stream_executor_internal.h:124] SetPriority unimplemented for this stream.\n"
     ]
    },
    {
     "name": "stdout",
     "output_type": "stream",
     "text": [
      " 22/702 [..............................] - ETA: 5:17 - loss: 11.0349 - accuracy: 0.5123"
     ]
    },
    {
     "name": "stderr",
     "output_type": "stream",
     "text": [
      "2023-11-25 00:50:03.257594: E ./tensorflow/compiler/xla/stream_executor/stream_executor_internal.h:124] SetPriority unimplemented for this stream.\n"
     ]
    },
    {
     "name": "stdout",
     "output_type": "stream",
     "text": [
      " 44/702 [>.............................] - ETA: 5:05 - loss: 7.1973 - accuracy: 0.6006"
     ]
    },
    {
     "name": "stderr",
     "output_type": "stream",
     "text": [
      "2023-11-25 00:50:13.442210: E ./tensorflow/compiler/xla/stream_executor/stream_executor_internal.h:124] SetPriority unimplemented for this stream.\n"
     ]
    },
    {
     "name": "stdout",
     "output_type": "stream",
     "text": [
      " 66/702 [=>............................] - ETA: 4:55 - loss: 5.2386 - accuracy: 0.6334"
     ]
    },
    {
     "name": "stderr",
     "output_type": "stream",
     "text": [
      "2023-11-25 00:50:23.614523: E ./tensorflow/compiler/xla/stream_executor/stream_executor_internal.h:124] SetPriority unimplemented for this stream.\n"
     ]
    },
    {
     "name": "stdout",
     "output_type": "stream",
     "text": [
      "143/702 [=====>........................] - ETA: 4:18 - loss: 2.9525 - accuracy: 0.6669"
     ]
    },
    {
     "name": "stderr",
     "output_type": "stream",
     "text": [
      "2023-11-25 00:50:59.214797: E ./tensorflow/compiler/xla/stream_executor/stream_executor_internal.h:124] SetPriority unimplemented for this stream.\n"
     ]
    },
    {
     "name": "stdout",
     "output_type": "stream",
     "text": [
      "702/702 [==============================] - ETA: 0s - loss: 1.3793 - accuracy: 0.6908"
     ]
    },
    {
     "name": "stderr",
     "output_type": "stream",
     "text": [
      "2023-11-25 00:56:27.615922: E tensorflow/core/grappler/optimizers/meta_optimizer.cc:961] model_pruner failed: INVALID_ARGUMENT: Graph does not contain terminal node AssignAddVariableOp.\n",
      "2023-11-25 00:56:57.225455: E ./tensorflow/compiler/xla/stream_executor/stream_executor_internal.h:124] SetPriority unimplemented for this stream.\n",
      "2023-11-25 00:57:04.074789: E ./tensorflow/compiler/xla/stream_executor/stream_executor_internal.h:124] SetPriority unimplemented for this stream.\n"
     ]
    },
    {
     "name": "stdout",
     "output_type": "stream",
     "text": [
      "\n",
      "Epoch 1: accuracy improved from -inf to 0.69076, saving model to pho_rating.h5\n",
      "702/702 [==============================] - 580s 666ms/step - loss: 1.3793 - accuracy: 0.6908 - val_loss: 0.9721 - val_accuracy: 0.6988\n",
      "Epoch 2/30\n",
      "702/702 [==============================] - ETA: 0s - loss: 0.9767 - accuracy: 0.6967\n",
      "Epoch 2: accuracy improved from 0.69076 to 0.69668, saving model to pho_rating.h5\n",
      "702/702 [==============================] - 362s 516ms/step - loss: 0.9767 - accuracy: 0.6967 - val_loss: 0.9724 - val_accuracy: 0.6988\n",
      "Epoch 3/30\n",
      "702/702 [==============================] - ETA: 0s - loss: 0.9776 - accuracy: 0.6967\n",
      "Epoch 3: accuracy did not improve from 0.69668\n",
      "702/702 [==============================] - 346s 493ms/step - loss: 0.9776 - accuracy: 0.6967 - val_loss: 0.9734 - val_accuracy: 0.6988\n",
      "Epoch 4/30\n",
      "702/702 [==============================] - ETA: 0s - loss: 0.9779 - accuracy: 0.6967\n",
      "Epoch 4: accuracy did not improve from 0.69668\n",
      "702/702 [==============================] - 345s 492ms/step - loss: 0.9779 - accuracy: 0.6967 - val_loss: 0.9742 - val_accuracy: 0.6988\n",
      "Epoch 5/30\n",
      "702/702 [==============================] - ETA: 0s - loss: 0.9782 - accuracy: 0.6967\n",
      "Epoch 5: accuracy did not improve from 0.69668\n",
      "702/702 [==============================] - 345s 492ms/step - loss: 0.9782 - accuracy: 0.6967 - val_loss: 0.9730 - val_accuracy: 0.6988\n",
      "Epoch 6/30\n",
      "702/702 [==============================] - ETA: 0s - loss: 0.9781 - accuracy: 0.6967\n",
      "Epoch 6: accuracy did not improve from 0.69668\n",
      "702/702 [==============================] - 346s 492ms/step - loss: 0.9781 - accuracy: 0.6967 - val_loss: 0.9731 - val_accuracy: 0.6988\n",
      "Epoch 7/30\n",
      "702/702 [==============================] - ETA: 0s - loss: 0.9784 - accuracy: 0.6967\n",
      "Epoch 7: accuracy did not improve from 0.69668\n",
      "702/702 [==============================] - 346s 493ms/step - loss: 0.9784 - accuracy: 0.6967 - val_loss: 0.9729 - val_accuracy: 0.6988\n",
      "Epoch 8/30\n",
      "702/702 [==============================] - ETA: 0s - loss: 0.9783 - accuracy: 0.6967\n",
      "Epoch 8: accuracy did not improve from 0.69668\n",
      "702/702 [==============================] - 346s 493ms/step - loss: 0.9783 - accuracy: 0.6967 - val_loss: 0.9735 - val_accuracy: 0.6988\n",
      "Epoch 9/30\n",
      "702/702 [==============================] - ETA: 0s - loss: 0.9784 - accuracy: 0.6967\n",
      "Epoch 9: accuracy did not improve from 0.69668\n",
      "702/702 [==============================] - 346s 493ms/step - loss: 0.9784 - accuracy: 0.6967 - val_loss: 0.9726 - val_accuracy: 0.6988\n",
      "Epoch 10/30\n",
      "702/702 [==============================] - ETA: 0s - loss: 0.9784 - accuracy: 0.6967\n",
      "Epoch 10: accuracy did not improve from 0.69668\n",
      "702/702 [==============================] - 345s 492ms/step - loss: 0.9784 - accuracy: 0.6967 - val_loss: 0.9738 - val_accuracy: 0.6988\n",
      "Epoch 11/30\n",
      "702/702 [==============================] - ETA: 0s - loss: 0.9783 - accuracy: 0.6967\n",
      "Epoch 11: accuracy did not improve from 0.69668\n",
      "702/702 [==============================] - 345s 492ms/step - loss: 0.9783 - accuracy: 0.6967 - val_loss: 0.9723 - val_accuracy: 0.6988\n",
      "Epoch 12/30\n",
      "702/702 [==============================] - ETA: 0s - loss: 0.9782 - accuracy: 0.6967\n",
      "Epoch 12: accuracy did not improve from 0.69668\n",
      "702/702 [==============================] - 345s 491ms/step - loss: 0.9782 - accuracy: 0.6967 - val_loss: 0.9735 - val_accuracy: 0.6988\n",
      "Epoch 13/30\n",
      "702/702 [==============================] - ETA: 0s - loss: 0.9783 - accuracy: 0.6967\n",
      "Epoch 13: accuracy did not improve from 0.69668\n",
      "702/702 [==============================] - 345s 491ms/step - loss: 0.9783 - accuracy: 0.6967 - val_loss: 0.9727 - val_accuracy: 0.6988\n",
      "Epoch 14/30\n",
      "702/702 [==============================] - ETA: 0s - loss: 0.9782 - accuracy: 0.6967\n",
      "Epoch 14: accuracy did not improve from 0.69668\n",
      "702/702 [==============================] - 345s 492ms/step - loss: 0.9782 - accuracy: 0.6967 - val_loss: 0.9724 - val_accuracy: 0.6988\n",
      "Epoch 15/30\n",
      "702/702 [==============================] - ETA: 0s - loss: 0.9782 - accuracy: 0.6967\n",
      "Epoch 15: accuracy did not improve from 0.69668\n",
      "702/702 [==============================] - 345s 492ms/step - loss: 0.9782 - accuracy: 0.6967 - val_loss: 0.9725 - val_accuracy: 0.6988\n",
      "Epoch 16/30\n",
      "702/702 [==============================] - ETA: 0s - loss: 0.9782 - accuracy: 0.6967\n",
      "Epoch 16: accuracy did not improve from 0.69668\n",
      "702/702 [==============================] - 345s 492ms/step - loss: 0.9782 - accuracy: 0.6967 - val_loss: 0.9724 - val_accuracy: 0.6988\n",
      "Epoch 17/30\n",
      "702/702 [==============================] - ETA: 0s - loss: 0.9780 - accuracy: 0.6967\n",
      "Epoch 17: accuracy did not improve from 0.69668\n",
      "702/702 [==============================] - 345s 491ms/step - loss: 0.9780 - accuracy: 0.6967 - val_loss: 0.9733 - val_accuracy: 0.6988\n"
     ]
    }
   ],
   "source": [
    "# Sử dụng dữ liệu đã resample để train mô hình\n",
    "history = model_rating.fit(\n",
    "    X_train,\n",
    "    y_train,\n",
    "    epochs=epochs,\n",
    "    validation_split=validation_split,\n",
    "    batch_size=batch_size,\n",
    "    callbacks=[cp_callback, es_callback],\n",
    "    verbose=1)\n"
   ]
  },
  {
   "cell_type": "markdown",
   "id": "c1a23dbc",
   "metadata": {
    "papermill": {
     "duration": 0.691409,
     "end_time": "2023-11-25T02:30:06.050407",
     "exception": false,
     "start_time": "2023-11-25T02:30:05.358998",
     "status": "completed"
    },
    "tags": []
   },
   "source": [
    "* Vẽ biểu đồ"
   ]
  },
  {
   "cell_type": "code",
   "execution_count": 22,
   "id": "652c6a62",
   "metadata": {
    "execution": {
     "iopub.execute_input": "2023-11-25T02:30:07.363391Z",
     "iopub.status.busy": "2023-11-25T02:30:07.363040Z",
     "iopub.status.idle": "2023-11-25T02:30:07.700206Z",
     "shell.execute_reply": "2023-11-25T02:30:07.699288Z"
    },
    "papermill": {
     "duration": 1.018853,
     "end_time": "2023-11-25T02:30:07.701814",
     "exception": false,
     "start_time": "2023-11-25T02:30:06.682961",
     "status": "completed"
    },
    "tags": []
   },
   "outputs": [
    {
     "data": {
      "image/png": "[encoded data removed]",
      "text/plain": [
       "<Figure size 1600x500 with 2 Axes>"
      ]
     },
     "metadata": {},
     "output_type": "display_data"
    }
   ],
   "source": [
    "loss = history.history['loss']\n",
    "acc = history.history['accuracy']\n",
    "val_loss = history.history['val_loss']\n",
    "val_acc = history.history['val_accuracy']\n",
    "\n",
    "epochs = range(1, len(loss) + 1)\n",
    "\n",
    "plt.figure(figsize=(16, 5))\n",
    "# Accuracy\n",
    "plt.subplot(1,2,1)\n",
    "plt.plot(epochs, acc, 'b', label = 'Training accuracy')\n",
    "plt.plot(epochs, val_acc, 'r', label = 'Validation accuracy')\n",
    "plt.legend()\n",
    "\n",
    "# Loss\n",
    "plt.subplot(1,2,2)\n",
    "plt.plot(epochs, loss, 'b', label = 'Trainig loss')\n",
    "plt.plot(epochs, val_loss, 'r', label = 'Validation loss')\n",
    "plt.legend()\n",
    "\n",
    "plt.show()"
   ]
  },
  {
   "cell_type": "code",
   "execution_count": 23,
   "id": "ce74a88e",
   "metadata": {
    "execution": {
     "iopub.execute_input": "2023-11-25T02:30:09.014971Z",
     "iopub.status.busy": "2023-11-25T02:30:09.014650Z",
     "iopub.status.idle": "2023-11-25T02:31:18.708996Z",
     "shell.execute_reply": "2023-11-25T02:31:18.708046Z"
    },
    "papermill": {
     "duration": 71.061622,
     "end_time": "2023-11-25T02:31:19.396570",
     "exception": false,
     "start_time": "2023-11-25T02:30:08.334948",
     "status": "completed"
    },
    "tags": []
   },
   "outputs": [
    {
     "name": "stdout",
     "output_type": "stream",
     "text": [
      "Evaluate on test data\n",
      "439/439 [==============================] - 69s 122ms/step - loss: 0.9752 - accuracy: 0.6975\n",
      "test loss, test acc: [0.9752323031425476, 0.697452962398529]\n"
     ]
    }
   ],
   "source": [
    "y_test = tf.keras.utils.to_categorical(y_test)\n",
    "print(\"Evaluate on test data\")\n",
    "results = model_rating.evaluate(X_test, y_test, batch_size=256)\n",
    "print(\"test loss, test acc:\", results)"
   ]
  },
  {
   "cell_type": "code",
   "execution_count": null,
   "id": "ea395815",
   "metadata": {
    "papermill": {
     "duration": 0.650959,
     "end_time": "2023-11-25T02:31:20.704625",
     "exception": false,
     "start_time": "2023-11-25T02:31:20.053666",
     "status": "completed"
    },
    "tags": []
   },
   "outputs": [],
   "source": []
  }
 ],
 "metadata": {
  "kaggle": {
   "accelerator": "tpu1vmV38",
   "dataSources": [
    {
     "datasetId": 4038302,
     "sourceId": 7022603,
     "sourceType": "datasetVersion"
    },
    {
     "datasetId": 4044456,
     "sourceId": 7031465,
     "sourceType": "datasetVersion"
    },
    {
     "datasetId": 4055022,
     "sourceId": 7046834,
     "sourceType": "datasetVersion"
    }
   ],
   "isGpuEnabled": false,
   "isInternetEnabled": true,
   "language": "python",
   "sourceType": "notebook"
  },
  "kernelspec": {
   "display_name": "Python 3",
   "language": "python",
   "name": "python3"
  },
  "language_info": {
   "codemirror_mode": {
    "name": "ipython",
    "version": 3
   },
   "file_extension": ".py",
   "mimetype": "text/x-python",
   "name": "python",
   "nbconvert_exporter": "python",
   "pygments_lexer": "ipython3",
   "version": "3.11.2"
  },
  "papermill": {
   "default_parameters": {},
   "duration": 6395.607685,
   "end_time": "2023-11-25T02:31:29.273716",
   "environment_variables": {},
   "exception": null,
   "input_path": "__notebook__.ipynb",
   "output_path": "__notebook__.ipynb",
   "parameters": {},
   "start_time": "2023-11-25T00:44:53.666031",
   "version": "2.5.0"
  }
 },
 "nbformat": 4,
 "nbformat_minor": 5
}
