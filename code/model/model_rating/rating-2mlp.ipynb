{
 "cells": [
  {
   "cell_type": "code",
   "execution_count": 1,
   "id": "0b04eef0",
   "metadata": {
    "_cell_guid": "b1076dfc-b9ad-4769-8c92-a6c4dae69d19",
    "_uuid": "8f2839f25d086af736a60e9eeb907d3b93b6e0e5",
    "execution": {
     "iopub.execute_input": "2023-11-24T01:35:43.003015Z",
     "iopub.status.busy": "2023-11-24T01:35:43.002738Z",
     "iopub.status.idle": "2023-11-24T01:36:07.063513Z",
     "shell.execute_reply": "2023-11-24T01:36:07.062710Z"
    },
    "papermill": {
     "duration": 24.070276,
     "end_time": "2023-11-24T01:36:07.065512",
     "exception": false,
     "start_time": "2023-11-24T01:35:42.995236",
     "status": "completed"
    },
    "tags": []
   },
   "outputs": [
    {
     "name": "stdout",
     "output_type": "stream",
     "text": [
      "Requirement already satisfied: pip in /usr/local/lib/python3.10/site-packages (23.0.1)\r\n",
      "Collecting pip\r\n",
      "  Downloading pip-23.3.1-py3-none-any.whl (2.1 MB)\r\n",
      "\u001b[2K     \u001b[90m━━━━━━━━━━━━━━━━━━━━━━━━━━━━━━━━━━━━━━━━\u001b[0m \u001b[32m2.1/2.1 MB\u001b[0m \u001b[31m8.7 MB/s\u001b[0m eta \u001b[36m0:00:00\u001b[0m\r\n",
      "\u001b[?25hInstalling collected packages: pip\r\n",
      "  Attempting uninstall: pip\r\n",
      "    Found existing installation: pip 23.0.1\r\n",
      "    Uninstalling pip-23.0.1:\r\n",
      "      Successfully uninstalled pip-23.0.1\r\n",
      "Successfully installed pip-23.3.1\r\n",
      "\u001b[33mWARNING: Running pip as the 'root' user can result in broken permissions and conflicting behaviour with the system package manager. It is recommended to use a virtual environment instead: https://pip.pypa.io/warnings/venv\u001b[0m\u001b[33m\r\n",
      "\u001b[0mRequirement already satisfied: tensorflow_addons in /usr/local/lib/python3.10/site-packages (0.22.0)\r\n",
      "Requirement already satisfied: packaging in /usr/local/lib/python3.10/site-packages (from tensorflow_addons) (23.2)\r\n",
      "Requirement already satisfied: typeguard<3.0.0,>=2.7 in /usr/local/lib/python3.10/site-packages (from tensorflow_addons) (2.13.3)\r\n",
      "\u001b[33mWARNING: Running pip as the 'root' user can result in broken permissions and conflicting behaviour with the system package manager. It is recommended to use a virtual environment instead: https://pip.pypa.io/warnings/venv\u001b[0m\u001b[33m\r\n",
      "\u001b[0mCollecting seaborn\r\n",
      "  Downloading seaborn-0.13.0-py3-none-any.whl.metadata (5.3 kB)\r\n",
      "Requirement already satisfied: numpy!=1.24.0,>=1.20 in /usr/local/lib/python3.10/site-packages (from seaborn) (1.26.1)\r\n",
      "Requirement already satisfied: pandas>=1.2 in /usr/local/lib/python3.10/site-packages (from seaborn) (2.1.3)\r\n",
      "Requirement already satisfied: matplotlib!=3.6.1,>=3.3 in /usr/local/lib/python3.10/site-packages (from seaborn) (3.8.1)\r\n",
      "Requirement already satisfied: contourpy>=1.0.1 in /usr/local/lib/python3.10/site-packages (from matplotlib!=3.6.1,>=3.3->seaborn) (1.2.0)\r\n",
      "Requirement already satisfied: cycler>=0.10 in /usr/local/lib/python3.10/site-packages (from matplotlib!=3.6.1,>=3.3->seaborn) (0.12.1)\r\n",
      "Requirement already satisfied: fonttools>=4.22.0 in /usr/local/lib/python3.10/site-packages (from matplotlib!=3.6.1,>=3.3->seaborn) (4.44.0)\r\n",
      "Requirement already satisfied: kiwisolver>=1.3.1 in /usr/local/lib/python3.10/site-packages (from matplotlib!=3.6.1,>=3.3->seaborn) (1.4.5)\r\n",
      "Requirement already satisfied: packaging>=20.0 in /usr/local/lib/python3.10/site-packages (from matplotlib!=3.6.1,>=3.3->seaborn) (23.2)\r\n",
      "Requirement already satisfied: pillow>=8 in /usr/local/lib/python3.10/site-packages (from matplotlib!=3.6.1,>=3.3->seaborn) (10.1.0)\r\n",
      "Requirement already satisfied: pyparsing>=2.3.1 in /usr/local/lib/python3.10/site-packages (from matplotlib!=3.6.1,>=3.3->seaborn) (3.1.1)\r\n",
      "Requirement already satisfied: python-dateutil>=2.7 in /usr/local/lib/python3.10/site-packages (from matplotlib!=3.6.1,>=3.3->seaborn) (2.8.2)\r\n",
      "Requirement already satisfied: pytz>=2020.1 in /usr/local/lib/python3.10/site-packages (from pandas>=1.2->seaborn) (2023.3.post1)\r\n",
      "Requirement already satisfied: tzdata>=2022.1 in /usr/local/lib/python3.10/site-packages (from pandas>=1.2->seaborn) (2023.3)\r\n",
      "Requirement already satisfied: six>=1.5 in /usr/local/lib/python3.10/site-packages (from python-dateutil>=2.7->matplotlib!=3.6.1,>=3.3->seaborn) (1.16.0)\r\n",
      "Downloading seaborn-0.13.0-py3-none-any.whl (294 kB)\r\n",
      "\u001b[2K   \u001b[90m━━━━━━━━━━━━━━━━━━━━━━━━━━━━━━━━━━━━━━━━\u001b[0m \u001b[32m294.6/294.6 kB\u001b[0m \u001b[31m4.4 MB/s\u001b[0m eta \u001b[36m0:00:00\u001b[0m\r\n",
      "\u001b[?25hInstalling collected packages: seaborn\r\n",
      "Successfully installed seaborn-0.13.0\r\n",
      "\u001b[33mWARNING: Running pip as the 'root' user can result in broken permissions and conflicting behaviour with the system package manager. It is recommended to use a virtual environment instead: https://pip.pypa.io/warnings/venv\u001b[0m\u001b[33m\r\n",
      "\u001b[0mRequirement already satisfied: transformers in /usr/local/lib/python3.10/site-packages (4.35.0)\r\n",
      "Requirement already satisfied: filelock in /usr/local/lib/python3.10/site-packages (from transformers) (3.13.1)\r\n",
      "Requirement already satisfied: huggingface-hub<1.0,>=0.16.4 in /usr/local/lib/python3.10/site-packages (from transformers) (0.17.3)\r\n",
      "Requirement already satisfied: numpy>=1.17 in /usr/local/lib/python3.10/site-packages (from transformers) (1.26.1)\r\n",
      "Requirement already satisfied: packaging>=20.0 in /usr/local/lib/python3.10/site-packages (from transformers) (23.2)\r\n",
      "Requirement already satisfied: pyyaml>=5.1 in /usr/local/lib/python3.10/site-packages (from transformers) (6.0.1)\r\n",
      "Requirement already satisfied: regex!=2019.12.17 in /usr/local/lib/python3.10/site-packages (from transformers) (2023.10.3)\r\n",
      "Requirement already satisfied: requests in /usr/local/lib/python3.10/site-packages (from transformers) (2.31.0)\r\n",
      "Requirement already satisfied: tokenizers<0.15,>=0.14 in /usr/local/lib/python3.10/site-packages (from transformers) (0.14.1)\r\n",
      "Requirement already satisfied: safetensors>=0.3.1 in /usr/local/lib/python3.10/site-packages (from transformers) (0.4.0)\r\n",
      "Requirement already satisfied: tqdm>=4.27 in /usr/local/lib/python3.10/site-packages (from transformers) (4.66.1)\r\n",
      "Requirement already satisfied: fsspec in /usr/local/lib/python3.10/site-packages (from huggingface-hub<1.0,>=0.16.4->transformers) (2023.10.0)\r\n",
      "Requirement already satisfied: typing-extensions>=3.7.4.3 in /usr/local/lib/python3.10/site-packages (from huggingface-hub<1.0,>=0.16.4->transformers) (4.8.0)\r\n",
      "Requirement already satisfied: charset-normalizer<4,>=2 in /usr/local/lib/python3.10/site-packages (from requests->transformers) (3.3.2)\r\n",
      "Requirement already satisfied: idna<4,>=2.5 in /usr/local/lib/python3.10/site-packages (from requests->transformers) (3.4)\r\n",
      "Requirement already satisfied: urllib3<3,>=1.21.1 in /usr/local/lib/python3.10/site-packages (from requests->transformers) (2.0.7)\r\n",
      "Requirement already satisfied: certifi>=2017.4.17 in /usr/local/lib/python3.10/site-packages (from requests->transformers) (2023.7.22)\r\n",
      "\u001b[33mWARNING: Running pip as the 'root' user can result in broken permissions and conflicting behaviour with the system package manager. It is recommended to use a virtual environment instead: https://pip.pypa.io/warnings/venv\u001b[0m\u001b[33m\r\n",
      "\u001b[0mRequirement already satisfied: scikit-learn in /usr/local/lib/python3.10/site-packages (1.3.2)\r\n",
      "Requirement already satisfied: numpy<2.0,>=1.17.3 in /usr/local/lib/python3.10/site-packages (from scikit-learn) (1.26.1)\r\n",
      "Requirement already satisfied: scipy>=1.5.0 in /usr/local/lib/python3.10/site-packages (from scikit-learn) (1.11.3)\r\n",
      "Requirement already satisfied: joblib>=1.1.1 in /usr/local/lib/python3.10/site-packages (from scikit-learn) (1.3.2)\r\n",
      "Requirement already satisfied: threadpoolctl>=2.0.0 in /usr/local/lib/python3.10/site-packages (from scikit-learn) (3.2.0)\r\n",
      "\u001b[33mWARNING: Running pip as the 'root' user can result in broken permissions and conflicting behaviour with the system package manager. It is recommended to use a virtual environment instead: https://pip.pypa.io/warnings/venv\u001b[0m\u001b[33m\r\n",
      "\u001b[0mCollecting imbalanced-learn\r\n",
      "  Downloading imbalanced_learn-0.11.0-py3-none-any.whl.metadata (8.3 kB)\r\n",
      "Requirement already satisfied: numpy>=1.17.3 in /usr/local/lib/python3.10/site-packages (from imbalanced-learn) (1.26.1)\r\n",
      "Requirement already satisfied: scipy>=1.5.0 in /usr/local/lib/python3.10/site-packages (from imbalanced-learn) (1.11.3)\r\n",
      "Requirement already satisfied: scikit-learn>=1.0.2 in /usr/local/lib/python3.10/site-packages (from imbalanced-learn) (1.3.2)\r\n",
      "Requirement already satisfied: joblib>=1.1.1 in /usr/local/lib/python3.10/site-packages (from imbalanced-learn) (1.3.2)\r\n",
      "Requirement already satisfied: threadpoolctl>=2.0.0 in /usr/local/lib/python3.10/site-packages (from imbalanced-learn) (3.2.0)\r\n",
      "Downloading imbalanced_learn-0.11.0-py3-none-any.whl (235 kB)\r\n",
      "\u001b[2K   \u001b[90m━━━━━━━━━━━━━━━━━━━━━━━━━━━━━━━━━━━━━━━━\u001b[0m \u001b[32m235.6/235.6 kB\u001b[0m \u001b[31m3.6 MB/s\u001b[0m eta \u001b[36m0:00:00\u001b[0m\r\n",
      "\u001b[?25hInstalling collected packages: imbalanced-learn\r\n",
      "Successfully installed imbalanced-learn-0.11.0\r\n",
      "\u001b[33mWARNING: Running pip as the 'root' user can result in broken permissions and conflicting behaviour with the system package manager. It is recommended to use a virtual environment instead: https://pip.pypa.io/warnings/venv\u001b[0m\u001b[33m\r\n",
      "\u001b[0m"
     ]
    }
   ],
   "source": [
    "!pip install --upgrade pip\n",
    "!pip install tensorflow_addons\n",
    "!pip install seaborn\n",
    "!pip install transformers\n",
    "!pip install scikit-learn\n",
    "!pip install imbalanced-learn\n"
   ]
  },
  {
   "cell_type": "code",
   "execution_count": 2,
   "id": "53f2ab41",
   "metadata": {
    "execution": {
     "iopub.execute_input": "2023-11-24T01:36:07.084322Z",
     "iopub.status.busy": "2023-11-24T01:36:07.084038Z",
     "iopub.status.idle": "2023-11-24T01:36:47.194148Z",
     "shell.execute_reply": "2023-11-24T01:36:47.193245Z"
    },
    "papermill": {
     "duration": 40.121717,
     "end_time": "2023-11-24T01:36:47.196506",
     "exception": false,
     "start_time": "2023-11-24T01:36:07.074789",
     "status": "completed"
    },
    "tags": []
   },
   "outputs": [
    {
     "name": "stderr",
     "output_type": "stream",
     "text": [
      "/Library/Frameworks/Python.framework/Versions/3.11/lib/python3.11/site-packages/tensorflow_addons/utils/tfa_eol_msg.py:23: UserWarning: \n",
      "\n",
      "TensorFlow Addons (TFA) has ended development and introduction of new features.\n",
      "TFA has entered a minimal maintenance and release mode until a planned end of life in May 2024.\n",
      "Please modify downstream libraries to take dependencies from other repositories in our TensorFlow community (e.g. Keras, Keras-CV, and Keras-NLP). \n",
      "\n",
      "For more information see: https://github.com/tensorflow/addons/issues/2807 \n",
      "\n",
      "  warnings.warn(\n",
      "/Library/Frameworks/Python.framework/Versions/3.11/lib/python3.11/site-packages/tensorflow_addons/utils/ensure_tf_install.py:53: UserWarning: Tensorflow Addons supports using Python ops for all Tensorflow versions above or equal to 2.12.0 and strictly below 2.15.0 (nightly versions are not supported). \n",
      " The versions of TensorFlow you are currently using is 2.15.0 and is not supported. \n",
      "Some things might work, some things might not.\n",
      "If you were to encounter a bug, do not file an issue.\n",
      "If you want to make sure you're using a tested and supported configuration, either change the TensorFlow version or the TensorFlow Addons's version. \n",
      "You can find the compatibility matrix in TensorFlow Addon's readme:\n",
      "https://github.com/tensorflow/addons\n",
      "  warnings.warn(\n"
     ]
    }
   ],
   "source": [
    "import numpy as np\n",
    "import pandas as pd\n",
    "import matplotlib.pyplot as plt\n",
    "import seaborn as sns\n",
    "from sklearn.preprocessing import LabelEncoder\n",
    "from sklearn.model_selection import train_test_split\n",
    "\n",
    "\n",
    "import tensorflow as tf\n",
    "import tensorflow_addons as tfa\n",
    "\n",
    "from transformers import TFAutoModel, AutoTokenizer\n",
    "\n",
    "\n",
    "from tensorflow.keras import Input, Model\n",
    "from tensorflow.keras import layers\n",
    "from tensorflow.keras.layers import Dense, Dropout, Conv1D, MaxPooling1D, Bidirectional, LSTM, Flatten,GlobalMaxPooling1D\n",
    "from tensorflow.keras.optimizers import Adam\n",
    "from tensorflow.keras import regularizers\n",
    "\n",
    "from tensorflow.keras.callbacks import ModelCheckpoint, EarlyStopping\n",
    "\n",
    "from transformers import TFRobertaModel\n",
    "from keras.models import load_model\n",
    "from keras.utils import CustomObjectScope\n",
    "\n",
    "import warnings\n",
    "warnings.filterwarnings(\"ignore\")"
   ]
  },
  {
   "cell_type": "markdown",
   "id": "b7c71df7",
   "metadata": {
    "papermill": {
     "duration": 0.007291,
     "end_time": "2023-11-24T01:36:47.211760",
     "exception": false,
     "start_time": "2023-11-24T01:36:47.204469",
     "status": "completed"
    },
    "tags": []
   },
   "source": [
    "* Đọc dữ liệu"
   ]
  },
  {
   "cell_type": "code",
   "execution_count": 3,
   "id": "86ec29bd",
   "metadata": {
    "execution": {
     "iopub.execute_input": "2023-11-24T01:36:47.227862Z",
     "iopub.status.busy": "2023-11-24T01:36:47.227320Z",
     "iopub.status.idle": "2023-11-24T01:36:50.248009Z",
     "shell.execute_reply": "2023-11-24T01:36:50.247227Z"
    },
    "papermill": {
     "duration": 3.03097,
     "end_time": "2023-11-24T01:36:50.249869",
     "exception": false,
     "start_time": "2023-11-24T01:36:47.218899",
     "status": "completed"
    },
    "tags": []
   },
   "outputs": [
    {
     "data": {
      "text/html": [
       "<div>\n",
       "<style scoped>\n",
       "    .dataframe tbody tr th:only-of-type {\n",
       "        vertical-align: middle;\n",
       "    }\n",
       "\n",
       "    .dataframe tbody tr th {\n",
       "        vertical-align: top;\n",
       "    }\n",
       "\n",
       "    .dataframe thead th {\n",
       "        text-align: right;\n",
       "    }\n",
       "</style>\n",
       "<table border=\"1\" class=\"dataframe\">\n",
       "  <thead>\n",
       "    <tr style=\"text-align: right;\">\n",
       "      <th></th>\n",
       "      <th>comment</th>\n",
       "      <th>rating_star</th>\n",
       "      <th>khia_canh</th>\n",
       "    </tr>\n",
       "  </thead>\n",
       "  <tbody>\n",
       "    <tr>\n",
       "      <th>0</th>\n",
       "      <td>mô tả sai 60 cửa hàng giao bao nhiêu bẻ 50 nhắ...</td>\n",
       "      <td>negative</td>\n",
       "      <td>Chất lượng sản phẩm, Dịch vụ khách hàng, Giao ...</td>\n",
       "    </tr>\n",
       "    <tr>\n",
       "      <th>1</th>\n",
       "      <td>sản phẩm cửa hàng hài sản phẩm hàng hơi lâu4 ủ...</td>\n",
       "      <td>negative</td>\n",
       "      <td>Dịch vụ khách hàng</td>\n",
       "    </tr>\n",
       "    <tr>\n",
       "      <th>2</th>\n",
       "      <td>giao hàng cửa hàng thèm phục vụ kém nhắn đợi t...</td>\n",
       "      <td>negative</td>\n",
       "      <td>Chất lượng sản phẩm, Dịch vụ khách hàng, Giao ...</td>\n",
       "    </tr>\n",
       "    <tr>\n",
       "      <th>3</th>\n",
       "      <td>chất sản phẩm tệ hại y cửa hàng hàng khuyên cử...</td>\n",
       "      <td>negative</td>\n",
       "      <td>Chất lượng sản phẩm, Dịch vụ khách hàng, Giao ...</td>\n",
       "    </tr>\n",
       "    <tr>\n",
       "      <th>4</th>\n",
       "      <td>sản phẩm giao cửa hàng phục vụ nhiệt tình 2 sả...</td>\n",
       "      <td>negative</td>\n",
       "      <td>Dịch vụ khách hàng, Giao hàng</td>\n",
       "    </tr>\n",
       "  </tbody>\n",
       "</table>\n",
       "</div>"
      ],
      "text/plain": [
       "                                             comment rating_star  \\\n",
       "0  mô tả sai 60 cửa hàng giao bao nhiêu bẻ 50 nhắ...    negative   \n",
       "1  sản phẩm cửa hàng hài sản phẩm hàng hơi lâu4 ủ...    negative   \n",
       "2  giao hàng cửa hàng thèm phục vụ kém nhắn đợi t...    negative   \n",
       "3  chất sản phẩm tệ hại y cửa hàng hàng khuyên cử...    negative   \n",
       "4  sản phẩm giao cửa hàng phục vụ nhiệt tình 2 sả...    negative   \n",
       "\n",
       "                                           khia_canh  \n",
       "0  Chất lượng sản phẩm, Dịch vụ khách hàng, Giao ...  \n",
       "1                                 Dịch vụ khách hàng  \n",
       "2  Chất lượng sản phẩm, Dịch vụ khách hàng, Giao ...  \n",
       "3  Chất lượng sản phẩm, Dịch vụ khách hàng, Giao ...  \n",
       "4                      Dịch vụ khách hàng, Giao hàng  "
      ]
     },
     "execution_count": 3,
     "metadata": {},
     "output_type": "execute_result"
    }
   ],
   "source": [
    "df = pd.read_csv('/Users/datnguyen/Documents/hoc_truong/project/NLP/Nhom_10/data/data.tsv',sep='\\t')\n",
    "df.head()"
   ]
  },
  {
   "cell_type": "markdown",
   "id": "8bffc5d6",
   "metadata": {
    "papermill": {
     "duration": 0.007805,
     "end_time": "2023-11-24T01:36:51.796586",
     "exception": false,
     "start_time": "2023-11-24T01:36:51.788781",
     "status": "completed"
    },
    "tags": []
   },
   "source": [
    "* Chọn dữ liệu"
   ]
  },
  {
   "cell_type": "code",
   "execution_count": 4,
   "id": "f011a91d",
   "metadata": {
    "execution": {
     "iopub.execute_input": "2023-11-24T01:36:51.851094Z",
     "iopub.status.busy": "2023-11-24T01:36:51.850747Z",
     "iopub.status.idle": "2023-11-24T01:36:51.855130Z",
     "shell.execute_reply": "2023-11-24T01:36:51.854379Z"
    },
    "papermill": {
     "duration": 0.015637,
     "end_time": "2023-11-24T01:36:51.856701",
     "exception": false,
     "start_time": "2023-11-24T01:36:51.841064",
     "status": "completed"
    },
    "tags": []
   },
   "outputs": [],
   "source": [
    "X = df.comment\n",
    "y = df.rating_star"
   ]
  },
  {
   "cell_type": "markdown",
   "id": "177d0650",
   "metadata": {
    "papermill": {
     "duration": 0.007561,
     "end_time": "2023-11-24T01:36:51.872412",
     "exception": false,
     "start_time": "2023-11-24T01:36:51.864851",
     "status": "completed"
    },
    "tags": []
   },
   "source": [
    "* LabelEncoder"
   ]
  },
  {
   "cell_type": "code",
   "execution_count": 5,
   "id": "3654c064",
   "metadata": {
    "execution": {
     "iopub.execute_input": "2023-11-24T01:36:51.889279Z",
     "iopub.status.busy": "2023-11-24T01:36:51.889022Z",
     "iopub.status.idle": "2023-11-24T01:36:51.892608Z",
     "shell.execute_reply": "2023-11-24T01:36:51.891851Z"
    },
    "papermill": {
     "duration": 0.014233,
     "end_time": "2023-11-24T01:36:51.894242",
     "exception": false,
     "start_time": "2023-11-24T01:36:51.880009",
     "status": "completed"
    },
    "tags": []
   },
   "outputs": [],
   "source": [
    "le_rating = LabelEncoder()"
   ]
  },
  {
   "cell_type": "code",
   "execution_count": 6,
   "id": "36912699",
   "metadata": {
    "execution": {
     "iopub.execute_input": "2023-11-24T01:36:51.911788Z",
     "iopub.status.busy": "2023-11-24T01:36:51.911520Z",
     "iopub.status.idle": "2023-11-24T01:38:33.131737Z",
     "shell.execute_reply": "2023-11-24T01:38:33.130668Z"
    },
    "papermill": {
     "duration": 101.232035,
     "end_time": "2023-11-24T01:38:33.134221",
     "exception": false,
     "start_time": "2023-11-24T01:36:51.902186",
     "status": "completed"
    },
    "tags": []
   },
   "outputs": [],
   "source": [
    "MAX_LEN = 200\n",
    "model_name = 'vinai/phobert-base'\n",
    "\n",
    "# Tokenizing\n",
    "tokenizer = AutoTokenizer.from_pretrained(model_name)\n",
    "encoded_inputs = tokenizer.batch_encode_plus(\n",
    "    df.comment.tolist(), \n",
    "    max_length=MAX_LEN, \n",
    "    padding='max_length', \n",
    "    truncation=True,\n",
    "    return_tensors='np'\n",
    ")"
   ]
  },
  {
   "cell_type": "code",
   "execution_count": 7,
   "id": "e2cc06f7",
   "metadata": {
    "execution": {
     "iopub.execute_input": "2023-11-24T01:38:33.156207Z",
     "iopub.status.busy": "2023-11-24T01:38:33.155839Z",
     "iopub.status.idle": "2023-11-24T01:38:33.173188Z",
     "shell.execute_reply": "2023-11-24T01:38:33.172018Z"
    },
    "papermill": {
     "duration": 0.030336,
     "end_time": "2023-11-24T01:38:33.175101",
     "exception": false,
     "start_time": "2023-11-24T01:38:33.144765",
     "status": "completed"
    },
    "tags": []
   },
   "outputs": [],
   "source": [
    "X = encoded_inputs['input_ids']\n",
    "y = le_rating.fit_transform(y)"
   ]
  },
  {
   "cell_type": "code",
   "execution_count": 8,
   "id": "2d0c4d68",
   "metadata": {
    "execution": {
     "iopub.execute_input": "2023-11-24T01:38:33.197075Z",
     "iopub.status.busy": "2023-11-24T01:38:33.196712Z",
     "iopub.status.idle": "2023-11-24T01:38:33.500253Z",
     "shell.execute_reply": "2023-11-24T01:38:33.499274Z"
    },
    "papermill": {
     "duration": 0.316845,
     "end_time": "2023-11-24T01:38:33.502445",
     "exception": false,
     "start_time": "2023-11-24T01:38:33.185600",
     "status": "completed"
    },
    "tags": []
   },
   "outputs": [],
   "source": [
    "from sklearn.model_selection import train_test_split\n",
    "\n",
    "X_train, X_test, y_train, y_test = train_test_split(X, y, test_size=0.2, random_state=2006)"
   ]
  },
  {
   "cell_type": "markdown",
   "id": "36fa4c52",
   "metadata": {
    "papermill": {
     "duration": 0.008173,
     "end_time": "2023-11-24T01:38:33.518933",
     "exception": false,
     "start_time": "2023-11-24T01:38:33.510760",
     "status": "completed"
    },
    "tags": []
   },
   "source": [
    "* TPU setup"
   ]
  },
  {
   "cell_type": "code",
   "execution_count": 9,
   "id": "ea66791a",
   "metadata": {
    "execution": {
     "iopub.execute_input": "2023-11-24T01:38:33.537413Z",
     "iopub.status.busy": "2023-11-24T01:38:33.537113Z",
     "iopub.status.idle": "2023-11-24T01:38:41.976551Z",
     "shell.execute_reply": "2023-11-24T01:38:41.975393Z"
    },
    "papermill": {
     "duration": 8.45071,
     "end_time": "2023-11-24T01:38:41.978308",
     "exception": false,
     "start_time": "2023-11-24T01:38:33.527598",
     "status": "completed"
    },
    "tags": []
   },
   "outputs": [
    {
     "name": "stdout",
     "output_type": "stream",
     "text": [
      "Number of replicas: 1\n"
     ]
    }
   ],
   "source": [
    "try:\n",
    "    tpu = tf.distribute.cluster_resolver.TPUClusterResolver() \n",
    "    tf.config.experimental_connect_to_cluster(tpu)\n",
    "    tf.tpu.experimental.initialize_tpu_system(tpu)\n",
    "    \n",
    "    strategy = tf.distribute.experimental.TPUStrategy\n",
    "except ValueError:\n",
    "    strategy = tf.distribute.get_strategy() \n",
    "    print('Number of replicas:', strategy.num_replicas_in_sync) "
   ]
  },
  {
   "cell_type": "code",
   "execution_count": 10,
   "id": "f905d968",
   "metadata": {
    "execution": {
     "iopub.execute_input": "2023-11-24T01:38:41.997971Z",
     "iopub.status.busy": "2023-11-24T01:38:41.997674Z",
     "iopub.status.idle": "2023-11-24T01:38:47.582474Z",
     "shell.execute_reply": "2023-11-24T01:38:47.581472Z"
    },
    "papermill": {
     "duration": 5.600199,
     "end_time": "2023-11-24T01:38:47.587769",
     "exception": false,
     "start_time": "2023-11-24T01:38:41.987570",
     "status": "completed"
    },
    "tags": []
   },
   "outputs": [
    {
     "name": "stdout",
     "output_type": "stream",
     "text": [
      "Running on single GPU  /device:GPU:0\n",
      "Number of accelerators:  1\n"
     ]
    },
    {
     "name": "stderr",
     "output_type": "stream",
     "text": [
      "2023-12-05 08:53:17.609283: I metal_plugin/src/device/metal_device.cc:1154] Metal device set to: Apple M2\n",
      "2023-12-05 08:53:17.609341: I metal_plugin/src/device/metal_device.cc:296] systemMemory: 16.00 GB\n",
      "2023-12-05 08:53:17.609360: I metal_plugin/src/device/metal_device.cc:313] maxCacheSize: 5.33 GB\n",
      "2023-12-05 08:53:17.609399: I tensorflow/core/common_runtime/pluggable_device/pluggable_device_factory.cc:306] Could not identify NUMA node of platform GPU ID 0, defaulting to 0. Your kernel may not have been built with NUMA support.\n",
      "2023-12-05 08:53:17.609414: I tensorflow/core/common_runtime/pluggable_device/pluggable_device_factory.cc:272] Created TensorFlow device (/job:localhost/replica:0/task:0/device:GPU:0 with 0 MB memory) -> physical PluggableDevice (device: 0, name: METAL, pci bus id: <undefined>)\n"
     ]
    }
   ],
   "source": [
    "try:\n",
    "    tpu = tf.distribute.cluster_resolver.TPUClusterResolver() # TPU detection\n",
    "except ValueError:\n",
    "    tpu = None\n",
    "    gpus = tf.config.experimental.list_logical_devices(\"GPU\")\n",
    "    \n",
    "if tpu:\n",
    "    tf.tpu.experimental.initialize_tpu_system(tpu)\n",
    "    strategy = tf.distribute.experimental.TPUStrategy(tpu,) \n",
    "    print('Running on TPU ', tpu.cluster_spec().as_dict())\n",
    "elif len(gpus) > 1:\n",
    "    strategy = tf.distribute.MirroredStrategy([gpu.name for gpu in gpus])\n",
    "    print('Running on multiple GPUs ', [gpu.name for gpu in gpus])\n",
    "elif len(gpus) == 1:\n",
    "    strategy = tf.distribute.get_strategy() \n",
    "    print('Running on single GPU ', gpus[0].name)\n",
    "else:\n",
    "    strategy = tf.distribute.get_strategy() \n",
    "    print('Running on CPU')\n",
    "print(\"Number of accelerators: \", strategy.num_replicas_in_sync)"
   ]
  },
  {
   "cell_type": "markdown",
   "id": "39aec105",
   "metadata": {
    "papermill": {
     "duration": 0.010534,
     "end_time": "2023-11-24T01:38:47.609201",
     "exception": false,
     "start_time": "2023-11-24T01:38:47.598667",
     "status": "completed"
    },
    "tags": []
   },
   "source": [
    "* OnehotEncoder"
   ]
  },
  {
   "cell_type": "code",
   "execution_count": 11,
   "id": "58f6f049",
   "metadata": {
    "execution": {
     "iopub.execute_input": "2023-11-24T01:38:47.630867Z",
     "iopub.status.busy": "2023-11-24T01:38:47.630603Z",
     "iopub.status.idle": "2023-11-24T01:38:47.641122Z",
     "shell.execute_reply": "2023-11-24T01:38:47.640264Z"
    },
    "papermill": {
     "duration": 0.023728,
     "end_time": "2023-11-24T01:38:47.642994",
     "exception": false,
     "start_time": "2023-11-24T01:38:47.619266",
     "status": "completed"
    },
    "tags": []
   },
   "outputs": [],
   "source": [
    "y_train = tf.keras.utils.to_categorical(y_train)"
   ]
  },
  {
   "cell_type": "markdown",
   "id": "d297c011",
   "metadata": {
    "papermill": {
     "duration": 0.010209,
     "end_time": "2023-11-24T01:38:47.663310",
     "exception": false,
     "start_time": "2023-11-24T01:38:47.653101",
     "status": "completed"
    },
    "tags": []
   },
   "source": [
    "* Build Model"
   ]
  },
  {
   "cell_type": "code",
   "execution_count": 12,
   "id": "5b47ed36",
   "metadata": {
    "execution": {
     "iopub.execute_input": "2023-11-24T01:38:47.684818Z",
     "iopub.status.busy": "2023-11-24T01:38:47.684549Z",
     "iopub.status.idle": "2023-11-24T01:39:41.436990Z",
     "shell.execute_reply": "2023-11-24T01:39:41.436088Z"
    },
    "papermill": {
     "duration": 53.766001,
     "end_time": "2023-11-24T01:39:41.439374",
     "exception": false,
     "start_time": "2023-11-24T01:38:47.673373",
     "status": "completed"
    },
    "tags": []
   },
   "outputs": [
    {
     "name": "stderr",
     "output_type": "stream",
     "text": [
      "Some layers from the model checkpoint at vinai/phobert-base were not used when initializing TFRobertaModel: ['lm_head']\n",
      "- This IS expected if you are initializing TFRobertaModel from the checkpoint of a model trained on another task or with another architecture (e.g. initializing a BertForSequenceClassification model from a BertForPreTraining model).\n",
      "- This IS NOT expected if you are initializing TFRobertaModel from the checkpoint of a model that you expect to be exactly identical (initializing a BertForSequenceClassification model from a BertForSequenceClassification model).\n",
      "All the layers of TFRobertaModel were initialized from the model checkpoint at vinai/phobert-base.\n",
      "If your task is similar to the task the model of the checkpoint was trained on, you can already use TFRobertaModel for predictions without further training.\n"
     ]
    }
   ],
   "source": [
    "with strategy.scope():\n",
    "    encoder = TFAutoModel.from_pretrained(model_name)\n",
    "\n",
    "    input_ids = Input(shape=(MAX_LEN,), dtype=tf.int32)\n",
    "\n",
    "    # Trích xuất đặc trưng phoBert\n",
    "    embedding = encoder(input_ids)[1]\n",
    "    \n",
    "#   New Dense layer with L2 regularization\n",
    "    x = Dense(256, activation='relu', kernel_regularizer=regularizers.l2(0.1))(embedding)\n",
    "    \n",
    "    # New Dropout layer\n",
    "    x = Dropout(0.2)(x)\n",
    "    \n",
    "    # Lớp đầu ra\n",
    "    output = Dense(y_train.shape[1], activation='softmax', name='output')(x)\n",
    "\n",
    "    # Tạo mô hình\n",
    "    model_rating = Model(inputs=input_ids, outputs=output)\n"
   ]
  },
  {
   "cell_type": "code",
   "execution_count": 13,
   "id": "2826a407",
   "metadata": {
    "execution": {
     "iopub.execute_input": "2023-11-24T01:39:41.469583Z",
     "iopub.status.busy": "2023-11-24T01:39:41.469329Z",
     "iopub.status.idle": "2023-11-24T01:39:41.509426Z",
     "shell.execute_reply": "2023-11-24T01:39:41.508724Z"
    },
    "papermill": {
     "duration": 0.056961,
     "end_time": "2023-11-24T01:39:41.510980",
     "exception": false,
     "start_time": "2023-11-24T01:39:41.454019",
     "status": "completed"
    },
    "tags": []
   },
   "outputs": [
    {
     "name": "stdout",
     "output_type": "stream",
     "text": [
      "Model: \"model\"\n",
      "_________________________________________________________________\n",
      " Layer (type)                Output Shape              Param #   \n",
      "=================================================================\n",
      " input_1 (InputLayer)        [(None, 200)]             0         \n",
      "                                                                 \n",
      " tf_roberta_model (TFRobert  TFBaseModelOutputWithPo   134998272 \n",
      " aModel)                     olingAndCrossAttentions             \n",
      "                             (last_hidden_state=(Non             \n",
      "                             e, 200, 768),                       \n",
      "                              pooler_output=(None, 7             \n",
      "                             68),                                \n",
      "                              past_key_values=None,              \n",
      "                             hidden_states=None, att             \n",
      "                             entions=None, cross_att             \n",
      "                             entions=None)                       \n",
      "                                                                 \n",
      " dense (Dense)               (None, 256)               196864    \n",
      "                                                                 \n",
      " dropout_37 (Dropout)        (None, 256)               0         \n",
      "                                                                 \n",
      " output (Dense)              (None, 3)                 771       \n",
      "                                                                 \n",
      "=================================================================\n",
      "Total params: 135195907 (515.73 MB)\n",
      "Trainable params: 135195907 (515.73 MB)\n",
      "Non-trainable params: 0 (0.00 Byte)\n",
      "_________________________________________________________________\n"
     ]
    }
   ],
   "source": [
    "model_rating.summary()"
   ]
  },
  {
   "cell_type": "code",
   "execution_count": 14,
   "metadata": {},
   "outputs": [
    {
     "data": {
      "image/png": "[encoded data removed]",
      "text/plain": [
       "<IPython.core.display.Image object>"
      ]
     },
     "execution_count": 14,
     "metadata": {},
     "output_type": "execute_result"
    }
   ],
   "source": [
    "from tensorflow.keras.utils import plot_model\n",
    "plot_model(model_rating, to_file='model_rating.png', show_shapes=True, show_layer_names=True)"
   ]
  },
  {
   "cell_type": "markdown",
   "id": "0f2158b5",
   "metadata": {
    "papermill": {
     "duration": 0.01527,
     "end_time": "2023-11-24T01:39:41.541487",
     "exception": false,
     "start_time": "2023-11-24T01:39:41.526217",
     "status": "completed"
    },
    "tags": []
   },
   "source": [
    "* Optimize"
   ]
  },
  {
   "cell_type": "code",
   "execution_count": 17,
   "id": "d2607cab",
   "metadata": {
    "execution": {
     "iopub.execute_input": "2023-11-24T01:39:41.572783Z",
     "iopub.status.busy": "2023-11-24T01:39:41.572552Z",
     "iopub.status.idle": "2023-11-24T01:39:41.586509Z",
     "shell.execute_reply": "2023-11-24T01:39:41.585782Z"
    },
    "papermill": {
     "duration": 0.031899,
     "end_time": "2023-11-24T01:39:41.588283",
     "exception": false,
     "start_time": "2023-11-24T01:39:41.556384",
     "status": "completed"
    },
    "tags": []
   },
   "outputs": [],
   "source": [
    "class MyExponentialDecay(tf.keras.optimizers.schedules.ExponentialDecay):\n",
    "  def __call__(self, step):\n",
    "    return 1e-2 * super().__call__(step)\n",
    "\n",
    "step = tf.Variable(0, trainable=False)\n",
    "schedule = tf.optimizers.schedules.PiecewiseConstantDecay(\n",
    "    [10000, 15000], [1e-3, 1e-4, 1e-5])\n",
    "\n",
    "initial_learning_rate=0.01\n",
    "\n",
    "wd = MyExponentialDecay(\n",
    "    initial_learning_rate,\n",
    "    decay_steps=14,\n",
    "    decay_rate=0.8,\n",
    "    staircase=True)\n",
    "lr = 1e2 * schedule(step)"
   ]
  },
  {
   "cell_type": "code",
   "execution_count": 18,
   "id": "7127ae66",
   "metadata": {
    "execution": {
     "iopub.execute_input": "2023-11-24T01:39:41.619859Z",
     "iopub.status.busy": "2023-11-24T01:39:41.619622Z",
     "iopub.status.idle": "2023-11-24T01:39:41.712608Z",
     "shell.execute_reply": "2023-11-24T01:39:41.711812Z"
    },
    "papermill": {
     "duration": 0.111531,
     "end_time": "2023-11-24T01:39:41.714771",
     "exception": false,
     "start_time": "2023-11-24T01:39:41.603240",
     "status": "completed"
    },
    "tags": []
   },
   "outputs": [],
   "source": [
    "model_rating.compile(\n",
    "    optimizer=tfa.optimizers.AdamW(weight_decay=wd,\n",
    "                                  learning_rate=lr),\n",
    "    loss=tf.keras.losses.CategoricalCrossentropy(),\n",
    "    metrics=['accuracy'])\n"
   ]
  },
  {
   "cell_type": "code",
   "execution_count": 19,
   "id": "8b77aba1",
   "metadata": {
    "execution": {
     "iopub.execute_input": "2023-11-24T01:39:41.751159Z",
     "iopub.status.busy": "2023-11-24T01:39:41.750859Z",
     "iopub.status.idle": "2023-11-24T01:39:41.755249Z",
     "shell.execute_reply": "2023-11-24T01:39:41.754524Z"
    },
    "papermill": {
     "duration": 0.025452,
     "end_time": "2023-11-24T01:39:41.757130",
     "exception": false,
     "start_time": "2023-11-24T01:39:41.731678",
     "status": "completed"
    },
    "tags": []
   },
   "outputs": [],
   "source": [
    "# Lưu mô hình tốt nhất\n",
    "cp_callback = ModelCheckpoint(filepath='pho_rating.h5',\n",
    "                              save_best_only=True,\n",
    "                              monitor='accuracy',\n",
    "                              mode='max',\n",
    "                              verbose=1)\n",
    "\n",
    "# Dừng sớm khi không có quá nhiều thay đổi\n",
    "es_callback = EarlyStopping(\n",
    "    monitor='accuracy', \n",
    "    patience=15,\n",
    "    mode='max')"
   ]
  },
  {
   "cell_type": "code",
   "execution_count": 20,
   "id": "40677e54",
   "metadata": {
    "execution": {
     "iopub.execute_input": "2023-11-24T01:39:41.790253Z",
     "iopub.status.busy": "2023-11-24T01:39:41.790027Z",
     "iopub.status.idle": "2023-11-24T01:39:41.793226Z",
     "shell.execute_reply": "2023-11-24T01:39:41.792623Z"
    },
    "papermill": {
     "duration": 0.022023,
     "end_time": "2023-11-24T01:39:41.794860",
     "exception": false,
     "start_time": "2023-11-24T01:39:41.772837",
     "status": "completed"
    },
    "tags": []
   },
   "outputs": [],
   "source": [
    "# Setup tham số\n",
    "epochs = 30\n",
    "batch_size = 512\n",
    "validation_split = 0.2"
   ]
  },
  {
   "cell_type": "markdown",
   "id": "2046bf29",
   "metadata": {
    "papermill": {
     "duration": 0.015048,
     "end_time": "2023-11-24T01:39:41.825340",
     "exception": false,
     "start_time": "2023-11-24T01:39:41.810292",
     "status": "completed"
    },
    "tags": []
   },
   "source": [
    "* Training"
   ]
  },
  {
   "cell_type": "code",
   "execution_count": 21,
   "id": "d1dcc51d",
   "metadata": {
    "execution": {
     "iopub.execute_input": "2023-11-24T01:39:41.857388Z",
     "iopub.status.busy": "2023-11-24T01:39:41.857131Z",
     "iopub.status.idle": "2023-11-24T03:28:28.435643Z",
     "shell.execute_reply": "2023-11-24T03:28:28.434404Z"
    },
    "papermill": {
     "duration": 6527.64213,
     "end_time": "2023-11-24T03:28:29.482873",
     "exception": false,
     "start_time": "2023-11-24T01:39:41.840743",
     "status": "completed"
    },
    "tags": []
   },
   "outputs": [
    {
     "name": "stdout",
     "output_type": "stream",
     "text": [
      "Epoch 1/30\n"
     ]
    },
    {
     "name": "stderr",
     "output_type": "stream",
     "text": [
      "2023-11-24 01:39:43.173167: E ./tensorflow/compiler/xla/stream_executor/stream_executor_internal.h:124] SetPriority unimplemented for this stream.\n",
      "2023-11-24 01:39:43.191625: E ./tensorflow/compiler/xla/stream_executor/stream_executor_internal.h:124] SetPriority unimplemented for this stream.\n",
      "2023-11-24 01:39:43.209834: E ./tensorflow/compiler/xla/stream_executor/stream_executor_internal.h:124] SetPriority unimplemented for this stream.\n",
      "2023-11-24 01:39:43.227876: E ./tensorflow/compiler/xla/stream_executor/stream_executor_internal.h:124] SetPriority unimplemented for this stream.\n",
      "2023-11-24 01:39:43.246328: E ./tensorflow/compiler/xla/stream_executor/stream_executor_internal.h:124] SetPriority unimplemented for this stream.\n",
      "2023-11-24 01:39:43.265098: E ./tensorflow/compiler/xla/stream_executor/stream_executor_internal.h:124] SetPriority unimplemented for this stream.\n",
      "2023-11-24 01:39:43.283395: E ./tensorflow/compiler/xla/stream_executor/stream_executor_internal.h:124] SetPriority unimplemented for this stream.\n",
      "2023-11-24 01:40:30.338794: E tensorflow/core/grappler/optimizers/meta_optimizer.cc:961] model_pruner failed: INVALID_ARGUMENT: Graph does not contain terminal node AdamW/AdamW/AssignAddVariableOp.\n",
      "2023-11-24 01:40:34.605732: E ./tensorflow/compiler/xla/stream_executor/stream_executor_internal.h:124] SetPriority unimplemented for this stream.\n",
      "2023-11-24 01:40:34.609558: E ./tensorflow/compiler/xla/stream_executor/stream_executor_internal.h:124] SetPriority unimplemented for this stream.\n",
      "2023-11-24 01:40:34.609696: E ./tensorflow/compiler/xla/stream_executor/stream_executor_internal.h:124] SetPriority unimplemented for this stream.\n",
      "2023-11-24 01:40:34.609783: E ./tensorflow/compiler/xla/stream_executor/stream_executor_internal.h:124] SetPriority unimplemented for this stream.\n",
      "2023-11-24 01:40:34.609879: E ./tensorflow/compiler/xla/stream_executor/stream_executor_internal.h:124] SetPriority unimplemented for this stream.\n",
      "2023-11-24 01:41:31.211005: E ./tensorflow/compiler/xla/stream_executor/stream_executor_internal.h:124] SetPriority unimplemented for this stream.\n",
      "2023-11-24 01:41:31.211852: E ./tensorflow/compiler/xla/stream_executor/stream_executor_internal.h:124] SetPriority unimplemented for this stream.\n",
      "2023-11-24 01:41:31.213837: E ./tensorflow/compiler/xla/stream_executor/stream_executor_internal.h:124] SetPriority unimplemented for this stream.\n",
      "2023-11-24 01:41:31.214095: E ./tensorflow/compiler/xla/stream_executor/stream_executor_internal.h:124] SetPriority unimplemented for this stream.\n",
      "2023-11-24 01:41:31.219178: E ./tensorflow/compiler/xla/stream_executor/stream_executor_internal.h:124] SetPriority unimplemented for this stream.\n",
      "2023-11-24 01:41:31.219293: E ./tensorflow/compiler/xla/stream_executor/stream_executor_internal.h:124] SetPriority unimplemented for this stream.\n",
      "2023-11-24 01:41:31.219415: E ./tensorflow/compiler/xla/stream_executor/stream_executor_internal.h:124] SetPriority unimplemented for this stream.\n",
      "2023-11-24 01:41:31.219525: E ./tensorflow/compiler/xla/stream_executor/stream_executor_internal.h:124] SetPriority unimplemented for this stream.\n"
     ]
    },
    {
     "name": "stdout",
     "output_type": "stream",
     "text": [
      "  1/918 [..............................] - ETA: 27:36:06 - loss: 40.0258 - accuracy: 0.2832"
     ]
    },
    {
     "name": "stderr",
     "output_type": "stream",
     "text": [
      "2023-11-24 01:41:31.679648: E ./tensorflow/compiler/xla/stream_executor/stream_executor_internal.h:124] SetPriority unimplemented for this stream.\n",
      "2023-11-24 01:41:31.679881: E ./tensorflow/compiler/xla/stream_executor/stream_executor_internal.h:124] SetPriority unimplemented for this stream.\n"
     ]
    },
    {
     "name": "stdout",
     "output_type": "stream",
     "text": [
      "  2/918 [..............................] - ETA: 5:30 - loss: 76.3675 - accuracy: 0.4570    "
     ]
    },
    {
     "name": "stderr",
     "output_type": "stream",
     "text": [
      "2023-11-24 01:41:32.037543: E ./tensorflow/compiler/xla/stream_executor/stream_executor_internal.h:124] SetPriority unimplemented for this stream.\n"
     ]
    },
    {
     "name": "stdout",
     "output_type": "stream",
     "text": [
      "  8/918 [..............................] - ETA: 5:29 - loss: 536.0781 - accuracy: 0.3374"
     ]
    },
    {
     "name": "stderr",
     "output_type": "stream",
     "text": [
      "2023-11-24 01:41:34.214617: E ./tensorflow/compiler/xla/stream_executor/stream_executor_internal.h:124] SetPriority unimplemented for this stream.\n"
     ]
    },
    {
     "name": "stdout",
     "output_type": "stream",
     "text": [
      " 14/918 [..............................] - ETA: 5:24 - loss: 517.0518 - accuracy: 0.4354"
     ]
    },
    {
     "name": "stderr",
     "output_type": "stream",
     "text": [
      "2023-11-24 01:41:36.349437: E ./tensorflow/compiler/xla/stream_executor/stream_executor_internal.h:124] SetPriority unimplemented for this stream.\n"
     ]
    },
    {
     "name": "stdout",
     "output_type": "stream",
     "text": [
      " 28/918 [..............................] - ETA: 5:19 - loss: 471.7015 - accuracy: 0.4335"
     ]
    },
    {
     "name": "stderr",
     "output_type": "stream",
     "text": [
      "2023-11-24 01:41:41.382699: E ./tensorflow/compiler/xla/stream_executor/stream_executor_internal.h:124] SetPriority unimplemented for this stream.\n"
     ]
    },
    {
     "name": "stdout",
     "output_type": "stream",
     "text": [
      " 99/918 [==>...........................] - ETA: 4:52 - loss: 382.3479 - accuracy: 0.4427"
     ]
    },
    {
     "name": "stderr",
     "output_type": "stream",
     "text": [
      "2023-11-24 01:42:06.689206: E ./tensorflow/compiler/xla/stream_executor/stream_executor_internal.h:124] SetPriority unimplemented for this stream.\n"
     ]
    },
    {
     "name": "stdout",
     "output_type": "stream",
     "text": [
      "142/918 [===>..........................] - ETA: 4:37 - loss: 321.9021 - accuracy: 0.4477"
     ]
    },
    {
     "name": "stderr",
     "output_type": "stream",
     "text": [
      "2023-11-24 01:42:22.015512: E ./tensorflow/compiler/xla/stream_executor/stream_executor_internal.h:124] SetPriority unimplemented for this stream.\n"
     ]
    },
    {
     "name": "stdout",
     "output_type": "stream",
     "text": [
      "918/918 [==============================] - ETA: 0s - loss: 117.2227 - accuracy: 0.4690"
     ]
    },
    {
     "name": "stderr",
     "output_type": "stream",
     "text": [
      "2023-11-24 01:47:52.790472: E tensorflow/core/grappler/optimizers/meta_optimizer.cc:961] model_pruner failed: INVALID_ARGUMENT: Graph does not contain terminal node AssignAddVariableOp.\n",
      "2023-11-24 01:48:18.101574: E ./tensorflow/compiler/xla/stream_executor/stream_executor_internal.h:124] SetPriority unimplemented for this stream.\n"
     ]
    },
    {
     "name": "stdout",
     "output_type": "stream",
     "text": [
      "\n",
      "Epoch 1: accuracy improved from -inf to 0.46903, saving model to pho_rating.h5\n",
      "918/918 [==============================] - 529s 459ms/step - loss: 117.2227 - accuracy: 0.4690 - val_loss: 2.7235 - val_accuracy: 0.6500\n",
      "Epoch 2/30\n",
      "174/918 [====>.........................] - ETA: 4:25 - loss: 1.6413 - accuracy: 0.6459"
     ]
    },
    {
     "name": "stderr",
     "output_type": "stream",
     "text": [
      "2023-11-24 01:49:34.517494: E ./tensorflow/compiler/xla/stream_executor/stream_executor_internal.h:124] SetPriority unimplemented for this stream.\n"
     ]
    },
    {
     "name": "stdout",
     "output_type": "stream",
     "text": [
      "918/918 [==============================] - ETA: 0s - loss: 1.1797 - accuracy: 0.6500\n",
      "Epoch 2: accuracy improved from 0.46903 to 0.64997, saving model to pho_rating.h5\n",
      "918/918 [==============================] - 368s 401ms/step - loss: 1.1797 - accuracy: 0.6500 - val_loss: 1.0738 - val_accuracy: 0.6500\n",
      "Epoch 3/30\n",
      "918/918 [==============================] - ETA: 0s - loss: 1.0709 - accuracy: 0.6512\n",
      "Epoch 3: accuracy improved from 0.64997 to 0.65115, saving model to pho_rating.h5\n",
      "918/918 [==============================] - 367s 399ms/step - loss: 1.0709 - accuracy: 0.6512 - val_loss: 1.0749 - val_accuracy: 0.6500\n",
      "Epoch 4/30\n",
      "918/918 [==============================] - ETA: 0s - loss: 1.0712 - accuracy: 0.6512\n",
      "Epoch 4: accuracy did not improve from 0.65115\n",
      "918/918 [==============================] - 352s 383ms/step - loss: 1.0712 - accuracy: 0.6512 - val_loss: 1.0749 - val_accuracy: 0.6500\n",
      "Epoch 5/30\n",
      "918/918 [==============================] - ETA: 0s - loss: 1.0714 - accuracy: 0.6512\n",
      "Epoch 5: accuracy did not improve from 0.65115\n",
      "918/918 [==============================] - 351s 382ms/step - loss: 1.0714 - accuracy: 0.6512 - val_loss: 1.0738 - val_accuracy: 0.6500\n",
      "Epoch 6/30\n",
      "918/918 [==============================] - ETA: 0s - loss: 1.0717 - accuracy: 0.6512\n",
      "Epoch 6: accuracy did not improve from 0.65115\n",
      "918/918 [==============================] - 351s 383ms/step - loss: 1.0717 - accuracy: 0.6512 - val_loss: 1.0761 - val_accuracy: 0.6500\n",
      "Epoch 7/30\n",
      "918/918 [==============================] - ETA: 0s - loss: 1.0719 - accuracy: 0.6512\n",
      "Epoch 7: accuracy did not improve from 0.65115\n",
      "918/918 [==============================] - 351s 382ms/step - loss: 1.0719 - accuracy: 0.6512 - val_loss: 1.0744 - val_accuracy: 0.6500\n",
      "Epoch 8/30\n",
      "918/918 [==============================] - ETA: 0s - loss: 1.0720 - accuracy: 0.6512\n",
      "Epoch 8: accuracy did not improve from 0.65115\n",
      "918/918 [==============================] - 351s 382ms/step - loss: 1.0720 - accuracy: 0.6512 - val_loss: 1.0736 - val_accuracy: 0.6500\n",
      "Epoch 9/30\n",
      "918/918 [==============================] - ETA: 0s - loss: 1.0723 - accuracy: 0.6512\n",
      "Epoch 9: accuracy did not improve from 0.65115\n",
      "918/918 [==============================] - 350s 381ms/step - loss: 1.0723 - accuracy: 0.6512 - val_loss: 1.0760 - val_accuracy: 0.6500\n",
      "Epoch 10/30\n",
      "918/918 [==============================] - ETA: 0s - loss: 1.0722 - accuracy: 0.6512\n",
      "Epoch 10: accuracy did not improve from 0.65115\n",
      "918/918 [==============================] - 351s 382ms/step - loss: 1.0722 - accuracy: 0.6512 - val_loss: 1.0765 - val_accuracy: 0.6500\n",
      "Epoch 11/30\n",
      "918/918 [==============================] - ETA: 0s - loss: 1.0722 - accuracy: 0.6512\n",
      "Epoch 11: accuracy did not improve from 0.65115\n",
      "918/918 [==============================] - 350s 382ms/step - loss: 1.0722 - accuracy: 0.6512 - val_loss: 1.0747 - val_accuracy: 0.6500\n",
      "Epoch 12/30\n",
      "918/918 [==============================] - ETA: 0s - loss: 1.0722 - accuracy: 0.6512\n",
      "Epoch 12: accuracy did not improve from 0.65115\n",
      "918/918 [==============================] - 351s 382ms/step - loss: 1.0722 - accuracy: 0.6512 - val_loss: 1.0781 - val_accuracy: 0.6500\n",
      "Epoch 13/30\n",
      "918/918 [==============================] - ETA: 0s - loss: 1.0722 - accuracy: 0.6512\n",
      "Epoch 13: accuracy did not improve from 0.65115\n",
      "918/918 [==============================] - 350s 382ms/step - loss: 1.0722 - accuracy: 0.6512 - val_loss: 1.0769 - val_accuracy: 0.6500\n",
      "Epoch 14/30\n",
      "918/918 [==============================] - ETA: 0s - loss: 1.0722 - accuracy: 0.6512\n",
      "Epoch 14: accuracy did not improve from 0.65115\n",
      "918/918 [==============================] - 351s 382ms/step - loss: 1.0722 - accuracy: 0.6512 - val_loss: 1.0763 - val_accuracy: 0.6500\n",
      "Epoch 15/30\n",
      "918/918 [==============================] - ETA: 0s - loss: 1.0722 - accuracy: 0.6512\n",
      "Epoch 15: accuracy did not improve from 0.65115\n",
      "918/918 [==============================] - 351s 382ms/step - loss: 1.0722 - accuracy: 0.6512 - val_loss: 1.0781 - val_accuracy: 0.6500\n",
      "Epoch 16/30\n",
      "918/918 [==============================] - ETA: 0s - loss: 1.0724 - accuracy: 0.6512\n",
      "Epoch 16: accuracy did not improve from 0.65115\n",
      "918/918 [==============================] - 351s 382ms/step - loss: 1.0724 - accuracy: 0.6512 - val_loss: 1.0761 - val_accuracy: 0.6500\n",
      "Epoch 17/30\n",
      "918/918 [==============================] - ETA: 0s - loss: 1.0721 - accuracy: 0.6512\n",
      "Epoch 17: accuracy did not improve from 0.65115\n",
      "918/918 [==============================] - 351s 382ms/step - loss: 1.0721 - accuracy: 0.6512 - val_loss: 1.0872 - val_accuracy: 0.6500\n",
      "Epoch 18/30\n",
      "918/918 [==============================] - ETA: 0s - loss: 1.0722 - accuracy: 0.6512\n",
      "Epoch 18: accuracy did not improve from 0.65115\n",
      "918/918 [==============================] - 351s 382ms/step - loss: 1.0722 - accuracy: 0.6512 - val_loss: 1.0773 - val_accuracy: 0.6500\n"
     ]
    }
   ],
   "source": [
    "# Sử dụng dữ liệu đã resample để train mô hình\n",
    "history = model_rating.fit(\n",
    "    X_train,\n",
    "    y_train,\n",
    "    epochs=epochs,\n",
    "    validation_split=validation_split,\n",
    "    batch_size=batch_size,\n",
    "    callbacks=[cp_callback, es_callback],\n",
    "    verbose=1)\n"
   ]
  },
  {
   "cell_type": "markdown",
   "id": "6194951a",
   "metadata": {
    "papermill": {
     "duration": 0.90411,
     "end_time": "2023-11-24T03:28:31.458882",
     "exception": false,
     "start_time": "2023-11-24T03:28:30.554772",
     "status": "completed"
    },
    "tags": []
   },
   "source": [
    "* Vẽ biểu đồ"
   ]
  },
  {
   "cell_type": "code",
   "execution_count": 22,
   "id": "88a218d0",
   "metadata": {
    "execution": {
     "iopub.execute_input": "2023-11-24T03:28:33.353106Z",
     "iopub.status.busy": "2023-11-24T03:28:33.352715Z",
     "iopub.status.idle": "2023-11-24T03:28:33.682767Z",
     "shell.execute_reply": "2023-11-24T03:28:33.681627Z"
    },
    "papermill": {
     "duration": 1.281405,
     "end_time": "2023-11-24T03:28:33.684591",
     "exception": false,
     "start_time": "2023-11-24T03:28:32.403186",
     "status": "completed"
    },
    "tags": []
   },
   "outputs": [
    {
     "data": {
      "image/png": "[encoded data removed]",
      "text/plain": [
       "<Figure size 1600x500 with 2 Axes>"
      ]
     },
     "metadata": {},
     "output_type": "display_data"
    }
   ],
   "source": [
    "loss = history.history['loss']\n",
    "acc = history.history['accuracy']\n",
    "val_loss = history.history['val_loss']\n",
    "val_acc = history.history['val_accuracy']\n",
    "\n",
    "epochs = range(1, len(loss) + 1)\n",
    "\n",
    "plt.figure(figsize=(16, 5))\n",
    "# Accuracy\n",
    "plt.subplot(1,2,1)\n",
    "plt.plot(epochs, acc, 'b', label = 'Training accuracy')\n",
    "plt.plot(epochs, val_acc, 'r', label = 'Validation accuracy')\n",
    "plt.legend()\n",
    "\n",
    "# Loss\n",
    "plt.subplot(1,2,2)\n",
    "plt.plot(epochs, loss, 'b', label = 'Trainig loss')\n",
    "plt.plot(epochs, val_loss, 'r', label = 'Validation loss')\n",
    "plt.legend()\n",
    "\n",
    "plt.show()"
   ]
  },
  {
   "cell_type": "code",
   "execution_count": 23,
   "id": "a9e90688",
   "metadata": {
    "execution": {
     "iopub.execute_input": "2023-11-24T03:28:35.615927Z",
     "iopub.status.busy": "2023-11-24T03:28:35.615548Z",
     "iopub.status.idle": "2023-11-24T03:29:12.714182Z",
     "shell.execute_reply": "2023-11-24T03:29:12.713029Z"
    },
    "papermill": {
     "duration": 38.00671,
     "end_time": "2023-11-24T03:29:12.716093",
     "exception": false,
     "start_time": "2023-11-24T03:28:34.709383",
     "status": "completed"
    },
    "tags": []
   },
   "outputs": [
    {
     "name": "stdout",
     "output_type": "stream",
     "text": [
      "Evaluate on test data\n",
      "287/287 [==============================] - 36s 126ms/step - loss: 1.0709 - accuracy: 0.6528\n",
      "test loss, test acc: [1.0709450244903564, 0.6528492569923401]\n"
     ]
    }
   ],
   "source": [
    "y_test = tf.keras.utils.to_categorical(y_test)\n",
    "print(\"Evaluate on test data\")\n",
    "results = model_rating.evaluate(X_test, y_test, batch_size=512)\n",
    "print(\"test loss, test acc:\", results)"
   ]
  },
  {
   "cell_type": "code",
   "execution_count": null,
   "id": "3185164f",
   "metadata": {
    "papermill": {
     "duration": 0.91555,
     "end_time": "2023-11-24T03:29:14.598923",
     "exception": false,
     "start_time": "2023-11-24T03:29:13.683373",
     "status": "completed"
    },
    "tags": []
   },
   "outputs": [],
   "source": []
  }
 ],
 "metadata": {
  "kaggle": {
   "accelerator": "tpu1vmV38",
   "dataSources": [
    {
     "datasetId": 4038302,
     "sourceId": 7022603,
     "sourceType": "datasetVersion"
    },
    {
     "datasetId": 4044456,
     "sourceId": 7031465,
     "sourceType": "datasetVersion"
    },
    {
     "datasetId": 4049869,
     "sourceId": 7039229,
     "sourceType": "datasetVersion"
    }
   ],
   "dockerImageVersionId": 30589,
   "isGpuEnabled": false,
   "isInternetEnabled": true,
   "language": "python",
   "sourceType": "notebook"
  },
  "kernelspec": {
   "display_name": "Python 3",
   "language": "python",
   "name": "python3"
  },
  "language_info": {
   "codemirror_mode": {
    "name": "ipython",
    "version": 3
   },
   "file_extension": ".py",
   "mimetype": "text/x-python",
   "name": "python",
   "nbconvert_exporter": "python",
   "pygments_lexer": "ipython3",
   "version": "3.11.2"
  },
  "papermill": {
   "default_parameters": {},
   "duration": 6823.556488,
   "end_time": "2023-11-24T03:29:24.652149",
   "environment_variables": {},
   "exception": null,
   "input_path": "__notebook__.ipynb",
   "output_path": "__notebook__.ipynb",
   "parameters": {},
   "start_time": "2023-11-24T01:35:41.095661",
   "version": "2.5.0"
  }
 },
 "nbformat": 4,
 "nbformat_minor": 5
}
