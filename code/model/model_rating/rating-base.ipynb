{
 "cells": [
  {
   "cell_type": "code",
   "execution_count": 1,
   "id": "60abbfc7",
   "metadata": {
    "_cell_guid": "b1076dfc-b9ad-4769-8c92-a6c4dae69d19",
    "_uuid": "8f2839f25d086af736a60e9eeb907d3b93b6e0e5",
    "execution": {
     "iopub.execute_input": "2023-11-24T23:52:35.866612Z",
     "iopub.status.busy": "2023-11-24T23:52:35.866259Z",
     "iopub.status.idle": "2023-11-24T23:53:00.002705Z",
     "shell.execute_reply": "2023-11-24T23:53:00.001687Z"
    },
    "papermill": {
     "duration": 24.146155,
     "end_time": "2023-11-24T23:53:00.005015",
     "exception": false,
     "start_time": "2023-11-24T23:52:35.858860",
     "status": "completed"
    },
    "tags": []
   },
   "outputs": [
    {
     "name": "stdout",
     "output_type": "stream",
     "text": [
      "Requirement already satisfied: pip in /usr/local/lib/python3.10/site-packages (23.0.1)\r\n",
      "Collecting pip\r\n",
      "  Downloading pip-23.3.1-py3-none-any.whl (2.1 MB)\r\n",
      "\u001b[2K     \u001b[90m━━━━━━━━━━━━━━━━━━━━━━━━━━━━━━━━━━━━━━━━\u001b[0m \u001b[32m2.1/2.1 MB\u001b[0m \u001b[31m8.6 MB/s\u001b[0m eta \u001b[36m0:00:00\u001b[0m\r\n",
      "\u001b[?25hInstalling collected packages: pip\r\n",
      "  Attempting uninstall: pip\r\n",
      "    Found existing installation: pip 23.0.1\r\n",
      "    Uninstalling pip-23.0.1:\r\n",
      "      Successfully uninstalled pip-23.0.1\r\n",
      "Successfully installed pip-23.3.1\r\n",
      "\u001b[33mWARNING: Running pip as the 'root' user can result in broken permissions and conflicting behaviour with the system package manager. It is recommended to use a virtual environment instead: https://pip.pypa.io/warnings/venv\u001b[0m\u001b[33m\r\n",
      "\u001b[0mRequirement already satisfied: tensorflow_addons in /usr/local/lib/python3.10/site-packages (0.22.0)\r\n",
      "Requirement already satisfied: packaging in /usr/local/lib/python3.10/site-packages (from tensorflow_addons) (23.2)\r\n",
      "Requirement already satisfied: typeguard<3.0.0,>=2.7 in /usr/local/lib/python3.10/site-packages (from tensorflow_addons) (2.13.3)\r\n",
      "\u001b[33mWARNING: Running pip as the 'root' user can result in broken permissions and conflicting behaviour with the system package manager. It is recommended to use a virtual environment instead: https://pip.pypa.io/warnings/venv\u001b[0m\u001b[33m\r\n",
      "\u001b[0mCollecting seaborn\r\n",
      "  Downloading seaborn-0.13.0-py3-none-any.whl.metadata (5.3 kB)\r\n",
      "Requirement already satisfied: numpy!=1.24.0,>=1.20 in /usr/local/lib/python3.10/site-packages (from seaborn) (1.26.1)\r\n",
      "Requirement already satisfied: pandas>=1.2 in /usr/local/lib/python3.10/site-packages (from seaborn) (2.1.3)\r\n",
      "Requirement already satisfied: matplotlib!=3.6.1,>=3.3 in /usr/local/lib/python3.10/site-packages (from seaborn) (3.8.1)\r\n",
      "Requirement already satisfied: contourpy>=1.0.1 in /usr/local/lib/python3.10/site-packages (from matplotlib!=3.6.1,>=3.3->seaborn) (1.2.0)\r\n",
      "Requirement already satisfied: cycler>=0.10 in /usr/local/lib/python3.10/site-packages (from matplotlib!=3.6.1,>=3.3->seaborn) (0.12.1)\r\n",
      "Requirement already satisfied: fonttools>=4.22.0 in /usr/local/lib/python3.10/site-packages (from matplotlib!=3.6.1,>=3.3->seaborn) (4.44.0)\r\n",
      "Requirement already satisfied: kiwisolver>=1.3.1 in /usr/local/lib/python3.10/site-packages (from matplotlib!=3.6.1,>=3.3->seaborn) (1.4.5)\r\n",
      "Requirement already satisfied: packaging>=20.0 in /usr/local/lib/python3.10/site-packages (from matplotlib!=3.6.1,>=3.3->seaborn) (23.2)\r\n",
      "Requirement already satisfied: pillow>=8 in /usr/local/lib/python3.10/site-packages (from matplotlib!=3.6.1,>=3.3->seaborn) (10.1.0)\r\n",
      "Requirement already satisfied: pyparsing>=2.3.1 in /usr/local/lib/python3.10/site-packages (from matplotlib!=3.6.1,>=3.3->seaborn) (3.1.1)\r\n",
      "Requirement already satisfied: python-dateutil>=2.7 in /usr/local/lib/python3.10/site-packages (from matplotlib!=3.6.1,>=3.3->seaborn) (2.8.2)\r\n",
      "Requirement already satisfied: pytz>=2020.1 in /usr/local/lib/python3.10/site-packages (from pandas>=1.2->seaborn) (2023.3.post1)\r\n",
      "Requirement already satisfied: tzdata>=2022.1 in /usr/local/lib/python3.10/site-packages (from pandas>=1.2->seaborn) (2023.3)\r\n",
      "Requirement already satisfied: six>=1.5 in /usr/local/lib/python3.10/site-packages (from python-dateutil>=2.7->matplotlib!=3.6.1,>=3.3->seaborn) (1.16.0)\r\n",
      "Downloading seaborn-0.13.0-py3-none-any.whl (294 kB)\r\n",
      "\u001b[2K   \u001b[90m━━━━━━━━━━━━━━━━━━━━━━━━━━━━━━━━━━━━━━━━\u001b[0m \u001b[32m294.6/294.6 kB\u001b[0m \u001b[31m4.0 MB/s\u001b[0m eta \u001b[36m0:00:00\u001b[0m\r\n",
      "\u001b[?25hInstalling collected packages: seaborn\r\n",
      "Successfully installed seaborn-0.13.0\r\n",
      "\u001b[33mWARNING: Running pip as the 'root' user can result in broken permissions and conflicting behaviour with the system package manager. It is recommended to use a virtual environment instead: https://pip.pypa.io/warnings/venv\u001b[0m\u001b[33m\r\n",
      "\u001b[0mRequirement already satisfied: transformers in /usr/local/lib/python3.10/site-packages (4.35.0)\r\n",
      "Requirement already satisfied: filelock in /usr/local/lib/python3.10/site-packages (from transformers) (3.13.1)\r\n",
      "Requirement already satisfied: huggingface-hub<1.0,>=0.16.4 in /usr/local/lib/python3.10/site-packages (from transformers) (0.17.3)\r\n",
      "Requirement already satisfied: numpy>=1.17 in /usr/local/lib/python3.10/site-packages (from transformers) (1.26.1)\r\n",
      "Requirement already satisfied: packaging>=20.0 in /usr/local/lib/python3.10/site-packages (from transformers) (23.2)\r\n",
      "Requirement already satisfied: pyyaml>=5.1 in /usr/local/lib/python3.10/site-packages (from transformers) (6.0.1)\r\n",
      "Requirement already satisfied: regex!=2019.12.17 in /usr/local/lib/python3.10/site-packages (from transformers) (2023.10.3)\r\n",
      "Requirement already satisfied: requests in /usr/local/lib/python3.10/site-packages (from transformers) (2.31.0)\r\n",
      "Requirement already satisfied: tokenizers<0.15,>=0.14 in /usr/local/lib/python3.10/site-packages (from transformers) (0.14.1)\r\n",
      "Requirement already satisfied: safetensors>=0.3.1 in /usr/local/lib/python3.10/site-packages (from transformers) (0.4.0)\r\n",
      "Requirement already satisfied: tqdm>=4.27 in /usr/local/lib/python3.10/site-packages (from transformers) (4.66.1)\r\n",
      "Requirement already satisfied: fsspec in /usr/local/lib/python3.10/site-packages (from huggingface-hub<1.0,>=0.16.4->transformers) (2023.10.0)\r\n",
      "Requirement already satisfied: typing-extensions>=3.7.4.3 in /usr/local/lib/python3.10/site-packages (from huggingface-hub<1.0,>=0.16.4->transformers) (4.8.0)\r\n",
      "Requirement already satisfied: charset-normalizer<4,>=2 in /usr/local/lib/python3.10/site-packages (from requests->transformers) (3.3.2)\r\n",
      "Requirement already satisfied: idna<4,>=2.5 in /usr/local/lib/python3.10/site-packages (from requests->transformers) (3.4)\r\n",
      "Requirement already satisfied: urllib3<3,>=1.21.1 in /usr/local/lib/python3.10/site-packages (from requests->transformers) (2.0.7)\r\n",
      "Requirement already satisfied: certifi>=2017.4.17 in /usr/local/lib/python3.10/site-packages (from requests->transformers) (2023.7.22)\r\n",
      "\u001b[33mWARNING: Running pip as the 'root' user can result in broken permissions and conflicting behaviour with the system package manager. It is recommended to use a virtual environment instead: https://pip.pypa.io/warnings/venv\u001b[0m\u001b[33m\r\n",
      "\u001b[0mRequirement already satisfied: scikit-learn in /usr/local/lib/python3.10/site-packages (1.3.2)\r\n",
      "Requirement already satisfied: numpy<2.0,>=1.17.3 in /usr/local/lib/python3.10/site-packages (from scikit-learn) (1.26.1)\r\n",
      "Requirement already satisfied: scipy>=1.5.0 in /usr/local/lib/python3.10/site-packages (from scikit-learn) (1.11.3)\r\n",
      "Requirement already satisfied: joblib>=1.1.1 in /usr/local/lib/python3.10/site-packages (from scikit-learn) (1.3.2)\r\n",
      "Requirement already satisfied: threadpoolctl>=2.0.0 in /usr/local/lib/python3.10/site-packages (from scikit-learn) (3.2.0)\r\n",
      "\u001b[33mWARNING: Running pip as the 'root' user can result in broken permissions and conflicting behaviour with the system package manager. It is recommended to use a virtual environment instead: https://pip.pypa.io/warnings/venv\u001b[0m\u001b[33m\r\n",
      "\u001b[0mCollecting imbalanced-learn\r\n",
      "  Downloading imbalanced_learn-0.11.0-py3-none-any.whl.metadata (8.3 kB)\r\n",
      "Requirement already satisfied: numpy>=1.17.3 in /usr/local/lib/python3.10/site-packages (from imbalanced-learn) (1.26.1)\r\n",
      "Requirement already satisfied: scipy>=1.5.0 in /usr/local/lib/python3.10/site-packages (from imbalanced-learn) (1.11.3)\r\n",
      "Requirement already satisfied: scikit-learn>=1.0.2 in /usr/local/lib/python3.10/site-packages (from imbalanced-learn) (1.3.2)\r\n",
      "Requirement already satisfied: joblib>=1.1.1 in /usr/local/lib/python3.10/site-packages (from imbalanced-learn) (1.3.2)\r\n",
      "Requirement already satisfied: threadpoolctl>=2.0.0 in /usr/local/lib/python3.10/site-packages (from imbalanced-learn) (3.2.0)\r\n",
      "Downloading imbalanced_learn-0.11.0-py3-none-any.whl (235 kB)\r\n",
      "\u001b[2K   \u001b[90m━━━━━━━━━━━━━━━━━━━━━━━━━━━━━━━━━━━━━━━━\u001b[0m \u001b[32m235.6/235.6 kB\u001b[0m \u001b[31m3.9 MB/s\u001b[0m eta \u001b[36m0:00:00\u001b[0m\r\n",
      "\u001b[?25hInstalling collected packages: imbalanced-learn\r\n",
      "Successfully installed imbalanced-learn-0.11.0\r\n",
      "\u001b[33mWARNING: Running pip as the 'root' user can result in broken permissions and conflicting behaviour with the system package manager. It is recommended to use a virtual environment instead: https://pip.pypa.io/warnings/venv\u001b[0m\u001b[33m\r\n",
      "\u001b[0m"
     ]
    }
   ],
   "source": [
    "!pip install --upgrade pip\n",
    "!pip install tensorflow_addons\n",
    "!pip install seaborn\n",
    "!pip install transformers\n",
    "!pip install scikit-learn\n",
    "!pip install imbalanced-learn"
   ]
  },
  {
   "cell_type": "code",
   "execution_count": 1,
   "id": "32a989cd",
   "metadata": {
    "execution": {
     "iopub.execute_input": "2023-11-24T23:53:00.025630Z",
     "iopub.status.busy": "2023-11-24T23:53:00.025328Z",
     "iopub.status.idle": "2023-11-24T23:53:40.735238Z",
     "shell.execute_reply": "2023-11-24T23:53:40.734238Z"
    },
    "papermill": {
     "duration": 40.722756,
     "end_time": "2023-11-24T23:53:40.737775",
     "exception": false,
     "start_time": "2023-11-24T23:53:00.015019",
     "status": "completed"
    },
    "tags": []
   },
   "outputs": [
    {
     "name": "stderr",
     "output_type": "stream",
     "text": [
      "/Library/Frameworks/Python.framework/Versions/3.11/lib/python3.11/site-packages/tensorflow_addons/utils/tfa_eol_msg.py:23: UserWarning: \n",
      "\n",
      "TensorFlow Addons (TFA) has ended development and introduction of new features.\n",
      "TFA has entered a minimal maintenance and release mode until a planned end of life in May 2024.\n",
      "Please modify downstream libraries to take dependencies from other repositories in our TensorFlow community (e.g. Keras, Keras-CV, and Keras-NLP). \n",
      "\n",
      "For more information see: https://github.com/tensorflow/addons/issues/2807 \n",
      "\n",
      "  warnings.warn(\n",
      "/Library/Frameworks/Python.framework/Versions/3.11/lib/python3.11/site-packages/tensorflow_addons/utils/ensure_tf_install.py:53: UserWarning: Tensorflow Addons supports using Python ops for all Tensorflow versions above or equal to 2.12.0 and strictly below 2.15.0 (nightly versions are not supported). \n",
      " The versions of TensorFlow you are currently using is 2.15.0 and is not supported. \n",
      "Some things might work, some things might not.\n",
      "If you were to encounter a bug, do not file an issue.\n",
      "If you want to make sure you're using a tested and supported configuration, either change the TensorFlow version or the TensorFlow Addons's version. \n",
      "You can find the compatibility matrix in TensorFlow Addon's readme:\n",
      "https://github.com/tensorflow/addons\n",
      "  warnings.warn(\n"
     ]
    }
   ],
   "source": [
    "import numpy as np\n",
    "import pandas as pd\n",
    "import matplotlib.pyplot as plt\n",
    "import seaborn as sns\n",
    "from sklearn.preprocessing import LabelEncoder\n",
    "from sklearn.model_selection import train_test_split\n",
    "\n",
    "\n",
    "import tensorflow as tf\n",
    "import tensorflow_addons as tfa\n",
    "\n",
    "from transformers import TFAutoModel, AutoTokenizer\n",
    "from imblearn.over_sampling import SMOTE\n",
    "\n",
    "\n",
    "from tensorflow.keras import Input, Model\n",
    "from tensorflow.keras import layers\n",
    "from tensorflow.keras.layers import Dense, Dropout, Conv1D, MaxPooling1D, Bidirectional, LSTM, Flatten,GlobalMaxPooling1D\n",
    "from tensorflow.keras.optimizers import Adam\n",
    "from tensorflow.keras import regularizers\n",
    "\n",
    "from tensorflow.keras.callbacks import ModelCheckpoint, EarlyStopping\n",
    "\n",
    "from transformers import TFRobertaModel\n",
    "from keras.models import load_model\n",
    "from keras.utils import CustomObjectScope\n",
    "\n",
    "import warnings\n",
    "warnings.filterwarnings(\"ignore\")"
   ]
  },
  {
   "cell_type": "markdown",
   "id": "e6a63146",
   "metadata": {
    "papermill": {
     "duration": 0.007669,
     "end_time": "2023-11-24T23:53:40.753161",
     "exception": false,
     "start_time": "2023-11-24T23:53:40.745492",
     "status": "completed"
    },
    "tags": []
   },
   "source": [
    "* Đọc dữ liệu"
   ]
  },
  {
   "cell_type": "code",
   "execution_count": 2,
   "id": "6e10bfbe",
   "metadata": {
    "execution": {
     "iopub.execute_input": "2023-11-24T23:53:40.770166Z",
     "iopub.status.busy": "2023-11-24T23:53:40.769580Z",
     "iopub.status.idle": "2023-11-24T23:53:43.198386Z",
     "shell.execute_reply": "2023-11-24T23:53:43.197493Z"
    },
    "papermill": {
     "duration": 2.439706,
     "end_time": "2023-11-24T23:53:43.200230",
     "exception": false,
     "start_time": "2023-11-24T23:53:40.760524",
     "status": "completed"
    },
    "tags": []
   },
   "outputs": [
    {
     "data": {
      "text/html": [
       "<div>\n",
       "<style scoped>\n",
       "    .dataframe tbody tr th:only-of-type {\n",
       "        vertical-align: middle;\n",
       "    }\n",
       "\n",
       "    .dataframe tbody tr th {\n",
       "        vertical-align: top;\n",
       "    }\n",
       "\n",
       "    .dataframe thead th {\n",
       "        text-align: right;\n",
       "    }\n",
       "</style>\n",
       "<table border=\"1\" class=\"dataframe\">\n",
       "  <thead>\n",
       "    <tr style=\"text-align: right;\">\n",
       "      <th></th>\n",
       "      <th>comment</th>\n",
       "      <th>rating_star</th>\n",
       "      <th>khia_canh</th>\n",
       "    </tr>\n",
       "  </thead>\n",
       "  <tbody>\n",
       "    <tr>\n",
       "      <th>0</th>\n",
       "      <td>mô tả sai 60 cửa hàng giao bao nhiêu bẻ 50 nhắ...</td>\n",
       "      <td>negative</td>\n",
       "      <td>Chất lượng sản phẩm, Dịch vụ khách hàng, Giao ...</td>\n",
       "    </tr>\n",
       "    <tr>\n",
       "      <th>1</th>\n",
       "      <td>sản phẩm cửa hàng hài sản phẩm hàng hơi lâu4 ủ...</td>\n",
       "      <td>negative</td>\n",
       "      <td>Dịch vụ khách hàng</td>\n",
       "    </tr>\n",
       "    <tr>\n",
       "      <th>2</th>\n",
       "      <td>giao hàng cửa hàng thèm phục vụ kém nhắn đợi t...</td>\n",
       "      <td>negative</td>\n",
       "      <td>Chất lượng sản phẩm, Dịch vụ khách hàng, Giao ...</td>\n",
       "    </tr>\n",
       "    <tr>\n",
       "      <th>3</th>\n",
       "      <td>chất sản phẩm tệ hại y cửa hàng hàng khuyên cử...</td>\n",
       "      <td>negative</td>\n",
       "      <td>Chất lượng sản phẩm, Dịch vụ khách hàng, Giao ...</td>\n",
       "    </tr>\n",
       "    <tr>\n",
       "      <th>4</th>\n",
       "      <td>sản phẩm giao cửa hàng phục vụ nhiệt tình 2 sả...</td>\n",
       "      <td>negative</td>\n",
       "      <td>Dịch vụ khách hàng, Giao hàng</td>\n",
       "    </tr>\n",
       "  </tbody>\n",
       "</table>\n",
       "</div>"
      ],
      "text/plain": [
       "                                             comment rating_star  \\\n",
       "0  mô tả sai 60 cửa hàng giao bao nhiêu bẻ 50 nhắ...    negative   \n",
       "1  sản phẩm cửa hàng hài sản phẩm hàng hơi lâu4 ủ...    negative   \n",
       "2  giao hàng cửa hàng thèm phục vụ kém nhắn đợi t...    negative   \n",
       "3  chất sản phẩm tệ hại y cửa hàng hàng khuyên cử...    negative   \n",
       "4  sản phẩm giao cửa hàng phục vụ nhiệt tình 2 sả...    negative   \n",
       "\n",
       "                                           khia_canh  \n",
       "0  Chất lượng sản phẩm, Dịch vụ khách hàng, Giao ...  \n",
       "1                                 Dịch vụ khách hàng  \n",
       "2  Chất lượng sản phẩm, Dịch vụ khách hàng, Giao ...  \n",
       "3  Chất lượng sản phẩm, Dịch vụ khách hàng, Giao ...  \n",
       "4                      Dịch vụ khách hàng, Giao hàng  "
      ]
     },
     "execution_count": 2,
     "metadata": {},
     "output_type": "execute_result"
    }
   ],
   "source": [
    "df = pd.read_csv('/Users/datnguyen/Documents/hoc_truong/project/NLP/Nhom_10/data/data.tsv',sep='\\t')\n",
    "df.head()"
   ]
  },
  {
   "cell_type": "markdown",
   "id": "417f19a7",
   "metadata": {
    "papermill": {
     "duration": 0.008017,
     "end_time": "2023-11-24T23:53:44.389658",
     "exception": false,
     "start_time": "2023-11-24T23:53:44.381641",
     "status": "completed"
    },
    "tags": []
   },
   "source": [
    "* Chọn dữ liệu"
   ]
  },
  {
   "cell_type": "code",
   "execution_count": 3,
   "id": "f8527719",
   "metadata": {
    "execution": {
     "iopub.execute_input": "2023-11-24T23:53:44.432505Z",
     "iopub.status.busy": "2023-11-24T23:53:44.432140Z",
     "iopub.status.idle": "2023-11-24T23:53:44.436515Z",
     "shell.execute_reply": "2023-11-24T23:53:44.435764Z"
    },
    "papermill": {
     "duration": 0.015149,
     "end_time": "2023-11-24T23:53:44.438230",
     "exception": false,
     "start_time": "2023-11-24T23:53:44.423081",
     "status": "completed"
    },
    "tags": []
   },
   "outputs": [],
   "source": [
    "X = df.comment\n",
    "y = df.rating_star"
   ]
  },
  {
   "cell_type": "markdown",
   "id": "b268d2c4",
   "metadata": {
    "papermill": {
     "duration": 0.007629,
     "end_time": "2023-11-24T23:53:44.453553",
     "exception": false,
     "start_time": "2023-11-24T23:53:44.445924",
     "status": "completed"
    },
    "tags": []
   },
   "source": [
    "* LabelEncoder"
   ]
  },
  {
   "cell_type": "code",
   "execution_count": 4,
   "id": "8328c11a",
   "metadata": {
    "execution": {
     "iopub.execute_input": "2023-11-24T23:53:44.470251Z",
     "iopub.status.busy": "2023-11-24T23:53:44.469979Z",
     "iopub.status.idle": "2023-11-24T23:53:44.473646Z",
     "shell.execute_reply": "2023-11-24T23:53:44.472854Z"
    },
    "papermill": {
     "duration": 0.01419,
     "end_time": "2023-11-24T23:53:44.475237",
     "exception": false,
     "start_time": "2023-11-24T23:53:44.461047",
     "status": "completed"
    },
    "tags": []
   },
   "outputs": [],
   "source": [
    "le_rating = LabelEncoder()"
   ]
  },
  {
   "cell_type": "code",
   "execution_count": 5,
   "id": "5c853f4e",
   "metadata": {
    "execution": {
     "iopub.execute_input": "2023-11-24T23:53:44.491793Z",
     "iopub.status.busy": "2023-11-24T23:53:44.491556Z",
     "iopub.status.idle": "2023-11-24T23:55:00.573847Z",
     "shell.execute_reply": "2023-11-24T23:55:00.572970Z"
    },
    "papermill": {
     "duration": 76.093609,
     "end_time": "2023-11-24T23:55:00.576362",
     "exception": false,
     "start_time": "2023-11-24T23:53:44.482753",
     "status": "completed"
    },
    "tags": []
   },
   "outputs": [],
   "source": [
    "MAX_LEN = 200\n",
    "model_name = 'vinai/phobert-base'\n",
    "\n",
    "# Tokenizing\n",
    "tokenizer = AutoTokenizer.from_pretrained(model_name)\n",
    "encoded_inputs = tokenizer.batch_encode_plus(\n",
    "    df.comment.tolist(), \n",
    "    max_length=MAX_LEN, \n",
    "    padding='max_length', \n",
    "    truncation=True,\n",
    "    return_tensors='np'\n",
    ")"
   ]
  },
  {
   "cell_type": "code",
   "execution_count": 6,
   "id": "705adf3d",
   "metadata": {
    "execution": {
     "iopub.execute_input": "2023-11-24T23:55:00.597320Z",
     "iopub.status.busy": "2023-11-24T23:55:00.596835Z",
     "iopub.status.idle": "2023-11-24T23:55:00.613279Z",
     "shell.execute_reply": "2023-11-24T23:55:00.612646Z"
    },
    "papermill": {
     "duration": 0.028692,
     "end_time": "2023-11-24T23:55:00.615015",
     "exception": false,
     "start_time": "2023-11-24T23:55:00.586323",
     "status": "completed"
    },
    "tags": []
   },
   "outputs": [],
   "source": [
    "X = encoded_inputs['input_ids']\n",
    "y = le_rating.fit_transform(y)"
   ]
  },
  {
   "cell_type": "code",
   "execution_count": 7,
   "id": "3c0cda3d",
   "metadata": {
    "execution": {
     "iopub.execute_input": "2023-11-24T23:55:00.635250Z",
     "iopub.status.busy": "2023-11-24T23:55:00.634961Z",
     "iopub.status.idle": "2023-11-24T23:55:00.869693Z",
     "shell.execute_reply": "2023-11-24T23:55:00.868927Z"
    },
    "papermill": {
     "duration": 0.247699,
     "end_time": "2023-11-24T23:55:00.872006",
     "exception": false,
     "start_time": "2023-11-24T23:55:00.624307",
     "status": "completed"
    },
    "tags": []
   },
   "outputs": [],
   "source": [
    "from sklearn.model_selection import train_test_split\n",
    "\n",
    "X_train, X_test, y_train, y_test = train_test_split(X, y, test_size=0.2, random_state=42)"
   ]
  },
  {
   "cell_type": "markdown",
   "id": "8c139601",
   "metadata": {
    "papermill": {
     "duration": 0.008854,
     "end_time": "2023-11-24T23:55:00.889667",
     "exception": false,
     "start_time": "2023-11-24T23:55:00.880813",
     "status": "completed"
    },
    "tags": []
   },
   "source": [
    "* TPU setup"
   ]
  },
  {
   "cell_type": "code",
   "execution_count": 8,
   "id": "7d5922c6",
   "metadata": {
    "execution": {
     "iopub.execute_input": "2023-11-24T23:55:00.908486Z",
     "iopub.status.busy": "2023-11-24T23:55:00.908193Z",
     "iopub.status.idle": "2023-11-24T23:55:09.489690Z",
     "shell.execute_reply": "2023-11-24T23:55:09.488789Z"
    },
    "papermill": {
     "duration": 8.593325,
     "end_time": "2023-11-24T23:55:09.491527",
     "exception": false,
     "start_time": "2023-11-24T23:55:00.898202",
     "status": "completed"
    },
    "tags": []
   },
   "outputs": [
    {
     "name": "stdout",
     "output_type": "stream",
     "text": [
      "Number of replicas: 1\n"
     ]
    }
   ],
   "source": [
    "try:\n",
    "    tpu = tf.distribute.cluster_resolver.TPUClusterResolver() \n",
    "    tf.config.experimental_connect_to_cluster(tpu)\n",
    "    tf.tpu.experimental.initialize_tpu_system(tpu)\n",
    "    \n",
    "    strategy = tf.distribute.experimental.TPUStrategy\n",
    "except ValueError:\n",
    "    strategy = tf.distribute.get_strategy() \n",
    "    print('Number of replicas:', strategy.num_replicas_in_sync) "
   ]
  },
  {
   "cell_type": "code",
   "execution_count": 9,
   "id": "7bbee078",
   "metadata": {
    "execution": {
     "iopub.execute_input": "2023-11-24T23:55:09.511535Z",
     "iopub.status.busy": "2023-11-24T23:55:09.511199Z",
     "iopub.status.idle": "2023-11-24T23:55:13.980734Z",
     "shell.execute_reply": "2023-11-24T23:55:13.979909Z"
    },
    "papermill": {
     "duration": 4.490089,
     "end_time": "2023-11-24T23:55:13.990904",
     "exception": false,
     "start_time": "2023-11-24T23:55:09.500815",
     "status": "completed"
    },
    "tags": []
   },
   "outputs": [
    {
     "name": "stdout",
     "output_type": "stream",
     "text": [
      "Running on single GPU  /device:GPU:0\n",
      "Number of accelerators:  1\n"
     ]
    },
    {
     "name": "stderr",
     "output_type": "stream",
     "text": [
      "2023-12-05 08:54:42.886657: I metal_plugin/src/device/metal_device.cc:1154] Metal device set to: Apple M2\n",
      "2023-12-05 08:54:42.886751: I metal_plugin/src/device/metal_device.cc:296] systemMemory: 16.00 GB\n",
      "2023-12-05 08:54:42.886764: I metal_plugin/src/device/metal_device.cc:313] maxCacheSize: 5.33 GB\n",
      "2023-12-05 08:54:42.886813: I tensorflow/core/common_runtime/pluggable_device/pluggable_device_factory.cc:306] Could not identify NUMA node of platform GPU ID 0, defaulting to 0. Your kernel may not have been built with NUMA support.\n",
      "2023-12-05 08:54:42.886830: I tensorflow/core/common_runtime/pluggable_device/pluggable_device_factory.cc:272] Created TensorFlow device (/job:localhost/replica:0/task:0/device:GPU:0 with 0 MB memory) -> physical PluggableDevice (device: 0, name: METAL, pci bus id: <undefined>)\n"
     ]
    }
   ],
   "source": [
    "try:\n",
    "    tpu = tf.distribute.cluster_resolver.TPUClusterResolver() # TPU detection\n",
    "except ValueError:\n",
    "    tpu = None\n",
    "    gpus = tf.config.experimental.list_logical_devices(\"GPU\")\n",
    "    \n",
    "if tpu:\n",
    "    tf.tpu.experimental.initialize_tpu_system(tpu)\n",
    "    strategy = tf.distribute.experimental.TPUStrategy(tpu,) \n",
    "    print('Running on TPU ', tpu.cluster_spec().as_dict())\n",
    "elif len(gpus) > 1:\n",
    "    strategy = tf.distribute.MirroredStrategy([gpu.name for gpu in gpus])\n",
    "    print('Running on multiple GPUs ', [gpu.name for gpu in gpus])\n",
    "elif len(gpus) == 1:\n",
    "    strategy = tf.distribute.get_strategy() \n",
    "    print('Running on single GPU ', gpus[0].name)\n",
    "else:\n",
    "    strategy = tf.distribute.get_strategy() \n",
    "    print('Running on CPU')\n",
    "print(\"Number of accelerators: \", strategy.num_replicas_in_sync)"
   ]
  },
  {
   "cell_type": "markdown",
   "id": "8ce9c572",
   "metadata": {
    "papermill": {
     "duration": 0.01037,
     "end_time": "2023-11-24T23:55:14.011838",
     "exception": false,
     "start_time": "2023-11-24T23:55:14.001468",
     "status": "completed"
    },
    "tags": []
   },
   "source": [
    "* OnehotEncoder"
   ]
  },
  {
   "cell_type": "code",
   "execution_count": 10,
   "id": "d20748ae",
   "metadata": {
    "execution": {
     "iopub.execute_input": "2023-11-24T23:55:14.033349Z",
     "iopub.status.busy": "2023-11-24T23:55:14.033095Z",
     "iopub.status.idle": "2023-11-24T23:55:14.041817Z",
     "shell.execute_reply": "2023-11-24T23:55:14.041073Z"
    },
    "papermill": {
     "duration": 0.021519,
     "end_time": "2023-11-24T23:55:14.043490",
     "exception": false,
     "start_time": "2023-11-24T23:55:14.021971",
     "status": "completed"
    },
    "tags": []
   },
   "outputs": [],
   "source": [
    "y_train = tf.keras.utils.to_categorical(y_train)"
   ]
  },
  {
   "cell_type": "markdown",
   "id": "e9986d4b",
   "metadata": {
    "papermill": {
     "duration": 0.010049,
     "end_time": "2023-11-24T23:55:14.063696",
     "exception": false,
     "start_time": "2023-11-24T23:55:14.053647",
     "status": "completed"
    },
    "tags": []
   },
   "source": [
    "* Build Model"
   ]
  },
  {
   "cell_type": "code",
   "execution_count": 11,
   "id": "dd9fd5c3",
   "metadata": {
    "execution": {
     "iopub.execute_input": "2023-11-24T23:55:14.085406Z",
     "iopub.status.busy": "2023-11-24T23:55:14.085160Z",
     "iopub.status.idle": "2023-11-24T23:55:37.544042Z",
     "shell.execute_reply": "2023-11-24T23:55:37.543144Z"
    },
    "papermill": {
     "duration": 23.472239,
     "end_time": "2023-11-24T23:55:37.546187",
     "exception": false,
     "start_time": "2023-11-24T23:55:14.073948",
     "status": "completed"
    },
    "tags": []
   },
   "outputs": [
    {
     "name": "stderr",
     "output_type": "stream",
     "text": [
      "Some layers from the model checkpoint at vinai/phobert-base were not used when initializing TFRobertaModel: ['lm_head']\n",
      "- This IS expected if you are initializing TFRobertaModel from the checkpoint of a model trained on another task or with another architecture (e.g. initializing a BertForSequenceClassification model from a BertForPreTraining model).\n",
      "- This IS NOT expected if you are initializing TFRobertaModel from the checkpoint of a model that you expect to be exactly identical (initializing a BertForSequenceClassification model from a BertForSequenceClassification model).\n",
      "All the layers of TFRobertaModel were initialized from the model checkpoint at vinai/phobert-base.\n",
      "If your task is similar to the task the model of the checkpoint was trained on, you can already use TFRobertaModel for predictions without further training.\n"
     ]
    }
   ],
   "source": [
    "with strategy.scope():\n",
    "    encoder = TFAutoModel.from_pretrained(model_name)\n",
    "\n",
    "    input_ids = Input(shape=(MAX_LEN,), dtype=tf.int32)\n",
    "\n",
    "    # Trích xuất đặc trưng phoBert\n",
    "    embedding = encoder(input_ids)[0]\n",
    "\n",
    "    # Chọn lớp đặc trưng cuối cùng\n",
    "    embedding = embedding[:, 0, :]\n",
    "    \n",
    "    # Lớp đầu ra\n",
    "    output = Dense(y_train.shape[1], activation='softmax', name='output')(embedding)\n",
    "\n",
    "    # Tạo mô hình\n",
    "    model_rating = Model(inputs=input_ids, outputs=output)\n"
   ]
  },
  {
   "cell_type": "code",
   "execution_count": 12,
   "id": "c4426b33",
   "metadata": {
    "execution": {
     "iopub.execute_input": "2023-11-24T23:55:37.571205Z",
     "iopub.status.busy": "2023-11-24T23:55:37.570790Z",
     "iopub.status.idle": "2023-11-24T23:55:37.610006Z",
     "shell.execute_reply": "2023-11-24T23:55:37.609301Z"
    },
    "papermill": {
     "duration": 0.053461,
     "end_time": "2023-11-24T23:55:37.611638",
     "exception": false,
     "start_time": "2023-11-24T23:55:37.558177",
     "status": "completed"
    },
    "tags": []
   },
   "outputs": [
    {
     "name": "stdout",
     "output_type": "stream",
     "text": [
      "Model: \"model\"\n",
      "_________________________________________________________________\n",
      " Layer (type)                Output Shape              Param #   \n",
      "=================================================================\n",
      " input_1 (InputLayer)        [(None, 200)]             0         \n",
      "                                                                 \n",
      " tf_roberta_model (TFRobert  TFBaseModelOutputWithPo   134998272 \n",
      " aModel)                     olingAndCrossAttentions             \n",
      "                             (last_hidden_state=(Non             \n",
      "                             e, 200, 768),                       \n",
      "                              pooler_output=(None, 7             \n",
      "                             68),                                \n",
      "                              past_key_values=None,              \n",
      "                             hidden_states=None, att             \n",
      "                             entions=None, cross_att             \n",
      "                             entions=None)                       \n",
      "                                                                 \n",
      " tf.__operators__.getitem (  (None, 768)               0         \n",
      " SlicingOpLambda)                                                \n",
      "                                                                 \n",
      " output (Dense)              (None, 3)                 2307      \n",
      "                                                                 \n",
      "=================================================================\n",
      "Total params: 135000579 (514.99 MB)\n",
      "Trainable params: 135000579 (514.99 MB)\n",
      "Non-trainable params: 0 (0.00 Byte)\n",
      "_________________________________________________________________\n"
     ]
    }
   ],
   "source": [
    "model_rating.summary()"
   ]
  },
  {
   "cell_type": "code",
   "execution_count": 13,
   "metadata": {},
   "outputs": [
    {
     "data": {
      "image/png": "[encoded data removed]",
      "text/plain": [
       "<IPython.core.display.Image object>"
      ]
     },
     "execution_count": 13,
     "metadata": {},
     "output_type": "execute_result"
    }
   ],
   "source": [
    "from tensorflow.keras.utils import plot_model\n",
    "plot_model(model_rating, to_file='model_rating.png', show_shapes=True, show_layer_names=True)"
   ]
  },
  {
   "cell_type": "markdown",
   "id": "44e1d0e8",
   "metadata": {
    "papermill": {
     "duration": 0.012658,
     "end_time": "2023-11-24T23:55:37.637214",
     "exception": false,
     "start_time": "2023-11-24T23:55:37.624556",
     "status": "completed"
    },
    "tags": []
   },
   "source": [
    "* Optimize"
   ]
  },
  {
   "cell_type": "code",
   "execution_count": 17,
   "id": "70dcf767",
   "metadata": {
    "execution": {
     "iopub.execute_input": "2023-11-24T23:55:37.663570Z",
     "iopub.status.busy": "2023-11-24T23:55:37.663275Z",
     "iopub.status.idle": "2023-11-24T23:55:37.677342Z",
     "shell.execute_reply": "2023-11-24T23:55:37.676671Z"
    },
    "papermill": {
     "duration": 0.029218,
     "end_time": "2023-11-24T23:55:37.678971",
     "exception": false,
     "start_time": "2023-11-24T23:55:37.649753",
     "status": "completed"
    },
    "tags": []
   },
   "outputs": [],
   "source": [
    "class MyExponentialDecay(tf.keras.optimizers.schedules.ExponentialDecay):\n",
    "  def __call__(self, step):\n",
    "    return 1e-2 * super().__call__(step)\n",
    "\n",
    "step = tf.Variable(0, trainable=False)\n",
    "schedule = tf.optimizers.schedules.PiecewiseConstantDecay(\n",
    "    [10000, 15000], [1e-3, 1e-4, 1e-5])\n",
    "\n",
    "initial_learning_rate=0.01\n",
    "\n",
    "wd = MyExponentialDecay(\n",
    "    initial_learning_rate,\n",
    "    decay_steps=14,\n",
    "    decay_rate=0.8,\n",
    "    staircase=True)\n",
    "lr = 1e2 * schedule(step)"
   ]
  },
  {
   "cell_type": "code",
   "execution_count": 18,
   "id": "e61f6415",
   "metadata": {
    "execution": {
     "iopub.execute_input": "2023-11-24T23:55:37.705319Z",
     "iopub.status.busy": "2023-11-24T23:55:37.705071Z",
     "iopub.status.idle": "2023-11-24T23:55:37.793841Z",
     "shell.execute_reply": "2023-11-24T23:55:37.793000Z"
    },
    "papermill": {
     "duration": 0.104138,
     "end_time": "2023-11-24T23:55:37.795695",
     "exception": false,
     "start_time": "2023-11-24T23:55:37.691557",
     "status": "completed"
    },
    "tags": []
   },
   "outputs": [],
   "source": [
    "model_rating.compile(\n",
    "    optimizer=tfa.optimizers.AdamW(weight_decay=wd,\n",
    "                                  learning_rate=lr),\n",
    "    loss=tf.keras.losses.CategoricalCrossentropy(),\n",
    "    metrics=['accuracy'])\n"
   ]
  },
  {
   "cell_type": "code",
   "execution_count": 19,
   "id": "51de17b0",
   "metadata": {
    "execution": {
     "iopub.execute_input": "2023-11-24T23:55:37.822602Z",
     "iopub.status.busy": "2023-11-24T23:55:37.822364Z",
     "iopub.status.idle": "2023-11-24T23:55:37.826466Z",
     "shell.execute_reply": "2023-11-24T23:55:37.825832Z"
    },
    "papermill": {
     "duration": 0.019358,
     "end_time": "2023-11-24T23:55:37.828132",
     "exception": false,
     "start_time": "2023-11-24T23:55:37.808774",
     "status": "completed"
    },
    "tags": []
   },
   "outputs": [],
   "source": [
    "# Lưu mô hình tốt nhất\n",
    "cp_callback = ModelCheckpoint(filepath='pho_rating.h5',\n",
    "                              save_best_only=True,\n",
    "                              monitor='accuracy',\n",
    "                              mode='max',\n",
    "                              verbose=1)\n",
    "\n",
    "# Dừng sớm khi không có quá nhiều thay đổi\n",
    "es_callback = EarlyStopping(\n",
    "    monitor='accuracy', \n",
    "    patience=20,\n",
    "    mode='max')"
   ]
  },
  {
   "cell_type": "code",
   "execution_count": 20,
   "id": "87def4c6",
   "metadata": {
    "execution": {
     "iopub.execute_input": "2023-11-24T23:55:37.854389Z",
     "iopub.status.busy": "2023-11-24T23:55:37.854112Z",
     "iopub.status.idle": "2023-11-24T23:55:37.857349Z",
     "shell.execute_reply": "2023-11-24T23:55:37.856754Z"
    },
    "papermill": {
     "duration": 0.018292,
     "end_time": "2023-11-24T23:55:37.858819",
     "exception": false,
     "start_time": "2023-11-24T23:55:37.840527",
     "status": "completed"
    },
    "tags": []
   },
   "outputs": [],
   "source": [
    "# Setup tham số\n",
    "epochs = 30\n",
    "batch_size = 512\n",
    "validation_split = 0.2"
   ]
  },
  {
   "cell_type": "markdown",
   "id": "44eab8aa",
   "metadata": {
    "papermill": {
     "duration": 0.012586,
     "end_time": "2023-11-24T23:55:37.883991",
     "exception": false,
     "start_time": "2023-11-24T23:55:37.871405",
     "status": "completed"
    },
    "tags": []
   },
   "source": [
    "* Training"
   ]
  },
  {
   "cell_type": "code",
   "execution_count": 21,
   "id": "e9593632",
   "metadata": {
    "execution": {
     "iopub.execute_input": "2023-11-24T23:55:37.910817Z",
     "iopub.status.busy": "2023-11-24T23:55:37.910348Z",
     "iopub.status.idle": "2023-11-25T01:37:18.917798Z",
     "shell.execute_reply": "2023-11-25T01:37:18.916537Z"
    },
    "papermill": {
     "duration": 6101.022901,
     "end_time": "2023-11-25T01:37:18.919649",
     "exception": false,
     "start_time": "2023-11-24T23:55:37.896748",
     "status": "completed"
    },
    "tags": []
   },
   "outputs": [
    {
     "name": "stdout",
     "output_type": "stream",
     "text": [
      "Epoch 1/30\n"
     ]
    },
    {
     "name": "stderr",
     "output_type": "stream",
     "text": [
      "2023-11-24 23:55:39.500998: E ./tensorflow/compiler/xla/stream_executor/stream_executor_internal.h:124] SetPriority unimplemented for this stream.\n",
      "2023-11-24 23:55:39.518469: E ./tensorflow/compiler/xla/stream_executor/stream_executor_internal.h:124] SetPriority unimplemented for this stream.\n",
      "2023-11-24 23:55:39.535860: E ./tensorflow/compiler/xla/stream_executor/stream_executor_internal.h:124] SetPriority unimplemented for this stream.\n",
      "2023-11-24 23:55:39.553074: E ./tensorflow/compiler/xla/stream_executor/stream_executor_internal.h:124] SetPriority unimplemented for this stream.\n",
      "2023-11-24 23:55:39.570352: E ./tensorflow/compiler/xla/stream_executor/stream_executor_internal.h:124] SetPriority unimplemented for this stream.\n",
      "2023-11-24 23:55:39.588645: E ./tensorflow/compiler/xla/stream_executor/stream_executor_internal.h:124] SetPriority unimplemented for this stream.\n",
      "2023-11-24 23:55:39.606337: E ./tensorflow/compiler/xla/stream_executor/stream_executor_internal.h:124] SetPriority unimplemented for this stream.\n"
     ]
    },
    {
     "name": "stdout",
     "output_type": "stream",
     "text": [
      "WARNING:tensorflow:Gradients do not exist for variables ['tf_roberta_model/roberta/pooler/dense/kernel:0', 'tf_roberta_model/roberta/pooler/dense/bias:0'] when minimizing the loss. If you're using `model.compile()`, did you forget to provide a `loss` argument?\n"
     ]
    },
    {
     "name": "stderr",
     "output_type": "stream",
     "text": [
      "WARNING:tensorflow:Gradients do not exist for variables ['tf_roberta_model/roberta/pooler/dense/kernel:0', 'tf_roberta_model/roberta/pooler/dense/bias:0'] when minimizing the loss. If you're using `model.compile()`, did you forget to provide a `loss` argument?\n"
     ]
    },
    {
     "name": "stdout",
     "output_type": "stream",
     "text": [
      "WARNING:tensorflow:Gradients do not exist for variables ['tf_roberta_model/roberta/pooler/dense/kernel:0', 'tf_roberta_model/roberta/pooler/dense/bias:0'] when minimizing the loss. If you're using `model.compile()`, did you forget to provide a `loss` argument?\n"
     ]
    },
    {
     "name": "stderr",
     "output_type": "stream",
     "text": [
      "WARNING:tensorflow:Gradients do not exist for variables ['tf_roberta_model/roberta/pooler/dense/kernel:0', 'tf_roberta_model/roberta/pooler/dense/bias:0'] when minimizing the loss. If you're using `model.compile()`, did you forget to provide a `loss` argument?\n",
      "2023-11-24 23:56:25.489612: E tensorflow/core/grappler/optimizers/meta_optimizer.cc:961] model_pruner failed: INVALID_ARGUMENT: Graph does not contain terminal node AdamW/AdamW/AssignAddVariableOp.\n",
      "2023-11-24 23:56:29.303549: E ./tensorflow/compiler/xla/stream_executor/stream_executor_internal.h:124] SetPriority unimplemented for this stream.\n",
      "2023-11-24 23:56:29.306922: E ./tensorflow/compiler/xla/stream_executor/stream_executor_internal.h:124] SetPriority unimplemented for this stream.\n",
      "2023-11-24 23:56:29.307145: E ./tensorflow/compiler/xla/stream_executor/stream_executor_internal.h:124] SetPriority unimplemented for this stream.\n",
      "2023-11-24 23:56:29.307383: E ./tensorflow/compiler/xla/stream_executor/stream_executor_internal.h:124] SetPriority unimplemented for this stream.\n",
      "2023-11-24 23:56:29.307592: E ./tensorflow/compiler/xla/stream_executor/stream_executor_internal.h:124] SetPriority unimplemented for this stream.\n",
      "2023-11-24 23:56:29.307722: E ./tensorflow/compiler/xla/stream_executor/stream_executor_internal.h:124] SetPriority unimplemented for this stream.\n",
      "2023-11-24 23:57:25.727731: E ./tensorflow/compiler/xla/stream_executor/stream_executor_internal.h:124] SetPriority unimplemented for this stream.\n",
      "2023-11-24 23:57:25.727911: E ./tensorflow/compiler/xla/stream_executor/stream_executor_internal.h:124] SetPriority unimplemented for this stream.\n",
      "2023-11-24 23:57:25.728862: E ./tensorflow/compiler/xla/stream_executor/stream_executor_internal.h:124] SetPriority unimplemented for this stream.\n",
      "2023-11-24 23:57:25.729713: E ./tensorflow/compiler/xla/stream_executor/stream_executor_internal.h:124] SetPriority unimplemented for this stream.\n",
      "2023-11-24 23:57:25.734027: E ./tensorflow/compiler/xla/stream_executor/stream_executor_internal.h:124] SetPriority unimplemented for this stream.\n",
      "2023-11-24 23:57:25.734135: E ./tensorflow/compiler/xla/stream_executor/stream_executor_internal.h:124] SetPriority unimplemented for this stream.\n",
      "2023-11-24 23:57:25.734252: E ./tensorflow/compiler/xla/stream_executor/stream_executor_internal.h:124] SetPriority unimplemented for this stream.\n",
      "2023-11-24 23:57:25.734395: E ./tensorflow/compiler/xla/stream_executor/stream_executor_internal.h:124] SetPriority unimplemented for this stream.\n"
     ]
    },
    {
     "name": "stdout",
     "output_type": "stream",
     "text": [
      "  1/702 [..............................] - ETA: 20:45:06 - loss: 1.4839 - accuracy: 0.4512"
     ]
    },
    {
     "name": "stderr",
     "output_type": "stream",
     "text": [
      "2023-11-24 23:57:26.210966: E ./tensorflow/compiler/xla/stream_executor/stream_executor_internal.h:124] SetPriority unimplemented for this stream.\n",
      "2023-11-24 23:57:26.211084: E ./tensorflow/compiler/xla/stream_executor/stream_executor_internal.h:124] SetPriority unimplemented for this stream.\n"
     ]
    },
    {
     "name": "stdout",
     "output_type": "stream",
     "text": [
      " 14/702 [..............................] - ETA: 4:04 - loss: 10.2305 - accuracy: 0.4817"
     ]
    },
    {
     "name": "stderr",
     "output_type": "stream",
     "text": [
      "2023-11-24 23:57:30.833254: E ./tensorflow/compiler/xla/stream_executor/stream_executor_internal.h:124] SetPriority unimplemented for this stream.\n"
     ]
    },
    {
     "name": "stdout",
     "output_type": "stream",
     "text": [
      " 87/702 [==>...........................] - ETA: 3:38 - loss: 3.1674 - accuracy: 0.6172"
     ]
    },
    {
     "name": "stderr",
     "output_type": "stream",
     "text": [
      "2023-11-24 23:57:56.735565: E ./tensorflow/compiler/xla/stream_executor/stream_executor_internal.h:124] SetPriority unimplemented for this stream.\n"
     ]
    },
    {
     "name": "stdout",
     "output_type": "stream",
     "text": [
      "203/702 [=======>......................] - ETA: 2:56 - loss: 1.9250 - accuracy: 0.6631"
     ]
    },
    {
     "name": "stderr",
     "output_type": "stream",
     "text": [
      "2023-11-24 23:58:37.848808: E ./tensorflow/compiler/xla/stream_executor/stream_executor_internal.h:124] SetPriority unimplemented for this stream.\n"
     ]
    },
    {
     "name": "stdout",
     "output_type": "stream",
     "text": [
      "357/702 [==============>...............] - ETA: 2:02 - loss: 1.5232 - accuracy: 0.6777"
     ]
    },
    {
     "name": "stderr",
     "output_type": "stream",
     "text": [
      "2023-11-24 23:59:32.910086: E ./tensorflow/compiler/xla/stream_executor/stream_executor_internal.h:124] SetPriority unimplemented for this stream.\n"
     ]
    },
    {
     "name": "stdout",
     "output_type": "stream",
     "text": [
      "670/702 [===========================>..] - ETA: 11s - loss: 1.2714 - accuracy: 0.6869"
     ]
    },
    {
     "name": "stderr",
     "output_type": "stream",
     "text": [
      "2023-11-25 00:01:24.666876: E ./tensorflow/compiler/xla/stream_executor/stream_executor_internal.h:124] SetPriority unimplemented for this stream.\n",
      "2023-11-25 00:01:24.667028: E ./tensorflow/compiler/xla/stream_executor/stream_executor_internal.h:124] SetPriority unimplemented for this stream.\n"
     ]
    },
    {
     "name": "stdout",
     "output_type": "stream",
     "text": [
      "702/702 [==============================] - ETA: 0s - loss: 1.2585 - accuracy: 0.6874"
     ]
    },
    {
     "name": "stderr",
     "output_type": "stream",
     "text": [
      "2023-11-25 00:02:33.096551: E tensorflow/core/grappler/optimizers/meta_optimizer.cc:961] model_pruner failed: INVALID_ARGUMENT: Graph does not contain terminal node AssignAddVariableOp.\n"
     ]
    },
    {
     "name": "stdout",
     "output_type": "stream",
     "text": [
      "\n",
      "Epoch 1: accuracy improved from -inf to 0.68738, saving model to pho_rating.h5\n",
      "702/702 [==============================] - 447s 486ms/step - loss: 1.2585 - accuracy: 0.6874 - val_loss: 0.9874 - val_accuracy: 0.6969\n",
      "Epoch 2/30\n",
      "702/702 [==============================] - ETA: 0s - loss: 0.9840 - accuracy: 0.6972"
     ]
    },
    {
     "name": "stderr",
     "output_type": "stream",
     "text": [
      "2023-11-25 00:07:18.529602: E ./tensorflow/compiler/xla/stream_executor/stream_executor_internal.h:124] SetPriority unimplemented for this stream.\n"
     ]
    },
    {
     "name": "stdout",
     "output_type": "stream",
     "text": [
      "\n",
      "Epoch 2: accuracy improved from 0.68738 to 0.69715, saving model to pho_rating.h5\n",
      "702/702 [==============================] - 285s 405ms/step - loss: 0.9840 - accuracy: 0.6972 - val_loss: 0.9793 - val_accuracy: 0.6969\n",
      "Epoch 3/30\n",
      "702/702 [==============================] - ETA: 0s - loss: 0.9820 - accuracy: 0.6972\n",
      "Epoch 3: accuracy did not improve from 0.69715\n",
      "702/702 [==============================] - 270s 384ms/step - loss: 0.9820 - accuracy: 0.6972 - val_loss: 0.9814 - val_accuracy: 0.6969\n",
      "Epoch 4/30\n",
      "702/702 [==============================] - ETA: 0s - loss: 0.9819 - accuracy: 0.6972\n",
      "Epoch 4: accuracy did not improve from 0.69715\n",
      "702/702 [==============================] - 269s 384ms/step - loss: 0.9819 - accuracy: 0.6972 - val_loss: 0.9776 - val_accuracy: 0.6969\n",
      "Epoch 5/30\n",
      "702/702 [==============================] - ETA: 0s - loss: 13.7971 - accuracy: 0.6687\n",
      "Epoch 5: accuracy did not improve from 0.69715\n",
      "702/702 [==============================] - 270s 384ms/step - loss: 13.7971 - accuracy: 0.6687 - val_loss: 13.5593 - val_accuracy: 0.6969\n",
      "Epoch 6/30\n",
      "702/702 [==============================] - ETA: 0s - loss: 2.8142 - accuracy: 0.6513\n",
      "Epoch 6: accuracy did not improve from 0.69715\n",
      "702/702 [==============================] - 269s 384ms/step - loss: 2.8142 - accuracy: 0.6513 - val_loss: 0.9765 - val_accuracy: 0.6969\n",
      "Epoch 7/30\n",
      "702/702 [==============================] - ETA: 0s - loss: 1.0404 - accuracy: 0.6948\n",
      "Epoch 7: accuracy did not improve from 0.69715\n",
      "702/702 [==============================] - 269s 383ms/step - loss: 1.0404 - accuracy: 0.6948 - val_loss: 1.6056 - val_accuracy: 0.6969\n",
      "Epoch 8/30\n",
      "702/702 [==============================] - ETA: 0s - loss: 1.0062 - accuracy: 0.6962\n",
      "Epoch 8: accuracy did not improve from 0.69715\n",
      "702/702 [==============================] - 269s 383ms/step - loss: 1.0062 - accuracy: 0.6962 - val_loss: 0.9983 - val_accuracy: 0.6969\n",
      "Epoch 9/30\n",
      "702/702 [==============================] - ETA: 0s - loss: 0.9893 - accuracy: 0.6972\n",
      "Epoch 9: accuracy did not improve from 0.69715\n",
      "702/702 [==============================] - 268s 382ms/step - loss: 0.9893 - accuracy: 0.6972 - val_loss: 0.9796 - val_accuracy: 0.6969\n",
      "Epoch 10/30\n",
      "702/702 [==============================] - ETA: 0s - loss: 0.9877 - accuracy: 0.6972\n",
      "Epoch 10: accuracy did not improve from 0.69715\n",
      "702/702 [==============================] - 269s 383ms/step - loss: 0.9877 - accuracy: 0.6972 - val_loss: 0.9776 - val_accuracy: 0.6969\n",
      "Epoch 11/30\n",
      "702/702 [==============================] - ETA: 0s - loss: 0.9858 - accuracy: 0.6972\n",
      "Epoch 11: accuracy did not improve from 0.69715\n",
      "702/702 [==============================] - 269s 383ms/step - loss: 0.9858 - accuracy: 0.6972 - val_loss: 0.9930 - val_accuracy: 0.6969\n",
      "Epoch 12/30\n",
      "702/702 [==============================] - ETA: 0s - loss: 0.9826 - accuracy: 0.6972\n",
      "Epoch 12: accuracy did not improve from 0.69715\n",
      "702/702 [==============================] - 268s 382ms/step - loss: 0.9826 - accuracy: 0.6972 - val_loss: 0.9860 - val_accuracy: 0.6969\n",
      "Epoch 13/30\n",
      "702/702 [==============================] - ETA: 0s - loss: 0.9811 - accuracy: 0.6972\n",
      "Epoch 13: accuracy did not improve from 0.69715\n",
      "702/702 [==============================] - 269s 383ms/step - loss: 0.9811 - accuracy: 0.6972 - val_loss: 0.9803 - val_accuracy: 0.6969\n",
      "Epoch 14/30\n",
      "702/702 [==============================] - ETA: 0s - loss: 0.9805 - accuracy: 0.6972\n",
      "Epoch 14: accuracy did not improve from 0.69715\n",
      "702/702 [==============================] - 268s 382ms/step - loss: 0.9805 - accuracy: 0.6972 - val_loss: 0.9772 - val_accuracy: 0.6969\n",
      "Epoch 15/30\n",
      "702/702 [==============================] - ETA: 0s - loss: 0.9827 - accuracy: 0.6972\n",
      "Epoch 15: accuracy did not improve from 0.69715\n",
      "702/702 [==============================] - 267s 381ms/step - loss: 0.9827 - accuracy: 0.6972 - val_loss: 0.9918 - val_accuracy: 0.6969\n",
      "Epoch 16/30\n",
      "702/702 [==============================] - ETA: 0s - loss: 15.7353 - accuracy: 0.6392\n",
      "Epoch 16: accuracy did not improve from 0.69715\n",
      "702/702 [==============================] - 268s 382ms/step - loss: 15.7353 - accuracy: 0.6392 - val_loss: 0.9819 - val_accuracy: 0.6969\n",
      "Epoch 17/30\n",
      "702/702 [==============================] - ETA: 0s - loss: 1.0014 - accuracy: 0.6971\n",
      "Epoch 17: accuracy did not improve from 0.69715\n",
      "702/702 [==============================] - 268s 382ms/step - loss: 1.0014 - accuracy: 0.6971 - val_loss: 0.9844 - val_accuracy: 0.6969\n",
      "Epoch 18/30\n",
      "702/702 [==============================] - ETA: 0s - loss: 1.0459 - accuracy: 0.6908\n",
      "Epoch 18: accuracy did not improve from 0.69715\n",
      "702/702 [==============================] - 267s 381ms/step - loss: 1.0459 - accuracy: 0.6908 - val_loss: 1.1382 - val_accuracy: 0.6969\n",
      "Epoch 19/30\n",
      "702/702 [==============================] - ETA: 0s - loss: 1.0241 - accuracy: 0.6949\n",
      "Epoch 19: accuracy did not improve from 0.69715\n",
      "702/702 [==============================] - 267s 380ms/step - loss: 1.0241 - accuracy: 0.6949 - val_loss: 0.9841 - val_accuracy: 0.6969\n",
      "Epoch 20/30\n",
      "702/702 [==============================] - ETA: 0s - loss: 0.9851 - accuracy: 0.6972\n",
      "Epoch 20: accuracy did not improve from 0.69715\n",
      "702/702 [==============================] - 267s 380ms/step - loss: 0.9851 - accuracy: 0.6972 - val_loss: 0.9775 - val_accuracy: 0.6969\n",
      "Epoch 21/30\n",
      "702/702 [==============================] - ETA: 0s - loss: 0.9855 - accuracy: 0.6972\n",
      "Epoch 21: accuracy did not improve from 0.69715\n",
      "702/702 [==============================] - 268s 382ms/step - loss: 0.9855 - accuracy: 0.6972 - val_loss: 0.9860 - val_accuracy: 0.6969\n",
      "Epoch 22/30\n",
      "702/702 [==============================] - ETA: 0s - loss: 0.9842 - accuracy: 0.6972\n",
      "Epoch 22: accuracy did not improve from 0.69715\n",
      "702/702 [==============================] - 267s 381ms/step - loss: 0.9842 - accuracy: 0.6972 - val_loss: 0.9820 - val_accuracy: 0.6969\n"
     ]
    }
   ],
   "source": [
    "# Sử dụng dữ liệu đã resample để train mô hình\n",
    "history = model_rating.fit(\n",
    "    X_train,\n",
    "    y_train,\n",
    "    epochs=epochs,\n",
    "    validation_split=validation_split,\n",
    "    batch_size=batch_size,\n",
    "    callbacks=[cp_callback, es_callback],\n",
    "    verbose=1)\n"
   ]
  },
  {
   "cell_type": "markdown",
   "id": "2a1297ff",
   "metadata": {
    "papermill": {
     "duration": 0.911043,
     "end_time": "2023-11-25T01:37:20.712387",
     "exception": false,
     "start_time": "2023-11-25T01:37:19.801344",
     "status": "completed"
    },
    "tags": []
   },
   "source": [
    "* Vẽ biểu đồ"
   ]
  },
  {
   "cell_type": "code",
   "execution_count": 22,
   "id": "92041259",
   "metadata": {
    "execution": {
     "iopub.execute_input": "2023-11-25T01:37:22.486580Z",
     "iopub.status.busy": "2023-11-25T01:37:22.486103Z",
     "iopub.status.idle": "2023-11-25T01:37:22.818275Z",
     "shell.execute_reply": "2023-11-25T01:37:22.817327Z"
    },
    "papermill": {
     "duration": 1.233892,
     "end_time": "2023-11-25T01:37:22.820233",
     "exception": false,
     "start_time": "2023-11-25T01:37:21.586341",
     "status": "completed"
    },
    "tags": []
   },
   "outputs": [
    {
     "data": {
      "image/png": "[encoded data removed]",
      "text/plain": [
       "<Figure size 1600x500 with 2 Axes>"
      ]
     },
     "metadata": {},
     "output_type": "display_data"
    }
   ],
   "source": [
    "loss = history.history['loss']\n",
    "acc = history.history['accuracy']\n",
    "val_loss = history.history['val_loss']\n",
    "val_acc = history.history['val_accuracy']\n",
    "\n",
    "epochs = range(1, len(loss) + 1)\n",
    "\n",
    "plt.figure(figsize=(16, 5))\n",
    "# Accuracy\n",
    "plt.subplot(1,2,1)\n",
    "plt.plot(epochs, acc, 'b', label = 'Training accuracy')\n",
    "plt.plot(epochs, val_acc, 'r', label = 'Validation accuracy')\n",
    "plt.legend()\n",
    "\n",
    "# Loss\n",
    "plt.subplot(1,2,2)\n",
    "plt.plot(epochs, loss, 'b', label = 'Trainig loss')\n",
    "plt.plot(epochs, val_loss, 'r', label = 'Validation loss')\n",
    "plt.legend()\n",
    "\n",
    "plt.show()"
   ]
  },
  {
   "cell_type": "code",
   "execution_count": 23,
   "id": "a3330a14",
   "metadata": {
    "execution": {
     "iopub.execute_input": "2023-11-25T01:37:24.539630Z",
     "iopub.status.busy": "2023-11-25T01:37:24.539063Z",
     "iopub.status.idle": "2023-11-25T01:37:53.899142Z",
     "shell.execute_reply": "2023-11-25T01:37:53.898078Z"
    },
    "papermill": {
     "duration": 30.231998,
     "end_time": "2023-11-25T01:37:53.900929",
     "exception": false,
     "start_time": "2023-11-25T01:37:23.668931",
     "status": "completed"
    },
    "tags": []
   },
   "outputs": [
    {
     "name": "stdout",
     "output_type": "stream",
     "text": [
      "Evaluate on test data\n",
      "220/220 [==============================] - 29s 129ms/step - loss: 0.9796 - accuracy: 0.6975\n",
      "test loss, test acc: [0.9795682430267334, 0.6974707841873169]\n"
     ]
    }
   ],
   "source": [
    "y_test = tf.keras.utils.to_categorical(y_test)\n",
    "print(\"Evaluate on test data\")\n",
    "results = model_rating.evaluate(X_test, y_test, batch_size=512)\n",
    "print(\"test loss, test acc:\", results)"
   ]
  },
  {
   "cell_type": "code",
   "execution_count": null,
   "id": "f3498d3c",
   "metadata": {
    "papermill": {
     "duration": 0.863619,
     "end_time": "2023-11-25T01:37:55.714008",
     "exception": false,
     "start_time": "2023-11-25T01:37:54.850389",
     "status": "completed"
    },
    "tags": []
   },
   "outputs": [],
   "source": []
  }
 ],
 "metadata": {
  "kaggle": {
   "accelerator": "tpu1vmV38",
   "dataSources": [
    {
     "datasetId": 4044390,
     "sourceId": 7031375,
     "sourceType": "datasetVersion"
    },
    {
     "datasetId": 4049844,
     "sourceId": 7039192,
     "sourceType": "datasetVersion"
    },
    {
     "datasetId": 4054923,
     "sourceId": 7046660,
     "sourceType": "datasetVersion"
    }
   ],
   "dockerImageVersionId": 30589,
   "isGpuEnabled": false,
   "isInternetEnabled": true,
   "language": "python",
   "sourceType": "notebook"
  },
  "kernelspec": {
   "display_name": "Python 3",
   "language": "python",
   "name": "python3"
  },
  "language_info": {
   "codemirror_mode": {
    "name": "ipython",
    "version": 3
   },
   "file_extension": ".py",
   "mimetype": "text/x-python",
   "name": "python",
   "nbconvert_exporter": "python",
   "pygments_lexer": "ipython3",
   "version": "3.11.2"
  },
  "papermill": {
   "default_parameters": {},
   "duration": 6332.816623,
   "end_time": "2023-11-25T01:38:06.777638",
   "environment_variables": {},
   "exception": null,
   "input_path": "__notebook__.ipynb",
   "output_path": "__notebook__.ipynb",
   "parameters": {},
   "start_time": "2023-11-24T23:52:33.961015",
   "version": "2.5.0"
  }
 },
 "nbformat": 4,
 "nbformat_minor": 5
}
