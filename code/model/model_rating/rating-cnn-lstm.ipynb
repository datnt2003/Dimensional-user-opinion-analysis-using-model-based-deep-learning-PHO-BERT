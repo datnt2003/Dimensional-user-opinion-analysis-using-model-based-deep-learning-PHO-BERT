{
 "cells": [
  {
   "cell_type": "code",
   "execution_count": 1,
   "id": "4a972dcd",
   "metadata": {
    "_cell_guid": "b1076dfc-b9ad-4769-8c92-a6c4dae69d19",
    "_uuid": "8f2839f25d086af736a60e9eeb907d3b93b6e0e5",
    "execution": {
     "iopub.execute_input": "2023-11-25T00:38:36.080352Z",
     "iopub.status.busy": "2023-11-25T00:38:36.080008Z",
     "iopub.status.idle": "2023-11-25T00:39:00.224343Z",
     "shell.execute_reply": "2023-11-25T00:39:00.223461Z"
    },
    "papermill": {
     "duration": 24.153677,
     "end_time": "2023-11-25T00:39:00.226445",
     "exception": false,
     "start_time": "2023-11-25T00:38:36.072768",
     "status": "completed"
    },
    "tags": []
   },
   "outputs": [
    {
     "name": "stdout",
     "output_type": "stream",
     "text": [
      "Requirement already satisfied: pip in /usr/local/lib/python3.10/site-packages (23.0.1)\r\n",
      "Collecting pip\r\n",
      "  Downloading pip-23.3.1-py3-none-any.whl (2.1 MB)\r\n",
      "\u001b[2K     \u001b[90m━━━━━━━━━━━━━━━━━━━━━━━━━━━━━━━━━━━━━━━━\u001b[0m \u001b[32m2.1/2.1 MB\u001b[0m \u001b[31m8.8 MB/s\u001b[0m eta \u001b[36m0:00:00\u001b[0m\r\n",
      "\u001b[?25hInstalling collected packages: pip\r\n",
      "  Attempting uninstall: pip\r\n",
      "    Found existing installation: pip 23.0.1\r\n",
      "    Uninstalling pip-23.0.1:\r\n",
      "      Successfully uninstalled pip-23.0.1\r\n",
      "Successfully installed pip-23.3.1\r\n",
      "\u001b[33mWARNING: Running pip as the 'root' user can result in broken permissions and conflicting behaviour with the system package manager. It is recommended to use a virtual environment instead: https://pip.pypa.io/warnings/venv\u001b[0m\u001b[33m\r\n",
      "\u001b[0mRequirement already satisfied: tensorflow_addons in /usr/local/lib/python3.10/site-packages (0.22.0)\r\n",
      "Requirement already satisfied: packaging in /usr/local/lib/python3.10/site-packages (from tensorflow_addons) (23.2)\r\n",
      "Requirement already satisfied: typeguard<3.0.0,>=2.7 in /usr/local/lib/python3.10/site-packages (from tensorflow_addons) (2.13.3)\r\n",
      "\u001b[33mWARNING: Running pip as the 'root' user can result in broken permissions and conflicting behaviour with the system package manager. It is recommended to use a virtual environment instead: https://pip.pypa.io/warnings/venv\u001b[0m\u001b[33m\r\n",
      "\u001b[0mCollecting seaborn\r\n",
      "  Downloading seaborn-0.13.0-py3-none-any.whl.metadata (5.3 kB)\r\n",
      "Requirement already satisfied: numpy!=1.24.0,>=1.20 in /usr/local/lib/python3.10/site-packages (from seaborn) (1.26.1)\r\n",
      "Requirement already satisfied: pandas>=1.2 in /usr/local/lib/python3.10/site-packages (from seaborn) (2.1.3)\r\n",
      "Requirement already satisfied: matplotlib!=3.6.1,>=3.3 in /usr/local/lib/python3.10/site-packages (from seaborn) (3.8.1)\r\n",
      "Requirement already satisfied: contourpy>=1.0.1 in /usr/local/lib/python3.10/site-packages (from matplotlib!=3.6.1,>=3.3->seaborn) (1.2.0)\r\n",
      "Requirement already satisfied: cycler>=0.10 in /usr/local/lib/python3.10/site-packages (from matplotlib!=3.6.1,>=3.3->seaborn) (0.12.1)\r\n",
      "Requirement already satisfied: fonttools>=4.22.0 in /usr/local/lib/python3.10/site-packages (from matplotlib!=3.6.1,>=3.3->seaborn) (4.44.0)\r\n",
      "Requirement already satisfied: kiwisolver>=1.3.1 in /usr/local/lib/python3.10/site-packages (from matplotlib!=3.6.1,>=3.3->seaborn) (1.4.5)\r\n",
      "Requirement already satisfied: packaging>=20.0 in /usr/local/lib/python3.10/site-packages (from matplotlib!=3.6.1,>=3.3->seaborn) (23.2)\r\n",
      "Requirement already satisfied: pillow>=8 in /usr/local/lib/python3.10/site-packages (from matplotlib!=3.6.1,>=3.3->seaborn) (10.1.0)\r\n",
      "Requirement already satisfied: pyparsing>=2.3.1 in /usr/local/lib/python3.10/site-packages (from matplotlib!=3.6.1,>=3.3->seaborn) (3.1.1)\r\n",
      "Requirement already satisfied: python-dateutil>=2.7 in /usr/local/lib/python3.10/site-packages (from matplotlib!=3.6.1,>=3.3->seaborn) (2.8.2)\r\n",
      "Requirement already satisfied: pytz>=2020.1 in /usr/local/lib/python3.10/site-packages (from pandas>=1.2->seaborn) (2023.3.post1)\r\n",
      "Requirement already satisfied: tzdata>=2022.1 in /usr/local/lib/python3.10/site-packages (from pandas>=1.2->seaborn) (2023.3)\r\n",
      "Requirement already satisfied: six>=1.5 in /usr/local/lib/python3.10/site-packages (from python-dateutil>=2.7->matplotlib!=3.6.1,>=3.3->seaborn) (1.16.0)\r\n",
      "Downloading seaborn-0.13.0-py3-none-any.whl (294 kB)\r\n",
      "\u001b[2K   \u001b[90m━━━━━━━━━━━━━━━━━━━━━━━━━━━━━━━━━━━━━━━━\u001b[0m \u001b[32m294.6/294.6 kB\u001b[0m \u001b[31m4.8 MB/s\u001b[0m eta \u001b[36m0:00:00\u001b[0m\r\n",
      "\u001b[?25hInstalling collected packages: seaborn\r\n",
      "Successfully installed seaborn-0.13.0\r\n",
      "\u001b[33mWARNING: Running pip as the 'root' user can result in broken permissions and conflicting behaviour with the system package manager. It is recommended to use a virtual environment instead: https://pip.pypa.io/warnings/venv\u001b[0m\u001b[33m\r\n",
      "\u001b[0mRequirement already satisfied: transformers in /usr/local/lib/python3.10/site-packages (4.35.0)\r\n",
      "Requirement already satisfied: filelock in /usr/local/lib/python3.10/site-packages (from transformers) (3.13.1)\r\n",
      "Requirement already satisfied: huggingface-hub<1.0,>=0.16.4 in /usr/local/lib/python3.10/site-packages (from transformers) (0.17.3)\r\n",
      "Requirement already satisfied: numpy>=1.17 in /usr/local/lib/python3.10/site-packages (from transformers) (1.26.1)\r\n",
      "Requirement already satisfied: packaging>=20.0 in /usr/local/lib/python3.10/site-packages (from transformers) (23.2)\r\n",
      "Requirement already satisfied: pyyaml>=5.1 in /usr/local/lib/python3.10/site-packages (from transformers) (6.0.1)\r\n",
      "Requirement already satisfied: regex!=2019.12.17 in /usr/local/lib/python3.10/site-packages (from transformers) (2023.10.3)\r\n",
      "Requirement already satisfied: requests in /usr/local/lib/python3.10/site-packages (from transformers) (2.31.0)\r\n",
      "Requirement already satisfied: tokenizers<0.15,>=0.14 in /usr/local/lib/python3.10/site-packages (from transformers) (0.14.1)\r\n",
      "Requirement already satisfied: safetensors>=0.3.1 in /usr/local/lib/python3.10/site-packages (from transformers) (0.4.0)\r\n",
      "Requirement already satisfied: tqdm>=4.27 in /usr/local/lib/python3.10/site-packages (from transformers) (4.66.1)\r\n",
      "Requirement already satisfied: fsspec in /usr/local/lib/python3.10/site-packages (from huggingface-hub<1.0,>=0.16.4->transformers) (2023.10.0)\r\n",
      "Requirement already satisfied: typing-extensions>=3.7.4.3 in /usr/local/lib/python3.10/site-packages (from huggingface-hub<1.0,>=0.16.4->transformers) (4.8.0)\r\n",
      "Requirement already satisfied: charset-normalizer<4,>=2 in /usr/local/lib/python3.10/site-packages (from requests->transformers) (3.3.2)\r\n",
      "Requirement already satisfied: idna<4,>=2.5 in /usr/local/lib/python3.10/site-packages (from requests->transformers) (3.4)\r\n",
      "Requirement already satisfied: urllib3<3,>=1.21.1 in /usr/local/lib/python3.10/site-packages (from requests->transformers) (2.0.7)\r\n",
      "Requirement already satisfied: certifi>=2017.4.17 in /usr/local/lib/python3.10/site-packages (from requests->transformers) (2023.7.22)\r\n",
      "\u001b[33mWARNING: Running pip as the 'root' user can result in broken permissions and conflicting behaviour with the system package manager. It is recommended to use a virtual environment instead: https://pip.pypa.io/warnings/venv\u001b[0m\u001b[33m\r\n",
      "\u001b[0mRequirement already satisfied: scikit-learn in /usr/local/lib/python3.10/site-packages (1.3.2)\r\n",
      "Requirement already satisfied: numpy<2.0,>=1.17.3 in /usr/local/lib/python3.10/site-packages (from scikit-learn) (1.26.1)\r\n",
      "Requirement already satisfied: scipy>=1.5.0 in /usr/local/lib/python3.10/site-packages (from scikit-learn) (1.11.3)\r\n",
      "Requirement already satisfied: joblib>=1.1.1 in /usr/local/lib/python3.10/site-packages (from scikit-learn) (1.3.2)\r\n",
      "Requirement already satisfied: threadpoolctl>=2.0.0 in /usr/local/lib/python3.10/site-packages (from scikit-learn) (3.2.0)\r\n",
      "\u001b[33mWARNING: Running pip as the 'root' user can result in broken permissions and conflicting behaviour with the system package manager. It is recommended to use a virtual environment instead: https://pip.pypa.io/warnings/venv\u001b[0m\u001b[33m\r\n",
      "\u001b[0mCollecting imbalanced-learn\r\n",
      "  Downloading imbalanced_learn-0.11.0-py3-none-any.whl.metadata (8.3 kB)\r\n",
      "Requirement already satisfied: numpy>=1.17.3 in /usr/local/lib/python3.10/site-packages (from imbalanced-learn) (1.26.1)\r\n",
      "Requirement already satisfied: scipy>=1.5.0 in /usr/local/lib/python3.10/site-packages (from imbalanced-learn) (1.11.3)\r\n",
      "Requirement already satisfied: scikit-learn>=1.0.2 in /usr/local/lib/python3.10/site-packages (from imbalanced-learn) (1.3.2)\r\n",
      "Requirement already satisfied: joblib>=1.1.1 in /usr/local/lib/python3.10/site-packages (from imbalanced-learn) (1.3.2)\r\n",
      "Requirement already satisfied: threadpoolctl>=2.0.0 in /usr/local/lib/python3.10/site-packages (from imbalanced-learn) (3.2.0)\r\n",
      "Downloading imbalanced_learn-0.11.0-py3-none-any.whl (235 kB)\r\n",
      "\u001b[2K   \u001b[90m━━━━━━━━━━━━━━━━━━━━━━━━━━━━━━━━━━━━━━━━\u001b[0m \u001b[32m235.6/235.6 kB\u001b[0m \u001b[31m4.1 MB/s\u001b[0m eta \u001b[36m0:00:00\u001b[0m\r\n",
      "\u001b[?25hInstalling collected packages: imbalanced-learn\r\n",
      "Successfully installed imbalanced-learn-0.11.0\r\n",
      "\u001b[33mWARNING: Running pip as the 'root' user can result in broken permissions and conflicting behaviour with the system package manager. It is recommended to use a virtual environment instead: https://pip.pypa.io/warnings/venv\u001b[0m\u001b[33m\r\n",
      "\u001b[0m"
     ]
    }
   ],
   "source": [
    "!pip install --upgrade pip\n",
    "!pip install tensorflow_addons\n",
    "!pip install seaborn\n",
    "!pip install transformers\n",
    "!pip install scikit-learn\n",
    "!pip install imbalanced-learn\n"
   ]
  },
  {
   "cell_type": "code",
   "execution_count": 1,
   "id": "6ccfff33",
   "metadata": {
    "execution": {
     "iopub.execute_input": "2023-11-25T00:39:00.243937Z",
     "iopub.status.busy": "2023-11-25T00:39:00.243646Z",
     "iopub.status.idle": "2023-11-25T00:39:39.805176Z",
     "shell.execute_reply": "2023-11-25T00:39:39.804257Z"
    },
    "papermill": {
     "duration": 39.572266,
     "end_time": "2023-11-25T00:39:39.807588",
     "exception": false,
     "start_time": "2023-11-25T00:39:00.235322",
     "status": "completed"
    },
    "tags": []
   },
   "outputs": [
    {
     "name": "stderr",
     "output_type": "stream",
     "text": [
      "/Library/Frameworks/Python.framework/Versions/3.11/lib/python3.11/site-packages/tensorflow_addons/utils/tfa_eol_msg.py:23: UserWarning: \n",
      "\n",
      "TensorFlow Addons (TFA) has ended development and introduction of new features.\n",
      "TFA has entered a minimal maintenance and release mode until a planned end of life in May 2024.\n",
      "Please modify downstream libraries to take dependencies from other repositories in our TensorFlow community (e.g. Keras, Keras-CV, and Keras-NLP). \n",
      "\n",
      "For more information see: https://github.com/tensorflow/addons/issues/2807 \n",
      "\n",
      "  warnings.warn(\n",
      "/Library/Frameworks/Python.framework/Versions/3.11/lib/python3.11/site-packages/tensorflow_addons/utils/ensure_tf_install.py:53: UserWarning: Tensorflow Addons supports using Python ops for all Tensorflow versions above or equal to 2.12.0 and strictly below 2.15.0 (nightly versions are not supported). \n",
      " The versions of TensorFlow you are currently using is 2.15.0 and is not supported. \n",
      "Some things might work, some things might not.\n",
      "If you were to encounter a bug, do not file an issue.\n",
      "If you want to make sure you're using a tested and supported configuration, either change the TensorFlow version or the TensorFlow Addons's version. \n",
      "You can find the compatibility matrix in TensorFlow Addon's readme:\n",
      "https://github.com/tensorflow/addons\n",
      "  warnings.warn(\n"
     ]
    }
   ],
   "source": [
    "import numpy as np\n",
    "import pandas as pd\n",
    "import matplotlib.pyplot as plt\n",
    "import seaborn as sns\n",
    "from sklearn.preprocessing import LabelEncoder\n",
    "from sklearn.model_selection import train_test_split\n",
    "\n",
    "\n",
    "import tensorflow as tf\n",
    "import tensorflow_addons as tfa\n",
    "\n",
    "from transformers import TFAutoModel, AutoTokenizer\n",
    "\n",
    "\n",
    "from tensorflow.keras import Input, Model\n",
    "from tensorflow.keras import layers\n",
    "from tensorflow.keras.layers import Dense, Dropout, Conv1D, MaxPooling1D, Bidirectional, LSTM, Flatten,GlobalMaxPooling1D, BatchNormalization, Bidirectional\n",
    "from tensorflow.keras.optimizers import Adam\n",
    "from tensorflow.keras import regularizers\n",
    "\n",
    "from tensorflow.keras.callbacks import ModelCheckpoint, EarlyStopping\n",
    "\n",
    "from transformers import TFRobertaModel\n",
    "from keras.models import load_model\n",
    "from keras.utils import CustomObjectScope\n",
    "\n",
    "import warnings\n",
    "warnings.filterwarnings(\"ignore\")"
   ]
  },
  {
   "cell_type": "markdown",
   "id": "d9f09fba",
   "metadata": {
    "papermill": {
     "duration": 0.007289,
     "end_time": "2023-11-25T00:39:39.822519",
     "exception": false,
     "start_time": "2023-11-25T00:39:39.815230",
     "status": "completed"
    },
    "tags": []
   },
   "source": [
    "* Đọc dữ liệu"
   ]
  },
  {
   "cell_type": "code",
   "execution_count": 3,
   "id": "ed633ab9",
   "metadata": {
    "execution": {
     "iopub.execute_input": "2023-11-25T00:39:39.839250Z",
     "iopub.status.busy": "2023-11-25T00:39:39.838565Z",
     "iopub.status.idle": "2023-11-25T00:39:42.253797Z",
     "shell.execute_reply": "2023-11-25T00:39:42.252990Z"
    },
    "papermill": {
     "duration": 2.425787,
     "end_time": "2023-11-25T00:39:42.255529",
     "exception": false,
     "start_time": "2023-11-25T00:39:39.829742",
     "status": "completed"
    },
    "tags": []
   },
   "outputs": [
    {
     "data": {
      "text/html": [
       "<div>\n",
       "<style scoped>\n",
       "    .dataframe tbody tr th:only-of-type {\n",
       "        vertical-align: middle;\n",
       "    }\n",
       "\n",
       "    .dataframe tbody tr th {\n",
       "        vertical-align: top;\n",
       "    }\n",
       "\n",
       "    .dataframe thead th {\n",
       "        text-align: right;\n",
       "    }\n",
       "</style>\n",
       "<table border=\"1\" class=\"dataframe\">\n",
       "  <thead>\n",
       "    <tr style=\"text-align: right;\">\n",
       "      <th></th>\n",
       "      <th>comment</th>\n",
       "      <th>rating_star</th>\n",
       "      <th>khia_canh</th>\n",
       "    </tr>\n",
       "  </thead>\n",
       "  <tbody>\n",
       "    <tr>\n",
       "      <th>0</th>\n",
       "      <td>mô tả sai 60 cửa hàng giao bao nhiêu bẻ 50 nhắ...</td>\n",
       "      <td>negative</td>\n",
       "      <td>Chất lượng sản phẩm, Dịch vụ khách hàng, Giao ...</td>\n",
       "    </tr>\n",
       "    <tr>\n",
       "      <th>1</th>\n",
       "      <td>sản phẩm cửa hàng hài sản phẩm hàng hơi lâu4 ủ...</td>\n",
       "      <td>negative</td>\n",
       "      <td>Dịch vụ khách hàng</td>\n",
       "    </tr>\n",
       "    <tr>\n",
       "      <th>2</th>\n",
       "      <td>giao hàng cửa hàng thèm phục vụ kém nhắn đợi t...</td>\n",
       "      <td>negative</td>\n",
       "      <td>Chất lượng sản phẩm, Dịch vụ khách hàng, Giao ...</td>\n",
       "    </tr>\n",
       "    <tr>\n",
       "      <th>3</th>\n",
       "      <td>chất sản phẩm tệ hại y cửa hàng hàng khuyên cử...</td>\n",
       "      <td>negative</td>\n",
       "      <td>Chất lượng sản phẩm, Dịch vụ khách hàng, Giao ...</td>\n",
       "    </tr>\n",
       "    <tr>\n",
       "      <th>4</th>\n",
       "      <td>sản phẩm giao cửa hàng phục vụ nhiệt tình 2 sả...</td>\n",
       "      <td>negative</td>\n",
       "      <td>Dịch vụ khách hàng, Giao hàng</td>\n",
       "    </tr>\n",
       "  </tbody>\n",
       "</table>\n",
       "</div>"
      ],
      "text/plain": [
       "                                             comment rating_star  \\\n",
       "0  mô tả sai 60 cửa hàng giao bao nhiêu bẻ 50 nhắ...    negative   \n",
       "1  sản phẩm cửa hàng hài sản phẩm hàng hơi lâu4 ủ...    negative   \n",
       "2  giao hàng cửa hàng thèm phục vụ kém nhắn đợi t...    negative   \n",
       "3  chất sản phẩm tệ hại y cửa hàng hàng khuyên cử...    negative   \n",
       "4  sản phẩm giao cửa hàng phục vụ nhiệt tình 2 sả...    negative   \n",
       "\n",
       "                                           khia_canh  \n",
       "0  Chất lượng sản phẩm, Dịch vụ khách hàng, Giao ...  \n",
       "1                                 Dịch vụ khách hàng  \n",
       "2  Chất lượng sản phẩm, Dịch vụ khách hàng, Giao ...  \n",
       "3  Chất lượng sản phẩm, Dịch vụ khách hàng, Giao ...  \n",
       "4                      Dịch vụ khách hàng, Giao hàng  "
      ]
     },
     "execution_count": 3,
     "metadata": {},
     "output_type": "execute_result"
    }
   ],
   "source": [
    "df = pd.read_csv('/Users/datnguyen/Documents/hoc_truong/project/NLP/Nhom_10/data/data.tsv',sep='\\t')\n",
    "df.head()"
   ]
  },
  {
   "cell_type": "markdown",
   "id": "f5d8ca9d",
   "metadata": {
    "papermill": {
     "duration": 0.007793,
     "end_time": "2023-11-25T00:39:43.471177",
     "exception": false,
     "start_time": "2023-11-25T00:39:43.463384",
     "status": "completed"
    },
    "tags": []
   },
   "source": [
    "* Chọn dữ liệu"
   ]
  },
  {
   "cell_type": "code",
   "execution_count": 4,
   "id": "2baea6d1",
   "metadata": {
    "execution": {
     "iopub.execute_input": "2023-11-25T00:39:43.513272Z",
     "iopub.status.busy": "2023-11-25T00:39:43.512309Z",
     "iopub.status.idle": "2023-11-25T00:39:43.516715Z",
     "shell.execute_reply": "2023-11-25T00:39:43.515847Z"
    },
    "papermill": {
     "duration": 0.015339,
     "end_time": "2023-11-25T00:39:43.518309",
     "exception": false,
     "start_time": "2023-11-25T00:39:43.502970",
     "status": "completed"
    },
    "tags": []
   },
   "outputs": [],
   "source": [
    "X = df.comment\n",
    "y = df.rating_star"
   ]
  },
  {
   "cell_type": "markdown",
   "id": "f48ab5fd",
   "metadata": {
    "papermill": {
     "duration": 0.007694,
     "end_time": "2023-11-25T00:39:43.533299",
     "exception": false,
     "start_time": "2023-11-25T00:39:43.525605",
     "status": "completed"
    },
    "tags": []
   },
   "source": [
    "* LabelEncoder"
   ]
  },
  {
   "cell_type": "code",
   "execution_count": 5,
   "id": "f7e970cb",
   "metadata": {
    "execution": {
     "iopub.execute_input": "2023-11-25T00:39:43.550205Z",
     "iopub.status.busy": "2023-11-25T00:39:43.549889Z",
     "iopub.status.idle": "2023-11-25T00:39:43.553959Z",
     "shell.execute_reply": "2023-11-25T00:39:43.553179Z"
    },
    "papermill": {
     "duration": 0.014468,
     "end_time": "2023-11-25T00:39:43.555427",
     "exception": false,
     "start_time": "2023-11-25T00:39:43.540959",
     "status": "completed"
    },
    "tags": []
   },
   "outputs": [],
   "source": [
    "le_rating = LabelEncoder()"
   ]
  },
  {
   "cell_type": "code",
   "execution_count": 6,
   "id": "9de8cd60",
   "metadata": {
    "execution": {
     "iopub.execute_input": "2023-11-25T00:39:43.573096Z",
     "iopub.status.busy": "2023-11-25T00:39:43.572723Z",
     "iopub.status.idle": "2023-11-25T00:41:00.549351Z",
     "shell.execute_reply": "2023-11-25T00:41:00.548491Z"
    },
    "papermill": {
     "duration": 76.988291,
     "end_time": "2023-11-25T00:41:00.551542",
     "exception": false,
     "start_time": "2023-11-25T00:39:43.563251",
     "status": "completed"
    },
    "tags": []
   },
   "outputs": [],
   "source": [
    "MAX_LEN = 200\n",
    "model_name = 'vinai/phobert-base'\n",
    "\n",
    "# Tokenizing\n",
    "tokenizer = AutoTokenizer.from_pretrained(model_name)\n",
    "encoded_inputs = tokenizer.batch_encode_plus(\n",
    "    df.comment.tolist(), \n",
    "    max_length=MAX_LEN, \n",
    "    padding='max_length', \n",
    "    truncation=True,\n",
    "    return_tensors='np'\n",
    ")"
   ]
  },
  {
   "cell_type": "code",
   "execution_count": 7,
   "id": "c24c7b11",
   "metadata": {
    "execution": {
     "iopub.execute_input": "2023-11-25T00:41:00.572120Z",
     "iopub.status.busy": "2023-11-25T00:41:00.571770Z",
     "iopub.status.idle": "2023-11-25T00:41:00.589423Z",
     "shell.execute_reply": "2023-11-25T00:41:00.588633Z"
    },
    "papermill": {
     "duration": 0.029838,
     "end_time": "2023-11-25T00:41:00.591146",
     "exception": false,
     "start_time": "2023-11-25T00:41:00.561308",
     "status": "completed"
    },
    "tags": []
   },
   "outputs": [],
   "source": [
    "X = encoded_inputs['input_ids']\n",
    "y = le_rating.fit_transform(y)"
   ]
  },
  {
   "cell_type": "code",
   "execution_count": 8,
   "id": "f32b6283",
   "metadata": {
    "execution": {
     "iopub.execute_input": "2023-11-25T00:41:00.611271Z",
     "iopub.status.busy": "2023-11-25T00:41:00.610956Z",
     "iopub.status.idle": "2023-11-25T00:41:00.960241Z",
     "shell.execute_reply": "2023-11-25T00:41:00.959092Z"
    },
    "papermill": {
     "duration": 0.361988,
     "end_time": "2023-11-25T00:41:00.962414",
     "exception": false,
     "start_time": "2023-11-25T00:41:00.600426",
     "status": "completed"
    },
    "tags": []
   },
   "outputs": [],
   "source": [
    "from sklearn.model_selection import train_test_split\n",
    "\n",
    "X_train, X_test, y_train, y_test = train_test_split(X, y, test_size=0.2, random_state=2006)"
   ]
  },
  {
   "cell_type": "markdown",
   "id": "9b883c56",
   "metadata": {
    "papermill": {
     "duration": 0.008654,
     "end_time": "2023-11-25T00:41:00.980086",
     "exception": false,
     "start_time": "2023-11-25T00:41:00.971432",
     "status": "completed"
    },
    "tags": []
   },
   "source": [
    "* TPU setup"
   ]
  },
  {
   "cell_type": "code",
   "execution_count": 9,
   "id": "cf7301c4",
   "metadata": {
    "execution": {
     "iopub.execute_input": "2023-11-25T00:41:00.998527Z",
     "iopub.status.busy": "2023-11-25T00:41:00.998263Z",
     "iopub.status.idle": "2023-11-25T00:41:09.799927Z",
     "shell.execute_reply": "2023-11-25T00:41:09.799114Z"
    },
    "papermill": {
     "duration": 8.813293,
     "end_time": "2023-11-25T00:41:09.801811",
     "exception": false,
     "start_time": "2023-11-25T00:41:00.988518",
     "status": "completed"
    },
    "tags": []
   },
   "outputs": [
    {
     "name": "stdout",
     "output_type": "stream",
     "text": [
      "Number of replicas: 1\n"
     ]
    }
   ],
   "source": [
    "try:\n",
    "    tpu = tf.distribute.cluster_resolver.TPUClusterResolver() \n",
    "    tf.config.experimental_connect_to_cluster(tpu)\n",
    "    tf.tpu.experimental.initialize_tpu_system(tpu)\n",
    "    \n",
    "    strategy = tf.distribute.experimental.TPUStrategy\n",
    "except ValueError:\n",
    "    strategy = tf.distribute.get_strategy() \n",
    "    print('Number of replicas:', strategy.num_replicas_in_sync) "
   ]
  },
  {
   "cell_type": "code",
   "execution_count": 10,
   "id": "40b5d2f2",
   "metadata": {
    "execution": {
     "iopub.execute_input": "2023-11-25T00:41:09.820842Z",
     "iopub.status.busy": "2023-11-25T00:41:09.820589Z",
     "iopub.status.idle": "2023-11-25T00:41:14.383961Z",
     "shell.execute_reply": "2023-11-25T00:41:14.383156Z"
    },
    "papermill": {
     "duration": 4.581588,
     "end_time": "2023-11-25T00:41:14.392556",
     "exception": false,
     "start_time": "2023-11-25T00:41:09.810968",
     "status": "completed"
    },
    "tags": []
   },
   "outputs": [
    {
     "name": "stdout",
     "output_type": "stream",
     "text": [
      "Running on single GPU  /device:GPU:0\n",
      "Number of accelerators:  1\n"
     ]
    },
    {
     "name": "stderr",
     "output_type": "stream",
     "text": [
      "2023-12-05 08:55:58.238628: I metal_plugin/src/device/metal_device.cc:1154] Metal device set to: Apple M2\n",
      "2023-12-05 08:55:58.238691: I metal_plugin/src/device/metal_device.cc:296] systemMemory: 16.00 GB\n",
      "2023-12-05 08:55:58.238703: I metal_plugin/src/device/metal_device.cc:313] maxCacheSize: 5.33 GB\n",
      "2023-12-05 08:55:58.238739: I tensorflow/core/common_runtime/pluggable_device/pluggable_device_factory.cc:306] Could not identify NUMA node of platform GPU ID 0, defaulting to 0. Your kernel may not have been built with NUMA support.\n",
      "2023-12-05 08:55:58.238754: I tensorflow/core/common_runtime/pluggable_device/pluggable_device_factory.cc:272] Created TensorFlow device (/job:localhost/replica:0/task:0/device:GPU:0 with 0 MB memory) -> physical PluggableDevice (device: 0, name: METAL, pci bus id: <undefined>)\n"
     ]
    }
   ],
   "source": [
    "try:\n",
    "    tpu = tf.distribute.cluster_resolver.TPUClusterResolver() # TPU detection\n",
    "except ValueError:\n",
    "    tpu = None\n",
    "    gpus = tf.config.experimental.list_logical_devices(\"GPU\")\n",
    "    \n",
    "if tpu:\n",
    "    tf.tpu.experimental.initialize_tpu_system(tpu)\n",
    "    strategy = tf.distribute.experimental.TPUStrategy(tpu,) \n",
    "    print('Running on TPU ', tpu.cluster_spec().as_dict())\n",
    "elif len(gpus) > 1:\n",
    "    strategy = tf.distribute.MirroredStrategy([gpu.name for gpu in gpus])\n",
    "    print('Running on multiple GPUs ', [gpu.name for gpu in gpus])\n",
    "elif len(gpus) == 1:\n",
    "    strategy = tf.distribute.get_strategy() \n",
    "    print('Running on single GPU ', gpus[0].name)\n",
    "else:\n",
    "    strategy = tf.distribute.get_strategy() \n",
    "    print('Running on CPU')\n",
    "print(\"Number of accelerators: \", strategy.num_replicas_in_sync)"
   ]
  },
  {
   "cell_type": "markdown",
   "id": "b6828dea",
   "metadata": {
    "papermill": {
     "duration": 0.010375,
     "end_time": "2023-11-25T00:41:14.413628",
     "exception": false,
     "start_time": "2023-11-25T00:41:14.403253",
     "status": "completed"
    },
    "tags": []
   },
   "source": [
    "* OnehotEncoder"
   ]
  },
  {
   "cell_type": "code",
   "execution_count": 11,
   "id": "a40e4e24",
   "metadata": {
    "execution": {
     "iopub.execute_input": "2023-11-25T00:41:14.435310Z",
     "iopub.status.busy": "2023-11-25T00:41:14.435012Z",
     "iopub.status.idle": "2023-11-25T00:41:14.443657Z",
     "shell.execute_reply": "2023-11-25T00:41:14.442921Z"
    },
    "papermill": {
     "duration": 0.021619,
     "end_time": "2023-11-25T00:41:14.445391",
     "exception": false,
     "start_time": "2023-11-25T00:41:14.423772",
     "status": "completed"
    },
    "tags": []
   },
   "outputs": [],
   "source": [
    "y_train = tf.keras.utils.to_categorical(y_train)"
   ]
  },
  {
   "cell_type": "markdown",
   "id": "9bb3cf15",
   "metadata": {
    "papermill": {
     "duration": 0.010149,
     "end_time": "2023-11-25T00:41:14.465973",
     "exception": false,
     "start_time": "2023-11-25T00:41:14.455824",
     "status": "completed"
    },
    "tags": []
   },
   "source": [
    "* Build Model"
   ]
  },
  {
   "cell_type": "code",
   "execution_count": 12,
   "id": "75d4914b",
   "metadata": {
    "execution": {
     "iopub.execute_input": "2023-11-25T00:41:14.487671Z",
     "iopub.status.busy": "2023-11-25T00:41:14.487444Z",
     "iopub.status.idle": "2023-11-25T00:41:42.682462Z",
     "shell.execute_reply": "2023-11-25T00:41:42.681671Z"
    },
    "papermill": {
     "duration": 28.208454,
     "end_time": "2023-11-25T00:41:42.684617",
     "exception": false,
     "start_time": "2023-11-25T00:41:14.476163",
     "status": "completed"
    },
    "tags": []
   },
   "outputs": [
    {
     "name": "stderr",
     "output_type": "stream",
     "text": [
      "Some layers from the model checkpoint at vinai/phobert-base were not used when initializing TFRobertaModel: ['lm_head']\n",
      "- This IS expected if you are initializing TFRobertaModel from the checkpoint of a model trained on another task or with another architecture (e.g. initializing a BertForSequenceClassification model from a BertForPreTraining model).\n",
      "- This IS NOT expected if you are initializing TFRobertaModel from the checkpoint of a model that you expect to be exactly identical (initializing a BertForSequenceClassification model from a BertForSequenceClassification model).\n",
      "All the layers of TFRobertaModel were initialized from the model checkpoint at vinai/phobert-base.\n",
      "If your task is similar to the task the model of the checkpoint was trained on, you can already use TFRobertaModel for predictions without further training.\n"
     ]
    }
   ],
   "source": [
    "# Cnn+lstm\n",
    "\n",
    "with strategy.scope():\n",
    "    encoder = TFAutoModel.from_pretrained(model_name)\n",
    "\n",
    "    input_ids = Input(shape=(MAX_LEN,), dtype=tf.int32)\n",
    "\n",
    "    # Trích xuất đặc trưng phoBert\n",
    "    embedding = encoder(input_ids)[0]\n",
    "\n",
    "    # Thêm lớp CNN\n",
    "    cnn_layer1 = Conv1D(filters=64, kernel_size=3, activation='relu')(embedding)\n",
    "    cnn_layer2 = Conv1D(filters=32, kernel_size=3, activation='relu')(cnn_layer1)\n",
    "    cnn_layer2 = BatchNormalization()(cnn_layer2)\n",
    "\n",
    "    # Thêm lớp LSTM\n",
    "    lstm_layer = LSTM(units=64, return_sequences=True)(cnn_layer2)\n",
    "    lstm_layer = Bidirectional(LSTM(units=32))(lstm_layer)\n",
    "\n",
    "    x = Dense(128, activation='relu', kernel_regularizer=regularizers.L2(0.1))(lstm_layer)\n",
    "    x = Dropout(0.3)(x)\n",
    "\n",
    "    # Lớp đầu ra\n",
    "    output = Dense(y_train.shape[1], activation='softmax', name='output')(x)\n",
    "\n",
    "    # Tạo mô hình\n",
    "    model_rating = Model(inputs=input_ids, outputs=output)\n"
   ]
  },
  {
   "cell_type": "code",
   "execution_count": 13,
   "id": "06cc9a90",
   "metadata": {
    "execution": {
     "iopub.execute_input": "2023-11-25T00:41:42.710989Z",
     "iopub.status.busy": "2023-11-25T00:41:42.710727Z",
     "iopub.status.idle": "2023-11-25T00:41:42.759481Z",
     "shell.execute_reply": "2023-11-25T00:41:42.758636Z"
    },
    "papermill": {
     "duration": 0.063721,
     "end_time": "2023-11-25T00:41:42.761139",
     "exception": false,
     "start_time": "2023-11-25T00:41:42.697418",
     "status": "completed"
    },
    "tags": []
   },
   "outputs": [
    {
     "name": "stdout",
     "output_type": "stream",
     "text": [
      "Model: \"model\"\n",
      "_________________________________________________________________\n",
      " Layer (type)                Output Shape              Param #   \n",
      "=================================================================\n",
      " input_1 (InputLayer)        [(None, 200)]             0         \n",
      "                                                                 \n",
      " tf_roberta_model (TFRobert  TFBaseModelOutputWithPo   134998272 \n",
      " aModel)                     olingAndCrossAttentions             \n",
      "                             (last_hidden_state=(Non             \n",
      "                             e, 200, 768),                       \n",
      "                              pooler_output=(None, 7             \n",
      "                             68),                                \n",
      "                              past_key_values=None,              \n",
      "                             hidden_states=None, att             \n",
      "                             entions=None, cross_att             \n",
      "                             entions=None)                       \n",
      "                                                                 \n",
      " conv1d (Conv1D)             (None, 198, 64)           147520    \n",
      "                                                                 \n",
      " conv1d_1 (Conv1D)           (None, 196, 32)           6176      \n",
      "                                                                 \n",
      " batch_normalization (Batch  (None, 196, 32)           128       \n",
      " Normalization)                                                  \n",
      "                                                                 \n",
      " lstm (LSTM)                 (None, 196, 64)           24832     \n",
      "                                                                 \n",
      " bidirectional (Bidirection  (None, 64)                24832     \n",
      " al)                                                             \n",
      "                                                                 \n",
      " dense (Dense)               (None, 128)               8320      \n",
      "                                                                 \n",
      " dropout_37 (Dropout)        (None, 128)               0         \n",
      "                                                                 \n",
      " output (Dense)              (None, 3)                 387       \n",
      "                                                                 \n",
      "=================================================================\n",
      "Total params: 135210467 (515.79 MB)\n",
      "Trainable params: 135210403 (515.79 MB)\n",
      "Non-trainable params: 64 (256.00 Byte)\n",
      "_________________________________________________________________\n"
     ]
    }
   ],
   "source": [
    "model_rating.summary()"
   ]
  },
  {
   "cell_type": "code",
   "execution_count": 14,
   "metadata": {},
   "outputs": [
    {
     "data": {
      "image/png": "[encoded data removed]",
      "text/plain": [
       "<IPython.core.display.Image object>"
      ]
     },
     "execution_count": 14,
     "metadata": {},
     "output_type": "execute_result"
    }
   ],
   "source": [
    "from tensorflow.keras.utils import plot_model\n",
    "plot_model(model_rating, to_file='model_rating.png', show_shapes=True, show_layer_names=True)"
   ]
  },
  {
   "cell_type": "markdown",
   "id": "16af9f49",
   "metadata": {
    "papermill": {
     "duration": 0.014491,
     "end_time": "2023-11-25T00:41:42.789513",
     "exception": false,
     "start_time": "2023-11-25T00:41:42.775022",
     "status": "completed"
    },
    "tags": []
   },
   "source": [
    "* Optimize"
   ]
  },
  {
   "cell_type": "code",
   "execution_count": 17,
   "id": "57127dae",
   "metadata": {
    "execution": {
     "iopub.execute_input": "2023-11-25T00:41:42.818900Z",
     "iopub.status.busy": "2023-11-25T00:41:42.818489Z",
     "iopub.status.idle": "2023-11-25T00:41:42.832357Z",
     "shell.execute_reply": "2023-11-25T00:41:42.831725Z"
    },
    "papermill": {
     "duration": 0.03081,
     "end_time": "2023-11-25T00:41:42.834078",
     "exception": false,
     "start_time": "2023-11-25T00:41:42.803268",
     "status": "completed"
    },
    "tags": []
   },
   "outputs": [],
   "source": [
    "class MyExponentialDecay(tf.keras.optimizers.schedules.ExponentialDecay):\n",
    "  def __call__(self, step):\n",
    "    return 1e-2 * super().__call__(step)\n",
    "\n",
    "step = tf.Variable(0, trainable=False)\n",
    "schedule = tf.optimizers.schedules.PiecewiseConstantDecay(\n",
    "    [10000, 15000], [1e-3, 1e-4, 1e-5])\n",
    "\n",
    "initial_learning_rate=0.01\n",
    "\n",
    "wd = MyExponentialDecay(\n",
    "    initial_learning_rate,\n",
    "    decay_steps=14,\n",
    "    decay_rate=0.8,\n",
    "    staircase=True)\n",
    "lr = 1e2 * schedule(step)"
   ]
  },
  {
   "cell_type": "code",
   "execution_count": 18,
   "id": "df392091",
   "metadata": {
    "execution": {
     "iopub.execute_input": "2023-11-25T00:41:42.862994Z",
     "iopub.status.busy": "2023-11-25T00:41:42.862770Z",
     "iopub.status.idle": "2023-11-25T00:41:42.953215Z",
     "shell.execute_reply": "2023-11-25T00:41:42.952520Z"
    },
    "papermill": {
     "duration": 0.106904,
     "end_time": "2023-11-25T00:41:42.955010",
     "exception": false,
     "start_time": "2023-11-25T00:41:42.848106",
     "status": "completed"
    },
    "tags": []
   },
   "outputs": [],
   "source": [
    "model_rating.compile(\n",
    "    optimizer=tfa.optimizers.AdamW(weight_decay=wd,\n",
    "                                  learning_rate=lr),\n",
    "    loss=tf.keras.losses.CategoricalCrossentropy(),\n",
    "    metrics=['accuracy'])\n"
   ]
  },
  {
   "cell_type": "code",
   "execution_count": 19,
   "id": "19b07ae9",
   "metadata": {
    "execution": {
     "iopub.execute_input": "2023-11-25T00:41:42.984404Z",
     "iopub.status.busy": "2023-11-25T00:41:42.984141Z",
     "iopub.status.idle": "2023-11-25T00:41:42.988171Z",
     "shell.execute_reply": "2023-11-25T00:41:42.987567Z"
    },
    "papermill": {
     "duration": 0.020429,
     "end_time": "2023-11-25T00:41:42.989761",
     "exception": false,
     "start_time": "2023-11-25T00:41:42.969332",
     "status": "completed"
    },
    "tags": []
   },
   "outputs": [],
   "source": [
    "# Lưu mô hình tốt nhất\n",
    "cp_callback = ModelCheckpoint(filepath='pho_rating.h5',\n",
    "                              save_best_only=True,\n",
    "                              monitor='accuracy',\n",
    "                              mode='max',\n",
    "                              verbose=1)\n",
    "\n",
    "# Dừng sớm khi không có quá nhiều thay đổi\n",
    "es_callback = EarlyStopping(\n",
    "    monitor='accuracy', \n",
    "    patience=20,\n",
    "    mode='max')"
   ]
  },
  {
   "cell_type": "code",
   "execution_count": 20,
   "id": "e6210f10",
   "metadata": {
    "execution": {
     "iopub.execute_input": "2023-11-25T00:41:43.018932Z",
     "iopub.status.busy": "2023-11-25T00:41:43.018707Z",
     "iopub.status.idle": "2023-11-25T00:41:43.021784Z",
     "shell.execute_reply": "2023-11-25T00:41:43.021182Z"
    },
    "papermill": {
     "duration": 0.019966,
     "end_time": "2023-11-25T00:41:43.023389",
     "exception": false,
     "start_time": "2023-11-25T00:41:43.003423",
     "status": "completed"
    },
    "tags": []
   },
   "outputs": [],
   "source": [
    "# Setup tham số\n",
    "epochs = 30\n",
    "batch_size = 512\n",
    "validation_split = 0.2"
   ]
  },
  {
   "cell_type": "markdown",
   "id": "44bd5100",
   "metadata": {
    "papermill": {
     "duration": 0.013916,
     "end_time": "2023-11-25T00:41:43.051645",
     "exception": false,
     "start_time": "2023-11-25T00:41:43.037729",
     "status": "completed"
    },
    "tags": []
   },
   "source": [
    "* Training"
   ]
  },
  {
   "cell_type": "code",
   "execution_count": 21,
   "id": "f8876fa2",
   "metadata": {
    "execution": {
     "iopub.execute_input": "2023-11-25T00:41:43.081689Z",
     "iopub.status.busy": "2023-11-25T00:41:43.081464Z",
     "iopub.status.idle": "2023-11-25T02:44:53.442515Z",
     "shell.execute_reply": "2023-11-25T02:44:53.441386Z"
    },
    "papermill": {
     "duration": 7391.342208,
     "end_time": "2023-11-25T02:44:54.408575",
     "exception": false,
     "start_time": "2023-11-25T00:41:43.066367",
     "status": "completed"
    },
    "tags": []
   },
   "outputs": [
    {
     "name": "stdout",
     "output_type": "stream",
     "text": [
      "Epoch 1/30\n"
     ]
    },
    {
     "name": "stderr",
     "output_type": "stream",
     "text": [
      "2023-11-25 00:41:45.008685: E ./tensorflow/compiler/xla/stream_executor/stream_executor_internal.h:124] SetPriority unimplemented for this stream.\n",
      "2023-11-25 00:41:45.027169: E ./tensorflow/compiler/xla/stream_executor/stream_executor_internal.h:124] SetPriority unimplemented for this stream.\n",
      "2023-11-25 00:41:45.044805: E ./tensorflow/compiler/xla/stream_executor/stream_executor_internal.h:124] SetPriority unimplemented for this stream.\n",
      "2023-11-25 00:41:45.062569: E ./tensorflow/compiler/xla/stream_executor/stream_executor_internal.h:124] SetPriority unimplemented for this stream.\n",
      "2023-11-25 00:41:45.080955: E ./tensorflow/compiler/xla/stream_executor/stream_executor_internal.h:124] SetPriority unimplemented for this stream.\n",
      "2023-11-25 00:41:45.100197: E ./tensorflow/compiler/xla/stream_executor/stream_executor_internal.h:124] SetPriority unimplemented for this stream.\n",
      "2023-11-25 00:41:45.118160: E ./tensorflow/compiler/xla/stream_executor/stream_executor_internal.h:124] SetPriority unimplemented for this stream.\n"
     ]
    },
    {
     "name": "stdout",
     "output_type": "stream",
     "text": [
      "WARNING:tensorflow:Gradients do not exist for variables ['tf_roberta_model/roberta/pooler/dense/kernel:0', 'tf_roberta_model/roberta/pooler/dense/bias:0'] when minimizing the loss. If you're using `model.compile()`, did you forget to provide a `loss` argument?\n"
     ]
    },
    {
     "name": "stderr",
     "output_type": "stream",
     "text": [
      "WARNING:tensorflow:Gradients do not exist for variables ['tf_roberta_model/roberta/pooler/dense/kernel:0', 'tf_roberta_model/roberta/pooler/dense/bias:0'] when minimizing the loss. If you're using `model.compile()`, did you forget to provide a `loss` argument?\n"
     ]
    },
    {
     "name": "stdout",
     "output_type": "stream",
     "text": [
      "WARNING:tensorflow:Gradients do not exist for variables ['tf_roberta_model/roberta/pooler/dense/kernel:0', 'tf_roberta_model/roberta/pooler/dense/bias:0'] when minimizing the loss. If you're using `model.compile()`, did you forget to provide a `loss` argument?\n"
     ]
    },
    {
     "name": "stderr",
     "output_type": "stream",
     "text": [
      "WARNING:tensorflow:Gradients do not exist for variables ['tf_roberta_model/roberta/pooler/dense/kernel:0', 'tf_roberta_model/roberta/pooler/dense/bias:0'] when minimizing the loss. If you're using `model.compile()`, did you forget to provide a `loss` argument?\n",
      "2023-11-25 00:42:37.881048: E tensorflow/core/grappler/optimizers/meta_optimizer.cc:961] model_pruner failed: INVALID_ARGUMENT: Graph does not contain terminal node AdamW/AdamW/AssignAddVariableOp.\n",
      "2023-11-25 00:42:42.780140: E ./tensorflow/compiler/xla/stream_executor/stream_executor_internal.h:124] SetPriority unimplemented for this stream.\n",
      "2023-11-25 00:42:42.780310: E ./tensorflow/compiler/xla/stream_executor/stream_executor_internal.h:124] SetPriority unimplemented for this stream.\n",
      "2023-11-25 00:42:42.780440: E ./tensorflow/compiler/xla/stream_executor/stream_executor_internal.h:124] SetPriority unimplemented for this stream.\n",
      "2023-11-25 00:42:42.783851: E ./tensorflow/compiler/xla/stream_executor/stream_executor_internal.h:124] SetPriority unimplemented for this stream.\n",
      "2023-11-25 00:42:42.784024: E ./tensorflow/compiler/xla/stream_executor/stream_executor_internal.h:124] SetPriority unimplemented for this stream.\n",
      "2023-11-25 00:42:42.784181: E ./tensorflow/compiler/xla/stream_executor/stream_executor_internal.h:124] SetPriority unimplemented for this stream.\n",
      "2023-11-25 00:42:42.784358: E ./tensorflow/compiler/xla/stream_executor/stream_executor_internal.h:124] SetPriority unimplemented for this stream.\n",
      "2023-11-25 00:43:44.383558: E ./tensorflow/compiler/xla/stream_executor/stream_executor_internal.h:124] SetPriority unimplemented for this stream.\n",
      "2023-11-25 00:43:44.384590: E ./tensorflow/compiler/xla/stream_executor/stream_executor_internal.h:124] SetPriority unimplemented for this stream.\n",
      "2023-11-25 00:43:44.384865: E ./tensorflow/compiler/xla/stream_executor/stream_executor_internal.h:124] SetPriority unimplemented for this stream.\n",
      "2023-11-25 00:43:44.385385: E ./tensorflow/compiler/xla/stream_executor/stream_executor_internal.h:124] SetPriority unimplemented for this stream.\n",
      "2023-11-25 00:43:44.385914: E ./tensorflow/compiler/xla/stream_executor/stream_executor_internal.h:124] SetPriority unimplemented for this stream.\n",
      "2023-11-25 00:43:44.386548: E ./tensorflow/compiler/xla/stream_executor/stream_executor_internal.h:124] SetPriority unimplemented for this stream.\n",
      "2023-11-25 00:43:44.386675: E ./tensorflow/compiler/xla/stream_executor/stream_executor_internal.h:124] SetPriority unimplemented for this stream.\n",
      "2023-11-25 00:43:44.386792: E ./tensorflow/compiler/xla/stream_executor/stream_executor_internal.h:124] SetPriority unimplemented for this stream.\n"
     ]
    },
    {
     "name": "stdout",
     "output_type": "stream",
     "text": [
      "  1/702 [..............................] - ETA: 23:20:02 - loss: 10.0504 - accuracy: 0.2168"
     ]
    },
    {
     "name": "stderr",
     "output_type": "stream",
     "text": [
      "2023-11-25 00:43:44.984167: E ./tensorflow/compiler/xla/stream_executor/stream_executor_internal.h:124] SetPriority unimplemented for this stream.\n"
     ]
    },
    {
     "name": "stdout",
     "output_type": "stream",
     "text": [
      " 23/702 [..............................] - ETA: 4:56 - loss: 3.0331 - accuracy: 0.6715"
     ]
    },
    {
     "name": "stderr",
     "output_type": "stream",
     "text": [
      "2023-11-25 00:43:54.599796: E ./tensorflow/compiler/xla/stream_executor/stream_executor_internal.h:124] SetPriority unimplemented for this stream.\n"
     ]
    },
    {
     "name": "stdout",
     "output_type": "stream",
     "text": [
      " 47/702 [=>............................] - ETA: 4:45 - loss: 2.0721 - accuracy: 0.6850"
     ]
    },
    {
     "name": "stderr",
     "output_type": "stream",
     "text": [
      "2023-11-25 00:44:05.061302: E ./tensorflow/compiler/xla/stream_executor/stream_executor_internal.h:124] SetPriority unimplemented for this stream.\n"
     ]
    },
    {
     "name": "stdout",
     "output_type": "stream",
     "text": [
      " 59/702 [=>............................] - ETA: 4:40 - loss: 1.8501 - accuracy: 0.6899"
     ]
    },
    {
     "name": "stderr",
     "output_type": "stream",
     "text": [
      "2023-11-25 00:44:10.289449: E ./tensorflow/compiler/xla/stream_executor/stream_executor_internal.h:124] SetPriority unimplemented for this stream.\n"
     ]
    },
    {
     "name": "stdout",
     "output_type": "stream",
     "text": [
      " 89/702 [==>...........................] - ETA: 4:27 - loss: 1.5599 - accuracy: 0.6916"
     ]
    },
    {
     "name": "stderr",
     "output_type": "stream",
     "text": [
      "2023-11-25 00:44:23.385025: E ./tensorflow/compiler/xla/stream_executor/stream_executor_internal.h:124] SetPriority unimplemented for this stream.\n"
     ]
    },
    {
     "name": "stdout",
     "output_type": "stream",
     "text": [
      "527/702 [=====================>........] - ETA: 1:16 - loss: 1.0762 - accuracy: 0.6955"
     ]
    },
    {
     "name": "stderr",
     "output_type": "stream",
     "text": [
      "2023-11-25 00:47:34.340114: E ./tensorflow/compiler/xla/stream_executor/stream_executor_internal.h:124] SetPriority unimplemented for this stream.\n"
     ]
    },
    {
     "name": "stdout",
     "output_type": "stream",
     "text": [
      "702/702 [==============================] - ETA: 0s - loss: 1.0516 - accuracy: 0.6958"
     ]
    },
    {
     "name": "stderr",
     "output_type": "stream",
     "text": [
      "2023-11-25 00:49:51.631130: E tensorflow/core/grappler/optimizers/meta_optimizer.cc:961] model_pruner failed: INVALID_ARGUMENT: Graph does not contain terminal node AssignAddVariableOp.\n",
      "2023-11-25 00:49:52.473512: E ./tensorflow/compiler/xla/stream_executor/stream_executor_internal.h:124] SetPriority unimplemented for this stream.\n",
      "2023-11-25 00:50:09.873982: E ./tensorflow/compiler/xla/stream_executor/stream_executor_internal.h:124] SetPriority unimplemented for this stream.\n"
     ]
    },
    {
     "name": "stdout",
     "output_type": "stream",
     "text": [
      "\n",
      "Epoch 1: accuracy improved from -inf to 0.69577, saving model to pho_rating.h5\n",
      "702/702 [==============================] - 524s 576ms/step - loss: 1.0516 - accuracy: 0.6958 - val_loss: 0.9719 - val_accuracy: 0.6988\n",
      "Epoch 2/30\n",
      "702/702 [==============================] - ETA: 0s - loss: 0.9778 - accuracy: 0.6967\n",
      "Epoch 2: accuracy improved from 0.69577 to 0.69668, saving model to pho_rating.h5\n",
      "702/702 [==============================] - 342s 487ms/step - loss: 0.9778 - accuracy: 0.6967 - val_loss: 0.9752 - val_accuracy: 0.6988\n",
      "Epoch 3/30\n",
      "702/702 [==============================] - ETA: 0s - loss: 0.9807 - accuracy: 0.6967\n",
      "Epoch 3: accuracy did not improve from 0.69668\n",
      "702/702 [==============================] - 327s 466ms/step - loss: 0.9807 - accuracy: 0.6967 - val_loss: 0.9751 - val_accuracy: 0.6988\n",
      "Epoch 4/30\n",
      "702/702 [==============================] - ETA: 0s - loss: 0.9802 - accuracy: 0.6967\n",
      "Epoch 4: accuracy did not improve from 0.69668\n",
      "702/702 [==============================] - 326s 465ms/step - loss: 0.9802 - accuracy: 0.6967 - val_loss: 0.9746 - val_accuracy: 0.6988\n",
      "Epoch 5/30\n",
      "702/702 [==============================] - ETA: 0s - loss: 0.9808 - accuracy: 0.6967\n",
      "Epoch 5: accuracy did not improve from 0.69668\n",
      "702/702 [==============================] - 326s 465ms/step - loss: 0.9808 - accuracy: 0.6967 - val_loss: 0.9751 - val_accuracy: 0.6988\n",
      "Epoch 6/30\n",
      "702/702 [==============================] - ETA: 0s - loss: 0.9809 - accuracy: 0.6967\n",
      "Epoch 6: accuracy did not improve from 0.69668\n",
      "702/702 [==============================] - 327s 465ms/step - loss: 0.9809 - accuracy: 0.6967 - val_loss: 0.9801 - val_accuracy: 0.6988\n",
      "Epoch 7/30\n",
      "702/702 [==============================] - ETA: 0s - loss: 0.9808 - accuracy: 0.6967\n",
      "Epoch 7: accuracy did not improve from 0.69668\n",
      "702/702 [==============================] - 327s 466ms/step - loss: 0.9808 - accuracy: 0.6967 - val_loss: 0.9813 - val_accuracy: 0.6988\n",
      "Epoch 8/30\n",
      "702/702 [==============================] - ETA: 0s - loss: 0.9807 - accuracy: 0.6967\n",
      "Epoch 8: accuracy did not improve from 0.69668\n",
      "702/702 [==============================] - 326s 464ms/step - loss: 0.9807 - accuracy: 0.6967 - val_loss: 0.9746 - val_accuracy: 0.6988\n",
      "Epoch 9/30\n",
      "702/702 [==============================] - ETA: 0s - loss: 0.9801 - accuracy: 0.6967\n",
      "Epoch 9: accuracy did not improve from 0.69668\n",
      "702/702 [==============================] - 326s 465ms/step - loss: 0.9801 - accuracy: 0.6967 - val_loss: 0.9756 - val_accuracy: 0.6988\n",
      "Epoch 10/30\n",
      "702/702 [==============================] - ETA: 0s - loss: 0.9805 - accuracy: 0.6967\n",
      "Epoch 10: accuracy did not improve from 0.69668\n",
      "702/702 [==============================] - 326s 464ms/step - loss: 0.9805 - accuracy: 0.6967 - val_loss: 0.9758 - val_accuracy: 0.6988\n",
      "Epoch 11/30\n",
      "702/702 [==============================] - ETA: 0s - loss: 0.9804 - accuracy: 0.6967\n",
      "Epoch 11: accuracy did not improve from 0.69668\n",
      "702/702 [==============================] - 327s 466ms/step - loss: 0.9804 - accuracy: 0.6967 - val_loss: 0.9747 - val_accuracy: 0.6988\n",
      "Epoch 12/30\n",
      "702/702 [==============================] - ETA: 0s - loss: 0.9801 - accuracy: 0.6967\n",
      "Epoch 12: accuracy did not improve from 0.69668\n",
      "702/702 [==============================] - 326s 464ms/step - loss: 0.9801 - accuracy: 0.6967 - val_loss: 0.9758 - val_accuracy: 0.6988\n",
      "Epoch 13/30\n",
      "702/702 [==============================] - ETA: 0s - loss: 0.9802 - accuracy: 0.6967\n",
      "Epoch 13: accuracy did not improve from 0.69668\n",
      "702/702 [==============================] - 326s 465ms/step - loss: 0.9802 - accuracy: 0.6967 - val_loss: 0.9749 - val_accuracy: 0.6988\n",
      "Epoch 14/30\n",
      "702/702 [==============================] - ETA: 0s - loss: 0.9803 - accuracy: 0.6967\n",
      "Epoch 14: accuracy did not improve from 0.69668\n",
      "702/702 [==============================] - 325s 464ms/step - loss: 0.9803 - accuracy: 0.6967 - val_loss: 0.9775 - val_accuracy: 0.6988\n",
      "Epoch 15/30\n",
      "702/702 [==============================] - ETA: 0s - loss: 0.9803 - accuracy: 0.6967\n",
      "Epoch 15: accuracy did not improve from 0.69668\n",
      "702/702 [==============================] - 325s 463ms/step - loss: 0.9803 - accuracy: 0.6967 - val_loss: 0.9743 - val_accuracy: 0.6988\n",
      "Epoch 16/30\n",
      "702/702 [==============================] - ETA: 0s - loss: 0.9802 - accuracy: 0.6967\n",
      "Epoch 16: accuracy did not improve from 0.69668\n",
      "702/702 [==============================] - 326s 464ms/step - loss: 0.9802 - accuracy: 0.6967 - val_loss: 0.9746 - val_accuracy: 0.6988\n",
      "Epoch 17/30\n",
      "702/702 [==============================] - ETA: 0s - loss: 0.9801 - accuracy: 0.6967\n",
      "Epoch 17: accuracy did not improve from 0.69668\n",
      "702/702 [==============================] - 326s 464ms/step - loss: 0.9801 - accuracy: 0.6967 - val_loss: 0.9761 - val_accuracy: 0.6988\n",
      "Epoch 18/30\n",
      "702/702 [==============================] - ETA: 0s - loss: 0.9803 - accuracy: 0.6967\n",
      "Epoch 18: accuracy did not improve from 0.69668\n",
      "702/702 [==============================] - 326s 464ms/step - loss: 0.9803 - accuracy: 0.6967 - val_loss: 0.9757 - val_accuracy: 0.6988\n",
      "Epoch 19/30\n",
      "702/702 [==============================] - ETA: 0s - loss: 0.9801 - accuracy: 0.6967\n",
      "Epoch 19: accuracy did not improve from 0.69668\n",
      "702/702 [==============================] - 326s 464ms/step - loss: 0.9801 - accuracy: 0.6967 - val_loss: 0.9752 - val_accuracy: 0.6988\n",
      "Epoch 20/30\n",
      "702/702 [==============================] - ETA: 0s - loss: 0.9803 - accuracy: 0.6967\n",
      "Epoch 20: accuracy did not improve from 0.69668\n",
      "702/702 [==============================] - 326s 464ms/step - loss: 0.9803 - accuracy: 0.6967 - val_loss: 0.9767 - val_accuracy: 0.6988\n",
      "Epoch 21/30\n",
      "702/702 [==============================] - ETA: 0s - loss: 0.9801 - accuracy: 0.6967\n",
      "Epoch 21: accuracy did not improve from 0.69668\n",
      "702/702 [==============================] - 325s 464ms/step - loss: 0.9801 - accuracy: 0.6967 - val_loss: 0.9769 - val_accuracy: 0.6988\n",
      "Epoch 22/30\n",
      "702/702 [==============================] - ETA: 0s - loss: 0.9801 - accuracy: 0.6967\n",
      "Epoch 22: accuracy did not improve from 0.69668\n",
      "702/702 [==============================] - 326s 464ms/step - loss: 0.9801 - accuracy: 0.6967 - val_loss: 0.9750 - val_accuracy: 0.6988\n"
     ]
    }
   ],
   "source": [
    "# Sử dụng dữ liệu đã resample để train mô hình\n",
    "history = model_rating.fit(\n",
    "    X_train,\n",
    "    y_train,\n",
    "    epochs=epochs,\n",
    "    validation_split=validation_split,\n",
    "    batch_size=batch_size,\n",
    "    callbacks=[cp_callback, es_callback],\n",
    "    verbose=1)\n"
   ]
  },
  {
   "cell_type": "markdown",
   "id": "b57bed9e",
   "metadata": {
    "papermill": {
     "duration": 0.925218,
     "end_time": "2023-11-25T02:44:56.223616",
     "exception": false,
     "start_time": "2023-11-25T02:44:55.298398",
     "status": "completed"
    },
    "tags": []
   },
   "source": [
    "* Vẽ biểu đồ"
   ]
  },
  {
   "cell_type": "code",
   "execution_count": 22,
   "id": "50a38e52",
   "metadata": {
    "execution": {
     "iopub.execute_input": "2023-11-25T02:44:57.979041Z",
     "iopub.status.busy": "2023-11-25T02:44:57.978031Z",
     "iopub.status.idle": "2023-11-25T02:44:58.345101Z",
     "shell.execute_reply": "2023-11-25T02:44:58.344235Z"
    },
    "papermill": {
     "duration": 1.273721,
     "end_time": "2023-11-25T02:44:58.347268",
     "exception": false,
     "start_time": "2023-11-25T02:44:57.073547",
     "status": "completed"
    },
    "tags": []
   },
   "outputs": [
    {
     "data": {
      "image/png": "[encoded data removed]",
      "text/plain": [
       "<Figure size 1600x500 with 2 Axes>"
      ]
     },
     "metadata": {},
     "output_type": "display_data"
    }
   ],
   "source": [
    "loss = history.history['loss']\n",
    "acc = history.history['accuracy']\n",
    "val_loss = history.history['val_loss']\n",
    "val_acc = history.history['val_accuracy']\n",
    "\n",
    "epochs = range(1, len(loss) + 1)\n",
    "\n",
    "plt.figure(figsize=(16, 5))\n",
    "# Accuracy\n",
    "plt.subplot(1,2,1)\n",
    "plt.plot(epochs, acc, 'b', label = 'Training accuracy')\n",
    "plt.plot(epochs, val_acc, 'r', label = 'Validation accuracy')\n",
    "plt.legend()\n",
    "\n",
    "# Loss\n",
    "plt.subplot(1,2,2)\n",
    "plt.plot(epochs, loss, 'b', label = 'Trainig loss')\n",
    "plt.plot(epochs, val_loss, 'r', label = 'Validation loss')\n",
    "plt.legend()\n",
    "\n",
    "plt.show()"
   ]
  },
  {
   "cell_type": "code",
   "execution_count": 23,
   "id": "fa4a6d2d",
   "metadata": {
    "execution": {
     "iopub.execute_input": "2023-11-25T02:45:00.171362Z",
     "iopub.status.busy": "2023-11-25T02:45:00.170957Z",
     "iopub.status.idle": "2023-11-25T02:45:43.206810Z",
     "shell.execute_reply": "2023-11-25T02:45:43.205900Z"
    },
    "papermill": {
     "duration": 44.018777,
     "end_time": "2023-11-25T02:45:43.208486",
     "exception": false,
     "start_time": "2023-11-25T02:44:59.189709",
     "status": "completed"
    },
    "tags": []
   },
   "outputs": [
    {
     "name": "stdout",
     "output_type": "stream",
     "text": [
      "Evaluate on test data\n",
      "439/439 [==============================] - 43s 79ms/step - loss: 0.9770 - accuracy: 0.6975\n",
      "test loss, test acc: [0.9769527316093445, 0.697452962398529]\n"
     ]
    }
   ],
   "source": [
    "y_test = tf.keras.utils.to_categorical(y_test)\n",
    "print(\"Evaluate on test data\")\n",
    "results = model_rating.evaluate(X_test, y_test, batch_size=256)\n",
    "print(\"test loss, test acc:\", results)"
   ]
  },
  {
   "cell_type": "code",
   "execution_count": null,
   "id": "a88a0828",
   "metadata": {
    "papermill": {
     "duration": 0.913551,
     "end_time": "2023-11-25T02:45:44.982124",
     "exception": false,
     "start_time": "2023-11-25T02:45:44.068573",
     "status": "completed"
    },
    "tags": []
   },
   "outputs": [],
   "source": []
  }
 ],
 "metadata": {
  "kaggle": {
   "accelerator": "tpu1vmV38",
   "dataSources": [
    {
     "datasetId": 4038302,
     "sourceId": 7022603,
     "sourceType": "datasetVersion"
    },
    {
     "datasetId": 4044390,
     "sourceId": 7031375,
     "sourceType": "datasetVersion"
    },
    {
     "datasetId": 4044456,
     "sourceId": 7031465,
     "sourceType": "datasetVersion"
    },
    {
     "datasetId": 4055005,
     "sourceId": 7046807,
     "sourceType": "datasetVersion"
    }
   ],
   "isGpuEnabled": false,
   "isInternetEnabled": true,
   "language": "python",
   "sourceType": "notebook"
  },
  "kernelspec": {
   "display_name": "Python 3",
   "language": "python",
   "name": "python3"
  },
  "language_info": {
   "codemirror_mode": {
    "name": "ipython",
    "version": 3
   },
   "file_extension": ".py",
   "mimetype": "text/x-python",
   "name": "python",
   "nbconvert_exporter": "python",
   "pygments_lexer": "ipython3",
   "version": "3.11.2"
  },
  "papermill": {
   "default_parameters": {},
   "duration": 7641.591346,
   "end_time": "2023-11-25T02:45:55.835917",
   "environment_variables": {},
   "exception": null,
   "input_path": "__notebook__.ipynb",
   "output_path": "__notebook__.ipynb",
   "parameters": {},
   "start_time": "2023-11-25T00:38:34.244571",
   "version": "2.5.0"
  }
 },
 "nbformat": 4,
 "nbformat_minor": 5
}
