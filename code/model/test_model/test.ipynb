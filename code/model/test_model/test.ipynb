{
 "cells": [
  {
   "cell_type": "code",
   "execution_count": 57,
   "metadata": {},
   "outputs": [],
   "source": [
    "import pandas as pd"
   ]
  },
  {
   "cell_type": "code",
   "execution_count": 58,
   "metadata": {},
   "outputs": [],
   "source": [
    "def goi_y(khia_canh_,sao):\n",
    "    goi_y_ = {\n",
    "        'Chất luợng sản phẩm':{\n",
    "            'negative': \"Cần cải thiện chất lượng sản phẩm.\",\n",
    "            'neutral': \"Chất lượng có thể được nâng cao để đáp ứng kỳ vọng của khách hàng.\",\n",
    "            'positive': \"Chất lượng đạt mức đủ, nhưng vẫn còn không gian để cải thiện.\",\n",
    "        },\n",
    "        'Chất lượng sản phẩm, Dịch vụ khách hàng':{\n",
    "            'negative': \"Cần cải thiện chất lượng sản phẩm.\",\n",
    "            'neutral': \"Chất lượng có thể được nâng cao để đáp ứng kỳ vọng của khách hàng.\",\n",
    "            'positive': \"Chất lượng đạt mức đủ, nhưng vẫn còn không gian để cải thiện.\",\n",
    "        },\n",
    "        'Chất lượng sản phẩm, Dịch vụ khách hàng, Giao hàng':{\n",
    "            'negative': \"Cần cải thiện chất lượng sản phẩm.\",\n",
    "            'neutral': \"Chất lượng có thể được nâng cao để đáp ứng kỳ vọng của khách hàng.\",\n",
    "            'positive': \"Chất lượng đạt mức đủ, nhưng vẫn còn không gian để cải thiện.\",\n",
    "        },\n",
    "        'Chất lượng sản phẩm, Dịch vụ khách hàng, Giá cả':{\n",
    "            'negative': \"Cần cải thiện chất lượng sản phẩm.\",\n",
    "            'neutral': \"Chất lượng có thể được nâng cao để đáp ứng kỳ vọng của khách hàng.\",\n",
    "            'positive': \"Chất lượng đạt mức đủ, nhưng vẫn còn không gian để cải thiện.\",\n",
    "        },\n",
    "        'Chất lượng sản phẩm, Dịch vụ khách hàng, Giá cả, Giao hàng':{\n",
    "            'negative': \"Cần cải thiện chất lượng sản phẩm.\",\n",
    "            'neutral': \"Chất lượng có thể được nâng cao để đáp ứng kỳ vọng của khách hàng.\",\n",
    "            'positive': \"Chất lượng đạt mức đủ, nhưng vẫn còn không gian để cải thiện.\",\n",
    "        },\n",
    "        'Chất lượng sản phẩm, Giao hàng':{\n",
    "            'negative': \"Cần cải thiện chất lượng sản phẩm.\",\n",
    "            'neutral': \"Chất lượng có thể được nâng cao để đáp ứng kỳ vọng của khách hàng.\",\n",
    "            'positive': \"Chất lượng đạt mức đủ, nhưng vẫn còn không gian để cải thiện.\",\n",
    "        },\n",
    "        'Chất lượng sản phẩm, Giao hàng, Đóng gói sản phẩm':{\n",
    "            'negative': \"Cần cải thiện chất lượng sản phẩm.\",\n",
    "            'neutral': \"Chất lượng có thể được nâng cao để đáp ứng kỳ vọng của khách hàng.\",\n",
    "            'positive': \"Chất lượng đạt mức đủ, nhưng vẫn còn không gian để cải thiện.\",\n",
    "        },\n",
    "        'Chất lượng sản phẩm, Giá cả':{\n",
    "            'negative': \"Cần cải thiện chất lượng sản phẩm.\",\n",
    "            'neutral': \"Chất lượng có thể được nâng cao để đáp ứng kỳ vọng của khách hàng.\",\n",
    "            'positive': \"Chất lượng đạt mức đủ, nhưng vẫn còn không gian để cải thiện.\",\n",
    "        },\n",
    "        'Chất lượng sản phẩm, Giá cả, Giao hàng':{\n",
    "            'negative': \"Cần cải thiện chất lượng sản phẩm.\",\n",
    "            'neutral': \"Chất lượng có thể được nâng cao để đáp ứng kỳ vọng của khách hàng.\",\n",
    "            'positive': \"Chất lượng đạt mức đủ, nhưng vẫn còn không gian để cải thiện.\"\n",
    "        },\n",
    "        'Dịch vụ khách hàng':{\n",
    "            'negative': \"Dịch vụ cần được cải thiện đáng kể.\",\n",
    "            'neutral': \"Nâng cao chất lượng dịch vụ để tăng cường sự hài lòng của khách hàng.\",\n",
    "            'positive': \"Dịch vụ khá tốt, nhưng có thể làm tốt hơn.\"\n",
    "        },\n",
    "        'Dịch vụ khách hàng, Giao hàng':{\n",
    "            'negative': \"Dịch vụ cần được cải thiện đáng kể.\",\n",
    "            'neutral': \"Nâng cao chất lượng dịch vụ để tăng cường sự hài lòng của khách hàng.\",\n",
    "            'positive': \"Dịch vụ khá tốt, nhưng có thể làm tốt hơn.\"\n",
    "        },\n",
    "        'Dịch vụ khách hàng, Giao hàng, Đóng gói sản phẩm':{\n",
    "            'negative': \"Dịch vụ cần được cải thiện đáng kể.\",\n",
    "            'neutral': \"Nâng cao chất lượng dịch vụ để tăng cường sự hài lòng của khách hàng.\",\n",
    "            'positive': \"Dịch vụ khá tốt, nhưng có thể làm tốt hơn.\"\n",
    "        },\n",
    "        'Dịch vụ khách hàng, Giá cả, Giao hàng':{\n",
    "            'negative': \"Dịch vụ cần được cải thiện đáng kể.\",\n",
    "            'neutral': \"Nâng cao chất lượng dịch vụ để tăng cường sự hài lòng của khách hàng.\",\n",
    "            'positive': \"Dịch vụ khá tốt, nhưng có thể làm tốt hơn.\"\n",
    "        },\n",
    "        'Dịch vụ khách hàng, Đóng gói sản phẩm':{\n",
    "            'negative': \"Dịch vụ cần được cải thiện đáng kể.\",\n",
    "            'neutral': \"Nâng cao chất lượng dịch vụ để tăng cường sự hài lòng của khách hàng.\",\n",
    "            'positive': \"Dịch vụ khá tốt, nhưng có thể làm tốt hơn.\"\n",
    "        },\n",
    "        'Giao hàng':{#15\n",
    "            'negative': \"Quy trình giao hàng cần được cải thiện rõ rệt.\",\n",
    "            'neutral': \"Giao hàng cần nhanh chóng và đáng tin cậy hơn.\",\n",
    "            'positive': \"Giao hàng đạt yêu cầu cơ bản, hãy cố gắng nâng cao hiệu quả.\"\n",
    "        },\n",
    "        'Giao hàng, Đóng gói sản phẩm':{\n",
    "            'negative': \"Quy trình giao hàng cần được cải thiện rõ rệt.\",\n",
    "            'neutral': \"Giao hàng cần nhanh chóng và đáng tin cậy hơn.\",\n",
    "            'positive': \"Giao hàng đạt yêu cầu cơ bản, hãy cố gắng nâng cao hiệu quả.\"\n",
    "        },\n",
    "        'Giá cả':{\n",
    "            'negative': \"Xem xét điều chỉnh giá cả để phù hợp hơn.\",\n",
    "            'neutral': \"Giá cả có thể cạnh tranh hơn.\",\n",
    "            'positive': \"Giá cả phù hợp nhưng cần có thêm ưu đãi.\"\n",
    "        },\n",
    "        'Giá cả, Giao hàng':{\n",
    "            'negative': \"Xem xét điều chỉnh giá cả để phù hợp hơn.\",\n",
    "            'neutral': \"Giá cả có thể cạnh tranh hơn.\",\n",
    "            'positive': \"Giá cả phù hợp nhưng cần có thêm ưu đãi.\"\n",
    "        },\n",
    "        'Đóng gói sản phẩm':{\n",
    "            'negative': \"Cần chú trọng hơn trong cách đóng gói sản phẩm.\",\n",
    "            'neutral': \"Đóng gói cần được cải thiện để đảm bảo an toàn cho sản phẩm.\",\n",
    "            'positive': \"Cách đóng gói hiện tại khá tốt, nhưng có thể đẹp mắt hơn.\"\n",
    "        }\n",
    "        }\n",
    "    phan_hoi = goi_y_[khia_canh_].get(sao, \"Không có phản hồi cụ thể.\")\n",
    "    return phan_hoi"
   ]
  },
  {
   "cell_type": "code",
   "execution_count": 59,
   "metadata": {},
   "outputs": [],
   "source": [
    "def rating_(rating):\n",
    "    if rating == 0 or rating == 1:\n",
    "        return 'negative'\n",
    "    elif rating == 2:\n",
    "        return 'neutral'\n",
    "    else:\n",
    "        return 'positive'"
   ]
  },
  {
   "cell_type": "code",
   "execution_count": 60,
   "metadata": {},
   "outputs": [
    {
     "name": "stdout",
     "output_type": "stream",
     "text": [
      "WARNING:tensorflow:Error in loading the saved optimizer state. As a result, your model is starting with a freshly initialized optimizer.\n"
     ]
    },
    {
     "name": "stderr",
     "output_type": "stream",
     "text": [
      "WARNING:tensorflow:Error in loading the saved optimizer state. As a result, your model is starting with a freshly initialized optimizer.\n"
     ]
    },
    {
     "name": "stdout",
     "output_type": "stream",
     "text": [
      "WARNING:tensorflow:Error in loading the saved optimizer state. As a result, your model is starting with a freshly initialized optimizer.\n"
     ]
    },
    {
     "name": "stderr",
     "output_type": "stream",
     "text": [
      "WARNING:tensorflow:Error in loading the saved optimizer state. As a result, your model is starting with a freshly initialized optimizer.\n"
     ]
    }
   ],
   "source": [
    "from transformers import TFRobertaModel\n",
    "from keras.models import load_model\n",
    "from keras.utils import CustomObjectScope\n",
    "import numpy as np\n",
    "from transformers import AutoTokenizer\n",
    "import tensorflow as tf\n",
    "import tensorflow_addons as tfa\n",
    "\n",
    "\n",
    "MAX_LEN = 200\n",
    "model_name = 'vinai/phobert-base'\n",
    "tokenizer = AutoTokenizer.from_pretrained(model_name)\n",
    "\n",
    "\n",
    "\n",
    "class MyExponentialDecay(tf.keras.optimizers.schedules.ExponentialDecay):\n",
    "    def __call__(self, step):\n",
    "        return 1e-2 * super().__call__(step)\n",
    "\n",
    "step = tf.Variable(0, trainable=False)\n",
    "schedule = tf.optimizers.schedules.PiecewiseConstantDecay(\n",
    "    [10000, 15000], [1e-3, 1e-4, 1e-5])\n",
    "\n",
    "initial_learning_rate = 0.01\n",
    "\n",
    "wd = MyExponentialDecay(\n",
    "    initial_learning_rate,\n",
    "    decay_steps=14,\n",
    "    decay_rate=0.8,\n",
    "    staircase=True)\n",
    "lr = 1e2 * schedule(step)\n",
    "\n",
    "with CustomObjectScope({'TFRobertaModel': TFRobertaModel,'MyExponentialDecay': MyExponentialDecay, 'AdamW': tfa.optimizers.AdamW}):\n",
    "    model_rating = load_model('/Users/datnguyen/Documents/hoc_truong/project/NLP/use main_data/data/model/pho_rating_base.h5')\n",
    "    model_aspect = load_model('/Users/datnguyen/Documents/hoc_truong/project/NLP/main/model/pho_aspect_cnn_lstm.h5')\n",
    "    \n",
    "\n",
    "def predict(input_text):\n",
    "    # Tokenize the input text\n",
    "    tokenized_input = tokenizer(input_text, \n",
    "                                max_length=MAX_LEN, \n",
    "                                padding='max_length', \n",
    "                                truncation=True, \n",
    "                                return_tensors='np')['input_ids']\n",
    "\n",
    "    # Get predictions from the model\n",
    "    predictions_rating = model_rating.predict(tokenized_input)\n",
    "    predictions_aspect = model_aspect.predict(tokenized_input)\n",
    "\n",
    "    # Get the predicted classes\n",
    "    predicted_rating_class_indices = np.argmax(predictions_rating, axis=1)\n",
    "    # print(predicted_rating_class_indices)\n",
    "    predicted_aspect_class_indices = np.argmax(predictions_aspect, axis=1)\n",
    "    # print(predicted_aspect_class_indices)\n",
    "\n",
    "    # Convert class indices back to original class names\n",
    "    # predicted_rating_classes = [rating(index) for index in predicted_rating_class_indices]\n",
    "    # predicted_aspect_classes = [aspect(index) for index in predicted_aspect_class_indices]\n",
    "\n",
    "    return predicted_rating_class_indices, predicted_aspect_class_indices\n"
   ]
  },
  {
   "cell_type": "code",
   "execution_count": 61,
   "metadata": {},
   "outputs": [
    {
     "name": "stdout",
     "output_type": "stream",
     "text": [
      "1/1 [==============================] - 28s 28s/step\n",
      "1/1 [==============================] - 31s 31s/step\n"
     ]
    }
   ],
   "source": [
    "input = 'Sản phẩm rất tốt, nhưng giao hàng chậm quá.'\n",
    "rating, aspect = predict(input)"
   ]
  },
  {
   "cell_type": "code",
   "execution_count": 62,
   "metadata": {},
   "outputs": [
    {
     "name": "stdout",
     "output_type": "stream",
     "text": [
      "[4]\n"
     ]
    }
   ],
   "source": [
    "print(rating)"
   ]
  },
  {
   "cell_type": "code",
   "execution_count": 63,
   "metadata": {},
   "outputs": [],
   "source": [
    "rating = rating_(rating[0])"
   ]
  },
  {
   "cell_type": "code",
   "execution_count": 64,
   "metadata": {},
   "outputs": [
    {
     "name": "stdout",
     "output_type": "stream",
     "text": [
      "{'Chất lượng sản phẩm': 0, 'Chất lượng sản phẩm, Dịch vụ khách hàng': 1, 'Chất lượng sản phẩm, Dịch vụ khách hàng, Giao hàng': 2, 'Chất lượng sản phẩm, Dịch vụ khách hàng, Giá cả': 3, 'Chất lượng sản phẩm, Dịch vụ khách hàng, Giá cả, Giao hàng': 4, 'Chất lượng sản phẩm, Giao hàng': 5, 'Chất lượng sản phẩm, Giao hàng, Đóng gói sản phẩm': 6, 'Chất lượng sản phẩm, Giá cả': 7, 'Chất lượng sản phẩm, Giá cả, Giao hàng': 8, 'Dịch vụ khách hàng': 9, 'Dịch vụ khách hàng, Giao hàng': 10, 'Dịch vụ khách hàng, Giao hàng, Đóng gói sản phẩm': 11, 'Dịch vụ khách hàng, Giá cả, Giao hàng': 12, 'Dịch vụ khách hàng, Đóng gói sản phẩm': 13, 'Giao hàng': 14, 'Giao hàng, Đóng gói sản phẩm': 15, 'Giá cả': 16, 'Giá cả, Giao hàng': 17, 'Đóng gói sản phẩm': 18}\n"
     ]
    }
   ],
   "source": [
    "import numpy as np\n",
    "label = np.array(['Chất lượng sản phẩm', 'Chất lượng sản phẩm, Dịch vụ khách hàng',\n",
    "       'Chất lượng sản phẩm, Dịch vụ khách hàng, Giao hàng',\n",
    "       'Chất lượng sản phẩm, Dịch vụ khách hàng, Giá cả',\n",
    "       'Chất lượng sản phẩm, Dịch vụ khách hàng, Giá cả, Giao hàng',\n",
    "       'Chất lượng sản phẩm, Giao hàng',\n",
    "       'Chất lượng sản phẩm, Giao hàng, Đóng gói sản phẩm',\n",
    "       'Chất lượng sản phẩm, Giá cả',\n",
    "       'Chất lượng sản phẩm, Giá cả, Giao hàng', 'Dịch vụ khách hàng',\n",
    "       'Dịch vụ khách hàng, Giao hàng',\n",
    "       'Dịch vụ khách hàng, Giao hàng, Đóng gói sản phẩm',\n",
    "       'Dịch vụ khách hàng, Giá cả, Giao hàng',\n",
    "       'Dịch vụ khách hàng, Đóng gói sản phẩm', 'Giao hàng',\n",
    "       'Giao hàng, Đóng gói sản phẩm', 'Giá cả', 'Giá cả, Giao hàng',\n",
    "       'Đóng gói sản phẩm'], dtype=object)\n",
    "\n",
    "covert_number = np.array([0,1,2,3,4,5,6,7,8,9,10,11,12,13,14,15,16,17,18])\n",
    "label_dict = dict(zip(label, covert_number))\n",
    "print(label_dict)\n"
   ]
  },
  {
   "cell_type": "code",
   "execution_count": 65,
   "metadata": {},
   "outputs": [],
   "source": [
    "aspect = label[aspect[0]]"
   ]
  },
  {
   "cell_type": "code",
   "execution_count": 66,
   "metadata": {},
   "outputs": [
    {
     "data": {
      "text/plain": [
       "'Chất lượng sản phẩm, Dịch vụ khách hàng, Giá cả, Giao hàng'"
      ]
     },
     "execution_count": 66,
     "metadata": {},
     "output_type": "execute_result"
    }
   ],
   "source": [
    "aspect\n"
   ]
  },
  {
   "cell_type": "code",
   "execution_count": 67,
   "metadata": {},
   "outputs": [
    {
     "data": {
      "text/plain": [
       "'Chất lượng đạt mức đủ, nhưng vẫn còn không gian để cải thiện.'"
      ]
     },
     "execution_count": 67,
     "metadata": {},
     "output_type": "execute_result"
    }
   ],
   "source": [
    "goi_y(aspect,rating)"
   ]
  },
  {
   "cell_type": "code",
   "execution_count": 68,
   "metadata": {},
   "outputs": [
    {
     "name": "stdout",
     "output_type": "stream",
     "text": [
      "WARNING:tensorflow:Error in loading the saved optimizer state. As a result, your model is starting with a freshly initialized optimizer.\n"
     ]
    },
    {
     "name": "stderr",
     "output_type": "stream",
     "text": [
      "WARNING:tensorflow:Error in loading the saved optimizer state. As a result, your model is starting with a freshly initialized optimizer.\n",
      "WARNING:absl:At this time, the v2.11+ optimizer `tf.keras.optimizers.Adam` runs slowly on M1/M2 Macs, please use the legacy Keras optimizer instead, located at `tf.keras.optimizers.legacy.Adam`.\n"
     ]
    }
   ],
   "source": [
    "from transformers import TFRobertaModel\n",
    "from keras.models import load_model\n",
    "from keras.utils import CustomObjectScope\n",
    "import numpy as np\n",
    "from transformers import AutoTokenizer\n",
    "import tensorflow as tf\n",
    "import tensorflow_addons as tfa\n",
    "\n",
    "\n",
    "MAX_LEN = 200\n",
    "model_name = 'vinai/phobert-base'\n",
    "tokenizer = AutoTokenizer.from_pretrained(model_name)\n",
    "\n",
    "\n",
    "\n",
    "class MyExponentialDecay(tf.keras.optimizers.schedules.ExponentialDecay):\n",
    "    def __call__(self, step):\n",
    "        return 1e-2 * super().__call__(step)\n",
    "\n",
    "step = tf.Variable(0, trainable=False)\n",
    "schedule = tf.optimizers.schedules.PiecewiseConstantDecay(\n",
    "    [10000, 15000], [1e-3, 1e-4, 1e-5])\n",
    "\n",
    "initial_learning_rate = 0.01\n",
    "\n",
    "wd = MyExponentialDecay(\n",
    "    initial_learning_rate,\n",
    "    decay_steps=14,\n",
    "    decay_rate=0.8,\n",
    "    staircase=True)\n",
    "lr = 1e2 * schedule(step)\n",
    "\n",
    "with CustomObjectScope({'TFRobertaModel': TFRobertaModel,'MyExponentialDecay': MyExponentialDecay, 'AdamW': tfa.optimizers.AdamW}):\n",
    "    model_rating = load_model('/Users/datnguyen/Documents/hoc_truong/project/NLP/main/model/pho_rating_lstm_cnn.h5')\n",
    "    model_aspect = load_model('/Users/datnguyen/Documents/hoc_truong/project/NLP/use main_data/new-v4/model.h5')\n",
    "    \n",
    "\n",
    "def predict(input_text):\n",
    "    # Tokenize the input text\n",
    "    tokenized_input = tokenizer(input_text, \n",
    "                                max_length=MAX_LEN, \n",
    "                                padding='max_length', \n",
    "                                truncation=True, \n",
    "                                return_tensors='np')['input_ids']\n",
    "\n",
    "    # Get predictions from the model\n",
    "    predictions_rating = model_rating.predict(tokenized_input)\n",
    "    predictions_aspect = model_aspect.predict(tokenized_input)\n",
    "\n",
    "    # Get the predicted classes\n",
    "    predicted_rating_class_indices = np.argmax(predictions_rating, axis=1)\n",
    "    # print(predicted_rating_class_indices)\n",
    "    predicted_aspect_class_indices = np.argmax(predictions_aspect, axis=1)\n",
    "    # print(predicted_aspect_class_indices)\n",
    "\n",
    "    # Convert class indices back to original class names\n",
    "    # predicted_aspect_classes = [aspect(index) for index in predicted_aspect_class_indices]\n",
    "\n",
    "    return predicted_rating_class_indices, predicted_aspect_class_indices\n"
   ]
  },
  {
   "cell_type": "code",
   "execution_count": 69,
   "metadata": {},
   "outputs": [
    {
     "name": "stdout",
     "output_type": "stream",
     "text": [
      "1/1 [==============================] - 30s 30s/step\n",
      "1/1 [==============================] - 28s 28s/step\n"
     ]
    }
   ],
   "source": [
    "input = 'không hài lòng về sản phẩm này giao hàng chậm quá'\n",
    "rating, aspect = predict(input)"
   ]
  },
  {
   "cell_type": "code",
   "execution_count": 70,
   "metadata": {},
   "outputs": [],
   "source": [
    "rating = rating_(rating[0])"
   ]
  },
  {
   "cell_type": "code",
   "execution_count": 71,
   "metadata": {},
   "outputs": [],
   "source": [
    "aspect = label[aspect[0]]"
   ]
  },
  {
   "cell_type": "code",
   "execution_count": 72,
   "metadata": {},
   "outputs": [
    {
     "name": "stdout",
     "output_type": "stream",
     "text": [
      "negative\n"
     ]
    }
   ],
   "source": [
    "print(rating)"
   ]
  },
  {
   "cell_type": "code",
   "execution_count": 73,
   "metadata": {},
   "outputs": [
    {
     "name": "stdout",
     "output_type": "stream",
     "text": [
      "Giao hàng, Đóng gói sản phẩm\n"
     ]
    }
   ],
   "source": [
    "print(aspect)"
   ]
  },
  {
   "cell_type": "code",
   "execution_count": 74,
   "metadata": {},
   "outputs": [
    {
     "data": {
      "text/plain": [
       "'Quy trình giao hàng cần được cải thiện rõ rệt.'"
      ]
     },
     "execution_count": 74,
     "metadata": {},
     "output_type": "execute_result"
    }
   ],
   "source": [
    "goi_y(aspect,rating)"
   ]
  },
  {
   "cell_type": "code",
   "execution_count": null,
   "metadata": {},
   "outputs": [],
   "source": []
  }
 ],
 "metadata": {
  "kernelspec": {
   "display_name": "Python 3",
   "language": "python",
   "name": "python3"
  },
  "language_info": {
   "codemirror_mode": {
    "name": "ipython",
    "version": 3
   },
   "file_extension": ".py",
   "mimetype": "text/x-python",
   "name": "python",
   "nbconvert_exporter": "python",
   "pygments_lexer": "ipython3",
   "version": "3.11.2"
  }
 },
 "nbformat": 4,
 "nbformat_minor": 2
}
